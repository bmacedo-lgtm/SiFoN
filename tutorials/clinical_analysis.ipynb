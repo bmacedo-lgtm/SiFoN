{
 "cells": [
  {
   "cell_type": "code",
   "execution_count": 1,
   "id": "708f3770",
   "metadata": {},
   "outputs": [],
   "source": [
    "import plotly.graph_objects as go\n",
    "import plotly.express as px\n",
    "from scipy import stats\n",
    "from SiFoN import clinical_analysis as clin\n",
    "from SiFoN import viz\n",
    "import pandas as pd\n",
    "import numpy as np\n",
    "import re"
   ]
  },
  {
   "cell_type": "markdown",
   "id": "ff871db4",
   "metadata": {},
   "source": [
    "### Converting clinical data into a VCF format for Sei"
   ]
  },
  {
   "cell_type": "markdown",
   "id": "07c758a6",
   "metadata": {},
   "source": [
    "As an example, we will be working with data from DOI: 10.1200/PO.17.00108 Suppl. Table 14. We will first load in the data and extract the information we want for future study"
   ]
  },
  {
   "cell_type": "code",
   "execution_count": 2,
   "id": "244d1f88",
   "metadata": {},
   "outputs": [
    {
     "data": {
      "text/html": [
       "<div>\n",
       "<style scoped>\n",
       "    .dataframe tbody tr th:only-of-type {\n",
       "        vertical-align: middle;\n",
       "    }\n",
       "\n",
       "    .dataframe tbody tr th {\n",
       "        vertical-align: top;\n",
       "    }\n",
       "\n",
       "    .dataframe thead th {\n",
       "        text-align: right;\n",
       "    }\n",
       "</style>\n",
       "<table border=\"1\" class=\"dataframe\">\n",
       "  <thead>\n",
       "    <tr style=\"text-align: right;\">\n",
       "      <th></th>\n",
       "      <th>RefSeqID</th>\n",
       "      <th>Alteration</th>\n",
       "      <th>Protein Change</th>\n",
       "      <th>Classification</th>\n",
       "      <th>PromoterRegion</th>\n",
       "      <th>Breast Cancer Case Alleles</th>\n",
       "      <th>Breast Cancer Case MAF</th>\n",
       "      <th>Control Alleles</th>\n",
       "      <th>Control MAF</th>\n",
       "      <th>OR</th>\n",
       "      <th>95% CI 1</th>\n",
       "      <th>95% CI 2</th>\n",
       "      <th>Pvalue</th>\n",
       "    </tr>\n",
       "  </thead>\n",
       "  <tbody>\n",
       "    <tr>\n",
       "      <th>0</th>\n",
       "      <td>NM_000314</td>\n",
       "      <td>c.-976G&gt;C</td>\n",
       "      <td>NaN</td>\n",
       "      <td>VUS</td>\n",
       "      <td>Promoter</td>\n",
       "      <td>46</td>\n",
       "      <td>0.04%</td>\n",
       "      <td>40</td>\n",
       "      <td>0.08%</td>\n",
       "      <td>0.581</td>\n",
       "      <td>0.372</td>\n",
       "      <td>0.911</td>\n",
       "      <td>0.016</td>\n",
       "    </tr>\n",
       "  </tbody>\n",
       "</table>\n",
       "</div>"
      ],
      "text/plain": [
       "    RefSeqID Alteration Protein Change Classification PromoterRegion  \\\n",
       "0  NM_000314  c.-976G>C            NaN            VUS       Promoter   \n",
       "\n",
       "   Breast Cancer Case Alleles Breast Cancer Case MAF  Control Alleles  \\\n",
       "0                          46                  0.04%               40   \n",
       "\n",
       "  Control MAF     OR 95% CI 1 95% CI 2 Pvalue  \n",
       "0       0.08%  0.581    0.372    0.911  0.016  "
      ]
     },
     "execution_count": 2,
     "metadata": {},
     "output_type": "execute_result"
    }
   ],
   "source": [
    "pten = pd.read_csv(\"test_input_data/brown_suppl4.csv\")\n",
    "pten.head(1)"
   ]
  },
  {
   "cell_type": "code",
   "execution_count": 3,
   "id": "8db87251",
   "metadata": {},
   "outputs": [
    {
     "data": {
      "text/html": [
       "<div>\n",
       "<style scoped>\n",
       "    .dataframe tbody tr th:only-of-type {\n",
       "        vertical-align: middle;\n",
       "    }\n",
       "\n",
       "    .dataframe tbody tr th {\n",
       "        vertical-align: top;\n",
       "    }\n",
       "\n",
       "    .dataframe thead th {\n",
       "        text-align: right;\n",
       "    }\n",
       "</style>\n",
       "<table border=\"1\" class=\"dataframe\">\n",
       "  <thead>\n",
       "    <tr style=\"text-align: right;\">\n",
       "      <th></th>\n",
       "      <th>Alteration</th>\n",
       "      <th>Breast Cancer Case Alleles</th>\n",
       "      <th>Control Alleles</th>\n",
       "      <th>Classification</th>\n",
       "    </tr>\n",
       "  </thead>\n",
       "  <tbody>\n",
       "    <tr>\n",
       "      <th>0</th>\n",
       "      <td>c.-976G&gt;C</td>\n",
       "      <td>46</td>\n",
       "      <td>40</td>\n",
       "      <td>VUS</td>\n",
       "    </tr>\n",
       "    <tr>\n",
       "      <th>1</th>\n",
       "      <td>c.-835C&gt;T</td>\n",
       "      <td>14</td>\n",
       "      <td>10</td>\n",
       "      <td>VUS</td>\n",
       "    </tr>\n",
       "  </tbody>\n",
       "</table>\n",
       "</div>"
      ],
      "text/plain": [
       "  Alteration  Breast Cancer Case Alleles  Control Alleles Classification\n",
       "0  c.-976G>C                          46               40            VUS\n",
       "1  c.-835C>T                          14               10            VUS"
      ]
     },
     "execution_count": 3,
     "metadata": {},
     "output_type": "execute_result"
    }
   ],
   "source": [
    "# Save any metadata you want for your analysis\n",
    "pten = pten[[\"Alteration\", \"Breast Cancer Case Alleles\", \"Control Alleles\", \"Classification\"]]\n",
    "pten.head(2)"
   ]
  },
  {
   "cell_type": "markdown",
   "id": "003052b0",
   "metadata": {},
   "source": [
    "At this point, you can save this metadata for future analysis. We still need to convert the `Alteration` column into an appropriate format for Sei. `cdot_to_VCF` converts alterations from the c-dot (c. pos ref > alt) format to a VCF file. This function expects a `chrm` paramter (since the chromosome name is not available in the c-dot format). If the positions are offset from a particular position, you can denote that with the `start` parameter. In this example, positions are relative to the A of the ATG start codon of the PTEN gene, which is at position 89,624,227 of chr10, so we set `start` to 89,624,227. The default of `start` is zero. Once you run this function, you can save this VCF and use it as input into Sei. "
   ]
  },
  {
   "cell_type": "code",
   "execution_count": 4,
   "id": "a6438dcd",
   "metadata": {},
   "outputs": [
    {
     "data": {
      "text/html": [
       "<div>\n",
       "<style scoped>\n",
       "    .dataframe tbody tr th:only-of-type {\n",
       "        vertical-align: middle;\n",
       "    }\n",
       "\n",
       "    .dataframe tbody tr th {\n",
       "        vertical-align: top;\n",
       "    }\n",
       "\n",
       "    .dataframe thead th {\n",
       "        text-align: right;\n",
       "    }\n",
       "</style>\n",
       "<table border=\"1\" class=\"dataframe\">\n",
       "  <thead>\n",
       "    <tr style=\"text-align: right;\">\n",
       "      <th></th>\n",
       "      <th>#CHROM</th>\n",
       "      <th>POS</th>\n",
       "      <th>ID</th>\n",
       "      <th>REF</th>\n",
       "      <th>ALT</th>\n",
       "    </tr>\n",
       "  </thead>\n",
       "  <tbody>\n",
       "    <tr>\n",
       "      <th>0</th>\n",
       "      <td>chr10</td>\n",
       "      <td>89623251</td>\n",
       "      <td>c.-976G&gt;C</td>\n",
       "      <td>G</td>\n",
       "      <td>C</td>\n",
       "    </tr>\n",
       "  </tbody>\n",
       "</table>\n",
       "</div>"
      ],
      "text/plain": [
       "  #CHROM       POS         ID REF ALT\n",
       "0  chr10  89623251  c.-976G>C   G   C"
      ]
     },
     "execution_count": 4,
     "metadata": {},
     "output_type": "execute_result"
    }
   ],
   "source": [
    "pten_VCF = clin.cdot_to_VCF(pten, chrm=\"chr10\", start=89624227)\n",
    "pten_VCF.head(1)"
   ]
  },
  {
   "cell_type": "markdown",
   "id": "42004763",
   "metadata": {},
   "source": [
    "There is also another function that will convert alterations in the following format \"chrom_position_alt_ref\""
   ]
  },
  {
   "cell_type": "markdown",
   "id": "7d0197de",
   "metadata": {},
   "source": [
    "### Load in Sei results and combine with metadata"
   ]
  },
  {
   "cell_type": "code",
   "execution_count": 5,
   "id": "a801ac95",
   "metadata": {
    "scrolled": true
   },
   "outputs": [
    {
     "name": "stdout",
     "output_type": "stream",
     "text": [
      "203\n"
     ]
    },
    {
     "data": {
      "text/html": [
       "<div>\n",
       "<style scoped>\n",
       "    .dataframe tbody tr th:only-of-type {\n",
       "        vertical-align: middle;\n",
       "    }\n",
       "\n",
       "    .dataframe tbody tr th {\n",
       "        vertical-align: top;\n",
       "    }\n",
       "\n",
       "    .dataframe thead th {\n",
       "        text-align: right;\n",
       "    }\n",
       "</style>\n",
       "<table border=\"1\" class=\"dataframe\">\n",
       "  <thead>\n",
       "    <tr style=\"text-align: right;\">\n",
       "      <th></th>\n",
       "      <th>chrom</th>\n",
       "      <th>pos</th>\n",
       "      <th>Alteration</th>\n",
       "      <th>ref</th>\n",
       "      <th>alt</th>\n",
       "      <th>strand</th>\n",
       "      <th>ref_match</th>\n",
       "      <th>contains_unk</th>\n",
       "    </tr>\n",
       "  </thead>\n",
       "  <tbody>\n",
       "    <tr>\n",
       "      <th>0</th>\n",
       "      <td>chr10</td>\n",
       "      <td>89623251</td>\n",
       "      <td>c.-976G&gt;C</td>\n",
       "      <td>G</td>\n",
       "      <td>C</td>\n",
       "      <td>+</td>\n",
       "      <td>True</td>\n",
       "      <td>False</td>\n",
       "    </tr>\n",
       "  </tbody>\n",
       "</table>\n",
       "</div>"
      ],
      "text/plain": [
       "   chrom       pos Alteration ref alt strand  ref_match  contains_unk\n",
       "0  chr10  89623251  c.-976G>C   G   C      +       True         False"
      ]
     },
     "execution_count": 5,
     "metadata": {},
     "output_type": "execute_result"
    }
   ],
   "source": [
    "row_labels = pd.read_csv(\"test_input_data/PTEN_row_labels\", header=0) # Description of SNPs\n",
    "print(len(row_labels))\n",
    "row_labels.head(1)"
   ]
  },
  {
   "cell_type": "code",
   "execution_count": 24,
   "id": "5019b7e8",
   "metadata": {
    "scrolled": true
   },
   "outputs": [
    {
     "data": {
      "text/html": [
       "<div>\n",
       "<style scoped>\n",
       "    .dataframe tbody tr th:only-of-type {\n",
       "        vertical-align: middle;\n",
       "    }\n",
       "\n",
       "    .dataframe tbody tr th {\n",
       "        vertical-align: top;\n",
       "    }\n",
       "\n",
       "    .dataframe thead th {\n",
       "        text-align: right;\n",
       "    }\n",
       "</style>\n",
       "<table border=\"1\" class=\"dataframe\">\n",
       "  <thead>\n",
       "    <tr style=\"text-align: right;\">\n",
       "      <th></th>\n",
       "      <th>PC1 Polycomb / Heterochromatin</th>\n",
       "      <th>L1 Low signal</th>\n",
       "      <th>TN1 Transcription</th>\n",
       "      <th>TN2 Transcription</th>\n",
       "      <th>L2 Low signal</th>\n",
       "      <th>E1 Stem cell</th>\n",
       "      <th>E2 Multi-tissue</th>\n",
       "      <th>E3 Brain / Melanocyte</th>\n",
       "      <th>L3 Low signal</th>\n",
       "      <th>E4 Multi-tissue</th>\n",
       "      <th>...</th>\n",
       "      <th>HET4 Heterochromatin</th>\n",
       "      <th>L7 Low signal</th>\n",
       "      <th>PC4 Polycomb / Bivalent stem cell Enh</th>\n",
       "      <th>HET5 Centromere</th>\n",
       "      <th>E11 T-cell</th>\n",
       "      <th>TF5 AR</th>\n",
       "      <th>E12 Erythroblast-like</th>\n",
       "      <th>HET6 Centromere</th>\n",
       "      <th>Disease Impact Score</th>\n",
       "      <th>Alteration</th>\n",
       "    </tr>\n",
       "  </thead>\n",
       "  <tbody>\n",
       "    <tr>\n",
       "      <th>0</th>\n",
       "      <td>0.036797</td>\n",
       "      <td>0.016578</td>\n",
       "      <td>0.015117</td>\n",
       "      <td>0.015232</td>\n",
       "      <td>0.010343</td>\n",
       "      <td>0.024441</td>\n",
       "      <td>0.021501</td>\n",
       "      <td>0.035103</td>\n",
       "      <td>0.033337</td>\n",
       "      <td>0.092842</td>\n",
       "      <td>...</td>\n",
       "      <td>0.002037</td>\n",
       "      <td>0.009142</td>\n",
       "      <td>0.025761</td>\n",
       "      <td>0.021403</td>\n",
       "      <td>0.089531</td>\n",
       "      <td>0.025894</td>\n",
       "      <td>0.009224</td>\n",
       "      <td>0.00617</td>\n",
       "      <td>-0.310427</td>\n",
       "      <td>c.-976G&gt;C</td>\n",
       "    </tr>\n",
       "  </tbody>\n",
       "</table>\n",
       "<p>1 rows × 42 columns</p>\n",
       "</div>"
      ],
      "text/plain": [
       "   PC1 Polycomb / Heterochromatin  L1 Low signal  TN1 Transcription  \\\n",
       "0                        0.036797       0.016578           0.015117   \n",
       "\n",
       "   TN2 Transcription  L2 Low signal  E1 Stem cell  E2 Multi-tissue  \\\n",
       "0           0.015232       0.010343      0.024441         0.021501   \n",
       "\n",
       "   E3 Brain / Melanocyte  L3 Low signal  E4 Multi-tissue  ...  \\\n",
       "0               0.035103       0.033337         0.092842  ...   \n",
       "\n",
       "   HET4 Heterochromatin  L7 Low signal  PC4 Polycomb / Bivalent stem cell Enh  \\\n",
       "0              0.002037       0.009142                               0.025761   \n",
       "\n",
       "   HET5 Centromere  E11 T-cell    TF5 AR  E12 Erythroblast-like  \\\n",
       "0         0.021403    0.089531  0.025894               0.009224   \n",
       "\n",
       "   HET6 Centromere  Disease Impact Score  Alteration  \n",
       "0          0.00617             -0.310427   c.-976G>C  \n",
       "\n",
       "[1 rows x 42 columns]"
      ]
     },
     "execution_count": 24,
     "metadata": {},
     "output_type": "execute_result"
    }
   ],
   "source": [
    "# Combine Sei/DeepSEA results with row labels that describe SNPs\n",
    "scores = pd.read_csv(\"test_input_data/PTEN_sequence_class_scores.npy\") # Sequence class scores\n",
    "dis_score = pd.read_csv(\"test_input_data/PTEN_DIS.csv\") # Disease impact score\n",
    "scores[\"Disease Impact Score\"] = dis_score[\"Disease Impact Score\"]\n",
    "scores[\"Alteration\"] = row_labels[\"Alteration\"]\n",
    "scores.head(1) # see the last two columns"
   ]
  },
  {
   "cell_type": "code",
   "execution_count": 25,
   "id": "5ef61d87",
   "metadata": {},
   "outputs": [
    {
     "data": {
      "text/html": [
       "<div>\n",
       "<style scoped>\n",
       "    .dataframe tbody tr th:only-of-type {\n",
       "        vertical-align: middle;\n",
       "    }\n",
       "\n",
       "    .dataframe tbody tr th {\n",
       "        vertical-align: top;\n",
       "    }\n",
       "\n",
       "    .dataframe thead th {\n",
       "        text-align: right;\n",
       "    }\n",
       "</style>\n",
       "<table border=\"1\" class=\"dataframe\">\n",
       "  <thead>\n",
       "    <tr style=\"text-align: right;\">\n",
       "      <th></th>\n",
       "      <th>Alteration</th>\n",
       "      <th>Breast Cancer Case Alleles</th>\n",
       "      <th>Control Alleles</th>\n",
       "      <th>Classification</th>\n",
       "      <th>PC1 Polycomb / Heterochromatin</th>\n",
       "      <th>L1 Low signal</th>\n",
       "      <th>TN1 Transcription</th>\n",
       "      <th>TN2 Transcription</th>\n",
       "      <th>L2 Low signal</th>\n",
       "      <th>E1 Stem cell</th>\n",
       "      <th>...</th>\n",
       "      <th>TF4 OTX2</th>\n",
       "      <th>HET4 Heterochromatin</th>\n",
       "      <th>L7 Low signal</th>\n",
       "      <th>PC4 Polycomb / Bivalent stem cell Enh</th>\n",
       "      <th>HET5 Centromere</th>\n",
       "      <th>E11 T-cell</th>\n",
       "      <th>TF5 AR</th>\n",
       "      <th>E12 Erythroblast-like</th>\n",
       "      <th>HET6 Centromere</th>\n",
       "      <th>Disease Impact Score</th>\n",
       "    </tr>\n",
       "  </thead>\n",
       "  <tbody>\n",
       "    <tr>\n",
       "      <th>0</th>\n",
       "      <td>c.-976G&gt;C</td>\n",
       "      <td>46</td>\n",
       "      <td>40</td>\n",
       "      <td>VUS</td>\n",
       "      <td>0.036797</td>\n",
       "      <td>0.016578</td>\n",
       "      <td>0.015117</td>\n",
       "      <td>0.015232</td>\n",
       "      <td>0.010343</td>\n",
       "      <td>0.024441</td>\n",
       "      <td>...</td>\n",
       "      <td>0.017301</td>\n",
       "      <td>0.002037</td>\n",
       "      <td>0.009142</td>\n",
       "      <td>0.025761</td>\n",
       "      <td>0.021403</td>\n",
       "      <td>0.089531</td>\n",
       "      <td>0.025894</td>\n",
       "      <td>0.009224</td>\n",
       "      <td>0.00617</td>\n",
       "      <td>-0.310427</td>\n",
       "    </tr>\n",
       "  </tbody>\n",
       "</table>\n",
       "<p>1 rows × 45 columns</p>\n",
       "</div>"
      ],
      "text/plain": [
       "  Alteration  Breast Cancer Case Alleles  Control Alleles Classification  \\\n",
       "0  c.-976G>C                          46               40            VUS   \n",
       "\n",
       "   PC1 Polycomb / Heterochromatin  L1 Low signal  TN1 Transcription  \\\n",
       "0                        0.036797       0.016578           0.015117   \n",
       "\n",
       "   TN2 Transcription  L2 Low signal  E1 Stem cell  ...  TF4 OTX2  \\\n",
       "0           0.015232       0.010343      0.024441  ...  0.017301   \n",
       "\n",
       "   HET4 Heterochromatin  L7 Low signal  PC4 Polycomb / Bivalent stem cell Enh  \\\n",
       "0              0.002037       0.009142                               0.025761   \n",
       "\n",
       "   HET5 Centromere  E11 T-cell    TF5 AR  E12 Erythroblast-like  \\\n",
       "0         0.021403    0.089531  0.025894               0.009224   \n",
       "\n",
       "   HET6 Centromere  Disease Impact Score  \n",
       "0          0.00617             -0.310427  \n",
       "\n",
       "[1 rows x 45 columns]"
      ]
     },
     "execution_count": 25,
     "metadata": {},
     "output_type": "execute_result"
    }
   ],
   "source": [
    "# Combine clinical data with SNP IDs and Sei results\n",
    "clinical_data = pd.read_csv(\"test_input_data/PTEN_Brown_Suppl4.csv\")\n",
    "scores = clinical_data.merge(scores) # Clinical data connects to the Sei results by the `Alteration` column.\n",
    "scores.head(1)"
   ]
  },
  {
   "cell_type": "markdown",
   "id": "63c7b7a9",
   "metadata": {},
   "source": [
    "We can also calculate odds ratios (OR) for SNPs based on their case and control counts. we can then assign SNPs as case or control SNPs based on their odds ratios. It is important to remember that some SNPs might be very rare (e.g. only occuring in a single indidivual). Even though these SNPs might not have high OR, they might still have a functional impact. \n",
    "\n",
    "The `odds_ratio` function will add a column `Odds Ratio` to your data frame.\n",
    "\n",
    "The `add_case_control_label` function will assign case/control labels based on OR cutoffs that you determine. This will show up in the `Case/Control` column."
   ]
  },
  {
   "cell_type": "code",
   "execution_count": 26,
   "id": "d78d9faf",
   "metadata": {},
   "outputs": [
    {
     "data": {
      "text/html": [
       "<div>\n",
       "<style scoped>\n",
       "    .dataframe tbody tr th:only-of-type {\n",
       "        vertical-align: middle;\n",
       "    }\n",
       "\n",
       "    .dataframe tbody tr th {\n",
       "        vertical-align: top;\n",
       "    }\n",
       "\n",
       "    .dataframe thead th {\n",
       "        text-align: right;\n",
       "    }\n",
       "</style>\n",
       "<table border=\"1\" class=\"dataframe\">\n",
       "  <thead>\n",
       "    <tr style=\"text-align: right;\">\n",
       "      <th></th>\n",
       "      <th>Alteration</th>\n",
       "      <th>Breast Cancer Case Alleles</th>\n",
       "      <th>Control Alleles</th>\n",
       "      <th>Classification</th>\n",
       "      <th>PC1 Polycomb / Heterochromatin</th>\n",
       "      <th>L1 Low signal</th>\n",
       "      <th>TN1 Transcription</th>\n",
       "      <th>TN2 Transcription</th>\n",
       "      <th>L2 Low signal</th>\n",
       "      <th>E1 Stem cell</th>\n",
       "      <th>...</th>\n",
       "      <th>L7 Low signal</th>\n",
       "      <th>PC4 Polycomb / Bivalent stem cell Enh</th>\n",
       "      <th>HET5 Centromere</th>\n",
       "      <th>E11 T-cell</th>\n",
       "      <th>TF5 AR</th>\n",
       "      <th>E12 Erythroblast-like</th>\n",
       "      <th>HET6 Centromere</th>\n",
       "      <th>Disease Impact Score</th>\n",
       "      <th>Odds Ratio</th>\n",
       "      <th>Case/Control</th>\n",
       "    </tr>\n",
       "  </thead>\n",
       "  <tbody>\n",
       "    <tr>\n",
       "      <th>0</th>\n",
       "      <td>c.-976G&gt;C</td>\n",
       "      <td>46</td>\n",
       "      <td>40</td>\n",
       "      <td>VUS</td>\n",
       "      <td>0.036797</td>\n",
       "      <td>0.016578</td>\n",
       "      <td>0.015117</td>\n",
       "      <td>0.015232</td>\n",
       "      <td>0.010343</td>\n",
       "      <td>0.024441</td>\n",
       "      <td>...</td>\n",
       "      <td>0.009142</td>\n",
       "      <td>0.025761</td>\n",
       "      <td>0.021403</td>\n",
       "      <td>0.089531</td>\n",
       "      <td>0.025894</td>\n",
       "      <td>0.009224</td>\n",
       "      <td>0.00617</td>\n",
       "      <td>-0.310427</td>\n",
       "      <td>0.476967</td>\n",
       "      <td>Control</td>\n",
       "    </tr>\n",
       "  </tbody>\n",
       "</table>\n",
       "<p>1 rows × 47 columns</p>\n",
       "</div>"
      ],
      "text/plain": [
       "  Alteration  Breast Cancer Case Alleles  Control Alleles Classification  \\\n",
       "0  c.-976G>C                          46               40            VUS   \n",
       "\n",
       "   PC1 Polycomb / Heterochromatin  L1 Low signal  TN1 Transcription  \\\n",
       "0                        0.036797       0.016578           0.015117   \n",
       "\n",
       "   TN2 Transcription  L2 Low signal  E1 Stem cell  ...  L7 Low signal  \\\n",
       "0           0.015232       0.010343      0.024441  ...       0.009142   \n",
       "\n",
       "   PC4 Polycomb / Bivalent stem cell Enh  HET5 Centromere  E11 T-cell  \\\n",
       "0                               0.025761         0.021403    0.089531   \n",
       "\n",
       "     TF5 AR  E12 Erythroblast-like  HET6 Centromere  Disease Impact Score  \\\n",
       "0  0.025894               0.009224          0.00617             -0.310427   \n",
       "\n",
       "   Odds Ratio  Case/Control  \n",
       "0    0.476967       Control  \n",
       "\n",
       "[1 rows x 47 columns]"
      ]
     },
     "execution_count": 26,
     "metadata": {},
     "output_type": "execute_result"
    }
   ],
   "source": [
    "clin.odds_ratio(df=scores, control_col=\"Control Alleles\", case_col = \"Breast Cancer Case Alleles\",\n",
    "               num_cases = 52065, num_controls = 28549, correction = 0.1)\n",
    "clin.add_case_control_label(df=scores, case_cuttoff = 1.5, control_cutoff = 0.5)\n",
    "scores.head(1) # see the last two columns"
   ]
  },
  {
   "cell_type": "markdown",
   "id": "61fc7743",
   "metadata": {},
   "source": [
    "You might want to perform T-tests to see whether a particular Sei/DeepSEA measure is significantly different between cases and controls. You can do this using the below code. Change `y` to any Sei prediction name/column to run a t-test."
   ]
  },
  {
   "cell_type": "code",
   "execution_count": 30,
   "id": "074c6f5d",
   "metadata": {},
   "outputs": [
    {
     "data": {
      "application/vnd.plotly.v1+json": {
       "config": {
        "plotlyServerURL": "https://plot.ly"
       },
       "data": [
        {
         "customdata": [
          [
           "E5 B-cell-like",
           0.03600914781958677,
           "E",
           "#984ef3",
           0
          ],
          [
           "E11 T-cell",
           0.17665304083391825,
           "E",
           "#984ef3",
           8
          ],
          [
           "E10 Brain",
           0.18711325308399604,
           "E",
           "#984ef3",
           9
          ],
          [
           "E6 Weak epithelial",
           0.19658306063722783,
           "E",
           "#984ef3",
           10
          ],
          [
           "E7 Monocyte / Macrophage",
           0.19699252462318168,
           "E",
           "#984ef3",
           11
          ],
          [
           "E12 Erythroblast-like",
           0.21238760999713513,
           "E",
           "#984ef3",
           14
          ],
          [
           "E4 Multi-tissue",
           0.2590779213981622,
           "E",
           "#984ef3",
           24
          ],
          [
           "E9 Liver / Intestine",
           0.28080522108680517,
           "E",
           "#984ef3",
           28
          ],
          [
           "E8 Weak multi-tissue",
           0.2809431294115907,
           "E",
           "#984ef3",
           29
          ],
          [
           "E3 Brain / Melanocyte",
           0.35210607747916034,
           "E",
           "#984ef3",
           34
          ],
          [
           "E1 Stem cell",
           0.3682351358252234,
           "E",
           "#984ef3",
           36
          ],
          [
           "E2 Multi-tissue",
           0.5039978587387394,
           "E",
           "#984ef3",
           38
          ]
         ],
         "hovertemplate": "Class=%{customdata[2]}<br>Rank=%{customdata[4]}<br>P-value=%{customdata[1]}<br>Sequence Class=%{customdata[0]}<br>Color=%{customdata[3]}<extra></extra>",
         "legendgroup": "E",
         "marker": {
          "color": "#984ef3",
          "size": 7,
          "symbol": "circle"
         },
         "mode": "markers",
         "name": "E",
         "orientation": "v",
         "showlegend": true,
         "type": "scatter",
         "x": [
          0,
          8,
          9,
          10,
          11,
          14,
          24,
          28,
          29,
          34,
          36,
          38
         ],
         "xaxis": "x",
         "y": [
          0.03600914781958677,
          0.17665304083391825,
          0.18711325308399604,
          0.19658306063722783,
          0.19699252462318168,
          0.21238760999713513,
          0.2590779213981622,
          0.28080522108680517,
          0.2809431294115907,
          0.35210607747916034,
          0.3682351358252234,
          0.5039978587387394
         ],
         "yaxis": "y"
        },
        {
         "customdata": [
          [
           "L5 Low signal",
           0.0413246343569509,
           "L",
           "#C0C0C0",
           1
          ],
          [
           "L3 Low signal",
           0.0867827983444545,
           "L",
           "#C0C0C0",
           3
          ],
          [
           "L4 Low signal",
           0.1410212733558381,
           "L",
           "#C0C0C0",
           4
          ],
          [
           "L1 Low signal",
           0.21211206100230365,
           "L",
           "#C0C0C0",
           13
          ],
          [
           "L7 Low signal",
           0.23258713821307034,
           "L",
           "#C0C0C0",
           19
          ],
          [
           "L6 Low signal",
           0.2346135106530655,
           "L",
           "#C0C0C0",
           20
          ],
          [
           "L2 Low signal",
           0.2595279001063512,
           "L",
           "#C0C0C0",
           25
          ]
         ],
         "hovertemplate": "Class=%{customdata[2]}<br>Rank=%{customdata[4]}<br>P-value=%{customdata[1]}<br>Sequence Class=%{customdata[0]}<br>Color=%{customdata[3]}<extra></extra>",
         "legendgroup": "L",
         "marker": {
          "color": "#C0C0C0",
          "size": 7,
          "symbol": "circle"
         },
         "mode": "markers",
         "name": "L",
         "orientation": "v",
         "showlegend": true,
         "type": "scatter",
         "x": [
          1,
          3,
          4,
          13,
          19,
          20,
          25
         ],
         "xaxis": "x",
         "y": [
          0.0413246343569509,
          0.0867827983444545,
          0.1410212733558381,
          0.21211206100230365,
          0.23258713821307034,
          0.2346135106530655,
          0.2595279001063512
         ],
         "yaxis": "y"
        },
        {
         "customdata": [
          [
           "PC4 Polycomb / Bivalent stem cell Enh",
           0.08485667282035148,
           "PC",
           "#8abad4",
           2
          ],
          [
           "PC2 Weak Polycomb",
           0.16775038841965537,
           "PC",
           "#8abad4",
           7
          ],
          [
           "PC1 Polycomb / Heterochromatin",
           0.23143302830297455,
           "PC",
           "#8abad4",
           18
          ],
          [
           "PC3 Polycomb",
           0.3047909503153409,
           "PC",
           "#8abad4",
           30
          ]
         ],
         "hovertemplate": "Class=%{customdata[2]}<br>Rank=%{customdata[4]}<br>P-value=%{customdata[1]}<br>Sequence Class=%{customdata[0]}<br>Color=%{customdata[3]}<extra></extra>",
         "legendgroup": "PC",
         "marker": {
          "color": "#8abad4",
          "size": 7,
          "symbol": "circle"
         },
         "mode": "markers",
         "name": "PC",
         "orientation": "v",
         "showlegend": true,
         "type": "scatter",
         "x": [
          2,
          7,
          18,
          30
         ],
         "xaxis": "x",
         "y": [
          0.08485667282035148,
          0.16775038841965537,
          0.23143302830297455,
          0.3047909503153409
         ],
         "yaxis": "y"
        },
        {
         "customdata": [
          [
           "P Promoter",
           0.15622562657315675,
           "P",
           "#ef3b2c",
           5
          ]
         ],
         "hovertemplate": "Class=%{customdata[2]}<br>Rank=%{customdata[4]}<br>P-value=%{customdata[1]}<br>Sequence Class=%{customdata[0]}<br>Color=%{customdata[3]}<extra></extra>",
         "legendgroup": "P",
         "marker": {
          "color": "#ef3b2c",
          "size": 7,
          "symbol": "circle"
         },
         "mode": "markers",
         "name": "P",
         "orientation": "v",
         "showlegend": true,
         "type": "scatter",
         "x": [
          5
         ],
         "xaxis": "x",
         "y": [
          0.15622562657315675
         ],
         "yaxis": "y"
        },
        {
         "customdata": [
          [
           "TN3 Transcription",
           0.16127465200039157,
           "TN",
           "#fb9a99",
           6
          ],
          [
           "TN2 Transcription",
           0.21325357439614906,
           "TN",
           "#fb9a99",
           15
          ],
          [
           "TN4 Transcription",
           0.2160976573220422,
           "TN",
           "#fb9a99",
           16
          ],
          [
           "TN1 Transcription",
           0.2252813502329596,
           "TN",
           "#fb9a99",
           17
          ]
         ],
         "hovertemplate": "Class=%{customdata[2]}<br>Rank=%{customdata[4]}<br>P-value=%{customdata[1]}<br>Sequence Class=%{customdata[0]}<br>Color=%{customdata[3]}<extra></extra>",
         "legendgroup": "TN",
         "marker": {
          "color": "#fb9a99",
          "size": 7,
          "symbol": "circle"
         },
         "mode": "markers",
         "name": "TN",
         "orientation": "v",
         "showlegend": true,
         "type": "scatter",
         "x": [
          6,
          15,
          16,
          17
         ],
         "xaxis": "x",
         "y": [
          0.16127465200039157,
          0.21325357439614906,
          0.2160976573220422,
          0.2252813502329596
         ],
         "yaxis": "y"
        },
        {
         "customdata": [
          [
           "TF4 OTX2",
           0.20410987675596878,
           "TF",
           "#386cb0",
           12
          ],
          [
           "TF2 CEBPB",
           0.24053778603412768,
           "TF",
           "#386cb0",
           21
          ],
          [
           "TF5 AR",
           0.25302476722477885,
           "TF",
           "#386cb0",
           22
          ],
          [
           "TF1 NANOG / FOXA1",
           0.3213890228245431,
           "TF",
           "#386cb0",
           33
          ],
          [
           "TF3 FOXA1 / AR / ESR1",
           0.3545220791422178,
           "TF",
           "#386cb0",
           35
          ]
         ],
         "hovertemplate": "Class=%{customdata[2]}<br>Rank=%{customdata[4]}<br>P-value=%{customdata[1]}<br>Sequence Class=%{customdata[0]}<br>Color=%{customdata[3]}<extra></extra>",
         "legendgroup": "TF",
         "marker": {
          "color": "#386cb0",
          "size": 7,
          "symbol": "circle"
         },
         "mode": "markers",
         "name": "TF",
         "orientation": "v",
         "showlegend": true,
         "type": "scatter",
         "x": [
          12,
          21,
          22,
          33,
          35
         ],
         "xaxis": "x",
         "y": [
          0.20410987675596878,
          0.24053778603412768,
          0.25302476722477885,
          0.3213890228245431,
          0.3545220791422178
         ],
         "yaxis": "y"
        },
        {
         "customdata": [
          [
           "CTCF CTCF-Cohesin",
           0.25514167128579335,
           "CTCF",
           "#fdb462",
           23
          ]
         ],
         "hovertemplate": "Class=%{customdata[2]}<br>Rank=%{customdata[4]}<br>P-value=%{customdata[1]}<br>Sequence Class=%{customdata[0]}<br>Color=%{customdata[3]}<extra></extra>",
         "legendgroup": "CTCF",
         "marker": {
          "color": "#fdb462",
          "size": 7,
          "symbol": "circle"
         },
         "mode": "markers",
         "name": "CTCF",
         "orientation": "v",
         "showlegend": true,
         "type": "scatter",
         "x": [
          23
         ],
         "xaxis": "x",
         "y": [
          0.25514167128579335
         ],
         "yaxis": "y"
        },
        {
         "customdata": [
          [
           "HET2 Heterochromatin",
           0.2651984004751204,
           "HET",
           "#662506",
           26
          ],
          [
           "HET1 Heterochromatin",
           0.2675527441716824,
           "HET",
           "#662506",
           27
          ],
          [
           "HET5 Centromere",
           0.31449980709881775,
           "HET",
           "#662506",
           31
          ],
          [
           "HET4 Heterochromatin",
           0.31481484569036483,
           "HET",
           "#662506",
           32
          ],
          [
           "HET6 Centromere",
           0.412827915683757,
           "HET",
           "#662506",
           37
          ],
          [
           "HET3 Heterochromatin",
           0.5809656110103731,
           "HET",
           "#662506",
           39
          ]
         ],
         "hovertemplate": "Class=%{customdata[2]}<br>Rank=%{customdata[4]}<br>P-value=%{customdata[1]}<br>Sequence Class=%{customdata[0]}<br>Color=%{customdata[3]}<extra></extra>",
         "legendgroup": "HET",
         "marker": {
          "color": "#662506",
          "size": 7,
          "symbol": "circle"
         },
         "mode": "markers",
         "name": "HET",
         "orientation": "v",
         "showlegend": true,
         "type": "scatter",
         "x": [
          26,
          27,
          31,
          32,
          37,
          39
         ],
         "xaxis": "x",
         "y": [
          0.2651984004751204,
          0.2675527441716824,
          0.31449980709881775,
          0.31481484569036483,
          0.412827915683757,
          0.5809656110103731
         ],
         "yaxis": "y"
        }
       ],
       "layout": {
        "font": {
         "size": 18
        },
        "legend": {
         "title": {
          "text": "Class"
         },
         "tracegroupgap": 0
        },
        "margin": {
         "t": 60
        },
        "paper_bgcolor": "rgba(0, 0, 0, 0)",
        "plot_bgcolor": "rgba(0, 0, 0, 0)",
        "template": {
         "data": {
          "bar": [
           {
            "error_x": {
             "color": "#2a3f5f"
            },
            "error_y": {
             "color": "#2a3f5f"
            },
            "marker": {
             "line": {
              "color": "#E5ECF6",
              "width": 0.5
             }
            },
            "type": "bar"
           }
          ],
          "barpolar": [
           {
            "marker": {
             "line": {
              "color": "#E5ECF6",
              "width": 0.5
             }
            },
            "type": "barpolar"
           }
          ],
          "carpet": [
           {
            "aaxis": {
             "endlinecolor": "#2a3f5f",
             "gridcolor": "white",
             "linecolor": "white",
             "minorgridcolor": "white",
             "startlinecolor": "#2a3f5f"
            },
            "baxis": {
             "endlinecolor": "#2a3f5f",
             "gridcolor": "white",
             "linecolor": "white",
             "minorgridcolor": "white",
             "startlinecolor": "#2a3f5f"
            },
            "type": "carpet"
           }
          ],
          "choropleth": [
           {
            "colorbar": {
             "outlinewidth": 0,
             "ticks": ""
            },
            "type": "choropleth"
           }
          ],
          "contour": [
           {
            "colorbar": {
             "outlinewidth": 0,
             "ticks": ""
            },
            "colorscale": [
             [
              0,
              "#0d0887"
             ],
             [
              0.1111111111111111,
              "#46039f"
             ],
             [
              0.2222222222222222,
              "#7201a8"
             ],
             [
              0.3333333333333333,
              "#9c179e"
             ],
             [
              0.4444444444444444,
              "#bd3786"
             ],
             [
              0.5555555555555556,
              "#d8576b"
             ],
             [
              0.6666666666666666,
              "#ed7953"
             ],
             [
              0.7777777777777778,
              "#fb9f3a"
             ],
             [
              0.8888888888888888,
              "#fdca26"
             ],
             [
              1,
              "#f0f921"
             ]
            ],
            "type": "contour"
           }
          ],
          "contourcarpet": [
           {
            "colorbar": {
             "outlinewidth": 0,
             "ticks": ""
            },
            "type": "contourcarpet"
           }
          ],
          "heatmap": [
           {
            "colorbar": {
             "outlinewidth": 0,
             "ticks": ""
            },
            "colorscale": [
             [
              0,
              "#0d0887"
             ],
             [
              0.1111111111111111,
              "#46039f"
             ],
             [
              0.2222222222222222,
              "#7201a8"
             ],
             [
              0.3333333333333333,
              "#9c179e"
             ],
             [
              0.4444444444444444,
              "#bd3786"
             ],
             [
              0.5555555555555556,
              "#d8576b"
             ],
             [
              0.6666666666666666,
              "#ed7953"
             ],
             [
              0.7777777777777778,
              "#fb9f3a"
             ],
             [
              0.8888888888888888,
              "#fdca26"
             ],
             [
              1,
              "#f0f921"
             ]
            ],
            "type": "heatmap"
           }
          ],
          "heatmapgl": [
           {
            "colorbar": {
             "outlinewidth": 0,
             "ticks": ""
            },
            "colorscale": [
             [
              0,
              "#0d0887"
             ],
             [
              0.1111111111111111,
              "#46039f"
             ],
             [
              0.2222222222222222,
              "#7201a8"
             ],
             [
              0.3333333333333333,
              "#9c179e"
             ],
             [
              0.4444444444444444,
              "#bd3786"
             ],
             [
              0.5555555555555556,
              "#d8576b"
             ],
             [
              0.6666666666666666,
              "#ed7953"
             ],
             [
              0.7777777777777778,
              "#fb9f3a"
             ],
             [
              0.8888888888888888,
              "#fdca26"
             ],
             [
              1,
              "#f0f921"
             ]
            ],
            "type": "heatmapgl"
           }
          ],
          "histogram": [
           {
            "marker": {
             "colorbar": {
              "outlinewidth": 0,
              "ticks": ""
             }
            },
            "type": "histogram"
           }
          ],
          "histogram2d": [
           {
            "colorbar": {
             "outlinewidth": 0,
             "ticks": ""
            },
            "colorscale": [
             [
              0,
              "#0d0887"
             ],
             [
              0.1111111111111111,
              "#46039f"
             ],
             [
              0.2222222222222222,
              "#7201a8"
             ],
             [
              0.3333333333333333,
              "#9c179e"
             ],
             [
              0.4444444444444444,
              "#bd3786"
             ],
             [
              0.5555555555555556,
              "#d8576b"
             ],
             [
              0.6666666666666666,
              "#ed7953"
             ],
             [
              0.7777777777777778,
              "#fb9f3a"
             ],
             [
              0.8888888888888888,
              "#fdca26"
             ],
             [
              1,
              "#f0f921"
             ]
            ],
            "type": "histogram2d"
           }
          ],
          "histogram2dcontour": [
           {
            "colorbar": {
             "outlinewidth": 0,
             "ticks": ""
            },
            "colorscale": [
             [
              0,
              "#0d0887"
             ],
             [
              0.1111111111111111,
              "#46039f"
             ],
             [
              0.2222222222222222,
              "#7201a8"
             ],
             [
              0.3333333333333333,
              "#9c179e"
             ],
             [
              0.4444444444444444,
              "#bd3786"
             ],
             [
              0.5555555555555556,
              "#d8576b"
             ],
             [
              0.6666666666666666,
              "#ed7953"
             ],
             [
              0.7777777777777778,
              "#fb9f3a"
             ],
             [
              0.8888888888888888,
              "#fdca26"
             ],
             [
              1,
              "#f0f921"
             ]
            ],
            "type": "histogram2dcontour"
           }
          ],
          "mesh3d": [
           {
            "colorbar": {
             "outlinewidth": 0,
             "ticks": ""
            },
            "type": "mesh3d"
           }
          ],
          "parcoords": [
           {
            "line": {
             "colorbar": {
              "outlinewidth": 0,
              "ticks": ""
             }
            },
            "type": "parcoords"
           }
          ],
          "pie": [
           {
            "automargin": true,
            "type": "pie"
           }
          ],
          "scatter": [
           {
            "marker": {
             "colorbar": {
              "outlinewidth": 0,
              "ticks": ""
             }
            },
            "type": "scatter"
           }
          ],
          "scatter3d": [
           {
            "line": {
             "colorbar": {
              "outlinewidth": 0,
              "ticks": ""
             }
            },
            "marker": {
             "colorbar": {
              "outlinewidth": 0,
              "ticks": ""
             }
            },
            "type": "scatter3d"
           }
          ],
          "scattercarpet": [
           {
            "marker": {
             "colorbar": {
              "outlinewidth": 0,
              "ticks": ""
             }
            },
            "type": "scattercarpet"
           }
          ],
          "scattergeo": [
           {
            "marker": {
             "colorbar": {
              "outlinewidth": 0,
              "ticks": ""
             }
            },
            "type": "scattergeo"
           }
          ],
          "scattergl": [
           {
            "marker": {
             "colorbar": {
              "outlinewidth": 0,
              "ticks": ""
             }
            },
            "type": "scattergl"
           }
          ],
          "scattermapbox": [
           {
            "marker": {
             "colorbar": {
              "outlinewidth": 0,
              "ticks": ""
             }
            },
            "type": "scattermapbox"
           }
          ],
          "scatterpolar": [
           {
            "marker": {
             "colorbar": {
              "outlinewidth": 0,
              "ticks": ""
             }
            },
            "type": "scatterpolar"
           }
          ],
          "scatterpolargl": [
           {
            "marker": {
             "colorbar": {
              "outlinewidth": 0,
              "ticks": ""
             }
            },
            "type": "scatterpolargl"
           }
          ],
          "scatterternary": [
           {
            "marker": {
             "colorbar": {
              "outlinewidth": 0,
              "ticks": ""
             }
            },
            "type": "scatterternary"
           }
          ],
          "surface": [
           {
            "colorbar": {
             "outlinewidth": 0,
             "ticks": ""
            },
            "colorscale": [
             [
              0,
              "#0d0887"
             ],
             [
              0.1111111111111111,
              "#46039f"
             ],
             [
              0.2222222222222222,
              "#7201a8"
             ],
             [
              0.3333333333333333,
              "#9c179e"
             ],
             [
              0.4444444444444444,
              "#bd3786"
             ],
             [
              0.5555555555555556,
              "#d8576b"
             ],
             [
              0.6666666666666666,
              "#ed7953"
             ],
             [
              0.7777777777777778,
              "#fb9f3a"
             ],
             [
              0.8888888888888888,
              "#fdca26"
             ],
             [
              1,
              "#f0f921"
             ]
            ],
            "type": "surface"
           }
          ],
          "table": [
           {
            "cells": {
             "fill": {
              "color": "#EBF0F8"
             },
             "line": {
              "color": "white"
             }
            },
            "header": {
             "fill": {
              "color": "#C8D4E3"
             },
             "line": {
              "color": "white"
             }
            },
            "type": "table"
           }
          ]
         },
         "layout": {
          "annotationdefaults": {
           "arrowcolor": "#2a3f5f",
           "arrowhead": 0,
           "arrowwidth": 1
          },
          "coloraxis": {
           "colorbar": {
            "outlinewidth": 0,
            "ticks": ""
           }
          },
          "colorscale": {
           "diverging": [
            [
             0,
             "#8e0152"
            ],
            [
             0.1,
             "#c51b7d"
            ],
            [
             0.2,
             "#de77ae"
            ],
            [
             0.3,
             "#f1b6da"
            ],
            [
             0.4,
             "#fde0ef"
            ],
            [
             0.5,
             "#f7f7f7"
            ],
            [
             0.6,
             "#e6f5d0"
            ],
            [
             0.7,
             "#b8e186"
            ],
            [
             0.8,
             "#7fbc41"
            ],
            [
             0.9,
             "#4d9221"
            ],
            [
             1,
             "#276419"
            ]
           ],
           "sequential": [
            [
             0,
             "#0d0887"
            ],
            [
             0.1111111111111111,
             "#46039f"
            ],
            [
             0.2222222222222222,
             "#7201a8"
            ],
            [
             0.3333333333333333,
             "#9c179e"
            ],
            [
             0.4444444444444444,
             "#bd3786"
            ],
            [
             0.5555555555555556,
             "#d8576b"
            ],
            [
             0.6666666666666666,
             "#ed7953"
            ],
            [
             0.7777777777777778,
             "#fb9f3a"
            ],
            [
             0.8888888888888888,
             "#fdca26"
            ],
            [
             1,
             "#f0f921"
            ]
           ],
           "sequentialminus": [
            [
             0,
             "#0d0887"
            ],
            [
             0.1111111111111111,
             "#46039f"
            ],
            [
             0.2222222222222222,
             "#7201a8"
            ],
            [
             0.3333333333333333,
             "#9c179e"
            ],
            [
             0.4444444444444444,
             "#bd3786"
            ],
            [
             0.5555555555555556,
             "#d8576b"
            ],
            [
             0.6666666666666666,
             "#ed7953"
            ],
            [
             0.7777777777777778,
             "#fb9f3a"
            ],
            [
             0.8888888888888888,
             "#fdca26"
            ],
            [
             1,
             "#f0f921"
            ]
           ]
          },
          "colorway": [
           "#636efa",
           "#EF553B",
           "#00cc96",
           "#ab63fa",
           "#FFA15A",
           "#19d3f3",
           "#FF6692",
           "#B6E880",
           "#FF97FF",
           "#FECB52"
          ],
          "font": {
           "color": "#2a3f5f"
          },
          "geo": {
           "bgcolor": "white",
           "lakecolor": "white",
           "landcolor": "#E5ECF6",
           "showlakes": true,
           "showland": true,
           "subunitcolor": "white"
          },
          "hoverlabel": {
           "align": "left"
          },
          "hovermode": "closest",
          "mapbox": {
           "style": "light"
          },
          "paper_bgcolor": "white",
          "plot_bgcolor": "#E5ECF6",
          "polar": {
           "angularaxis": {
            "gridcolor": "white",
            "linecolor": "white",
            "ticks": ""
           },
           "bgcolor": "#E5ECF6",
           "radialaxis": {
            "gridcolor": "white",
            "linecolor": "white",
            "ticks": ""
           }
          },
          "scene": {
           "xaxis": {
            "backgroundcolor": "#E5ECF6",
            "gridcolor": "white",
            "gridwidth": 2,
            "linecolor": "white",
            "showbackground": true,
            "ticks": "",
            "zerolinecolor": "white"
           },
           "yaxis": {
            "backgroundcolor": "#E5ECF6",
            "gridcolor": "white",
            "gridwidth": 2,
            "linecolor": "white",
            "showbackground": true,
            "ticks": "",
            "zerolinecolor": "white"
           },
           "zaxis": {
            "backgroundcolor": "#E5ECF6",
            "gridcolor": "white",
            "gridwidth": 2,
            "linecolor": "white",
            "showbackground": true,
            "ticks": "",
            "zerolinecolor": "white"
           }
          },
          "shapedefaults": {
           "line": {
            "color": "#2a3f5f"
           }
          },
          "ternary": {
           "aaxis": {
            "gridcolor": "white",
            "linecolor": "white",
            "ticks": ""
           },
           "baxis": {
            "gridcolor": "white",
            "linecolor": "white",
            "ticks": ""
           },
           "bgcolor": "#E5ECF6",
           "caxis": {
            "gridcolor": "white",
            "linecolor": "white",
            "ticks": ""
           }
          },
          "title": {
           "x": 0.05
          },
          "xaxis": {
           "automargin": true,
           "gridcolor": "white",
           "linecolor": "white",
           "ticks": "",
           "title": {
            "standoff": 15
           },
           "zerolinecolor": "white",
           "zerolinewidth": 2
          },
          "yaxis": {
           "automargin": true,
           "gridcolor": "white",
           "linecolor": "white",
           "ticks": "",
           "title": {
            "standoff": 15
           },
           "zerolinecolor": "white",
           "zerolinewidth": 2
          }
         }
        },
        "xaxis": {
         "anchor": "y",
         "domain": [
          0,
          1
         ],
         "gridcolor": "#DCDCDC",
         "linecolor": "black",
         "linewidth": 2,
         "showline": true,
         "title": {
          "text": "Rank"
         }
        },
        "yaxis": {
         "anchor": "x",
         "domain": [
          0,
          1
         ],
         "gridcolor": "#DCDCDC",
         "linecolor": "black",
         "linewidth": 2,
         "showline": true,
         "title": {
          "text": "T-test P-values"
         }
        }
       }
      },
      "text/html": [
       "<div>                            <div id=\"9858fdc3-f0a9-4427-b7d0-80a69a80ffb2\" class=\"plotly-graph-div\" style=\"height:525px; width:100%;\"></div>            <script type=\"text/javascript\">                require([\"plotly\"], function(Plotly) {                    window.PLOTLYENV=window.PLOTLYENV || {};                                    if (document.getElementById(\"9858fdc3-f0a9-4427-b7d0-80a69a80ffb2\")) {                    Plotly.newPlot(                        \"9858fdc3-f0a9-4427-b7d0-80a69a80ffb2\",                        [{\"customdata\": [[\"E5 B-cell-like\", 0.03600914781958677, \"E\", \"#984ef3\", 0], [\"E11 T-cell\", 0.17665304083391825, \"E\", \"#984ef3\", 8], [\"E10 Brain\", 0.18711325308399604, \"E\", \"#984ef3\", 9], [\"E6 Weak epithelial\", 0.19658306063722783, \"E\", \"#984ef3\", 10], [\"E7 Monocyte / Macrophage\", 0.19699252462318168, \"E\", \"#984ef3\", 11], [\"E12 Erythroblast-like\", 0.21238760999713513, \"E\", \"#984ef3\", 14], [\"E4 Multi-tissue\", 0.2590779213981622, \"E\", \"#984ef3\", 24], [\"E9 Liver / Intestine\", 0.28080522108680517, \"E\", \"#984ef3\", 28], [\"E8 Weak multi-tissue\", 0.2809431294115907, \"E\", \"#984ef3\", 29], [\"E3 Brain / Melanocyte\", 0.35210607747916034, \"E\", \"#984ef3\", 34], [\"E1 Stem cell\", 0.3682351358252234, \"E\", \"#984ef3\", 36], [\"E2 Multi-tissue\", 0.5039978587387394, \"E\", \"#984ef3\", 38]], \"hovertemplate\": \"Class=%{customdata[2]}<br>Rank=%{customdata[4]}<br>P-value=%{customdata[1]}<br>Sequence Class=%{customdata[0]}<br>Color=%{customdata[3]}<extra></extra>\", \"legendgroup\": \"E\", \"marker\": {\"color\": \"#984ef3\", \"size\": 7, \"symbol\": \"circle\"}, \"mode\": \"markers\", \"name\": \"E\", \"orientation\": \"v\", \"showlegend\": true, \"type\": \"scatter\", \"x\": [0, 8, 9, 10, 11, 14, 24, 28, 29, 34, 36, 38], \"xaxis\": \"x\", \"y\": [0.03600914781958677, 0.17665304083391825, 0.18711325308399604, 0.19658306063722783, 0.19699252462318168, 0.21238760999713513, 0.2590779213981622, 0.28080522108680517, 0.2809431294115907, 0.35210607747916034, 0.3682351358252234, 0.5039978587387394], \"yaxis\": \"y\"}, {\"customdata\": [[\"L5 Low signal\", 0.0413246343569509, \"L\", \"#C0C0C0\", 1], [\"L3 Low signal\", 0.0867827983444545, \"L\", \"#C0C0C0\", 3], [\"L4 Low signal\", 0.1410212733558381, \"L\", \"#C0C0C0\", 4], [\"L1 Low signal\", 0.21211206100230365, \"L\", \"#C0C0C0\", 13], [\"L7 Low signal\", 0.23258713821307034, \"L\", \"#C0C0C0\", 19], [\"L6 Low signal\", 0.2346135106530655, \"L\", \"#C0C0C0\", 20], [\"L2 Low signal\", 0.2595279001063512, \"L\", \"#C0C0C0\", 25]], \"hovertemplate\": \"Class=%{customdata[2]}<br>Rank=%{customdata[4]}<br>P-value=%{customdata[1]}<br>Sequence Class=%{customdata[0]}<br>Color=%{customdata[3]}<extra></extra>\", \"legendgroup\": \"L\", \"marker\": {\"color\": \"#C0C0C0\", \"size\": 7, \"symbol\": \"circle\"}, \"mode\": \"markers\", \"name\": \"L\", \"orientation\": \"v\", \"showlegend\": true, \"type\": \"scatter\", \"x\": [1, 3, 4, 13, 19, 20, 25], \"xaxis\": \"x\", \"y\": [0.0413246343569509, 0.0867827983444545, 0.1410212733558381, 0.21211206100230365, 0.23258713821307034, 0.2346135106530655, 0.2595279001063512], \"yaxis\": \"y\"}, {\"customdata\": [[\"PC4 Polycomb / Bivalent stem cell Enh\", 0.08485667282035148, \"PC\", \"#8abad4\", 2], [\"PC2 Weak Polycomb\", 0.16775038841965537, \"PC\", \"#8abad4\", 7], [\"PC1 Polycomb / Heterochromatin\", 0.23143302830297455, \"PC\", \"#8abad4\", 18], [\"PC3 Polycomb\", 0.3047909503153409, \"PC\", \"#8abad4\", 30]], \"hovertemplate\": \"Class=%{customdata[2]}<br>Rank=%{customdata[4]}<br>P-value=%{customdata[1]}<br>Sequence Class=%{customdata[0]}<br>Color=%{customdata[3]}<extra></extra>\", \"legendgroup\": \"PC\", \"marker\": {\"color\": \"#8abad4\", \"size\": 7, \"symbol\": \"circle\"}, \"mode\": \"markers\", \"name\": \"PC\", \"orientation\": \"v\", \"showlegend\": true, \"type\": \"scatter\", \"x\": [2, 7, 18, 30], \"xaxis\": \"x\", \"y\": [0.08485667282035148, 0.16775038841965537, 0.23143302830297455, 0.3047909503153409], \"yaxis\": \"y\"}, {\"customdata\": [[\"P Promoter\", 0.15622562657315675, \"P\", \"#ef3b2c\", 5]], \"hovertemplate\": \"Class=%{customdata[2]}<br>Rank=%{customdata[4]}<br>P-value=%{customdata[1]}<br>Sequence Class=%{customdata[0]}<br>Color=%{customdata[3]}<extra></extra>\", \"legendgroup\": \"P\", \"marker\": {\"color\": \"#ef3b2c\", \"size\": 7, \"symbol\": \"circle\"}, \"mode\": \"markers\", \"name\": \"P\", \"orientation\": \"v\", \"showlegend\": true, \"type\": \"scatter\", \"x\": [5], \"xaxis\": \"x\", \"y\": [0.15622562657315675], \"yaxis\": \"y\"}, {\"customdata\": [[\"TN3 Transcription\", 0.16127465200039157, \"TN\", \"#fb9a99\", 6], [\"TN2 Transcription\", 0.21325357439614906, \"TN\", \"#fb9a99\", 15], [\"TN4 Transcription\", 0.2160976573220422, \"TN\", \"#fb9a99\", 16], [\"TN1 Transcription\", 0.2252813502329596, \"TN\", \"#fb9a99\", 17]], \"hovertemplate\": \"Class=%{customdata[2]}<br>Rank=%{customdata[4]}<br>P-value=%{customdata[1]}<br>Sequence Class=%{customdata[0]}<br>Color=%{customdata[3]}<extra></extra>\", \"legendgroup\": \"TN\", \"marker\": {\"color\": \"#fb9a99\", \"size\": 7, \"symbol\": \"circle\"}, \"mode\": \"markers\", \"name\": \"TN\", \"orientation\": \"v\", \"showlegend\": true, \"type\": \"scatter\", \"x\": [6, 15, 16, 17], \"xaxis\": \"x\", \"y\": [0.16127465200039157, 0.21325357439614906, 0.2160976573220422, 0.2252813502329596], \"yaxis\": \"y\"}, {\"customdata\": [[\"TF4 OTX2\", 0.20410987675596878, \"TF\", \"#386cb0\", 12], [\"TF2 CEBPB\", 0.24053778603412768, \"TF\", \"#386cb0\", 21], [\"TF5 AR\", 0.25302476722477885, \"TF\", \"#386cb0\", 22], [\"TF1 NANOG / FOXA1\", 0.3213890228245431, \"TF\", \"#386cb0\", 33], [\"TF3 FOXA1 / AR / ESR1\", 0.3545220791422178, \"TF\", \"#386cb0\", 35]], \"hovertemplate\": \"Class=%{customdata[2]}<br>Rank=%{customdata[4]}<br>P-value=%{customdata[1]}<br>Sequence Class=%{customdata[0]}<br>Color=%{customdata[3]}<extra></extra>\", \"legendgroup\": \"TF\", \"marker\": {\"color\": \"#386cb0\", \"size\": 7, \"symbol\": \"circle\"}, \"mode\": \"markers\", \"name\": \"TF\", \"orientation\": \"v\", \"showlegend\": true, \"type\": \"scatter\", \"x\": [12, 21, 22, 33, 35], \"xaxis\": \"x\", \"y\": [0.20410987675596878, 0.24053778603412768, 0.25302476722477885, 0.3213890228245431, 0.3545220791422178], \"yaxis\": \"y\"}, {\"customdata\": [[\"CTCF CTCF-Cohesin\", 0.25514167128579335, \"CTCF\", \"#fdb462\", 23]], \"hovertemplate\": \"Class=%{customdata[2]}<br>Rank=%{customdata[4]}<br>P-value=%{customdata[1]}<br>Sequence Class=%{customdata[0]}<br>Color=%{customdata[3]}<extra></extra>\", \"legendgroup\": \"CTCF\", \"marker\": {\"color\": \"#fdb462\", \"size\": 7, \"symbol\": \"circle\"}, \"mode\": \"markers\", \"name\": \"CTCF\", \"orientation\": \"v\", \"showlegend\": true, \"type\": \"scatter\", \"x\": [23], \"xaxis\": \"x\", \"y\": [0.25514167128579335], \"yaxis\": \"y\"}, {\"customdata\": [[\"HET2 Heterochromatin\", 0.2651984004751204, \"HET\", \"#662506\", 26], [\"HET1 Heterochromatin\", 0.2675527441716824, \"HET\", \"#662506\", 27], [\"HET5 Centromere\", 0.31449980709881775, \"HET\", \"#662506\", 31], [\"HET4 Heterochromatin\", 0.31481484569036483, \"HET\", \"#662506\", 32], [\"HET6 Centromere\", 0.412827915683757, \"HET\", \"#662506\", 37], [\"HET3 Heterochromatin\", 0.5809656110103731, \"HET\", \"#662506\", 39]], \"hovertemplate\": \"Class=%{customdata[2]}<br>Rank=%{customdata[4]}<br>P-value=%{customdata[1]}<br>Sequence Class=%{customdata[0]}<br>Color=%{customdata[3]}<extra></extra>\", \"legendgroup\": \"HET\", \"marker\": {\"color\": \"#662506\", \"size\": 7, \"symbol\": \"circle\"}, \"mode\": \"markers\", \"name\": \"HET\", \"orientation\": \"v\", \"showlegend\": true, \"type\": \"scatter\", \"x\": [26, 27, 31, 32, 37, 39], \"xaxis\": \"x\", \"y\": [0.2651984004751204, 0.2675527441716824, 0.31449980709881775, 0.31481484569036483, 0.412827915683757, 0.5809656110103731], \"yaxis\": \"y\"}],                        {\"font\": {\"size\": 18}, \"legend\": {\"title\": {\"text\": \"Class\"}, \"tracegroupgap\": 0}, \"margin\": {\"t\": 60}, \"paper_bgcolor\": \"rgba(0, 0, 0, 0)\", \"plot_bgcolor\": \"rgba(0, 0, 0, 0)\", \"template\": {\"data\": {\"bar\": [{\"error_x\": {\"color\": \"#2a3f5f\"}, \"error_y\": {\"color\": \"#2a3f5f\"}, \"marker\": {\"line\": {\"color\": \"#E5ECF6\", \"width\": 0.5}}, \"type\": \"bar\"}], \"barpolar\": [{\"marker\": {\"line\": {\"color\": \"#E5ECF6\", \"width\": 0.5}}, \"type\": \"barpolar\"}], \"carpet\": [{\"aaxis\": {\"endlinecolor\": \"#2a3f5f\", \"gridcolor\": \"white\", \"linecolor\": \"white\", \"minorgridcolor\": \"white\", \"startlinecolor\": \"#2a3f5f\"}, \"baxis\": {\"endlinecolor\": \"#2a3f5f\", \"gridcolor\": \"white\", \"linecolor\": \"white\", \"minorgridcolor\": \"white\", \"startlinecolor\": \"#2a3f5f\"}, \"type\": \"carpet\"}], \"choropleth\": [{\"colorbar\": {\"outlinewidth\": 0, \"ticks\": \"\"}, \"type\": \"choropleth\"}], \"contour\": [{\"colorbar\": {\"outlinewidth\": 0, \"ticks\": \"\"}, \"colorscale\": [[0.0, \"#0d0887\"], [0.1111111111111111, \"#46039f\"], [0.2222222222222222, \"#7201a8\"], [0.3333333333333333, \"#9c179e\"], [0.4444444444444444, \"#bd3786\"], [0.5555555555555556, \"#d8576b\"], [0.6666666666666666, \"#ed7953\"], [0.7777777777777778, \"#fb9f3a\"], [0.8888888888888888, \"#fdca26\"], [1.0, \"#f0f921\"]], \"type\": \"contour\"}], \"contourcarpet\": [{\"colorbar\": {\"outlinewidth\": 0, \"ticks\": \"\"}, \"type\": \"contourcarpet\"}], \"heatmap\": [{\"colorbar\": {\"outlinewidth\": 0, \"ticks\": \"\"}, \"colorscale\": [[0.0, \"#0d0887\"], [0.1111111111111111, \"#46039f\"], [0.2222222222222222, \"#7201a8\"], [0.3333333333333333, \"#9c179e\"], [0.4444444444444444, \"#bd3786\"], [0.5555555555555556, \"#d8576b\"], [0.6666666666666666, \"#ed7953\"], [0.7777777777777778, \"#fb9f3a\"], [0.8888888888888888, \"#fdca26\"], [1.0, \"#f0f921\"]], \"type\": \"heatmap\"}], \"heatmapgl\": [{\"colorbar\": {\"outlinewidth\": 0, \"ticks\": \"\"}, \"colorscale\": [[0.0, \"#0d0887\"], [0.1111111111111111, \"#46039f\"], [0.2222222222222222, \"#7201a8\"], [0.3333333333333333, \"#9c179e\"], [0.4444444444444444, \"#bd3786\"], [0.5555555555555556, \"#d8576b\"], [0.6666666666666666, \"#ed7953\"], [0.7777777777777778, \"#fb9f3a\"], [0.8888888888888888, \"#fdca26\"], [1.0, \"#f0f921\"]], \"type\": \"heatmapgl\"}], \"histogram\": [{\"marker\": {\"colorbar\": {\"outlinewidth\": 0, \"ticks\": \"\"}}, \"type\": \"histogram\"}], \"histogram2d\": [{\"colorbar\": {\"outlinewidth\": 0, \"ticks\": \"\"}, \"colorscale\": [[0.0, \"#0d0887\"], [0.1111111111111111, \"#46039f\"], [0.2222222222222222, \"#7201a8\"], [0.3333333333333333, \"#9c179e\"], [0.4444444444444444, \"#bd3786\"], [0.5555555555555556, \"#d8576b\"], [0.6666666666666666, \"#ed7953\"], [0.7777777777777778, \"#fb9f3a\"], [0.8888888888888888, \"#fdca26\"], [1.0, \"#f0f921\"]], \"type\": \"histogram2d\"}], \"histogram2dcontour\": [{\"colorbar\": {\"outlinewidth\": 0, \"ticks\": \"\"}, \"colorscale\": [[0.0, \"#0d0887\"], [0.1111111111111111, \"#46039f\"], [0.2222222222222222, \"#7201a8\"], [0.3333333333333333, \"#9c179e\"], [0.4444444444444444, \"#bd3786\"], [0.5555555555555556, \"#d8576b\"], [0.6666666666666666, \"#ed7953\"], [0.7777777777777778, \"#fb9f3a\"], [0.8888888888888888, \"#fdca26\"], [1.0, \"#f0f921\"]], \"type\": \"histogram2dcontour\"}], \"mesh3d\": [{\"colorbar\": {\"outlinewidth\": 0, \"ticks\": \"\"}, \"type\": \"mesh3d\"}], \"parcoords\": [{\"line\": {\"colorbar\": {\"outlinewidth\": 0, \"ticks\": \"\"}}, \"type\": \"parcoords\"}], \"pie\": [{\"automargin\": true, \"type\": \"pie\"}], \"scatter\": [{\"marker\": {\"colorbar\": {\"outlinewidth\": 0, \"ticks\": \"\"}}, \"type\": \"scatter\"}], \"scatter3d\": [{\"line\": {\"colorbar\": {\"outlinewidth\": 0, \"ticks\": \"\"}}, \"marker\": {\"colorbar\": {\"outlinewidth\": 0, \"ticks\": \"\"}}, \"type\": \"scatter3d\"}], \"scattercarpet\": [{\"marker\": {\"colorbar\": {\"outlinewidth\": 0, \"ticks\": \"\"}}, \"type\": \"scattercarpet\"}], \"scattergeo\": [{\"marker\": {\"colorbar\": {\"outlinewidth\": 0, \"ticks\": \"\"}}, \"type\": \"scattergeo\"}], \"scattergl\": [{\"marker\": {\"colorbar\": {\"outlinewidth\": 0, \"ticks\": \"\"}}, \"type\": \"scattergl\"}], \"scattermapbox\": [{\"marker\": {\"colorbar\": {\"outlinewidth\": 0, \"ticks\": \"\"}}, \"type\": \"scattermapbox\"}], \"scatterpolar\": [{\"marker\": {\"colorbar\": {\"outlinewidth\": 0, \"ticks\": \"\"}}, \"type\": \"scatterpolar\"}], \"scatterpolargl\": [{\"marker\": {\"colorbar\": {\"outlinewidth\": 0, \"ticks\": \"\"}}, \"type\": \"scatterpolargl\"}], \"scatterternary\": [{\"marker\": {\"colorbar\": {\"outlinewidth\": 0, \"ticks\": \"\"}}, \"type\": \"scatterternary\"}], \"surface\": [{\"colorbar\": {\"outlinewidth\": 0, \"ticks\": \"\"}, \"colorscale\": [[0.0, \"#0d0887\"], [0.1111111111111111, \"#46039f\"], [0.2222222222222222, \"#7201a8\"], [0.3333333333333333, \"#9c179e\"], [0.4444444444444444, \"#bd3786\"], [0.5555555555555556, \"#d8576b\"], [0.6666666666666666, \"#ed7953\"], [0.7777777777777778, \"#fb9f3a\"], [0.8888888888888888, \"#fdca26\"], [1.0, \"#f0f921\"]], \"type\": \"surface\"}], \"table\": [{\"cells\": {\"fill\": {\"color\": \"#EBF0F8\"}, \"line\": {\"color\": \"white\"}}, \"header\": {\"fill\": {\"color\": \"#C8D4E3\"}, \"line\": {\"color\": \"white\"}}, \"type\": \"table\"}]}, \"layout\": {\"annotationdefaults\": {\"arrowcolor\": \"#2a3f5f\", \"arrowhead\": 0, \"arrowwidth\": 1}, \"coloraxis\": {\"colorbar\": {\"outlinewidth\": 0, \"ticks\": \"\"}}, \"colorscale\": {\"diverging\": [[0, \"#8e0152\"], [0.1, \"#c51b7d\"], [0.2, \"#de77ae\"], [0.3, \"#f1b6da\"], [0.4, \"#fde0ef\"], [0.5, \"#f7f7f7\"], [0.6, \"#e6f5d0\"], [0.7, \"#b8e186\"], [0.8, \"#7fbc41\"], [0.9, \"#4d9221\"], [1, \"#276419\"]], \"sequential\": [[0.0, \"#0d0887\"], [0.1111111111111111, \"#46039f\"], [0.2222222222222222, \"#7201a8\"], [0.3333333333333333, \"#9c179e\"], [0.4444444444444444, \"#bd3786\"], [0.5555555555555556, \"#d8576b\"], [0.6666666666666666, \"#ed7953\"], [0.7777777777777778, \"#fb9f3a\"], [0.8888888888888888, \"#fdca26\"], [1.0, \"#f0f921\"]], \"sequentialminus\": [[0.0, \"#0d0887\"], [0.1111111111111111, \"#46039f\"], [0.2222222222222222, \"#7201a8\"], [0.3333333333333333, \"#9c179e\"], [0.4444444444444444, \"#bd3786\"], [0.5555555555555556, \"#d8576b\"], [0.6666666666666666, \"#ed7953\"], [0.7777777777777778, \"#fb9f3a\"], [0.8888888888888888, \"#fdca26\"], [1.0, \"#f0f921\"]]}, \"colorway\": [\"#636efa\", \"#EF553B\", \"#00cc96\", \"#ab63fa\", \"#FFA15A\", \"#19d3f3\", \"#FF6692\", \"#B6E880\", \"#FF97FF\", \"#FECB52\"], \"font\": {\"color\": \"#2a3f5f\"}, \"geo\": {\"bgcolor\": \"white\", \"lakecolor\": \"white\", \"landcolor\": \"#E5ECF6\", \"showlakes\": true, \"showland\": true, \"subunitcolor\": \"white\"}, \"hoverlabel\": {\"align\": \"left\"}, \"hovermode\": \"closest\", \"mapbox\": {\"style\": \"light\"}, \"paper_bgcolor\": \"white\", \"plot_bgcolor\": \"#E5ECF6\", \"polar\": {\"angularaxis\": {\"gridcolor\": \"white\", \"linecolor\": \"white\", \"ticks\": \"\"}, \"bgcolor\": \"#E5ECF6\", \"radialaxis\": {\"gridcolor\": \"white\", \"linecolor\": \"white\", \"ticks\": \"\"}}, \"scene\": {\"xaxis\": {\"backgroundcolor\": \"#E5ECF6\", \"gridcolor\": \"white\", \"gridwidth\": 2, \"linecolor\": \"white\", \"showbackground\": true, \"ticks\": \"\", \"zerolinecolor\": \"white\"}, \"yaxis\": {\"backgroundcolor\": \"#E5ECF6\", \"gridcolor\": \"white\", \"gridwidth\": 2, \"linecolor\": \"white\", \"showbackground\": true, \"ticks\": \"\", \"zerolinecolor\": \"white\"}, \"zaxis\": {\"backgroundcolor\": \"#E5ECF6\", \"gridcolor\": \"white\", \"gridwidth\": 2, \"linecolor\": \"white\", \"showbackground\": true, \"ticks\": \"\", \"zerolinecolor\": \"white\"}}, \"shapedefaults\": {\"line\": {\"color\": \"#2a3f5f\"}}, \"ternary\": {\"aaxis\": {\"gridcolor\": \"white\", \"linecolor\": \"white\", \"ticks\": \"\"}, \"baxis\": {\"gridcolor\": \"white\", \"linecolor\": \"white\", \"ticks\": \"\"}, \"bgcolor\": \"#E5ECF6\", \"caxis\": {\"gridcolor\": \"white\", \"linecolor\": \"white\", \"ticks\": \"\"}}, \"title\": {\"x\": 0.05}, \"xaxis\": {\"automargin\": true, \"gridcolor\": \"white\", \"linecolor\": \"white\", \"ticks\": \"\", \"title\": {\"standoff\": 15}, \"zerolinecolor\": \"white\", \"zerolinewidth\": 2}, \"yaxis\": {\"automargin\": true, \"gridcolor\": \"white\", \"linecolor\": \"white\", \"ticks\": \"\", \"title\": {\"standoff\": 15}, \"zerolinecolor\": \"white\", \"zerolinewidth\": 2}}}, \"xaxis\": {\"anchor\": \"y\", \"domain\": [0.0, 1.0], \"gridcolor\": \"#DCDCDC\", \"linecolor\": \"black\", \"linewidth\": 2, \"showline\": true, \"title\": {\"text\": \"Rank\"}}, \"yaxis\": {\"anchor\": \"x\", \"domain\": [0.0, 1.0], \"gridcolor\": \"#DCDCDC\", \"linecolor\": \"black\", \"linewidth\": 2, \"showline\": true, \"title\": {\"text\": \"T-test P-values\"}}},                        {\"responsive\": true}                    ).then(function(){\n",
       "                            \n",
       "var gd = document.getElementById('9858fdc3-f0a9-4427-b7d0-80a69a80ffb2');\n",
       "var x = new MutationObserver(function (mutations, observer) {{\n",
       "        var display = window.getComputedStyle(gd).display;\n",
       "        if (!display || display === 'none') {{\n",
       "            console.log([gd, 'removed!']);\n",
       "            Plotly.purge(gd);\n",
       "            observer.disconnect();\n",
       "        }}\n",
       "}});\n",
       "\n",
       "// Listen for the removal of the full notebook cells\n",
       "var notebookContainer = gd.closest('#notebook-container');\n",
       "if (notebookContainer) {{\n",
       "    x.observe(notebookContainer, {childList: true});\n",
       "}}\n",
       "\n",
       "// Listen for the clearing of the current output cell\n",
       "var outputEl = gd.closest('.output');\n",
       "if (outputEl) {{\n",
       "    x.observe(outputEl, {childList: true});\n",
       "}}\n",
       "\n",
       "                        })                };                });            </script>        </div>"
      ]
     },
     "metadata": {},
     "output_type": "display_data"
    }
   ],
   "source": [
    "# In this example, we take only the cases that have a single case or a single control.\n",
    "counts = [sum(x) for x in zip(scores[\"Control Alleles\"].values,  scores[\"Breast Cancer Case Alleles\"].values)]\n",
    "ttest_df = clin.seq_class_t_tests(scores[[count == 1 for count in counts]], \n",
    "                                  filename=\"test_output_plots/PTEN_t_test.html\", fontsize=18)"
   ]
  },
  {
   "cell_type": "code",
   "execution_count": 31,
   "id": "8c9292be",
   "metadata": {},
   "outputs": [
    {
     "data": {
      "text/html": [
       "<div>\n",
       "<style scoped>\n",
       "    .dataframe tbody tr th:only-of-type {\n",
       "        vertical-align: middle;\n",
       "    }\n",
       "\n",
       "    .dataframe tbody tr th {\n",
       "        vertical-align: top;\n",
       "    }\n",
       "\n",
       "    .dataframe thead th {\n",
       "        text-align: right;\n",
       "    }\n",
       "</style>\n",
       "<table border=\"1\" class=\"dataframe\">\n",
       "  <thead>\n",
       "    <tr style=\"text-align: right;\">\n",
       "      <th></th>\n",
       "      <th>Sequence Class</th>\n",
       "      <th>P-value</th>\n",
       "      <th>Class</th>\n",
       "      <th>Color</th>\n",
       "      <th>Rank</th>\n",
       "    </tr>\n",
       "  </thead>\n",
       "  <tbody>\n",
       "    <tr>\n",
       "      <th>12</th>\n",
       "      <td>E5 B-cell-like</td>\n",
       "      <td>0.036009</td>\n",
       "      <td>E</td>\n",
       "      <td>#984ef3</td>\n",
       "      <td>0</td>\n",
       "    </tr>\n",
       "    <tr>\n",
       "      <th>22</th>\n",
       "      <td>L5 Low signal</td>\n",
       "      <td>0.041325</td>\n",
       "      <td>L</td>\n",
       "      <td>#C0C0C0</td>\n",
       "      <td>1</td>\n",
       "    </tr>\n",
       "    <tr>\n",
       "      <th>34</th>\n",
       "      <td>PC4 Polycomb / Bivalent stem cell Enh</td>\n",
       "      <td>0.084857</td>\n",
       "      <td>PC</td>\n",
       "      <td>#8abad4</td>\n",
       "      <td>2</td>\n",
       "    </tr>\n",
       "  </tbody>\n",
       "</table>\n",
       "</div>"
      ],
      "text/plain": [
       "                           Sequence Class   P-value Class    Color  Rank\n",
       "12                         E5 B-cell-like  0.036009     E  #984ef3     0\n",
       "22                          L5 Low signal  0.041325     L  #C0C0C0     1\n",
       "34  PC4 Polycomb / Bivalent stem cell Enh  0.084857    PC  #8abad4     2"
      ]
     },
     "execution_count": 31,
     "metadata": {},
     "output_type": "execute_result"
    }
   ],
   "source": [
    "ttest_df.head(3)"
   ]
  },
  {
   "cell_type": "markdown",
   "id": "f59d13be",
   "metadata": {},
   "source": [
    "You can also plot different scores to identify SNPs that have high scores across different sequence classes. The Disease Impact Score is a useful score to analyze. Having a high sequence class score and a high DIS might suggest that a particular mutation is functionally important. In the below plot, each point represents a SNP. You can hover over points to gather meta data about the SNP, including the alteration ID and the number of case and control counts."
   ]
  },
  {
   "cell_type": "code",
   "execution_count": 12,
   "id": "63b9aba5",
   "metadata": {},
   "outputs": [
    {
     "data": {
      "application/vnd.plotly.v1+json": {
       "config": {
        "plotlyServerURL": "https://plot.ly"
       },
       "data": [
        {
         "customdata": [
          [
           "c.-976G>C",
           46,
           40,
           0.1208633088754229,
           -0.31042716
          ],
          [
           "c.-835C>T",
           14,
           10,
           -0.2180519607039563,
           -0.30545247
          ],
          [
           "c.-765G>A",
           5,
           1,
           0.1344942670781819,
           -0.30840835
          ],
          [
           "c.-959G>T",
           1,
           0,
           0.2687975979283514,
           -0.210069
          ],
          [
           "c.-1241A>G",
           1,
           0,
           0.5957476083401723,
           0.912988
          ],
          [
           "c.-1060C>A",
           1,
           0,
           -0.140460824611317,
           0.48435244
          ],
          [
           "c.-993G>C",
           1,
           0,
           0.0651428149934094,
           -0.28816453
          ],
          [
           "c.-1087C>A",
           1,
           0,
           -0.2420684289376886,
           -0.28552425
          ],
          [
           "c.-908T>G",
           1,
           0,
           1.8255895134754423,
           2.8788726
          ],
          [
           "c.-1191G>A",
           12,
           5,
           -0.334273513247183,
           -0.28358796
          ],
          [
           "c.-1255C>A",
           1,
           0,
           -0.3792974306829464,
           -0.24242915
          ],
          [
           "c.-1014G>A",
           1,
           0,
           0.0221117217900808,
           -0.3075965
          ],
          [
           "c.-1175C>T",
           3,
           0,
           0.0410491721003367,
           -0.27711862
          ],
          [
           "c.-1079C>T",
           1,
           0,
           0.0266751533027296,
           -0.3111888
          ],
          [
           "c.-797G>A",
           2,
           0,
           -0.0906762120624868,
           -0.27857962
          ],
          [
           "c.-1058T>G",
           1,
           0,
           0.0926249643521988,
           -0.2973186
          ],
          [
           "c.-1014G>T",
           1,
           0,
           -0.2681115816949013,
           -0.29031762
          ],
          [
           "c.-864T>C",
           1,
           0,
           0.5796454984906916,
           -0.2600147
          ],
          [
           "c.-819A>G",
           3,
           0,
           -1.4385857212155209,
           1.4452972
          ],
          [
           "c.-976G>A",
           48,
           25,
           -0.0723423058526808,
           -0.3024251
          ],
          [
           "c.-1276A>G",
           1,
           0,
           -0.3454754710450736,
           -0.28710714
          ],
          [
           "c.-893T>C",
           1,
           0,
           0.1721140216072587,
           -0.28592512
          ],
          [
           "c.-1044G>T",
           1,
           0,
           0.6417056156468899,
           -0.22899696
          ],
          [
           "c.-832G>A",
           1,
           0,
           -0.0767365251491867,
           -0.28303555
          ],
          [
           "c.-1052C>T",
           2,
           0,
           -1.139263552446721,
           0.95133114
          ],
          [
           "c.-860A>C",
           1,
           0,
           -0.1134859449138847,
           -0.28514475
          ],
          [
           "c.-966G>A",
           1,
           0,
           0.1798252759806988,
           -0.3027872
          ],
          [
           "c.-1096G>T",
           1,
           0,
           0.6740577456097228,
           -0.025825987
          ],
          [
           "c.-924C>T",
           3,
           1,
           -0.2104852848461007,
           -0.2970602
          ],
          [
           "c.-857C>T",
           1,
           0,
           0.4111747870082318,
           -0.24557945
          ],
          [
           "c.-1008G>T",
           1,
           0,
           0.6301786966355909,
           -0.24714498
          ],
          [
           "c.-850G>A",
           1,
           0,
           -0.6879081013469222,
           -0.24789996
          ],
          [
           "c.-1237G>T",
           1,
           0,
           0.0026703030325698,
           -0.16688687
          ],
          [
           "c.-1145A>C",
           2,
           1,
           0.0781180612032184,
           -0.22308026
          ],
          [
           "c.-921G>A",
           3,
           1,
           -0.1542462385252445,
           -0.2450989
          ],
          [
           "c.-859C>G",
           2,
           0,
           0.8374033900622244,
           -0.030512262
          ],
          [
           "c.-1010C>T",
           1,
           0,
           0.0742694682426137,
           -0.30437383
          ],
          [
           "c.-791G>A",
           1,
           0,
           0.0004772496321265,
           -0.3099511
          ],
          [
           "c.-820C>T",
           1,
           0,
           -0.4819564987747462,
           0.5617587
          ],
          [
           "c.-802G>A",
           2,
           0,
           -0.3036590723817518,
           -0.2265236
          ],
          [
           "c.-998C>G",
           1,
           0,
           -0.2202679996556593,
           -0.2768369
          ],
          [
           "c.-752G>T",
           1,
           0,
           0.0260762467597466,
           -0.2797237
          ],
          [
           "c.-864T>G",
           1,
           0,
           0.1652231153206251,
           -0.294197
          ],
          [
           "c.-1288C>T",
           1,
           0,
           -0.1006019819876655,
           -0.19237463
          ],
          [
           "c.-1193C>T",
           1,
           0,
           -0.2698869015079879,
           -0.10574781
          ],
          [
           "c.-1066C>T",
           1,
           0,
           -0.1555489203083695,
           -0.29714757
          ],
          [
           "c.-1031C>T",
           1,
           0,
           -0.242316717939385,
           2.4851706
          ],
          [
           "c.-987C>T",
           2,
           0,
           -0.3660626140571565,
           -0.17680109
          ],
          [
           "c.-1236C>G",
           1,
           0,
           -0.0316243673227383,
           0.025477823
          ],
          [
           "c.-1139A>T",
           1,
           0,
           -0.4622477948355428,
           -0.2600474
          ],
          [
           "c.-1026C>T",
           1,
           0,
           0.1496983122439434,
           -0.08384235
          ],
          [
           "c.-996C>T",
           1,
           0,
           0.0757226955206942,
           -0.31401864
          ],
          [
           "c.-837C>T",
           5,
           2,
           0.1065698145138753,
           -0.3054674
          ],
          [
           "c.-902G>A",
           1,
           0,
           0.4310196620724902,
           -0.2835243
          ],
          [
           "c.-860A>G",
           6,
           1,
           0.5401510785441985,
           -0.25380164
          ],
          [
           "c.-1203G>A",
           2,
           0,
           0.2650057369847012,
           -0.26806837
          ],
          [
           "c.-905C>A",
           2,
           0,
           -0.8679063311441482,
           -0.15776263
          ],
          [
           "c.-876C>A",
           1,
           0,
           -0.209390135429917,
           -0.2870507
          ],
          [
           "c.-944C>T",
           5,
           4,
           -0.382987964650118,
           -0.22117811
          ],
          [
           "c.-1241A>C",
           1,
           0,
           0.3357585696249678,
           -0.2570477
          ],
          [
           "c.-1124G>A",
           1,
           0,
           -3.060952454793279,
           5.7656474
          ],
          [
           "c.-1203G>C",
           1,
           0,
           -0.2211308871441843,
           -0.28677878
          ],
          [
           "c.-968G>A",
           1,
           0,
           0.0711206720897017,
           -0.30416617
          ],
          [
           "c.-1296G>T",
           3,
           0,
           0.3518156995805661,
           -0.29803875
          ],
          [
           "c.-888T>C",
           1,
           0,
           0.1971055909552372,
           -0.30320162
          ],
          [
           "c.-1165G>A",
           1,
           0,
           0.1167130158877682,
           -0.28144354
          ],
          [
           "c.-1212C>T",
           1,
           0,
           0.080059035938703,
           -0.29934373
          ],
          [
           "c.-933G>A",
           2,
           0,
           -2.084704081160241,
           4.087852
          ],
          [
           "c.-1003C>T",
           1,
           0,
           0.1758609561251116,
           -0.30726627
          ],
          [
           "c.-946G>C",
           1,
           0,
           -0.1456555261772862,
           -0.31072748
          ],
          [
           "c.-1097G>A",
           1,
           0,
           0.4716357840357492,
           -0.20120637
          ],
          [
           "c.-825G>A",
           1,
           0,
           -0.006214333302065,
           -0.29215294
          ],
          [
           "c.-844T>C",
           6,
           3,
           0.1141004447136353,
           -0.30036274
          ],
          [
           "c.-852G>A",
           1,
           0,
           -0.2098321259159412,
           -0.30376318
          ],
          [
           "c.-1178C>T",
           1,
           0,
           -0.3829832153238612,
           -0.06895838
          ],
          [
           "c.-836T>G",
           1,
           0,
           0.1126806531004191,
           -0.29169682
          ],
          [
           "c.-801T>C",
           1,
           0,
           0.0315134016374969,
           -0.30895323
          ],
          [
           "c.-965G>A",
           1,
           0,
           0.2100895081839304,
           -0.2993084
          ],
          [
           "c.-1295T>G",
           1,
           0,
           0.5999936671232753,
           -0.24307449
          ],
          [
           "c.-1082A>C",
           1,
           0,
           -0.6394251000045017,
           -0.16996229
          ],
          [
           "c.-956C>T",
           1,
           0,
           -0.1925020244661333,
           -0.28700227
          ],
          [
           "c.-8T>C",
           1,
           0,
           -0.1020997500260776,
           -0.30312112
          ],
          [
           "c.-1222G>C",
           1,
           0,
           0.368299593547448,
           -0.28217784
          ],
          [
           "c.-1137G>A",
           2,
           1,
           0.1205545412013329,
           -0.29706502
          ],
          [
           "c.-1206G>A",
           6,
           0,
           0.1453800303052084,
           -0.27629057
          ],
          [
           "c.-930G>A",
           5,
           3,
           -2.858370999159442,
           4.768665
          ],
          [
           "c.-822G>A",
           1,
           0,
           -0.2994951762052515,
           -0.15100779
          ],
          [
           "c.-1257G>C",
           1,
           0,
           0.0693946683925901,
           -0.28416178
          ],
          [
           "c.-1177T>G",
           3,
           0,
           -0.2297438234502031,
           0.06610043
          ],
          [
           "c.-857C>G",
           3,
           1,
           0.0978061702522747,
           -0.3014512
          ],
          [
           "c.-960C>T",
           1,
           0,
           0.3739594410960407,
           -0.23027834
          ],
          [
           "c.-856G>C",
           1,
           0,
           -0.4200684481567069,
           -0.29893085
          ],
          [
           "c.-1080C>T",
           1,
           0,
           0.4518714684472034,
           -0.25175232
          ],
          [
           "c.-814G>A",
           4,
           0,
           -0.0743698698638013,
           -0.24211264
          ],
          [
           "c.-949C>T",
           1,
           0,
           -0.7920032749863655,
           -0.1398482
          ],
          [
           "c.-1171C>A",
           3,
           2,
           -0.3149792824878616,
           0.8475105
          ],
          [
           "c.-1020C>T",
           1,
           0,
           0.0540014855235799,
           -0.27700734
          ],
          [
           "c.-910T>G",
           1,
           0,
           -0.3154901519347888,
           -0.27534425
          ],
          [
           "c.-1077G>C",
           6,
           2,
           -0.1115847530770892,
           -0.29181138
          ],
          [
           "c.-842C>T",
           2,
           0,
           -0.1733826843609396,
           -0.27898896
          ],
          [
           "c.-1291C>T",
           2,
           0,
           -0.1299687720002893,
           -0.2557042
          ],
          [
           "c.-1089C>A",
           1,
           0,
           -0.2238433213777995,
           -0.2595236
          ],
          [
           "c.-1099G>T",
           1,
           0,
           0.3270493446797466,
           -0.29487672
          ],
          [
           "c.-1175C>A",
           3,
           1,
           -0.3521565696690203,
           -0.21822801
          ],
          [
           "c.-1172G>A",
           1,
           0,
           -0.0877924679556692,
           -0.30180487
          ],
          [
           "c.-1171C>T",
           15,
           7,
           -1.0944127129411818,
           -0.14355326
          ],
          [
           "c.-1061C>T",
           1,
           0,
           0.2515346856660958,
           0.9101511
          ],
          [
           "c.-789G>A",
           3,
           0,
           -0.0339211981237106,
           -0.2918053
          ],
          [
           "c.-968G>C",
           1,
           0,
           -0.322710870094518,
           -0.27983686
          ],
          [
           "c.-1243G>A",
           16,
           7,
           0.3601955917344774,
           -0.25287363
          ],
          [
           "c.-916C>A",
           1,
           0,
           -0.1672576550839934,
           -0.28236628
          ],
          [
           "c.-905C>T",
           2,
           0,
           -0.5750562312760223,
           -0.2511552
          ],
          [
           "c.-833C>T",
           1,
           0,
           -0.3685359537794603,
           -0.2744731
          ],
          [
           "c.-937G>A",
           1,
           0,
           1.231481556297279,
           1.519837
          ],
          [
           "c.203A>G",
           1,
           0,
           0.1371225876694772,
           -0.3110953
          ],
          [
           "c.850G>T",
           1,
           0,
           -0.5042026927070005,
           -0.2537575
          ],
          [
           "c.635-3C>G",
           1,
           0,
           0.0979021564087538,
           -0.3133524
          ],
          [
           "c.388C>T",
           3,
           0,
           -0.0568687957478815,
           -0.3179262
          ]
         ],
         "hovertemplate": "Case/Control=Control<br>E5 B-cell-like=%{customdata[3]}<br>Disease Impact Score=%{customdata[4]}<br>Alteration=%{customdata[0]}<br>Breast Cancer Case Alleles=%{customdata[1]}<br>Control Alleles=%{customdata[2]}<extra></extra>",
         "legendgroup": "Control",
         "marker": {
          "color": "#2ca02c",
          "size": 7,
          "symbol": "circle"
         },
         "mode": "markers",
         "name": "Control",
         "orientation": "v",
         "showlegend": true,
         "type": "scatter",
         "x": [
          0.1208633088754229,
          -0.2180519607039563,
          0.1344942670781819,
          0.2687975979283514,
          0.5957476083401723,
          -0.140460824611317,
          0.0651428149934094,
          -0.2420684289376886,
          1.8255895134754423,
          -0.334273513247183,
          -0.3792974306829464,
          0.0221117217900808,
          0.0410491721003367,
          0.0266751533027296,
          -0.0906762120624868,
          0.0926249643521988,
          -0.2681115816949013,
          0.5796454984906916,
          -1.4385857212155209,
          -0.0723423058526808,
          -0.3454754710450736,
          0.1721140216072587,
          0.6417056156468899,
          -0.0767365251491867,
          -1.139263552446721,
          -0.1134859449138847,
          0.1798252759806988,
          0.6740577456097228,
          -0.2104852848461007,
          0.4111747870082318,
          0.6301786966355909,
          -0.6879081013469222,
          0.0026703030325698,
          0.0781180612032184,
          -0.1542462385252445,
          0.8374033900622244,
          0.0742694682426137,
          0.0004772496321265,
          -0.4819564987747462,
          -0.3036590723817518,
          -0.2202679996556593,
          0.0260762467597466,
          0.1652231153206251,
          -0.1006019819876655,
          -0.2698869015079879,
          -0.1555489203083695,
          -0.242316717939385,
          -0.3660626140571565,
          -0.0316243673227383,
          -0.4622477948355428,
          0.1496983122439434,
          0.0757226955206942,
          0.1065698145138753,
          0.4310196620724902,
          0.5401510785441985,
          0.2650057369847012,
          -0.8679063311441482,
          -0.209390135429917,
          -0.382987964650118,
          0.3357585696249678,
          -3.060952454793279,
          -0.2211308871441843,
          0.0711206720897017,
          0.3518156995805661,
          0.1971055909552372,
          0.1167130158877682,
          0.080059035938703,
          -2.084704081160241,
          0.1758609561251116,
          -0.1456555261772862,
          0.4716357840357492,
          -0.006214333302065,
          0.1141004447136353,
          -0.2098321259159412,
          -0.3829832153238612,
          0.1126806531004191,
          0.0315134016374969,
          0.2100895081839304,
          0.5999936671232753,
          -0.6394251000045017,
          -0.1925020244661333,
          -0.1020997500260776,
          0.368299593547448,
          0.1205545412013329,
          0.1453800303052084,
          -2.858370999159442,
          -0.2994951762052515,
          0.0693946683925901,
          -0.2297438234502031,
          0.0978061702522747,
          0.3739594410960407,
          -0.4200684481567069,
          0.4518714684472034,
          -0.0743698698638013,
          -0.7920032749863655,
          -0.3149792824878616,
          0.0540014855235799,
          -0.3154901519347888,
          -0.1115847530770892,
          -0.1733826843609396,
          -0.1299687720002893,
          -0.2238433213777995,
          0.3270493446797466,
          -0.3521565696690203,
          -0.0877924679556692,
          -1.0944127129411818,
          0.2515346856660958,
          -0.0339211981237106,
          -0.322710870094518,
          0.3601955917344774,
          -0.1672576550839934,
          -0.5750562312760223,
          -0.3685359537794603,
          1.231481556297279,
          0.1371225876694772,
          -0.5042026927070005,
          0.0979021564087538,
          -0.0568687957478815
         ],
         "xaxis": "x",
         "y": [
          -0.31042716,
          -0.30545247,
          -0.30840835,
          -0.210069,
          0.912988,
          0.48435244,
          -0.28816453,
          -0.28552425,
          2.8788726,
          -0.28358796,
          -0.24242915,
          -0.3075965,
          -0.27711862,
          -0.3111888,
          -0.27857962,
          -0.2973186,
          -0.29031762,
          -0.2600147,
          1.4452972,
          -0.3024251,
          -0.28710714,
          -0.28592512,
          -0.22899696,
          -0.28303555,
          0.95133114,
          -0.28514475,
          -0.3027872,
          -0.025825987,
          -0.2970602,
          -0.24557945,
          -0.24714498,
          -0.24789996,
          -0.16688687,
          -0.22308026,
          -0.2450989,
          -0.030512262,
          -0.30437383,
          -0.3099511,
          0.5617587,
          -0.2265236,
          -0.2768369,
          -0.2797237,
          -0.294197,
          -0.19237463,
          -0.10574781,
          -0.29714757,
          2.4851706,
          -0.17680109,
          0.025477823,
          -0.2600474,
          -0.08384235,
          -0.31401864,
          -0.3054674,
          -0.2835243,
          -0.25380164,
          -0.26806837,
          -0.15776263,
          -0.2870507,
          -0.22117811,
          -0.2570477,
          5.7656474,
          -0.28677878,
          -0.30416617,
          -0.29803875,
          -0.30320162,
          -0.28144354,
          -0.29934373,
          4.087852,
          -0.30726627,
          -0.31072748,
          -0.20120637,
          -0.29215294,
          -0.30036274,
          -0.30376318,
          -0.06895838,
          -0.29169682,
          -0.30895323,
          -0.2993084,
          -0.24307449,
          -0.16996229,
          -0.28700227,
          -0.30312112,
          -0.28217784,
          -0.29706502,
          -0.27629057,
          4.768665,
          -0.15100779,
          -0.28416178,
          0.06610043,
          -0.3014512,
          -0.23027834,
          -0.29893085,
          -0.25175232,
          -0.24211264,
          -0.1398482,
          0.8475105,
          -0.27700734,
          -0.27534425,
          -0.29181138,
          -0.27898896,
          -0.2557042,
          -0.2595236,
          -0.29487672,
          -0.21822801,
          -0.30180487,
          -0.14355326,
          0.9101511,
          -0.2918053,
          -0.27983686,
          -0.25287363,
          -0.28236628,
          -0.2511552,
          -0.2744731,
          1.519837,
          -0.3110953,
          -0.2537575,
          -0.3133524,
          -0.3179262
         ],
         "yaxis": "y"
        },
        {
         "customdata": [
          [
           "c.-931G>A",
           0,
           1,
           -2.7660290216517787,
           4.7237883
          ],
          [
           "c.-1151C>G",
           0,
           1,
           -0.5018252625124902,
           -0.2772834
          ],
          [
           "c.-1084G>C",
           0,
           1,
           -0.4014605787233751,
           -0.22656235
          ],
          [
           "c.-1113A>G",
           0,
           1,
           -0.2099323247304809,
           -0.29739004
          ],
          [
           "c.-785C>T",
           0,
           1,
           0.0232387417182877,
           -0.22513963
          ],
          [
           "c.-14A>C",
           0,
           1,
           -0.0861077151373272,
           -0.3138859
          ],
          [
           "c.-1075G>A",
           0,
           1,
           0.2318883777525098,
           -0.30110642
          ],
          [
           "c.-1026C>G",
           0,
           1,
           0.1815326124554701,
           0.0068683196
          ],
          [
           "c.-1208G>A",
           0,
           1,
           -0.1012839006800661,
           -0.28175122
          ],
          [
           "c.-1138G>A",
           0,
           1,
           -0.0490099269637287,
           -0.30325824
          ],
          [
           "c.-1246T>C",
           0,
           1,
           0.2850596924981055,
           -0.029809356
          ],
          [
           "c.-1297A>G",
           0,
           1,
           -0.2778242898093133,
           -0.29709804
          ],
          [
           "c.-989C>A",
           0,
           1,
           0.3363006504670025,
           -0.2550719
          ],
          [
           "c.-826T>C",
           0,
           1,
           0.0672017124613084,
           -0.3004892
          ],
          [
           "c.-1282C>T",
           0,
           1,
           -0.6792610398116601,
           0.24518675
          ],
          [
           "c.-1267C>G",
           0,
           1,
           0.1282822101350973,
           -0.2353624
          ],
          [
           "c.-1258C>T",
           0,
           1,
           -0.0998336856994157,
           -0.2509139
          ],
          [
           "c.-772A>G",
           0,
           1,
           -0.0800240776972316,
           -0.29863963
          ],
          [
           "c.-1081C>T",
           0,
           2,
           0.291063541123318,
           -0.29297704
          ],
          [
           "c.-806G>A",
           0,
           1,
           0.1740363878520767,
           -0.3055854
          ],
          [
           "c.-1098G>A",
           0,
           1,
           0.3337553651190301,
           -0.27155632
          ],
          [
           "c.-1002C>A",
           0,
           1,
           -0.2148733638400806,
           -0.2906687
          ],
          [
           "c.-1182G>T",
           0,
           1,
           0.1129190436106135,
           -0.13465233
          ],
          [
           "c.-952C>T",
           0,
           1,
           0.2483257384024941,
           -0.2972158
          ],
          [
           "c.-754A>T",
           0,
           1,
           -0.07695330153933,
           -0.2994011
          ],
          [
           "c.-1021C>T",
           0,
           1,
           0.0699472284595987,
           -0.23598363
          ],
          [
           "c.-798A>G",
           1,
           3,
           -0.0803563161419411,
           -0.29122505
          ],
          [
           "c.-873G>C",
           0,
           1,
           1.3563111585644307,
           0.65410674
          ],
          [
           "c.-1235C>T",
           0,
           4,
           -0.2931772537070714,
           -0.27369812
          ],
          [
           "c.-1279C>G",
           0,
           1,
           -0.3984927903290511,
           -0.15746075
          ],
          [
           "c.-1101T>G",
           0,
           1,
           0.0809649647595947,
           -0.30051172
          ],
          [
           "c.-1207C>G",
           0,
           1,
           -0.2132478628886218,
           -0.20255795
          ],
          [
           "c.-913T>C",
           0,
           1,
           0.0398401830997752,
           -0.29375508
          ],
          [
           "c.-1110G>T",
           0,
           1,
           -0.5762312979292474,
           -0.14626919
          ],
          [
           "c.-934G>C",
           0,
           1,
           -2.6240448856124186,
           4.1235275
          ],
          [
           "c.-941C>T",
           0,
           1,
           -0.4511115115520088,
           -0.27249792
          ],
          [
           "c.-866G>C",
           0,
           1,
           -0.614017722838426,
           -0.17185558
          ],
          [
           "c.-867C>T",
           0,
           1,
           -0.3171642665361958,
           -0.2975507
          ],
          [
           "c.-1048C>A",
           0,
           1,
           -0.924482713416502,
           5.8466396
          ],
          [
           "c.-1169G>T",
           0,
           1,
           -0.518538813353068,
           -0.24792273
          ],
          [
           "c.-1173G>A",
           0,
           1,
           0.0691419250574512,
           -0.26392713
          ],
          [
           "c.-917G>C",
           0,
           1,
           -1.1270603499024592,
           -0.027409686
          ],
          [
           "c.-857C>A",
           0,
           1,
           -0.4695931741319636,
           -0.27835655
          ],
          [
           "c.518G>C",
           0,
           1,
           0.0941017044892671,
           -0.3143376
          ]
         ],
         "hovertemplate": "Case/Control=Case<br>E5 B-cell-like=%{customdata[3]}<br>Disease Impact Score=%{customdata[4]}<br>Alteration=%{customdata[0]}<br>Breast Cancer Case Alleles=%{customdata[1]}<br>Control Alleles=%{customdata[2]}<extra></extra>",
         "legendgroup": "Case",
         "marker": {
          "color": "red",
          "size": 7,
          "symbol": "circle"
         },
         "mode": "markers",
         "name": "Case",
         "orientation": "v",
         "showlegend": true,
         "type": "scatter",
         "x": [
          -2.7660290216517787,
          -0.5018252625124902,
          -0.4014605787233751,
          -0.2099323247304809,
          0.0232387417182877,
          -0.0861077151373272,
          0.2318883777525098,
          0.1815326124554701,
          -0.1012839006800661,
          -0.0490099269637287,
          0.2850596924981055,
          -0.2778242898093133,
          0.3363006504670025,
          0.0672017124613084,
          -0.6792610398116601,
          0.1282822101350973,
          -0.0998336856994157,
          -0.0800240776972316,
          0.291063541123318,
          0.1740363878520767,
          0.3337553651190301,
          -0.2148733638400806,
          0.1129190436106135,
          0.2483257384024941,
          -0.07695330153933,
          0.0699472284595987,
          -0.0803563161419411,
          1.3563111585644307,
          -0.2931772537070714,
          -0.3984927903290511,
          0.0809649647595947,
          -0.2132478628886218,
          0.0398401830997752,
          -0.5762312979292474,
          -2.6240448856124186,
          -0.4511115115520088,
          -0.614017722838426,
          -0.3171642665361958,
          -0.924482713416502,
          -0.518538813353068,
          0.0691419250574512,
          -1.1270603499024592,
          -0.4695931741319636,
          0.0941017044892671
         ],
         "xaxis": "x",
         "y": [
          4.7237883,
          -0.2772834,
          -0.22656235,
          -0.29739004,
          -0.22513963,
          -0.3138859,
          -0.30110642,
          0.0068683196,
          -0.28175122,
          -0.30325824,
          -0.029809356,
          -0.29709804,
          -0.2550719,
          -0.3004892,
          0.24518675,
          -0.2353624,
          -0.2509139,
          -0.29863963,
          -0.29297704,
          -0.3055854,
          -0.27155632,
          -0.2906687,
          -0.13465233,
          -0.2972158,
          -0.2994011,
          -0.23598363,
          -0.29122505,
          0.65410674,
          -0.27369812,
          -0.15746075,
          -0.30051172,
          -0.20255795,
          -0.29375508,
          -0.14626919,
          4.1235275,
          -0.27249792,
          -0.17185558,
          -0.2975507,
          5.8466396,
          -0.24792273,
          -0.26392713,
          -0.027409686,
          -0.27835655,
          -0.3143376
         ],
         "yaxis": "y"
        },
        {
         "customdata": [
          [
           "c.-873G>A",
           1,
           1,
           0.0315127445399916,
           -0.3083085
          ],
          [
           "c.-1213G>T",
           1,
           1,
           0.0556577619664544,
           -0.3009221
          ],
          [
           "c.-772A>C",
           1,
           1,
           -0.0352868986494598,
           -0.29018652
          ],
          [
           "c.-863G>T",
           0,
           0,
           -0.2367423059923261,
           -0.29969168
          ],
          [
           "c.-814G>T",
           1,
           1,
           -0.0517150045534045,
           -0.21014719
          ],
          [
           "c.-1045T>A",
           3,
           4,
           0.0329509232477676,
           -0.31688422
          ],
          [
           "c.-1042C>G",
           1,
           1,
           0.3216945366320978,
           0.5167751
          ],
          [
           "c.-840C>T",
           0,
           0,
           0.226863245595835,
           -0.2954436
          ],
          [
           "c.-1294C>T",
           1,
           2,
           0.0241360390358309,
           -0.29670772
          ],
          [
           "c.-946G>A",
           1,
           1,
           0.1742609933129575,
           -0.2326076
          ],
          [
           "c.-1088G>A",
           1,
           1,
           -0.1911186561649511,
           -0.29310074
          ],
          [
           "c.-1091T>C",
           0,
           0,
           0.3954719467684242,
           -0.28196535
          ],
          [
           "c.-1240G>A",
           1,
           2,
           0.2868598642705215,
           -0.15878871
          ],
          [
           "c.-1155G>A",
           1,
           1,
           -0.0970952819114145,
           -0.28222626
          ],
          [
           "c.-1083C>T",
           1,
           1,
           0.209021850795251,
           -0.29356986
          ],
          [
           "c.-904G>C",
           1,
           1,
           -0.7795936195141415,
           -0.20353708
          ],
          [
           "c.-1008G>A",
           1,
           1,
           0.1564328622903303,
           -0.3132622
          ],
          [
           "c.-1079C>G",
           0,
           0,
           0.2613718241422429,
           -0.29867613
          ],
          [
           "c.-898C>G",
           1,
           1,
           0.051549381728746,
           -0.2917442
          ],
          [
           "c.-1047C>T",
           0,
           0,
           0.1494354222198879,
           3.638431
          ],
          [
           "c.-1205T>C",
           1,
           1,
           0.2797571412515935,
           -0.2472203
          ],
          [
           "c.-851C>A",
           1,
           1,
           -0.6697547209054413,
           -0.20960693
          ],
          [
           "c.-1143C>A",
           0,
           0,
           -0.2858158896114169,
           -0.2728805
          ],
          [
           "c.-1058T>A",
           0,
           0,
           -0.0010918376650668,
           -0.31021208
          ],
          [
           "c.-1050C>T",
           2,
           3,
           -0.2836864272878259,
           5.462512
          ],
          [
           "c.-869G>C",
           3,
           6,
           -0.4312751134989838,
           -0.2771244
          ],
          [
           "c.-1170T>C",
           1,
           1,
           0.1591840966968547,
           -0.2426439
          ],
          [
           "c.-1246T>G",
           0,
           0,
           -0.7946106668139237,
           -0.17521232
          ],
          [
           "c.-747C>T",
           0,
           0,
           -0.0710137160430335,
           -0.20047036
          ],
          [
           "c.-755G>A",
           1,
           1,
           -0.0138821055012492,
           -0.31552553
          ],
          [
           "c.-926G>A",
           0,
           0,
           0.0110780674377632,
           -0.2926354
          ],
          [
           "c.-795C>T",
           1,
           1,
           -0.1346922825065277,
           -0.30704033
          ],
          [
           "c.-862G>C",
           0,
           0,
           0.4041234175689876,
           -0.2615097
          ],
          [
           "c.-1085C>G",
           1,
           1,
           -0.2995906221059137,
           -0.27991518
          ],
          [
           "c.-1101T>C",
           0,
           0,
           0.0607327259076875,
           -0.2927141
          ],
          [
           "c.-1103G>A",
           0,
           0,
           0.0720330350254663,
           -0.3043829
          ],
          [
           "c.-851C>T",
           1,
           1,
           -0.8164378903787366,
           -0.21241294
          ],
          [
           "c.-828G>A",
           1,
           1,
           0.1959622471129201,
           -0.30971053
          ],
          [
           "c.-983T>C",
           0,
           0,
           0.3499381852801377,
           -0.00040207867
          ],
          [
           "c.-1062C>A",
           1,
           1,
           -0.0790678489343328,
           0.6201936
          ],
          [
           "c.1003C>T",
           1,
           2,
           0.1752911562665176,
           -0.30725786
          ]
         ],
         "hovertemplate": "Case/Control=Equal<br>E5 B-cell-like=%{customdata[3]}<br>Disease Impact Score=%{customdata[4]}<br>Alteration=%{customdata[0]}<br>Breast Cancer Case Alleles=%{customdata[1]}<br>Control Alleles=%{customdata[2]}<extra></extra>",
         "legendgroup": "Equal",
         "marker": {
          "color": "black",
          "size": 7,
          "symbol": "circle"
         },
         "mode": "markers",
         "name": "Equal",
         "orientation": "v",
         "showlegend": true,
         "type": "scatter",
         "x": [
          0.0315127445399916,
          0.0556577619664544,
          -0.0352868986494598,
          -0.2367423059923261,
          -0.0517150045534045,
          0.0329509232477676,
          0.3216945366320978,
          0.226863245595835,
          0.0241360390358309,
          0.1742609933129575,
          -0.1911186561649511,
          0.3954719467684242,
          0.2868598642705215,
          -0.0970952819114145,
          0.209021850795251,
          -0.7795936195141415,
          0.1564328622903303,
          0.2613718241422429,
          0.051549381728746,
          0.1494354222198879,
          0.2797571412515935,
          -0.6697547209054413,
          -0.2858158896114169,
          -0.0010918376650668,
          -0.2836864272878259,
          -0.4312751134989838,
          0.1591840966968547,
          -0.7946106668139237,
          -0.0710137160430335,
          -0.0138821055012492,
          0.0110780674377632,
          -0.1346922825065277,
          0.4041234175689876,
          -0.2995906221059137,
          0.0607327259076875,
          0.0720330350254663,
          -0.8164378903787366,
          0.1959622471129201,
          0.3499381852801377,
          -0.0790678489343328,
          0.1752911562665176
         ],
         "xaxis": "x",
         "y": [
          -0.3083085,
          -0.3009221,
          -0.29018652,
          -0.29969168,
          -0.21014719,
          -0.31688422,
          0.5167751,
          -0.2954436,
          -0.29670772,
          -0.2326076,
          -0.29310074,
          -0.28196535,
          -0.15878871,
          -0.28222626,
          -0.29356986,
          -0.20353708,
          -0.3132622,
          -0.29867613,
          -0.2917442,
          3.638431,
          -0.2472203,
          -0.20960693,
          -0.2728805,
          -0.31021208,
          5.462512,
          -0.2771244,
          -0.2426439,
          -0.17521232,
          -0.20047036,
          -0.31552553,
          -0.2926354,
          -0.30704033,
          -0.2615097,
          -0.27991518,
          -0.2927141,
          -0.3043829,
          -0.21241294,
          -0.30971053,
          -0.00040207867,
          0.6201936,
          -0.30725786
         ],
         "yaxis": "y"
        }
       ],
       "layout": {
        "font": {
         "size": 18
        },
        "legend": {
         "title": {
          "text": "Case/Control"
         },
         "tracegroupgap": 0
        },
        "margin": {
         "t": 60
        },
        "paper_bgcolor": "rgba(0, 0, 0, 0)",
        "plot_bgcolor": "rgba(0, 0, 0, 0)",
        "template": {
         "data": {
          "bar": [
           {
            "error_x": {
             "color": "#2a3f5f"
            },
            "error_y": {
             "color": "#2a3f5f"
            },
            "marker": {
             "line": {
              "color": "#E5ECF6",
              "width": 0.5
             }
            },
            "type": "bar"
           }
          ],
          "barpolar": [
           {
            "marker": {
             "line": {
              "color": "#E5ECF6",
              "width": 0.5
             }
            },
            "type": "barpolar"
           }
          ],
          "carpet": [
           {
            "aaxis": {
             "endlinecolor": "#2a3f5f",
             "gridcolor": "white",
             "linecolor": "white",
             "minorgridcolor": "white",
             "startlinecolor": "#2a3f5f"
            },
            "baxis": {
             "endlinecolor": "#2a3f5f",
             "gridcolor": "white",
             "linecolor": "white",
             "minorgridcolor": "white",
             "startlinecolor": "#2a3f5f"
            },
            "type": "carpet"
           }
          ],
          "choropleth": [
           {
            "colorbar": {
             "outlinewidth": 0,
             "ticks": ""
            },
            "type": "choropleth"
           }
          ],
          "contour": [
           {
            "colorbar": {
             "outlinewidth": 0,
             "ticks": ""
            },
            "colorscale": [
             [
              0,
              "#0d0887"
             ],
             [
              0.1111111111111111,
              "#46039f"
             ],
             [
              0.2222222222222222,
              "#7201a8"
             ],
             [
              0.3333333333333333,
              "#9c179e"
             ],
             [
              0.4444444444444444,
              "#bd3786"
             ],
             [
              0.5555555555555556,
              "#d8576b"
             ],
             [
              0.6666666666666666,
              "#ed7953"
             ],
             [
              0.7777777777777778,
              "#fb9f3a"
             ],
             [
              0.8888888888888888,
              "#fdca26"
             ],
             [
              1,
              "#f0f921"
             ]
            ],
            "type": "contour"
           }
          ],
          "contourcarpet": [
           {
            "colorbar": {
             "outlinewidth": 0,
             "ticks": ""
            },
            "type": "contourcarpet"
           }
          ],
          "heatmap": [
           {
            "colorbar": {
             "outlinewidth": 0,
             "ticks": ""
            },
            "colorscale": [
             [
              0,
              "#0d0887"
             ],
             [
              0.1111111111111111,
              "#46039f"
             ],
             [
              0.2222222222222222,
              "#7201a8"
             ],
             [
              0.3333333333333333,
              "#9c179e"
             ],
             [
              0.4444444444444444,
              "#bd3786"
             ],
             [
              0.5555555555555556,
              "#d8576b"
             ],
             [
              0.6666666666666666,
              "#ed7953"
             ],
             [
              0.7777777777777778,
              "#fb9f3a"
             ],
             [
              0.8888888888888888,
              "#fdca26"
             ],
             [
              1,
              "#f0f921"
             ]
            ],
            "type": "heatmap"
           }
          ],
          "heatmapgl": [
           {
            "colorbar": {
             "outlinewidth": 0,
             "ticks": ""
            },
            "colorscale": [
             [
              0,
              "#0d0887"
             ],
             [
              0.1111111111111111,
              "#46039f"
             ],
             [
              0.2222222222222222,
              "#7201a8"
             ],
             [
              0.3333333333333333,
              "#9c179e"
             ],
             [
              0.4444444444444444,
              "#bd3786"
             ],
             [
              0.5555555555555556,
              "#d8576b"
             ],
             [
              0.6666666666666666,
              "#ed7953"
             ],
             [
              0.7777777777777778,
              "#fb9f3a"
             ],
             [
              0.8888888888888888,
              "#fdca26"
             ],
             [
              1,
              "#f0f921"
             ]
            ],
            "type": "heatmapgl"
           }
          ],
          "histogram": [
           {
            "marker": {
             "colorbar": {
              "outlinewidth": 0,
              "ticks": ""
             }
            },
            "type": "histogram"
           }
          ],
          "histogram2d": [
           {
            "colorbar": {
             "outlinewidth": 0,
             "ticks": ""
            },
            "colorscale": [
             [
              0,
              "#0d0887"
             ],
             [
              0.1111111111111111,
              "#46039f"
             ],
             [
              0.2222222222222222,
              "#7201a8"
             ],
             [
              0.3333333333333333,
              "#9c179e"
             ],
             [
              0.4444444444444444,
              "#bd3786"
             ],
             [
              0.5555555555555556,
              "#d8576b"
             ],
             [
              0.6666666666666666,
              "#ed7953"
             ],
             [
              0.7777777777777778,
              "#fb9f3a"
             ],
             [
              0.8888888888888888,
              "#fdca26"
             ],
             [
              1,
              "#f0f921"
             ]
            ],
            "type": "histogram2d"
           }
          ],
          "histogram2dcontour": [
           {
            "colorbar": {
             "outlinewidth": 0,
             "ticks": ""
            },
            "colorscale": [
             [
              0,
              "#0d0887"
             ],
             [
              0.1111111111111111,
              "#46039f"
             ],
             [
              0.2222222222222222,
              "#7201a8"
             ],
             [
              0.3333333333333333,
              "#9c179e"
             ],
             [
              0.4444444444444444,
              "#bd3786"
             ],
             [
              0.5555555555555556,
              "#d8576b"
             ],
             [
              0.6666666666666666,
              "#ed7953"
             ],
             [
              0.7777777777777778,
              "#fb9f3a"
             ],
             [
              0.8888888888888888,
              "#fdca26"
             ],
             [
              1,
              "#f0f921"
             ]
            ],
            "type": "histogram2dcontour"
           }
          ],
          "mesh3d": [
           {
            "colorbar": {
             "outlinewidth": 0,
             "ticks": ""
            },
            "type": "mesh3d"
           }
          ],
          "parcoords": [
           {
            "line": {
             "colorbar": {
              "outlinewidth": 0,
              "ticks": ""
             }
            },
            "type": "parcoords"
           }
          ],
          "pie": [
           {
            "automargin": true,
            "type": "pie"
           }
          ],
          "scatter": [
           {
            "marker": {
             "colorbar": {
              "outlinewidth": 0,
              "ticks": ""
             }
            },
            "type": "scatter"
           }
          ],
          "scatter3d": [
           {
            "line": {
             "colorbar": {
              "outlinewidth": 0,
              "ticks": ""
             }
            },
            "marker": {
             "colorbar": {
              "outlinewidth": 0,
              "ticks": ""
             }
            },
            "type": "scatter3d"
           }
          ],
          "scattercarpet": [
           {
            "marker": {
             "colorbar": {
              "outlinewidth": 0,
              "ticks": ""
             }
            },
            "type": "scattercarpet"
           }
          ],
          "scattergeo": [
           {
            "marker": {
             "colorbar": {
              "outlinewidth": 0,
              "ticks": ""
             }
            },
            "type": "scattergeo"
           }
          ],
          "scattergl": [
           {
            "marker": {
             "colorbar": {
              "outlinewidth": 0,
              "ticks": ""
             }
            },
            "type": "scattergl"
           }
          ],
          "scattermapbox": [
           {
            "marker": {
             "colorbar": {
              "outlinewidth": 0,
              "ticks": ""
             }
            },
            "type": "scattermapbox"
           }
          ],
          "scatterpolar": [
           {
            "marker": {
             "colorbar": {
              "outlinewidth": 0,
              "ticks": ""
             }
            },
            "type": "scatterpolar"
           }
          ],
          "scatterpolargl": [
           {
            "marker": {
             "colorbar": {
              "outlinewidth": 0,
              "ticks": ""
             }
            },
            "type": "scatterpolargl"
           }
          ],
          "scatterternary": [
           {
            "marker": {
             "colorbar": {
              "outlinewidth": 0,
              "ticks": ""
             }
            },
            "type": "scatterternary"
           }
          ],
          "surface": [
           {
            "colorbar": {
             "outlinewidth": 0,
             "ticks": ""
            },
            "colorscale": [
             [
              0,
              "#0d0887"
             ],
             [
              0.1111111111111111,
              "#46039f"
             ],
             [
              0.2222222222222222,
              "#7201a8"
             ],
             [
              0.3333333333333333,
              "#9c179e"
             ],
             [
              0.4444444444444444,
              "#bd3786"
             ],
             [
              0.5555555555555556,
              "#d8576b"
             ],
             [
              0.6666666666666666,
              "#ed7953"
             ],
             [
              0.7777777777777778,
              "#fb9f3a"
             ],
             [
              0.8888888888888888,
              "#fdca26"
             ],
             [
              1,
              "#f0f921"
             ]
            ],
            "type": "surface"
           }
          ],
          "table": [
           {
            "cells": {
             "fill": {
              "color": "#EBF0F8"
             },
             "line": {
              "color": "white"
             }
            },
            "header": {
             "fill": {
              "color": "#C8D4E3"
             },
             "line": {
              "color": "white"
             }
            },
            "type": "table"
           }
          ]
         },
         "layout": {
          "annotationdefaults": {
           "arrowcolor": "#2a3f5f",
           "arrowhead": 0,
           "arrowwidth": 1
          },
          "coloraxis": {
           "colorbar": {
            "outlinewidth": 0,
            "ticks": ""
           }
          },
          "colorscale": {
           "diverging": [
            [
             0,
             "#8e0152"
            ],
            [
             0.1,
             "#c51b7d"
            ],
            [
             0.2,
             "#de77ae"
            ],
            [
             0.3,
             "#f1b6da"
            ],
            [
             0.4,
             "#fde0ef"
            ],
            [
             0.5,
             "#f7f7f7"
            ],
            [
             0.6,
             "#e6f5d0"
            ],
            [
             0.7,
             "#b8e186"
            ],
            [
             0.8,
             "#7fbc41"
            ],
            [
             0.9,
             "#4d9221"
            ],
            [
             1,
             "#276419"
            ]
           ],
           "sequential": [
            [
             0,
             "#0d0887"
            ],
            [
             0.1111111111111111,
             "#46039f"
            ],
            [
             0.2222222222222222,
             "#7201a8"
            ],
            [
             0.3333333333333333,
             "#9c179e"
            ],
            [
             0.4444444444444444,
             "#bd3786"
            ],
            [
             0.5555555555555556,
             "#d8576b"
            ],
            [
             0.6666666666666666,
             "#ed7953"
            ],
            [
             0.7777777777777778,
             "#fb9f3a"
            ],
            [
             0.8888888888888888,
             "#fdca26"
            ],
            [
             1,
             "#f0f921"
            ]
           ],
           "sequentialminus": [
            [
             0,
             "#0d0887"
            ],
            [
             0.1111111111111111,
             "#46039f"
            ],
            [
             0.2222222222222222,
             "#7201a8"
            ],
            [
             0.3333333333333333,
             "#9c179e"
            ],
            [
             0.4444444444444444,
             "#bd3786"
            ],
            [
             0.5555555555555556,
             "#d8576b"
            ],
            [
             0.6666666666666666,
             "#ed7953"
            ],
            [
             0.7777777777777778,
             "#fb9f3a"
            ],
            [
             0.8888888888888888,
             "#fdca26"
            ],
            [
             1,
             "#f0f921"
            ]
           ]
          },
          "colorway": [
           "#636efa",
           "#EF553B",
           "#00cc96",
           "#ab63fa",
           "#FFA15A",
           "#19d3f3",
           "#FF6692",
           "#B6E880",
           "#FF97FF",
           "#FECB52"
          ],
          "font": {
           "color": "#2a3f5f"
          },
          "geo": {
           "bgcolor": "white",
           "lakecolor": "white",
           "landcolor": "#E5ECF6",
           "showlakes": true,
           "showland": true,
           "subunitcolor": "white"
          },
          "hoverlabel": {
           "align": "left"
          },
          "hovermode": "closest",
          "mapbox": {
           "style": "light"
          },
          "paper_bgcolor": "white",
          "plot_bgcolor": "#E5ECF6",
          "polar": {
           "angularaxis": {
            "gridcolor": "white",
            "linecolor": "white",
            "ticks": ""
           },
           "bgcolor": "#E5ECF6",
           "radialaxis": {
            "gridcolor": "white",
            "linecolor": "white",
            "ticks": ""
           }
          },
          "scene": {
           "xaxis": {
            "backgroundcolor": "#E5ECF6",
            "gridcolor": "white",
            "gridwidth": 2,
            "linecolor": "white",
            "showbackground": true,
            "ticks": "",
            "zerolinecolor": "white"
           },
           "yaxis": {
            "backgroundcolor": "#E5ECF6",
            "gridcolor": "white",
            "gridwidth": 2,
            "linecolor": "white",
            "showbackground": true,
            "ticks": "",
            "zerolinecolor": "white"
           },
           "zaxis": {
            "backgroundcolor": "#E5ECF6",
            "gridcolor": "white",
            "gridwidth": 2,
            "linecolor": "white",
            "showbackground": true,
            "ticks": "",
            "zerolinecolor": "white"
           }
          },
          "shapedefaults": {
           "line": {
            "color": "#2a3f5f"
           }
          },
          "ternary": {
           "aaxis": {
            "gridcolor": "white",
            "linecolor": "white",
            "ticks": ""
           },
           "baxis": {
            "gridcolor": "white",
            "linecolor": "white",
            "ticks": ""
           },
           "bgcolor": "#E5ECF6",
           "caxis": {
            "gridcolor": "white",
            "linecolor": "white",
            "ticks": ""
           }
          },
          "title": {
           "x": 0.05
          },
          "xaxis": {
           "automargin": true,
           "gridcolor": "white",
           "linecolor": "white",
           "ticks": "",
           "title": {
            "standoff": 15
           },
           "zerolinecolor": "white",
           "zerolinewidth": 2
          },
          "yaxis": {
           "automargin": true,
           "gridcolor": "white",
           "linecolor": "white",
           "ticks": "",
           "title": {
            "standoff": 15
           },
           "zerolinecolor": "white",
           "zerolinewidth": 2
          }
         }
        },
        "xaxis": {
         "anchor": "y",
         "domain": [
          0,
          1
         ],
         "gridcolor": "#DCDCDC",
         "linecolor": "black",
         "linewidth": 2,
         "showline": true,
         "title": {
          "text": "E5 B-cell-like"
         }
        },
        "yaxis": {
         "anchor": "x",
         "domain": [
          0,
          1
         ],
         "gridcolor": "#DCDCDC",
         "linecolor": "black",
         "linewidth": 2,
         "showline": true,
         "title": {
          "text": "Disease Impact Score"
         }
        }
       }
      },
      "text/html": [
       "<div>                            <div id=\"62763498-c915-4e1a-9454-4b745fbe0498\" class=\"plotly-graph-div\" style=\"height:525px; width:100%;\"></div>            <script type=\"text/javascript\">                require([\"plotly\"], function(Plotly) {                    window.PLOTLYENV=window.PLOTLYENV || {};                                    if (document.getElementById(\"62763498-c915-4e1a-9454-4b745fbe0498\")) {                    Plotly.newPlot(                        \"62763498-c915-4e1a-9454-4b745fbe0498\",                        [{\"customdata\": [[\"c.-976G>C\", 46, 40, 0.1208633088754229, -0.31042716], [\"c.-835C>T\", 14, 10, -0.2180519607039563, -0.30545247], [\"c.-765G>A\", 5, 1, 0.1344942670781819, -0.30840835], [\"c.-959G>T\", 1, 0, 0.2687975979283514, -0.210069], [\"c.-1241A>G\", 1, 0, 0.5957476083401723, 0.912988], [\"c.-1060C>A\", 1, 0, -0.140460824611317, 0.48435244], [\"c.-993G>C\", 1, 0, 0.0651428149934094, -0.28816453], [\"c.-1087C>A\", 1, 0, -0.2420684289376886, -0.28552425], [\"c.-908T>G\", 1, 0, 1.8255895134754423, 2.8788726], [\"c.-1191G>A\", 12, 5, -0.334273513247183, -0.28358796], [\"c.-1255C>A\", 1, 0, -0.3792974306829464, -0.24242915], [\"c.-1014G>A\", 1, 0, 0.0221117217900808, -0.3075965], [\"c.-1175C>T\", 3, 0, 0.0410491721003367, -0.27711862], [\"c.-1079C>T\", 1, 0, 0.0266751533027296, -0.3111888], [\"c.-797G>A\", 2, 0, -0.0906762120624868, -0.27857962], [\"c.-1058T>G\", 1, 0, 0.0926249643521988, -0.2973186], [\"c.-1014G>T\", 1, 0, -0.2681115816949013, -0.29031762], [\"c.-864T>C\", 1, 0, 0.5796454984906916, -0.2600147], [\"c.-819A>G\", 3, 0, -1.4385857212155209, 1.4452972], [\"c.-976G>A\", 48, 25, -0.0723423058526808, -0.3024251], [\"c.-1276A>G\", 1, 0, -0.3454754710450736, -0.28710714], [\"c.-893T>C\", 1, 0, 0.1721140216072587, -0.28592512], [\"c.-1044G>T\", 1, 0, 0.6417056156468899, -0.22899696], [\"c.-832G>A\", 1, 0, -0.0767365251491867, -0.28303555], [\"c.-1052C>T\", 2, 0, -1.139263552446721, 0.95133114], [\"c.-860A>C\", 1, 0, -0.1134859449138847, -0.28514475], [\"c.-966G>A\", 1, 0, 0.1798252759806988, -0.3027872], [\"c.-1096G>T\", 1, 0, 0.6740577456097228, -0.025825987], [\"c.-924C>T\", 3, 1, -0.2104852848461007, -0.2970602], [\"c.-857C>T\", 1, 0, 0.4111747870082318, -0.24557945], [\"c.-1008G>T\", 1, 0, 0.6301786966355909, -0.24714498], [\"c.-850G>A\", 1, 0, -0.6879081013469222, -0.24789996], [\"c.-1237G>T\", 1, 0, 0.0026703030325698, -0.16688687], [\"c.-1145A>C\", 2, 1, 0.0781180612032184, -0.22308026], [\"c.-921G>A\", 3, 1, -0.1542462385252445, -0.2450989], [\"c.-859C>G\", 2, 0, 0.8374033900622244, -0.030512262], [\"c.-1010C>T\", 1, 0, 0.0742694682426137, -0.30437383], [\"c.-791G>A\", 1, 0, 0.0004772496321265, -0.3099511], [\"c.-820C>T\", 1, 0, -0.4819564987747462, 0.5617587], [\"c.-802G>A\", 2, 0, -0.3036590723817518, -0.2265236], [\"c.-998C>G\", 1, 0, -0.2202679996556593, -0.2768369], [\"c.-752G>T\", 1, 0, 0.0260762467597466, -0.2797237], [\"c.-864T>G\", 1, 0, 0.1652231153206251, -0.294197], [\"c.-1288C>T\", 1, 0, -0.1006019819876655, -0.19237463], [\"c.-1193C>T\", 1, 0, -0.2698869015079879, -0.10574781], [\"c.-1066C>T\", 1, 0, -0.1555489203083695, -0.29714757], [\"c.-1031C>T\", 1, 0, -0.242316717939385, 2.4851706], [\"c.-987C>T\", 2, 0, -0.3660626140571565, -0.17680109], [\"c.-1236C>G\", 1, 0, -0.0316243673227383, 0.025477823], [\"c.-1139A>T\", 1, 0, -0.4622477948355428, -0.2600474], [\"c.-1026C>T\", 1, 0, 0.1496983122439434, -0.08384235], [\"c.-996C>T\", 1, 0, 0.0757226955206942, -0.31401864], [\"c.-837C>T\", 5, 2, 0.1065698145138753, -0.3054674], [\"c.-902G>A\", 1, 0, 0.4310196620724902, -0.2835243], [\"c.-860A>G\", 6, 1, 0.5401510785441985, -0.25380164], [\"c.-1203G>A\", 2, 0, 0.2650057369847012, -0.26806837], [\"c.-905C>A\", 2, 0, -0.8679063311441482, -0.15776263], [\"c.-876C>A\", 1, 0, -0.209390135429917, -0.2870507], [\"c.-944C>T\", 5, 4, -0.382987964650118, -0.22117811], [\"c.-1241A>C\", 1, 0, 0.3357585696249678, -0.2570477], [\"c.-1124G>A\", 1, 0, -3.060952454793279, 5.7656474], [\"c.-1203G>C\", 1, 0, -0.2211308871441843, -0.28677878], [\"c.-968G>A\", 1, 0, 0.0711206720897017, -0.30416617], [\"c.-1296G>T\", 3, 0, 0.3518156995805661, -0.29803875], [\"c.-888T>C\", 1, 0, 0.1971055909552372, -0.30320162], [\"c.-1165G>A\", 1, 0, 0.1167130158877682, -0.28144354], [\"c.-1212C>T\", 1, 0, 0.080059035938703, -0.29934373], [\"c.-933G>A\", 2, 0, -2.084704081160241, 4.087852], [\"c.-1003C>T\", 1, 0, 0.1758609561251116, -0.30726627], [\"c.-946G>C\", 1, 0, -0.1456555261772862, -0.31072748], [\"c.-1097G>A\", 1, 0, 0.4716357840357492, -0.20120637], [\"c.-825G>A\", 1, 0, -0.006214333302065, -0.29215294], [\"c.-844T>C\", 6, 3, 0.1141004447136353, -0.30036274], [\"c.-852G>A\", 1, 0, -0.2098321259159412, -0.30376318], [\"c.-1178C>T\", 1, 0, -0.3829832153238612, -0.06895838], [\"c.-836T>G\", 1, 0, 0.1126806531004191, -0.29169682], [\"c.-801T>C\", 1, 0, 0.0315134016374969, -0.30895323], [\"c.-965G>A\", 1, 0, 0.2100895081839304, -0.2993084], [\"c.-1295T>G\", 1, 0, 0.5999936671232753, -0.24307449], [\"c.-1082A>C\", 1, 0, -0.6394251000045017, -0.16996229], [\"c.-956C>T\", 1, 0, -0.1925020244661333, -0.28700227], [\"c.-8T>C\", 1, 0, -0.1020997500260776, -0.30312112], [\"c.-1222G>C\", 1, 0, 0.368299593547448, -0.28217784], [\"c.-1137G>A\", 2, 1, 0.1205545412013329, -0.29706502], [\"c.-1206G>A\", 6, 0, 0.1453800303052084, -0.27629057], [\"c.-930G>A\", 5, 3, -2.858370999159442, 4.768665], [\"c.-822G>A\", 1, 0, -0.2994951762052515, -0.15100779], [\"c.-1257G>C\", 1, 0, 0.0693946683925901, -0.28416178], [\"c.-1177T>G\", 3, 0, -0.2297438234502031, 0.06610043], [\"c.-857C>G\", 3, 1, 0.0978061702522747, -0.3014512], [\"c.-960C>T\", 1, 0, 0.3739594410960407, -0.23027834], [\"c.-856G>C\", 1, 0, -0.4200684481567069, -0.29893085], [\"c.-1080C>T\", 1, 0, 0.4518714684472034, -0.25175232], [\"c.-814G>A\", 4, 0, -0.0743698698638013, -0.24211264], [\"c.-949C>T\", 1, 0, -0.7920032749863655, -0.1398482], [\"c.-1171C>A\", 3, 2, -0.3149792824878616, 0.8475105], [\"c.-1020C>T\", 1, 0, 0.0540014855235799, -0.27700734], [\"c.-910T>G\", 1, 0, -0.3154901519347888, -0.27534425], [\"c.-1077G>C\", 6, 2, -0.1115847530770892, -0.29181138], [\"c.-842C>T\", 2, 0, -0.1733826843609396, -0.27898896], [\"c.-1291C>T\", 2, 0, -0.1299687720002893, -0.2557042], [\"c.-1089C>A\", 1, 0, -0.2238433213777995, -0.2595236], [\"c.-1099G>T\", 1, 0, 0.3270493446797466, -0.29487672], [\"c.-1175C>A\", 3, 1, -0.3521565696690203, -0.21822801], [\"c.-1172G>A\", 1, 0, -0.0877924679556692, -0.30180487], [\"c.-1171C>T\", 15, 7, -1.0944127129411818, -0.14355326], [\"c.-1061C>T\", 1, 0, 0.2515346856660958, 0.9101511], [\"c.-789G>A\", 3, 0, -0.0339211981237106, -0.2918053], [\"c.-968G>C\", 1, 0, -0.322710870094518, -0.27983686], [\"c.-1243G>A\", 16, 7, 0.3601955917344774, -0.25287363], [\"c.-916C>A\", 1, 0, -0.1672576550839934, -0.28236628], [\"c.-905C>T\", 2, 0, -0.5750562312760223, -0.2511552], [\"c.-833C>T\", 1, 0, -0.3685359537794603, -0.2744731], [\"c.-937G>A\", 1, 0, 1.231481556297279, 1.519837], [\"c.203A>G\", 1, 0, 0.1371225876694772, -0.3110953], [\"c.850G>T\", 1, 0, -0.5042026927070005, -0.2537575], [\"c.635-3C>G\", 1, 0, 0.0979021564087538, -0.3133524], [\"c.388C>T\", 3, 0, -0.0568687957478815, -0.3179262]], \"hovertemplate\": \"Case/Control=Control<br>E5 B-cell-like=%{customdata[3]}<br>Disease Impact Score=%{customdata[4]}<br>Alteration=%{customdata[0]}<br>Breast Cancer Case Alleles=%{customdata[1]}<br>Control Alleles=%{customdata[2]}<extra></extra>\", \"legendgroup\": \"Control\", \"marker\": {\"color\": \"#2ca02c\", \"size\": 7, \"symbol\": \"circle\"}, \"mode\": \"markers\", \"name\": \"Control\", \"orientation\": \"v\", \"showlegend\": true, \"type\": \"scatter\", \"x\": [0.1208633088754229, -0.2180519607039563, 0.1344942670781819, 0.2687975979283514, 0.5957476083401723, -0.140460824611317, 0.0651428149934094, -0.2420684289376886, 1.8255895134754423, -0.334273513247183, -0.3792974306829464, 0.0221117217900808, 0.0410491721003367, 0.0266751533027296, -0.0906762120624868, 0.0926249643521988, -0.2681115816949013, 0.5796454984906916, -1.4385857212155209, -0.0723423058526808, -0.3454754710450736, 0.1721140216072587, 0.6417056156468899, -0.0767365251491867, -1.139263552446721, -0.1134859449138847, 0.1798252759806988, 0.6740577456097228, -0.2104852848461007, 0.4111747870082318, 0.6301786966355909, -0.6879081013469222, 0.0026703030325698, 0.0781180612032184, -0.1542462385252445, 0.8374033900622244, 0.0742694682426137, 0.0004772496321265, -0.4819564987747462, -0.3036590723817518, -0.2202679996556593, 0.0260762467597466, 0.1652231153206251, -0.1006019819876655, -0.2698869015079879, -0.1555489203083695, -0.242316717939385, -0.3660626140571565, -0.0316243673227383, -0.4622477948355428, 0.1496983122439434, 0.0757226955206942, 0.1065698145138753, 0.4310196620724902, 0.5401510785441985, 0.2650057369847012, -0.8679063311441482, -0.209390135429917, -0.382987964650118, 0.3357585696249678, -3.060952454793279, -0.2211308871441843, 0.0711206720897017, 0.3518156995805661, 0.1971055909552372, 0.1167130158877682, 0.080059035938703, -2.084704081160241, 0.1758609561251116, -0.1456555261772862, 0.4716357840357492, -0.006214333302065, 0.1141004447136353, -0.2098321259159412, -0.3829832153238612, 0.1126806531004191, 0.0315134016374969, 0.2100895081839304, 0.5999936671232753, -0.6394251000045017, -0.1925020244661333, -0.1020997500260776, 0.368299593547448, 0.1205545412013329, 0.1453800303052084, -2.858370999159442, -0.2994951762052515, 0.0693946683925901, -0.2297438234502031, 0.0978061702522747, 0.3739594410960407, -0.4200684481567069, 0.4518714684472034, -0.0743698698638013, -0.7920032749863655, -0.3149792824878616, 0.0540014855235799, -0.3154901519347888, -0.1115847530770892, -0.1733826843609396, -0.1299687720002893, -0.2238433213777995, 0.3270493446797466, -0.3521565696690203, -0.0877924679556692, -1.0944127129411818, 0.2515346856660958, -0.0339211981237106, -0.322710870094518, 0.3601955917344774, -0.1672576550839934, -0.5750562312760223, -0.3685359537794603, 1.231481556297279, 0.1371225876694772, -0.5042026927070005, 0.0979021564087538, -0.0568687957478815], \"xaxis\": \"x\", \"y\": [-0.31042716, -0.30545247, -0.30840835, -0.210069, 0.912988, 0.48435244, -0.28816453, -0.28552425, 2.8788726, -0.28358796, -0.24242915, -0.3075965, -0.27711862, -0.3111888, -0.27857962, -0.2973186, -0.29031762, -0.2600147, 1.4452972, -0.3024251, -0.28710714, -0.28592512, -0.22899696, -0.28303555, 0.95133114, -0.28514475, -0.3027872, -0.025825987, -0.2970602, -0.24557945, -0.24714498, -0.24789996, -0.16688687, -0.22308026, -0.2450989, -0.030512262, -0.30437383, -0.3099511, 0.5617587, -0.2265236, -0.2768369, -0.2797237, -0.294197, -0.19237463, -0.10574781, -0.29714757, 2.4851706, -0.17680109, 0.025477823, -0.2600474, -0.08384235, -0.31401864, -0.3054674, -0.2835243, -0.25380164, -0.26806837, -0.15776263, -0.2870507, -0.22117811, -0.2570477, 5.7656474, -0.28677878, -0.30416617, -0.29803875, -0.30320162, -0.28144354, -0.29934373, 4.087852, -0.30726627, -0.31072748, -0.20120637, -0.29215294, -0.30036274, -0.30376318, -0.06895838, -0.29169682, -0.30895323, -0.2993084, -0.24307449, -0.16996229, -0.28700227, -0.30312112, -0.28217784, -0.29706502, -0.27629057, 4.768665, -0.15100779, -0.28416178, 0.06610043, -0.3014512, -0.23027834, -0.29893085, -0.25175232, -0.24211264, -0.1398482, 0.8475105, -0.27700734, -0.27534425, -0.29181138, -0.27898896, -0.2557042, -0.2595236, -0.29487672, -0.21822801, -0.30180487, -0.14355326, 0.9101511, -0.2918053, -0.27983686, -0.25287363, -0.28236628, -0.2511552, -0.2744731, 1.519837, -0.3110953, -0.2537575, -0.3133524, -0.3179262], \"yaxis\": \"y\"}, {\"customdata\": [[\"c.-931G>A\", 0, 1, -2.7660290216517787, 4.7237883], [\"c.-1151C>G\", 0, 1, -0.5018252625124902, -0.2772834], [\"c.-1084G>C\", 0, 1, -0.4014605787233751, -0.22656235], [\"c.-1113A>G\", 0, 1, -0.2099323247304809, -0.29739004], [\"c.-785C>T\", 0, 1, 0.0232387417182877, -0.22513963], [\"c.-14A>C\", 0, 1, -0.0861077151373272, -0.3138859], [\"c.-1075G>A\", 0, 1, 0.2318883777525098, -0.30110642], [\"c.-1026C>G\", 0, 1, 0.1815326124554701, 0.0068683196], [\"c.-1208G>A\", 0, 1, -0.1012839006800661, -0.28175122], [\"c.-1138G>A\", 0, 1, -0.0490099269637287, -0.30325824], [\"c.-1246T>C\", 0, 1, 0.2850596924981055, -0.029809356], [\"c.-1297A>G\", 0, 1, -0.2778242898093133, -0.29709804], [\"c.-989C>A\", 0, 1, 0.3363006504670025, -0.2550719], [\"c.-826T>C\", 0, 1, 0.0672017124613084, -0.3004892], [\"c.-1282C>T\", 0, 1, -0.6792610398116601, 0.24518675], [\"c.-1267C>G\", 0, 1, 0.1282822101350973, -0.2353624], [\"c.-1258C>T\", 0, 1, -0.0998336856994157, -0.2509139], [\"c.-772A>G\", 0, 1, -0.0800240776972316, -0.29863963], [\"c.-1081C>T\", 0, 2, 0.291063541123318, -0.29297704], [\"c.-806G>A\", 0, 1, 0.1740363878520767, -0.3055854], [\"c.-1098G>A\", 0, 1, 0.3337553651190301, -0.27155632], [\"c.-1002C>A\", 0, 1, -0.2148733638400806, -0.2906687], [\"c.-1182G>T\", 0, 1, 0.1129190436106135, -0.13465233], [\"c.-952C>T\", 0, 1, 0.2483257384024941, -0.2972158], [\"c.-754A>T\", 0, 1, -0.07695330153933, -0.2994011], [\"c.-1021C>T\", 0, 1, 0.0699472284595987, -0.23598363], [\"c.-798A>G\", 1, 3, -0.0803563161419411, -0.29122505], [\"c.-873G>C\", 0, 1, 1.3563111585644307, 0.65410674], [\"c.-1235C>T\", 0, 4, -0.2931772537070714, -0.27369812], [\"c.-1279C>G\", 0, 1, -0.3984927903290511, -0.15746075], [\"c.-1101T>G\", 0, 1, 0.0809649647595947, -0.30051172], [\"c.-1207C>G\", 0, 1, -0.2132478628886218, -0.20255795], [\"c.-913T>C\", 0, 1, 0.0398401830997752, -0.29375508], [\"c.-1110G>T\", 0, 1, -0.5762312979292474, -0.14626919], [\"c.-934G>C\", 0, 1, -2.6240448856124186, 4.1235275], [\"c.-941C>T\", 0, 1, -0.4511115115520088, -0.27249792], [\"c.-866G>C\", 0, 1, -0.614017722838426, -0.17185558], [\"c.-867C>T\", 0, 1, -0.3171642665361958, -0.2975507], [\"c.-1048C>A\", 0, 1, -0.924482713416502, 5.8466396], [\"c.-1169G>T\", 0, 1, -0.518538813353068, -0.24792273], [\"c.-1173G>A\", 0, 1, 0.0691419250574512, -0.26392713], [\"c.-917G>C\", 0, 1, -1.1270603499024592, -0.027409686], [\"c.-857C>A\", 0, 1, -0.4695931741319636, -0.27835655], [\"c.518G>C\", 0, 1, 0.0941017044892671, -0.3143376]], \"hovertemplate\": \"Case/Control=Case<br>E5 B-cell-like=%{customdata[3]}<br>Disease Impact Score=%{customdata[4]}<br>Alteration=%{customdata[0]}<br>Breast Cancer Case Alleles=%{customdata[1]}<br>Control Alleles=%{customdata[2]}<extra></extra>\", \"legendgroup\": \"Case\", \"marker\": {\"color\": \"red\", \"size\": 7, \"symbol\": \"circle\"}, \"mode\": \"markers\", \"name\": \"Case\", \"orientation\": \"v\", \"showlegend\": true, \"type\": \"scatter\", \"x\": [-2.7660290216517787, -0.5018252625124902, -0.4014605787233751, -0.2099323247304809, 0.0232387417182877, -0.0861077151373272, 0.2318883777525098, 0.1815326124554701, -0.1012839006800661, -0.0490099269637287, 0.2850596924981055, -0.2778242898093133, 0.3363006504670025, 0.0672017124613084, -0.6792610398116601, 0.1282822101350973, -0.0998336856994157, -0.0800240776972316, 0.291063541123318, 0.1740363878520767, 0.3337553651190301, -0.2148733638400806, 0.1129190436106135, 0.2483257384024941, -0.07695330153933, 0.0699472284595987, -0.0803563161419411, 1.3563111585644307, -0.2931772537070714, -0.3984927903290511, 0.0809649647595947, -0.2132478628886218, 0.0398401830997752, -0.5762312979292474, -2.6240448856124186, -0.4511115115520088, -0.614017722838426, -0.3171642665361958, -0.924482713416502, -0.518538813353068, 0.0691419250574512, -1.1270603499024592, -0.4695931741319636, 0.0941017044892671], \"xaxis\": \"x\", \"y\": [4.7237883, -0.2772834, -0.22656235, -0.29739004, -0.22513963, -0.3138859, -0.30110642, 0.0068683196, -0.28175122, -0.30325824, -0.029809356, -0.29709804, -0.2550719, -0.3004892, 0.24518675, -0.2353624, -0.2509139, -0.29863963, -0.29297704, -0.3055854, -0.27155632, -0.2906687, -0.13465233, -0.2972158, -0.2994011, -0.23598363, -0.29122505, 0.65410674, -0.27369812, -0.15746075, -0.30051172, -0.20255795, -0.29375508, -0.14626919, 4.1235275, -0.27249792, -0.17185558, -0.2975507, 5.8466396, -0.24792273, -0.26392713, -0.027409686, -0.27835655, -0.3143376], \"yaxis\": \"y\"}, {\"customdata\": [[\"c.-873G>A\", 1, 1, 0.0315127445399916, -0.3083085], [\"c.-1213G>T\", 1, 1, 0.0556577619664544, -0.3009221], [\"c.-772A>C\", 1, 1, -0.0352868986494598, -0.29018652], [\"c.-863G>T\", 0, 0, -0.2367423059923261, -0.29969168], [\"c.-814G>T\", 1, 1, -0.0517150045534045, -0.21014719], [\"c.-1045T>A\", 3, 4, 0.0329509232477676, -0.31688422], [\"c.-1042C>G\", 1, 1, 0.3216945366320978, 0.5167751], [\"c.-840C>T\", 0, 0, 0.226863245595835, -0.2954436], [\"c.-1294C>T\", 1, 2, 0.0241360390358309, -0.29670772], [\"c.-946G>A\", 1, 1, 0.1742609933129575, -0.2326076], [\"c.-1088G>A\", 1, 1, -0.1911186561649511, -0.29310074], [\"c.-1091T>C\", 0, 0, 0.3954719467684242, -0.28196535], [\"c.-1240G>A\", 1, 2, 0.2868598642705215, -0.15878871], [\"c.-1155G>A\", 1, 1, -0.0970952819114145, -0.28222626], [\"c.-1083C>T\", 1, 1, 0.209021850795251, -0.29356986], [\"c.-904G>C\", 1, 1, -0.7795936195141415, -0.20353708], [\"c.-1008G>A\", 1, 1, 0.1564328622903303, -0.3132622], [\"c.-1079C>G\", 0, 0, 0.2613718241422429, -0.29867613], [\"c.-898C>G\", 1, 1, 0.051549381728746, -0.2917442], [\"c.-1047C>T\", 0, 0, 0.1494354222198879, 3.638431], [\"c.-1205T>C\", 1, 1, 0.2797571412515935, -0.2472203], [\"c.-851C>A\", 1, 1, -0.6697547209054413, -0.20960693], [\"c.-1143C>A\", 0, 0, -0.2858158896114169, -0.2728805], [\"c.-1058T>A\", 0, 0, -0.0010918376650668, -0.31021208], [\"c.-1050C>T\", 2, 3, -0.2836864272878259, 5.462512], [\"c.-869G>C\", 3, 6, -0.4312751134989838, -0.2771244], [\"c.-1170T>C\", 1, 1, 0.1591840966968547, -0.2426439], [\"c.-1246T>G\", 0, 0, -0.7946106668139237, -0.17521232], [\"c.-747C>T\", 0, 0, -0.0710137160430335, -0.20047036], [\"c.-755G>A\", 1, 1, -0.0138821055012492, -0.31552553], [\"c.-926G>A\", 0, 0, 0.0110780674377632, -0.2926354], [\"c.-795C>T\", 1, 1, -0.1346922825065277, -0.30704033], [\"c.-862G>C\", 0, 0, 0.4041234175689876, -0.2615097], [\"c.-1085C>G\", 1, 1, -0.2995906221059137, -0.27991518], [\"c.-1101T>C\", 0, 0, 0.0607327259076875, -0.2927141], [\"c.-1103G>A\", 0, 0, 0.0720330350254663, -0.3043829], [\"c.-851C>T\", 1, 1, -0.8164378903787366, -0.21241294], [\"c.-828G>A\", 1, 1, 0.1959622471129201, -0.30971053], [\"c.-983T>C\", 0, 0, 0.3499381852801377, -0.00040207867], [\"c.-1062C>A\", 1, 1, -0.0790678489343328, 0.6201936], [\"c.1003C>T\", 1, 2, 0.1752911562665176, -0.30725786]], \"hovertemplate\": \"Case/Control=Equal<br>E5 B-cell-like=%{customdata[3]}<br>Disease Impact Score=%{customdata[4]}<br>Alteration=%{customdata[0]}<br>Breast Cancer Case Alleles=%{customdata[1]}<br>Control Alleles=%{customdata[2]}<extra></extra>\", \"legendgroup\": \"Equal\", \"marker\": {\"color\": \"black\", \"size\": 7, \"symbol\": \"circle\"}, \"mode\": \"markers\", \"name\": \"Equal\", \"orientation\": \"v\", \"showlegend\": true, \"type\": \"scatter\", \"x\": [0.0315127445399916, 0.0556577619664544, -0.0352868986494598, -0.2367423059923261, -0.0517150045534045, 0.0329509232477676, 0.3216945366320978, 0.226863245595835, 0.0241360390358309, 0.1742609933129575, -0.1911186561649511, 0.3954719467684242, 0.2868598642705215, -0.0970952819114145, 0.209021850795251, -0.7795936195141415, 0.1564328622903303, 0.2613718241422429, 0.051549381728746, 0.1494354222198879, 0.2797571412515935, -0.6697547209054413, -0.2858158896114169, -0.0010918376650668, -0.2836864272878259, -0.4312751134989838, 0.1591840966968547, -0.7946106668139237, -0.0710137160430335, -0.0138821055012492, 0.0110780674377632, -0.1346922825065277, 0.4041234175689876, -0.2995906221059137, 0.0607327259076875, 0.0720330350254663, -0.8164378903787366, 0.1959622471129201, 0.3499381852801377, -0.0790678489343328, 0.1752911562665176], \"xaxis\": \"x\", \"y\": [-0.3083085, -0.3009221, -0.29018652, -0.29969168, -0.21014719, -0.31688422, 0.5167751, -0.2954436, -0.29670772, -0.2326076, -0.29310074, -0.28196535, -0.15878871, -0.28222626, -0.29356986, -0.20353708, -0.3132622, -0.29867613, -0.2917442, 3.638431, -0.2472203, -0.20960693, -0.2728805, -0.31021208, 5.462512, -0.2771244, -0.2426439, -0.17521232, -0.20047036, -0.31552553, -0.2926354, -0.30704033, -0.2615097, -0.27991518, -0.2927141, -0.3043829, -0.21241294, -0.30971053, -0.00040207867, 0.6201936, -0.30725786], \"yaxis\": \"y\"}],                        {\"font\": {\"size\": 18}, \"legend\": {\"title\": {\"text\": \"Case/Control\"}, \"tracegroupgap\": 0}, \"margin\": {\"t\": 60}, \"paper_bgcolor\": \"rgba(0, 0, 0, 0)\", \"plot_bgcolor\": \"rgba(0, 0, 0, 0)\", \"template\": {\"data\": {\"bar\": [{\"error_x\": {\"color\": \"#2a3f5f\"}, \"error_y\": {\"color\": \"#2a3f5f\"}, \"marker\": {\"line\": {\"color\": \"#E5ECF6\", \"width\": 0.5}}, \"type\": \"bar\"}], \"barpolar\": [{\"marker\": {\"line\": {\"color\": \"#E5ECF6\", \"width\": 0.5}}, \"type\": \"barpolar\"}], \"carpet\": [{\"aaxis\": {\"endlinecolor\": \"#2a3f5f\", \"gridcolor\": \"white\", \"linecolor\": \"white\", \"minorgridcolor\": \"white\", \"startlinecolor\": \"#2a3f5f\"}, \"baxis\": {\"endlinecolor\": \"#2a3f5f\", \"gridcolor\": \"white\", \"linecolor\": \"white\", \"minorgridcolor\": \"white\", \"startlinecolor\": \"#2a3f5f\"}, \"type\": \"carpet\"}], \"choropleth\": [{\"colorbar\": {\"outlinewidth\": 0, \"ticks\": \"\"}, \"type\": \"choropleth\"}], \"contour\": [{\"colorbar\": {\"outlinewidth\": 0, \"ticks\": \"\"}, \"colorscale\": [[0.0, \"#0d0887\"], [0.1111111111111111, \"#46039f\"], [0.2222222222222222, \"#7201a8\"], [0.3333333333333333, \"#9c179e\"], [0.4444444444444444, \"#bd3786\"], [0.5555555555555556, \"#d8576b\"], [0.6666666666666666, \"#ed7953\"], [0.7777777777777778, \"#fb9f3a\"], [0.8888888888888888, \"#fdca26\"], [1.0, \"#f0f921\"]], \"type\": \"contour\"}], \"contourcarpet\": [{\"colorbar\": {\"outlinewidth\": 0, \"ticks\": \"\"}, \"type\": \"contourcarpet\"}], \"heatmap\": [{\"colorbar\": {\"outlinewidth\": 0, \"ticks\": \"\"}, \"colorscale\": [[0.0, \"#0d0887\"], [0.1111111111111111, \"#46039f\"], [0.2222222222222222, \"#7201a8\"], [0.3333333333333333, \"#9c179e\"], [0.4444444444444444, \"#bd3786\"], [0.5555555555555556, \"#d8576b\"], [0.6666666666666666, \"#ed7953\"], [0.7777777777777778, \"#fb9f3a\"], [0.8888888888888888, \"#fdca26\"], [1.0, \"#f0f921\"]], \"type\": \"heatmap\"}], \"heatmapgl\": [{\"colorbar\": {\"outlinewidth\": 0, \"ticks\": \"\"}, \"colorscale\": [[0.0, \"#0d0887\"], [0.1111111111111111, \"#46039f\"], [0.2222222222222222, \"#7201a8\"], [0.3333333333333333, \"#9c179e\"], [0.4444444444444444, \"#bd3786\"], [0.5555555555555556, \"#d8576b\"], [0.6666666666666666, \"#ed7953\"], [0.7777777777777778, \"#fb9f3a\"], [0.8888888888888888, \"#fdca26\"], [1.0, \"#f0f921\"]], \"type\": \"heatmapgl\"}], \"histogram\": [{\"marker\": {\"colorbar\": {\"outlinewidth\": 0, \"ticks\": \"\"}}, \"type\": \"histogram\"}], \"histogram2d\": [{\"colorbar\": {\"outlinewidth\": 0, \"ticks\": \"\"}, \"colorscale\": [[0.0, \"#0d0887\"], [0.1111111111111111, \"#46039f\"], [0.2222222222222222, \"#7201a8\"], [0.3333333333333333, \"#9c179e\"], [0.4444444444444444, \"#bd3786\"], [0.5555555555555556, \"#d8576b\"], [0.6666666666666666, \"#ed7953\"], [0.7777777777777778, \"#fb9f3a\"], [0.8888888888888888, \"#fdca26\"], [1.0, \"#f0f921\"]], \"type\": \"histogram2d\"}], \"histogram2dcontour\": [{\"colorbar\": {\"outlinewidth\": 0, \"ticks\": \"\"}, \"colorscale\": [[0.0, \"#0d0887\"], [0.1111111111111111, \"#46039f\"], [0.2222222222222222, \"#7201a8\"], [0.3333333333333333, \"#9c179e\"], [0.4444444444444444, \"#bd3786\"], [0.5555555555555556, \"#d8576b\"], [0.6666666666666666, \"#ed7953\"], [0.7777777777777778, \"#fb9f3a\"], [0.8888888888888888, \"#fdca26\"], [1.0, \"#f0f921\"]], \"type\": \"histogram2dcontour\"}], \"mesh3d\": [{\"colorbar\": {\"outlinewidth\": 0, \"ticks\": \"\"}, \"type\": \"mesh3d\"}], \"parcoords\": [{\"line\": {\"colorbar\": {\"outlinewidth\": 0, \"ticks\": \"\"}}, \"type\": \"parcoords\"}], \"pie\": [{\"automargin\": true, \"type\": \"pie\"}], \"scatter\": [{\"marker\": {\"colorbar\": {\"outlinewidth\": 0, \"ticks\": \"\"}}, \"type\": \"scatter\"}], \"scatter3d\": [{\"line\": {\"colorbar\": {\"outlinewidth\": 0, \"ticks\": \"\"}}, \"marker\": {\"colorbar\": {\"outlinewidth\": 0, \"ticks\": \"\"}}, \"type\": \"scatter3d\"}], \"scattercarpet\": [{\"marker\": {\"colorbar\": {\"outlinewidth\": 0, \"ticks\": \"\"}}, \"type\": \"scattercarpet\"}], \"scattergeo\": [{\"marker\": {\"colorbar\": {\"outlinewidth\": 0, \"ticks\": \"\"}}, \"type\": \"scattergeo\"}], \"scattergl\": [{\"marker\": {\"colorbar\": {\"outlinewidth\": 0, \"ticks\": \"\"}}, \"type\": \"scattergl\"}], \"scattermapbox\": [{\"marker\": {\"colorbar\": {\"outlinewidth\": 0, \"ticks\": \"\"}}, \"type\": \"scattermapbox\"}], \"scatterpolar\": [{\"marker\": {\"colorbar\": {\"outlinewidth\": 0, \"ticks\": \"\"}}, \"type\": \"scatterpolar\"}], \"scatterpolargl\": [{\"marker\": {\"colorbar\": {\"outlinewidth\": 0, \"ticks\": \"\"}}, \"type\": \"scatterpolargl\"}], \"scatterternary\": [{\"marker\": {\"colorbar\": {\"outlinewidth\": 0, \"ticks\": \"\"}}, \"type\": \"scatterternary\"}], \"surface\": [{\"colorbar\": {\"outlinewidth\": 0, \"ticks\": \"\"}, \"colorscale\": [[0.0, \"#0d0887\"], [0.1111111111111111, \"#46039f\"], [0.2222222222222222, \"#7201a8\"], [0.3333333333333333, \"#9c179e\"], [0.4444444444444444, \"#bd3786\"], [0.5555555555555556, \"#d8576b\"], [0.6666666666666666, \"#ed7953\"], [0.7777777777777778, \"#fb9f3a\"], [0.8888888888888888, \"#fdca26\"], [1.0, \"#f0f921\"]], \"type\": \"surface\"}], \"table\": [{\"cells\": {\"fill\": {\"color\": \"#EBF0F8\"}, \"line\": {\"color\": \"white\"}}, \"header\": {\"fill\": {\"color\": \"#C8D4E3\"}, \"line\": {\"color\": \"white\"}}, \"type\": \"table\"}]}, \"layout\": {\"annotationdefaults\": {\"arrowcolor\": \"#2a3f5f\", \"arrowhead\": 0, \"arrowwidth\": 1}, \"coloraxis\": {\"colorbar\": {\"outlinewidth\": 0, \"ticks\": \"\"}}, \"colorscale\": {\"diverging\": [[0, \"#8e0152\"], [0.1, \"#c51b7d\"], [0.2, \"#de77ae\"], [0.3, \"#f1b6da\"], [0.4, \"#fde0ef\"], [0.5, \"#f7f7f7\"], [0.6, \"#e6f5d0\"], [0.7, \"#b8e186\"], [0.8, \"#7fbc41\"], [0.9, \"#4d9221\"], [1, \"#276419\"]], \"sequential\": [[0.0, \"#0d0887\"], [0.1111111111111111, \"#46039f\"], [0.2222222222222222, \"#7201a8\"], [0.3333333333333333, \"#9c179e\"], [0.4444444444444444, \"#bd3786\"], [0.5555555555555556, \"#d8576b\"], [0.6666666666666666, \"#ed7953\"], [0.7777777777777778, \"#fb9f3a\"], [0.8888888888888888, \"#fdca26\"], [1.0, \"#f0f921\"]], \"sequentialminus\": [[0.0, \"#0d0887\"], [0.1111111111111111, \"#46039f\"], [0.2222222222222222, \"#7201a8\"], [0.3333333333333333, \"#9c179e\"], [0.4444444444444444, \"#bd3786\"], [0.5555555555555556, \"#d8576b\"], [0.6666666666666666, \"#ed7953\"], [0.7777777777777778, \"#fb9f3a\"], [0.8888888888888888, \"#fdca26\"], [1.0, \"#f0f921\"]]}, \"colorway\": [\"#636efa\", \"#EF553B\", \"#00cc96\", \"#ab63fa\", \"#FFA15A\", \"#19d3f3\", \"#FF6692\", \"#B6E880\", \"#FF97FF\", \"#FECB52\"], \"font\": {\"color\": \"#2a3f5f\"}, \"geo\": {\"bgcolor\": \"white\", \"lakecolor\": \"white\", \"landcolor\": \"#E5ECF6\", \"showlakes\": true, \"showland\": true, \"subunitcolor\": \"white\"}, \"hoverlabel\": {\"align\": \"left\"}, \"hovermode\": \"closest\", \"mapbox\": {\"style\": \"light\"}, \"paper_bgcolor\": \"white\", \"plot_bgcolor\": \"#E5ECF6\", \"polar\": {\"angularaxis\": {\"gridcolor\": \"white\", \"linecolor\": \"white\", \"ticks\": \"\"}, \"bgcolor\": \"#E5ECF6\", \"radialaxis\": {\"gridcolor\": \"white\", \"linecolor\": \"white\", \"ticks\": \"\"}}, \"scene\": {\"xaxis\": {\"backgroundcolor\": \"#E5ECF6\", \"gridcolor\": \"white\", \"gridwidth\": 2, \"linecolor\": \"white\", \"showbackground\": true, \"ticks\": \"\", \"zerolinecolor\": \"white\"}, \"yaxis\": {\"backgroundcolor\": \"#E5ECF6\", \"gridcolor\": \"white\", \"gridwidth\": 2, \"linecolor\": \"white\", \"showbackground\": true, \"ticks\": \"\", \"zerolinecolor\": \"white\"}, \"zaxis\": {\"backgroundcolor\": \"#E5ECF6\", \"gridcolor\": \"white\", \"gridwidth\": 2, \"linecolor\": \"white\", \"showbackground\": true, \"ticks\": \"\", \"zerolinecolor\": \"white\"}}, \"shapedefaults\": {\"line\": {\"color\": \"#2a3f5f\"}}, \"ternary\": {\"aaxis\": {\"gridcolor\": \"white\", \"linecolor\": \"white\", \"ticks\": \"\"}, \"baxis\": {\"gridcolor\": \"white\", \"linecolor\": \"white\", \"ticks\": \"\"}, \"bgcolor\": \"#E5ECF6\", \"caxis\": {\"gridcolor\": \"white\", \"linecolor\": \"white\", \"ticks\": \"\"}}, \"title\": {\"x\": 0.05}, \"xaxis\": {\"automargin\": true, \"gridcolor\": \"white\", \"linecolor\": \"white\", \"ticks\": \"\", \"title\": {\"standoff\": 15}, \"zerolinecolor\": \"white\", \"zerolinewidth\": 2}, \"yaxis\": {\"automargin\": true, \"gridcolor\": \"white\", \"linecolor\": \"white\", \"ticks\": \"\", \"title\": {\"standoff\": 15}, \"zerolinecolor\": \"white\", \"zerolinewidth\": 2}}}, \"xaxis\": {\"anchor\": \"y\", \"domain\": [0.0, 1.0], \"gridcolor\": \"#DCDCDC\", \"linecolor\": \"black\", \"linewidth\": 2, \"showline\": true, \"title\": {\"text\": \"E5 B-cell-like\"}}, \"yaxis\": {\"anchor\": \"x\", \"domain\": [0.0, 1.0], \"gridcolor\": \"#DCDCDC\", \"linecolor\": \"black\", \"linewidth\": 2, \"showline\": true, \"title\": {\"text\": \"Disease Impact Score\"}}},                        {\"responsive\": true}                    ).then(function(){\n",
       "                            \n",
       "var gd = document.getElementById('62763498-c915-4e1a-9454-4b745fbe0498');\n",
       "var x = new MutationObserver(function (mutations, observer) {{\n",
       "        var display = window.getComputedStyle(gd).display;\n",
       "        if (!display || display === 'none') {{\n",
       "            console.log([gd, 'removed!']);\n",
       "            Plotly.purge(gd);\n",
       "            observer.disconnect();\n",
       "        }}\n",
       "}});\n",
       "\n",
       "// Listen for the removal of the full notebook cells\n",
       "var notebookContainer = gd.closest('#notebook-container');\n",
       "if (notebookContainer) {{\n",
       "    x.observe(notebookContainer, {childList: true});\n",
       "}}\n",
       "\n",
       "// Listen for the clearing of the current output cell\n",
       "var outputEl = gd.closest('.output');\n",
       "if (outputEl) {{\n",
       "    x.observe(outputEl, {childList: true});\n",
       "}}\n",
       "\n",
       "                        })                };                });            </script>        </div>"
      ]
     },
     "metadata": {},
     "output_type": "display_data"
    }
   ],
   "source": [
    "score1, score2 = \"E5 B-cell-like\", \"Disease Impact Score\"\n",
    "color = \"Case/Control\" # if this is changed, the `color_discrete_sequence` will have to be changed or removed\n",
    "fig = px.scatter(scores, x=score1, y=score2, color=color,\n",
    "                   hover_data=['Alteration', 'Breast Cancer Case Alleles', 'Control Alleles', score1, score2], \n",
    "                     color_discrete_sequence=['#2ca02c', \"red\", \"black\"])\n",
    "fig.update_layout(font=dict(size=18))\n",
    "fig.update_traces(marker={'size': 7})\n",
    "viz.white_bg(fig)\n",
    "fig.write_html(\"test_output_plots/\" + score1 + \"_v_\" + score2 + \".html\")\n",
    "fig.show()"
   ]
  },
  {
   "cell_type": "markdown",
   "id": "6f69ebe3",
   "metadata": {},
   "source": [
    "You can also label points that are above a certain threshold."
   ]
  },
  {
   "cell_type": "code",
   "execution_count": 13,
   "id": "88ed4f70",
   "metadata": {},
   "outputs": [
    {
     "data": {
      "application/vnd.plotly.v1+json": {
       "config": {
        "plotlyServerURL": "https://plot.ly"
       },
       "data": [
        {
         "customdata": [
          [
           "c.-976G>C",
           46,
           40,
           0.1208633088754229,
           -0.31042716
          ],
          [
           "c.-835C>T",
           14,
           10,
           -0.2180519607039563,
           -0.30545247
          ],
          [
           "c.-765G>A",
           5,
           1,
           0.1344942670781819,
           -0.30840835
          ],
          [
           "c.-959G>T",
           1,
           0,
           0.2687975979283514,
           -0.210069
          ],
          [
           "c.-1241A>G",
           1,
           0,
           0.5957476083401723,
           0.912988
          ],
          [
           "c.-1060C>A",
           1,
           0,
           -0.140460824611317,
           0.48435244
          ],
          [
           "c.-993G>C",
           1,
           0,
           0.0651428149934094,
           -0.28816453
          ],
          [
           "c.-1087C>A",
           1,
           0,
           -0.2420684289376886,
           -0.28552425
          ],
          [
           "c.-908T>G",
           1,
           0,
           1.8255895134754423,
           2.8788726
          ],
          [
           "c.-1191G>A",
           12,
           5,
           -0.334273513247183,
           -0.28358796
          ],
          [
           "c.-1255C>A",
           1,
           0,
           -0.3792974306829464,
           -0.24242915
          ],
          [
           "c.-1014G>A",
           1,
           0,
           0.0221117217900808,
           -0.3075965
          ],
          [
           "c.-1175C>T",
           3,
           0,
           0.0410491721003367,
           -0.27711862
          ],
          [
           "c.-1079C>T",
           1,
           0,
           0.0266751533027296,
           -0.3111888
          ],
          [
           "c.-797G>A",
           2,
           0,
           -0.0906762120624868,
           -0.27857962
          ],
          [
           "c.-1058T>G",
           1,
           0,
           0.0926249643521988,
           -0.2973186
          ],
          [
           "c.-1014G>T",
           1,
           0,
           -0.2681115816949013,
           -0.29031762
          ],
          [
           "c.-864T>C",
           1,
           0,
           0.5796454984906916,
           -0.2600147
          ],
          [
           "c.-819A>G",
           3,
           0,
           -1.4385857212155209,
           1.4452972
          ],
          [
           "c.-976G>A",
           48,
           25,
           -0.0723423058526808,
           -0.3024251
          ],
          [
           "c.-1276A>G",
           1,
           0,
           -0.3454754710450736,
           -0.28710714
          ],
          [
           "c.-893T>C",
           1,
           0,
           0.1721140216072587,
           -0.28592512
          ],
          [
           "c.-1044G>T",
           1,
           0,
           0.6417056156468899,
           -0.22899696
          ],
          [
           "c.-832G>A",
           1,
           0,
           -0.0767365251491867,
           -0.28303555
          ],
          [
           "c.-1052C>T",
           2,
           0,
           -1.139263552446721,
           0.95133114
          ],
          [
           "c.-860A>C",
           1,
           0,
           -0.1134859449138847,
           -0.28514475
          ],
          [
           "c.-966G>A",
           1,
           0,
           0.1798252759806988,
           -0.3027872
          ],
          [
           "c.-1096G>T",
           1,
           0,
           0.6740577456097228,
           -0.025825987
          ],
          [
           "c.-924C>T",
           3,
           1,
           -0.2104852848461007,
           -0.2970602
          ],
          [
           "c.-857C>T",
           1,
           0,
           0.4111747870082318,
           -0.24557945
          ],
          [
           "c.-1008G>T",
           1,
           0,
           0.6301786966355909,
           -0.24714498
          ],
          [
           "c.-850G>A",
           1,
           0,
           -0.6879081013469222,
           -0.24789996
          ],
          [
           "c.-1237G>T",
           1,
           0,
           0.0026703030325698,
           -0.16688687
          ],
          [
           "c.-1145A>C",
           2,
           1,
           0.0781180612032184,
           -0.22308026
          ],
          [
           "c.-921G>A",
           3,
           1,
           -0.1542462385252445,
           -0.2450989
          ],
          [
           "c.-859C>G",
           2,
           0,
           0.8374033900622244,
           -0.030512262
          ],
          [
           "c.-1010C>T",
           1,
           0,
           0.0742694682426137,
           -0.30437383
          ],
          [
           "c.-791G>A",
           1,
           0,
           0.0004772496321265,
           -0.3099511
          ],
          [
           "c.-820C>T",
           1,
           0,
           -0.4819564987747462,
           0.5617587
          ],
          [
           "c.-802G>A",
           2,
           0,
           -0.3036590723817518,
           -0.2265236
          ],
          [
           "c.-998C>G",
           1,
           0,
           -0.2202679996556593,
           -0.2768369
          ],
          [
           "c.-752G>T",
           1,
           0,
           0.0260762467597466,
           -0.2797237
          ],
          [
           "c.-864T>G",
           1,
           0,
           0.1652231153206251,
           -0.294197
          ],
          [
           "c.-1288C>T",
           1,
           0,
           -0.1006019819876655,
           -0.19237463
          ],
          [
           "c.-1193C>T",
           1,
           0,
           -0.2698869015079879,
           -0.10574781
          ],
          [
           "c.-1066C>T",
           1,
           0,
           -0.1555489203083695,
           -0.29714757
          ],
          [
           "c.-1031C>T",
           1,
           0,
           -0.242316717939385,
           2.4851706
          ],
          [
           "c.-987C>T",
           2,
           0,
           -0.3660626140571565,
           -0.17680109
          ],
          [
           "c.-1236C>G",
           1,
           0,
           -0.0316243673227383,
           0.025477823
          ],
          [
           "c.-1139A>T",
           1,
           0,
           -0.4622477948355428,
           -0.2600474
          ],
          [
           "c.-1026C>T",
           1,
           0,
           0.1496983122439434,
           -0.08384235
          ],
          [
           "c.-996C>T",
           1,
           0,
           0.0757226955206942,
           -0.31401864
          ],
          [
           "c.-837C>T",
           5,
           2,
           0.1065698145138753,
           -0.3054674
          ],
          [
           "c.-902G>A",
           1,
           0,
           0.4310196620724902,
           -0.2835243
          ],
          [
           "c.-860A>G",
           6,
           1,
           0.5401510785441985,
           -0.25380164
          ],
          [
           "c.-1203G>A",
           2,
           0,
           0.2650057369847012,
           -0.26806837
          ],
          [
           "c.-905C>A",
           2,
           0,
           -0.8679063311441482,
           -0.15776263
          ],
          [
           "c.-876C>A",
           1,
           0,
           -0.209390135429917,
           -0.2870507
          ],
          [
           "c.-944C>T",
           5,
           4,
           -0.382987964650118,
           -0.22117811
          ],
          [
           "c.-1241A>C",
           1,
           0,
           0.3357585696249678,
           -0.2570477
          ],
          [
           "c.-1124G>A",
           1,
           0,
           -3.060952454793279,
           5.7656474
          ],
          [
           "c.-1203G>C",
           1,
           0,
           -0.2211308871441843,
           -0.28677878
          ],
          [
           "c.-968G>A",
           1,
           0,
           0.0711206720897017,
           -0.30416617
          ],
          [
           "c.-1296G>T",
           3,
           0,
           0.3518156995805661,
           -0.29803875
          ],
          [
           "c.-888T>C",
           1,
           0,
           0.1971055909552372,
           -0.30320162
          ],
          [
           "c.-1165G>A",
           1,
           0,
           0.1167130158877682,
           -0.28144354
          ],
          [
           "c.-1212C>T",
           1,
           0,
           0.080059035938703,
           -0.29934373
          ],
          [
           "c.-933G>A",
           2,
           0,
           -2.084704081160241,
           4.087852
          ],
          [
           "c.-1003C>T",
           1,
           0,
           0.1758609561251116,
           -0.30726627
          ],
          [
           "c.-946G>C",
           1,
           0,
           -0.1456555261772862,
           -0.31072748
          ],
          [
           "c.-1097G>A",
           1,
           0,
           0.4716357840357492,
           -0.20120637
          ],
          [
           "c.-825G>A",
           1,
           0,
           -0.006214333302065,
           -0.29215294
          ],
          [
           "c.-844T>C",
           6,
           3,
           0.1141004447136353,
           -0.30036274
          ],
          [
           "c.-852G>A",
           1,
           0,
           -0.2098321259159412,
           -0.30376318
          ],
          [
           "c.-1178C>T",
           1,
           0,
           -0.3829832153238612,
           -0.06895838
          ],
          [
           "c.-836T>G",
           1,
           0,
           0.1126806531004191,
           -0.29169682
          ],
          [
           "c.-801T>C",
           1,
           0,
           0.0315134016374969,
           -0.30895323
          ],
          [
           "c.-965G>A",
           1,
           0,
           0.2100895081839304,
           -0.2993084
          ],
          [
           "c.-1295T>G",
           1,
           0,
           0.5999936671232753,
           -0.24307449
          ],
          [
           "c.-1082A>C",
           1,
           0,
           -0.6394251000045017,
           -0.16996229
          ],
          [
           "c.-956C>T",
           1,
           0,
           -0.1925020244661333,
           -0.28700227
          ],
          [
           "c.-8T>C",
           1,
           0,
           -0.1020997500260776,
           -0.30312112
          ],
          [
           "c.-1222G>C",
           1,
           0,
           0.368299593547448,
           -0.28217784
          ],
          [
           "c.-1137G>A",
           2,
           1,
           0.1205545412013329,
           -0.29706502
          ],
          [
           "c.-1206G>A",
           6,
           0,
           0.1453800303052084,
           -0.27629057
          ],
          [
           "c.-930G>A",
           5,
           3,
           -2.858370999159442,
           4.768665
          ],
          [
           "c.-822G>A",
           1,
           0,
           -0.2994951762052515,
           -0.15100779
          ],
          [
           "c.-1257G>C",
           1,
           0,
           0.0693946683925901,
           -0.28416178
          ],
          [
           "c.-1177T>G",
           3,
           0,
           -0.2297438234502031,
           0.06610043
          ],
          [
           "c.-857C>G",
           3,
           1,
           0.0978061702522747,
           -0.3014512
          ],
          [
           "c.-960C>T",
           1,
           0,
           0.3739594410960407,
           -0.23027834
          ],
          [
           "c.-856G>C",
           1,
           0,
           -0.4200684481567069,
           -0.29893085
          ],
          [
           "c.-1080C>T",
           1,
           0,
           0.4518714684472034,
           -0.25175232
          ],
          [
           "c.-814G>A",
           4,
           0,
           -0.0743698698638013,
           -0.24211264
          ],
          [
           "c.-949C>T",
           1,
           0,
           -0.7920032749863655,
           -0.1398482
          ],
          [
           "c.-1171C>A",
           3,
           2,
           -0.3149792824878616,
           0.8475105
          ],
          [
           "c.-1020C>T",
           1,
           0,
           0.0540014855235799,
           -0.27700734
          ],
          [
           "c.-910T>G",
           1,
           0,
           -0.3154901519347888,
           -0.27534425
          ],
          [
           "c.-1077G>C",
           6,
           2,
           -0.1115847530770892,
           -0.29181138
          ],
          [
           "c.-842C>T",
           2,
           0,
           -0.1733826843609396,
           -0.27898896
          ],
          [
           "c.-1291C>T",
           2,
           0,
           -0.1299687720002893,
           -0.2557042
          ],
          [
           "c.-1089C>A",
           1,
           0,
           -0.2238433213777995,
           -0.2595236
          ],
          [
           "c.-1099G>T",
           1,
           0,
           0.3270493446797466,
           -0.29487672
          ],
          [
           "c.-1175C>A",
           3,
           1,
           -0.3521565696690203,
           -0.21822801
          ],
          [
           "c.-1172G>A",
           1,
           0,
           -0.0877924679556692,
           -0.30180487
          ],
          [
           "c.-1171C>T",
           15,
           7,
           -1.0944127129411818,
           -0.14355326
          ],
          [
           "c.-1061C>T",
           1,
           0,
           0.2515346856660958,
           0.9101511
          ],
          [
           "c.-789G>A",
           3,
           0,
           -0.0339211981237106,
           -0.2918053
          ],
          [
           "c.-968G>C",
           1,
           0,
           -0.322710870094518,
           -0.27983686
          ],
          [
           "c.-1243G>A",
           16,
           7,
           0.3601955917344774,
           -0.25287363
          ],
          [
           "c.-916C>A",
           1,
           0,
           -0.1672576550839934,
           -0.28236628
          ],
          [
           "c.-905C>T",
           2,
           0,
           -0.5750562312760223,
           -0.2511552
          ],
          [
           "c.-833C>T",
           1,
           0,
           -0.3685359537794603,
           -0.2744731
          ],
          [
           "c.-937G>A",
           1,
           0,
           1.231481556297279,
           1.519837
          ],
          [
           "c.203A>G",
           1,
           0,
           0.1371225876694772,
           -0.3110953
          ],
          [
           "c.850G>T",
           1,
           0,
           -0.5042026927070005,
           -0.2537575
          ],
          [
           "c.635-3C>G",
           1,
           0,
           0.0979021564087538,
           -0.3133524
          ],
          [
           "c.388C>T",
           3,
           0,
           -0.0568687957478815,
           -0.3179262
          ]
         ],
         "hovertemplate": "Case/Control=Control<br>E5 B-cell-like=%{customdata[3]}<br>Disease Impact Score=%{customdata[4]}<br>Text Labels=%{text}<br>Alteration=%{customdata[0]}<br>Breast Cancer Case Alleles=%{customdata[1]}<br>Control Alleles=%{customdata[2]}<extra></extra>",
         "legendgroup": "Control",
         "marker": {
          "color": "#2ca02c",
          "size": 7,
          "symbol": "circle"
         },
         "mode": "markers+text",
         "name": "Control",
         "orientation": "v",
         "showlegend": true,
         "text": [
          "",
          "",
          "",
          "",
          "",
          "",
          "",
          "",
          "908T>G",
          "",
          "",
          "",
          "",
          "",
          "",
          "",
          "",
          "",
          "819A>G",
          "",
          "",
          "",
          "",
          "",
          "",
          "",
          "",
          "",
          "",
          "",
          "",
          "",
          "",
          "",
          "",
          "",
          "",
          "",
          "",
          "",
          "",
          "",
          "",
          "",
          "",
          "",
          "1031C>T",
          "",
          "",
          "",
          "",
          "",
          "",
          "",
          "",
          "",
          "",
          "",
          "",
          "",
          "1124G>A",
          "",
          "",
          "",
          "",
          "",
          "",
          "933G>A",
          "",
          "",
          "",
          "",
          "",
          "",
          "",
          "",
          "",
          "",
          "",
          "",
          "",
          "",
          "",
          "",
          "",
          "930G>A",
          "",
          "",
          "",
          "",
          "",
          "",
          "",
          "",
          "",
          "",
          "",
          "",
          "",
          "",
          "",
          "",
          "",
          "",
          "",
          "",
          "",
          "",
          "",
          "",
          "",
          "",
          "",
          "937G>A",
          "",
          "",
          "",
          ""
         ],
         "textposition": "bottom center",
         "type": "scatter",
         "x": [
          0.1208633088754229,
          -0.2180519607039563,
          0.1344942670781819,
          0.2687975979283514,
          0.5957476083401723,
          -0.140460824611317,
          0.0651428149934094,
          -0.2420684289376886,
          1.8255895134754423,
          -0.334273513247183,
          -0.3792974306829464,
          0.0221117217900808,
          0.0410491721003367,
          0.0266751533027296,
          -0.0906762120624868,
          0.0926249643521988,
          -0.2681115816949013,
          0.5796454984906916,
          -1.4385857212155209,
          -0.0723423058526808,
          -0.3454754710450736,
          0.1721140216072587,
          0.6417056156468899,
          -0.0767365251491867,
          -1.139263552446721,
          -0.1134859449138847,
          0.1798252759806988,
          0.6740577456097228,
          -0.2104852848461007,
          0.4111747870082318,
          0.6301786966355909,
          -0.6879081013469222,
          0.0026703030325698,
          0.0781180612032184,
          -0.1542462385252445,
          0.8374033900622244,
          0.0742694682426137,
          0.0004772496321265,
          -0.4819564987747462,
          -0.3036590723817518,
          -0.2202679996556593,
          0.0260762467597466,
          0.1652231153206251,
          -0.1006019819876655,
          -0.2698869015079879,
          -0.1555489203083695,
          -0.242316717939385,
          -0.3660626140571565,
          -0.0316243673227383,
          -0.4622477948355428,
          0.1496983122439434,
          0.0757226955206942,
          0.1065698145138753,
          0.4310196620724902,
          0.5401510785441985,
          0.2650057369847012,
          -0.8679063311441482,
          -0.209390135429917,
          -0.382987964650118,
          0.3357585696249678,
          -3.060952454793279,
          -0.2211308871441843,
          0.0711206720897017,
          0.3518156995805661,
          0.1971055909552372,
          0.1167130158877682,
          0.080059035938703,
          -2.084704081160241,
          0.1758609561251116,
          -0.1456555261772862,
          0.4716357840357492,
          -0.006214333302065,
          0.1141004447136353,
          -0.2098321259159412,
          -0.3829832153238612,
          0.1126806531004191,
          0.0315134016374969,
          0.2100895081839304,
          0.5999936671232753,
          -0.6394251000045017,
          -0.1925020244661333,
          -0.1020997500260776,
          0.368299593547448,
          0.1205545412013329,
          0.1453800303052084,
          -2.858370999159442,
          -0.2994951762052515,
          0.0693946683925901,
          -0.2297438234502031,
          0.0978061702522747,
          0.3739594410960407,
          -0.4200684481567069,
          0.4518714684472034,
          -0.0743698698638013,
          -0.7920032749863655,
          -0.3149792824878616,
          0.0540014855235799,
          -0.3154901519347888,
          -0.1115847530770892,
          -0.1733826843609396,
          -0.1299687720002893,
          -0.2238433213777995,
          0.3270493446797466,
          -0.3521565696690203,
          -0.0877924679556692,
          -1.0944127129411818,
          0.2515346856660958,
          -0.0339211981237106,
          -0.322710870094518,
          0.3601955917344774,
          -0.1672576550839934,
          -0.5750562312760223,
          -0.3685359537794603,
          1.231481556297279,
          0.1371225876694772,
          -0.5042026927070005,
          0.0979021564087538,
          -0.0568687957478815
         ],
         "xaxis": "x",
         "y": [
          -0.31042716,
          -0.30545247,
          -0.30840835,
          -0.210069,
          0.912988,
          0.48435244,
          -0.28816453,
          -0.28552425,
          2.8788726,
          -0.28358796,
          -0.24242915,
          -0.3075965,
          -0.27711862,
          -0.3111888,
          -0.27857962,
          -0.2973186,
          -0.29031762,
          -0.2600147,
          1.4452972,
          -0.3024251,
          -0.28710714,
          -0.28592512,
          -0.22899696,
          -0.28303555,
          0.95133114,
          -0.28514475,
          -0.3027872,
          -0.025825987,
          -0.2970602,
          -0.24557945,
          -0.24714498,
          -0.24789996,
          -0.16688687,
          -0.22308026,
          -0.2450989,
          -0.030512262,
          -0.30437383,
          -0.3099511,
          0.5617587,
          -0.2265236,
          -0.2768369,
          -0.2797237,
          -0.294197,
          -0.19237463,
          -0.10574781,
          -0.29714757,
          2.4851706,
          -0.17680109,
          0.025477823,
          -0.2600474,
          -0.08384235,
          -0.31401864,
          -0.3054674,
          -0.2835243,
          -0.25380164,
          -0.26806837,
          -0.15776263,
          -0.2870507,
          -0.22117811,
          -0.2570477,
          5.7656474,
          -0.28677878,
          -0.30416617,
          -0.29803875,
          -0.30320162,
          -0.28144354,
          -0.29934373,
          4.087852,
          -0.30726627,
          -0.31072748,
          -0.20120637,
          -0.29215294,
          -0.30036274,
          -0.30376318,
          -0.06895838,
          -0.29169682,
          -0.30895323,
          -0.2993084,
          -0.24307449,
          -0.16996229,
          -0.28700227,
          -0.30312112,
          -0.28217784,
          -0.29706502,
          -0.27629057,
          4.768665,
          -0.15100779,
          -0.28416178,
          0.06610043,
          -0.3014512,
          -0.23027834,
          -0.29893085,
          -0.25175232,
          -0.24211264,
          -0.1398482,
          0.8475105,
          -0.27700734,
          -0.27534425,
          -0.29181138,
          -0.27898896,
          -0.2557042,
          -0.2595236,
          -0.29487672,
          -0.21822801,
          -0.30180487,
          -0.14355326,
          0.9101511,
          -0.2918053,
          -0.27983686,
          -0.25287363,
          -0.28236628,
          -0.2511552,
          -0.2744731,
          1.519837,
          -0.3110953,
          -0.2537575,
          -0.3133524,
          -0.3179262
         ],
         "yaxis": "y"
        },
        {
         "customdata": [
          [
           "c.-931G>A",
           0,
           1,
           -2.7660290216517787,
           4.7237883
          ],
          [
           "c.-1151C>G",
           0,
           1,
           -0.5018252625124902,
           -0.2772834
          ],
          [
           "c.-1084G>C",
           0,
           1,
           -0.4014605787233751,
           -0.22656235
          ],
          [
           "c.-1113A>G",
           0,
           1,
           -0.2099323247304809,
           -0.29739004
          ],
          [
           "c.-785C>T",
           0,
           1,
           0.0232387417182877,
           -0.22513963
          ],
          [
           "c.-14A>C",
           0,
           1,
           -0.0861077151373272,
           -0.3138859
          ],
          [
           "c.-1075G>A",
           0,
           1,
           0.2318883777525098,
           -0.30110642
          ],
          [
           "c.-1026C>G",
           0,
           1,
           0.1815326124554701,
           0.0068683196
          ],
          [
           "c.-1208G>A",
           0,
           1,
           -0.1012839006800661,
           -0.28175122
          ],
          [
           "c.-1138G>A",
           0,
           1,
           -0.0490099269637287,
           -0.30325824
          ],
          [
           "c.-1246T>C",
           0,
           1,
           0.2850596924981055,
           -0.029809356
          ],
          [
           "c.-1297A>G",
           0,
           1,
           -0.2778242898093133,
           -0.29709804
          ],
          [
           "c.-989C>A",
           0,
           1,
           0.3363006504670025,
           -0.2550719
          ],
          [
           "c.-826T>C",
           0,
           1,
           0.0672017124613084,
           -0.3004892
          ],
          [
           "c.-1282C>T",
           0,
           1,
           -0.6792610398116601,
           0.24518675
          ],
          [
           "c.-1267C>G",
           0,
           1,
           0.1282822101350973,
           -0.2353624
          ],
          [
           "c.-1258C>T",
           0,
           1,
           -0.0998336856994157,
           -0.2509139
          ],
          [
           "c.-772A>G",
           0,
           1,
           -0.0800240776972316,
           -0.29863963
          ],
          [
           "c.-1081C>T",
           0,
           2,
           0.291063541123318,
           -0.29297704
          ],
          [
           "c.-806G>A",
           0,
           1,
           0.1740363878520767,
           -0.3055854
          ],
          [
           "c.-1098G>A",
           0,
           1,
           0.3337553651190301,
           -0.27155632
          ],
          [
           "c.-1002C>A",
           0,
           1,
           -0.2148733638400806,
           -0.2906687
          ],
          [
           "c.-1182G>T",
           0,
           1,
           0.1129190436106135,
           -0.13465233
          ],
          [
           "c.-952C>T",
           0,
           1,
           0.2483257384024941,
           -0.2972158
          ],
          [
           "c.-754A>T",
           0,
           1,
           -0.07695330153933,
           -0.2994011
          ],
          [
           "c.-1021C>T",
           0,
           1,
           0.0699472284595987,
           -0.23598363
          ],
          [
           "c.-798A>G",
           1,
           3,
           -0.0803563161419411,
           -0.29122505
          ],
          [
           "c.-873G>C",
           0,
           1,
           1.3563111585644307,
           0.65410674
          ],
          [
           "c.-1235C>T",
           0,
           4,
           -0.2931772537070714,
           -0.27369812
          ],
          [
           "c.-1279C>G",
           0,
           1,
           -0.3984927903290511,
           -0.15746075
          ],
          [
           "c.-1101T>G",
           0,
           1,
           0.0809649647595947,
           -0.30051172
          ],
          [
           "c.-1207C>G",
           0,
           1,
           -0.2132478628886218,
           -0.20255795
          ],
          [
           "c.-913T>C",
           0,
           1,
           0.0398401830997752,
           -0.29375508
          ],
          [
           "c.-1110G>T",
           0,
           1,
           -0.5762312979292474,
           -0.14626919
          ],
          [
           "c.-934G>C",
           0,
           1,
           -2.6240448856124186,
           4.1235275
          ],
          [
           "c.-941C>T",
           0,
           1,
           -0.4511115115520088,
           -0.27249792
          ],
          [
           "c.-866G>C",
           0,
           1,
           -0.614017722838426,
           -0.17185558
          ],
          [
           "c.-867C>T",
           0,
           1,
           -0.3171642665361958,
           -0.2975507
          ],
          [
           "c.-1048C>A",
           0,
           1,
           -0.924482713416502,
           5.8466396
          ],
          [
           "c.-1169G>T",
           0,
           1,
           -0.518538813353068,
           -0.24792273
          ],
          [
           "c.-1173G>A",
           0,
           1,
           0.0691419250574512,
           -0.26392713
          ],
          [
           "c.-917G>C",
           0,
           1,
           -1.1270603499024592,
           -0.027409686
          ],
          [
           "c.-857C>A",
           0,
           1,
           -0.4695931741319636,
           -0.27835655
          ],
          [
           "c.518G>C",
           0,
           1,
           0.0941017044892671,
           -0.3143376
          ]
         ],
         "hovertemplate": "Case/Control=Case<br>E5 B-cell-like=%{customdata[3]}<br>Disease Impact Score=%{customdata[4]}<br>Text Labels=%{text}<br>Alteration=%{customdata[0]}<br>Breast Cancer Case Alleles=%{customdata[1]}<br>Control Alleles=%{customdata[2]}<extra></extra>",
         "legendgroup": "Case",
         "marker": {
          "color": "red",
          "size": 7,
          "symbol": "circle"
         },
         "mode": "markers+text",
         "name": "Case",
         "orientation": "v",
         "showlegend": true,
         "text": [
          "931G>A",
          "",
          "",
          "",
          "",
          "",
          "",
          "",
          "",
          "",
          "",
          "",
          "",
          "",
          "",
          "",
          "",
          "",
          "",
          "",
          "",
          "",
          "",
          "",
          "",
          "",
          "",
          "873G>C",
          "",
          "",
          "",
          "",
          "",
          "",
          "934G>C",
          "",
          "",
          "",
          "1048C>A",
          "",
          "",
          "",
          "",
          ""
         ],
         "textposition": "bottom center",
         "type": "scatter",
         "x": [
          -2.7660290216517787,
          -0.5018252625124902,
          -0.4014605787233751,
          -0.2099323247304809,
          0.0232387417182877,
          -0.0861077151373272,
          0.2318883777525098,
          0.1815326124554701,
          -0.1012839006800661,
          -0.0490099269637287,
          0.2850596924981055,
          -0.2778242898093133,
          0.3363006504670025,
          0.0672017124613084,
          -0.6792610398116601,
          0.1282822101350973,
          -0.0998336856994157,
          -0.0800240776972316,
          0.291063541123318,
          0.1740363878520767,
          0.3337553651190301,
          -0.2148733638400806,
          0.1129190436106135,
          0.2483257384024941,
          -0.07695330153933,
          0.0699472284595987,
          -0.0803563161419411,
          1.3563111585644307,
          -0.2931772537070714,
          -0.3984927903290511,
          0.0809649647595947,
          -0.2132478628886218,
          0.0398401830997752,
          -0.5762312979292474,
          -2.6240448856124186,
          -0.4511115115520088,
          -0.614017722838426,
          -0.3171642665361958,
          -0.924482713416502,
          -0.518538813353068,
          0.0691419250574512,
          -1.1270603499024592,
          -0.4695931741319636,
          0.0941017044892671
         ],
         "xaxis": "x",
         "y": [
          4.7237883,
          -0.2772834,
          -0.22656235,
          -0.29739004,
          -0.22513963,
          -0.3138859,
          -0.30110642,
          0.0068683196,
          -0.28175122,
          -0.30325824,
          -0.029809356,
          -0.29709804,
          -0.2550719,
          -0.3004892,
          0.24518675,
          -0.2353624,
          -0.2509139,
          -0.29863963,
          -0.29297704,
          -0.3055854,
          -0.27155632,
          -0.2906687,
          -0.13465233,
          -0.2972158,
          -0.2994011,
          -0.23598363,
          -0.29122505,
          0.65410674,
          -0.27369812,
          -0.15746075,
          -0.30051172,
          -0.20255795,
          -0.29375508,
          -0.14626919,
          4.1235275,
          -0.27249792,
          -0.17185558,
          -0.2975507,
          5.8466396,
          -0.24792273,
          -0.26392713,
          -0.027409686,
          -0.27835655,
          -0.3143376
         ],
         "yaxis": "y"
        },
        {
         "customdata": [
          [
           "c.-873G>A",
           1,
           1,
           0.0315127445399916,
           -0.3083085
          ],
          [
           "c.-1213G>T",
           1,
           1,
           0.0556577619664544,
           -0.3009221
          ],
          [
           "c.-772A>C",
           1,
           1,
           -0.0352868986494598,
           -0.29018652
          ],
          [
           "c.-863G>T",
           0,
           0,
           -0.2367423059923261,
           -0.29969168
          ],
          [
           "c.-814G>T",
           1,
           1,
           -0.0517150045534045,
           -0.21014719
          ],
          [
           "c.-1045T>A",
           3,
           4,
           0.0329509232477676,
           -0.31688422
          ],
          [
           "c.-1042C>G",
           1,
           1,
           0.3216945366320978,
           0.5167751
          ],
          [
           "c.-840C>T",
           0,
           0,
           0.226863245595835,
           -0.2954436
          ],
          [
           "c.-1294C>T",
           1,
           2,
           0.0241360390358309,
           -0.29670772
          ],
          [
           "c.-946G>A",
           1,
           1,
           0.1742609933129575,
           -0.2326076
          ],
          [
           "c.-1088G>A",
           1,
           1,
           -0.1911186561649511,
           -0.29310074
          ],
          [
           "c.-1091T>C",
           0,
           0,
           0.3954719467684242,
           -0.28196535
          ],
          [
           "c.-1240G>A",
           1,
           2,
           0.2868598642705215,
           -0.15878871
          ],
          [
           "c.-1155G>A",
           1,
           1,
           -0.0970952819114145,
           -0.28222626
          ],
          [
           "c.-1083C>T",
           1,
           1,
           0.209021850795251,
           -0.29356986
          ],
          [
           "c.-904G>C",
           1,
           1,
           -0.7795936195141415,
           -0.20353708
          ],
          [
           "c.-1008G>A",
           1,
           1,
           0.1564328622903303,
           -0.3132622
          ],
          [
           "c.-1079C>G",
           0,
           0,
           0.2613718241422429,
           -0.29867613
          ],
          [
           "c.-898C>G",
           1,
           1,
           0.051549381728746,
           -0.2917442
          ],
          [
           "c.-1047C>T",
           0,
           0,
           0.1494354222198879,
           3.638431
          ],
          [
           "c.-1205T>C",
           1,
           1,
           0.2797571412515935,
           -0.2472203
          ],
          [
           "c.-851C>A",
           1,
           1,
           -0.6697547209054413,
           -0.20960693
          ],
          [
           "c.-1143C>A",
           0,
           0,
           -0.2858158896114169,
           -0.2728805
          ],
          [
           "c.-1058T>A",
           0,
           0,
           -0.0010918376650668,
           -0.31021208
          ],
          [
           "c.-1050C>T",
           2,
           3,
           -0.2836864272878259,
           5.462512
          ],
          [
           "c.-869G>C",
           3,
           6,
           -0.4312751134989838,
           -0.2771244
          ],
          [
           "c.-1170T>C",
           1,
           1,
           0.1591840966968547,
           -0.2426439
          ],
          [
           "c.-1246T>G",
           0,
           0,
           -0.7946106668139237,
           -0.17521232
          ],
          [
           "c.-747C>T",
           0,
           0,
           -0.0710137160430335,
           -0.20047036
          ],
          [
           "c.-755G>A",
           1,
           1,
           -0.0138821055012492,
           -0.31552553
          ],
          [
           "c.-926G>A",
           0,
           0,
           0.0110780674377632,
           -0.2926354
          ],
          [
           "c.-795C>T",
           1,
           1,
           -0.1346922825065277,
           -0.30704033
          ],
          [
           "c.-862G>C",
           0,
           0,
           0.4041234175689876,
           -0.2615097
          ],
          [
           "c.-1085C>G",
           1,
           1,
           -0.2995906221059137,
           -0.27991518
          ],
          [
           "c.-1101T>C",
           0,
           0,
           0.0607327259076875,
           -0.2927141
          ],
          [
           "c.-1103G>A",
           0,
           0,
           0.0720330350254663,
           -0.3043829
          ],
          [
           "c.-851C>T",
           1,
           1,
           -0.8164378903787366,
           -0.21241294
          ],
          [
           "c.-828G>A",
           1,
           1,
           0.1959622471129201,
           -0.30971053
          ],
          [
           "c.-983T>C",
           0,
           0,
           0.3499381852801377,
           -0.00040207867
          ],
          [
           "c.-1062C>A",
           1,
           1,
           -0.0790678489343328,
           0.6201936
          ],
          [
           "c.1003C>T",
           1,
           2,
           0.1752911562665176,
           -0.30725786
          ]
         ],
         "hovertemplate": "Case/Control=Equal<br>E5 B-cell-like=%{customdata[3]}<br>Disease Impact Score=%{customdata[4]}<br>Text Labels=%{text}<br>Alteration=%{customdata[0]}<br>Breast Cancer Case Alleles=%{customdata[1]}<br>Control Alleles=%{customdata[2]}<extra></extra>",
         "legendgroup": "Equal",
         "marker": {
          "color": "black",
          "size": 7,
          "symbol": "circle"
         },
         "mode": "markers+text",
         "name": "Equal",
         "orientation": "v",
         "showlegend": true,
         "text": [
          "",
          "",
          "",
          "",
          "",
          "",
          "",
          "",
          "",
          "",
          "",
          "",
          "",
          "",
          "",
          "",
          "",
          "",
          "",
          "1047C>T",
          "",
          "",
          "",
          "",
          "1050C>T",
          "",
          "",
          "",
          "",
          "",
          "",
          "",
          "",
          "",
          "",
          "",
          "",
          "",
          "",
          "",
          ""
         ],
         "textposition": "bottom center",
         "type": "scatter",
         "x": [
          0.0315127445399916,
          0.0556577619664544,
          -0.0352868986494598,
          -0.2367423059923261,
          -0.0517150045534045,
          0.0329509232477676,
          0.3216945366320978,
          0.226863245595835,
          0.0241360390358309,
          0.1742609933129575,
          -0.1911186561649511,
          0.3954719467684242,
          0.2868598642705215,
          -0.0970952819114145,
          0.209021850795251,
          -0.7795936195141415,
          0.1564328622903303,
          0.2613718241422429,
          0.051549381728746,
          0.1494354222198879,
          0.2797571412515935,
          -0.6697547209054413,
          -0.2858158896114169,
          -0.0010918376650668,
          -0.2836864272878259,
          -0.4312751134989838,
          0.1591840966968547,
          -0.7946106668139237,
          -0.0710137160430335,
          -0.0138821055012492,
          0.0110780674377632,
          -0.1346922825065277,
          0.4041234175689876,
          -0.2995906221059137,
          0.0607327259076875,
          0.0720330350254663,
          -0.8164378903787366,
          0.1959622471129201,
          0.3499381852801377,
          -0.0790678489343328,
          0.1752911562665176
         ],
         "xaxis": "x",
         "y": [
          -0.3083085,
          -0.3009221,
          -0.29018652,
          -0.29969168,
          -0.21014719,
          -0.31688422,
          0.5167751,
          -0.2954436,
          -0.29670772,
          -0.2326076,
          -0.29310074,
          -0.28196535,
          -0.15878871,
          -0.28222626,
          -0.29356986,
          -0.20353708,
          -0.3132622,
          -0.29867613,
          -0.2917442,
          3.638431,
          -0.2472203,
          -0.20960693,
          -0.2728805,
          -0.31021208,
          5.462512,
          -0.2771244,
          -0.2426439,
          -0.17521232,
          -0.20047036,
          -0.31552553,
          -0.2926354,
          -0.30704033,
          -0.2615097,
          -0.27991518,
          -0.2927141,
          -0.3043829,
          -0.21241294,
          -0.30971053,
          -0.00040207867,
          0.6201936,
          -0.30725786
         ],
         "yaxis": "y"
        }
       ],
       "layout": {
        "font": {
         "size": 18
        },
        "legend": {
         "title": {
          "text": "Case/Control"
         },
         "tracegroupgap": 0
        },
        "margin": {
         "t": 60
        },
        "paper_bgcolor": "rgba(0, 0, 0, 0)",
        "plot_bgcolor": "rgba(0, 0, 0, 0)",
        "template": {
         "data": {
          "bar": [
           {
            "error_x": {
             "color": "#2a3f5f"
            },
            "error_y": {
             "color": "#2a3f5f"
            },
            "marker": {
             "line": {
              "color": "#E5ECF6",
              "width": 0.5
             }
            },
            "type": "bar"
           }
          ],
          "barpolar": [
           {
            "marker": {
             "line": {
              "color": "#E5ECF6",
              "width": 0.5
             }
            },
            "type": "barpolar"
           }
          ],
          "carpet": [
           {
            "aaxis": {
             "endlinecolor": "#2a3f5f",
             "gridcolor": "white",
             "linecolor": "white",
             "minorgridcolor": "white",
             "startlinecolor": "#2a3f5f"
            },
            "baxis": {
             "endlinecolor": "#2a3f5f",
             "gridcolor": "white",
             "linecolor": "white",
             "minorgridcolor": "white",
             "startlinecolor": "#2a3f5f"
            },
            "type": "carpet"
           }
          ],
          "choropleth": [
           {
            "colorbar": {
             "outlinewidth": 0,
             "ticks": ""
            },
            "type": "choropleth"
           }
          ],
          "contour": [
           {
            "colorbar": {
             "outlinewidth": 0,
             "ticks": ""
            },
            "colorscale": [
             [
              0,
              "#0d0887"
             ],
             [
              0.1111111111111111,
              "#46039f"
             ],
             [
              0.2222222222222222,
              "#7201a8"
             ],
             [
              0.3333333333333333,
              "#9c179e"
             ],
             [
              0.4444444444444444,
              "#bd3786"
             ],
             [
              0.5555555555555556,
              "#d8576b"
             ],
             [
              0.6666666666666666,
              "#ed7953"
             ],
             [
              0.7777777777777778,
              "#fb9f3a"
             ],
             [
              0.8888888888888888,
              "#fdca26"
             ],
             [
              1,
              "#f0f921"
             ]
            ],
            "type": "contour"
           }
          ],
          "contourcarpet": [
           {
            "colorbar": {
             "outlinewidth": 0,
             "ticks": ""
            },
            "type": "contourcarpet"
           }
          ],
          "heatmap": [
           {
            "colorbar": {
             "outlinewidth": 0,
             "ticks": ""
            },
            "colorscale": [
             [
              0,
              "#0d0887"
             ],
             [
              0.1111111111111111,
              "#46039f"
             ],
             [
              0.2222222222222222,
              "#7201a8"
             ],
             [
              0.3333333333333333,
              "#9c179e"
             ],
             [
              0.4444444444444444,
              "#bd3786"
             ],
             [
              0.5555555555555556,
              "#d8576b"
             ],
             [
              0.6666666666666666,
              "#ed7953"
             ],
             [
              0.7777777777777778,
              "#fb9f3a"
             ],
             [
              0.8888888888888888,
              "#fdca26"
             ],
             [
              1,
              "#f0f921"
             ]
            ],
            "type": "heatmap"
           }
          ],
          "heatmapgl": [
           {
            "colorbar": {
             "outlinewidth": 0,
             "ticks": ""
            },
            "colorscale": [
             [
              0,
              "#0d0887"
             ],
             [
              0.1111111111111111,
              "#46039f"
             ],
             [
              0.2222222222222222,
              "#7201a8"
             ],
             [
              0.3333333333333333,
              "#9c179e"
             ],
             [
              0.4444444444444444,
              "#bd3786"
             ],
             [
              0.5555555555555556,
              "#d8576b"
             ],
             [
              0.6666666666666666,
              "#ed7953"
             ],
             [
              0.7777777777777778,
              "#fb9f3a"
             ],
             [
              0.8888888888888888,
              "#fdca26"
             ],
             [
              1,
              "#f0f921"
             ]
            ],
            "type": "heatmapgl"
           }
          ],
          "histogram": [
           {
            "marker": {
             "colorbar": {
              "outlinewidth": 0,
              "ticks": ""
             }
            },
            "type": "histogram"
           }
          ],
          "histogram2d": [
           {
            "colorbar": {
             "outlinewidth": 0,
             "ticks": ""
            },
            "colorscale": [
             [
              0,
              "#0d0887"
             ],
             [
              0.1111111111111111,
              "#46039f"
             ],
             [
              0.2222222222222222,
              "#7201a8"
             ],
             [
              0.3333333333333333,
              "#9c179e"
             ],
             [
              0.4444444444444444,
              "#bd3786"
             ],
             [
              0.5555555555555556,
              "#d8576b"
             ],
             [
              0.6666666666666666,
              "#ed7953"
             ],
             [
              0.7777777777777778,
              "#fb9f3a"
             ],
             [
              0.8888888888888888,
              "#fdca26"
             ],
             [
              1,
              "#f0f921"
             ]
            ],
            "type": "histogram2d"
           }
          ],
          "histogram2dcontour": [
           {
            "colorbar": {
             "outlinewidth": 0,
             "ticks": ""
            },
            "colorscale": [
             [
              0,
              "#0d0887"
             ],
             [
              0.1111111111111111,
              "#46039f"
             ],
             [
              0.2222222222222222,
              "#7201a8"
             ],
             [
              0.3333333333333333,
              "#9c179e"
             ],
             [
              0.4444444444444444,
              "#bd3786"
             ],
             [
              0.5555555555555556,
              "#d8576b"
             ],
             [
              0.6666666666666666,
              "#ed7953"
             ],
             [
              0.7777777777777778,
              "#fb9f3a"
             ],
             [
              0.8888888888888888,
              "#fdca26"
             ],
             [
              1,
              "#f0f921"
             ]
            ],
            "type": "histogram2dcontour"
           }
          ],
          "mesh3d": [
           {
            "colorbar": {
             "outlinewidth": 0,
             "ticks": ""
            },
            "type": "mesh3d"
           }
          ],
          "parcoords": [
           {
            "line": {
             "colorbar": {
              "outlinewidth": 0,
              "ticks": ""
             }
            },
            "type": "parcoords"
           }
          ],
          "pie": [
           {
            "automargin": true,
            "type": "pie"
           }
          ],
          "scatter": [
           {
            "marker": {
             "colorbar": {
              "outlinewidth": 0,
              "ticks": ""
             }
            },
            "type": "scatter"
           }
          ],
          "scatter3d": [
           {
            "line": {
             "colorbar": {
              "outlinewidth": 0,
              "ticks": ""
             }
            },
            "marker": {
             "colorbar": {
              "outlinewidth": 0,
              "ticks": ""
             }
            },
            "type": "scatter3d"
           }
          ],
          "scattercarpet": [
           {
            "marker": {
             "colorbar": {
              "outlinewidth": 0,
              "ticks": ""
             }
            },
            "type": "scattercarpet"
           }
          ],
          "scattergeo": [
           {
            "marker": {
             "colorbar": {
              "outlinewidth": 0,
              "ticks": ""
             }
            },
            "type": "scattergeo"
           }
          ],
          "scattergl": [
           {
            "marker": {
             "colorbar": {
              "outlinewidth": 0,
              "ticks": ""
             }
            },
            "type": "scattergl"
           }
          ],
          "scattermapbox": [
           {
            "marker": {
             "colorbar": {
              "outlinewidth": 0,
              "ticks": ""
             }
            },
            "type": "scattermapbox"
           }
          ],
          "scatterpolar": [
           {
            "marker": {
             "colorbar": {
              "outlinewidth": 0,
              "ticks": ""
             }
            },
            "type": "scatterpolar"
           }
          ],
          "scatterpolargl": [
           {
            "marker": {
             "colorbar": {
              "outlinewidth": 0,
              "ticks": ""
             }
            },
            "type": "scatterpolargl"
           }
          ],
          "scatterternary": [
           {
            "marker": {
             "colorbar": {
              "outlinewidth": 0,
              "ticks": ""
             }
            },
            "type": "scatterternary"
           }
          ],
          "surface": [
           {
            "colorbar": {
             "outlinewidth": 0,
             "ticks": ""
            },
            "colorscale": [
             [
              0,
              "#0d0887"
             ],
             [
              0.1111111111111111,
              "#46039f"
             ],
             [
              0.2222222222222222,
              "#7201a8"
             ],
             [
              0.3333333333333333,
              "#9c179e"
             ],
             [
              0.4444444444444444,
              "#bd3786"
             ],
             [
              0.5555555555555556,
              "#d8576b"
             ],
             [
              0.6666666666666666,
              "#ed7953"
             ],
             [
              0.7777777777777778,
              "#fb9f3a"
             ],
             [
              0.8888888888888888,
              "#fdca26"
             ],
             [
              1,
              "#f0f921"
             ]
            ],
            "type": "surface"
           }
          ],
          "table": [
           {
            "cells": {
             "fill": {
              "color": "#EBF0F8"
             },
             "line": {
              "color": "white"
             }
            },
            "header": {
             "fill": {
              "color": "#C8D4E3"
             },
             "line": {
              "color": "white"
             }
            },
            "type": "table"
           }
          ]
         },
         "layout": {
          "annotationdefaults": {
           "arrowcolor": "#2a3f5f",
           "arrowhead": 0,
           "arrowwidth": 1
          },
          "coloraxis": {
           "colorbar": {
            "outlinewidth": 0,
            "ticks": ""
           }
          },
          "colorscale": {
           "diverging": [
            [
             0,
             "#8e0152"
            ],
            [
             0.1,
             "#c51b7d"
            ],
            [
             0.2,
             "#de77ae"
            ],
            [
             0.3,
             "#f1b6da"
            ],
            [
             0.4,
             "#fde0ef"
            ],
            [
             0.5,
             "#f7f7f7"
            ],
            [
             0.6,
             "#e6f5d0"
            ],
            [
             0.7,
             "#b8e186"
            ],
            [
             0.8,
             "#7fbc41"
            ],
            [
             0.9,
             "#4d9221"
            ],
            [
             1,
             "#276419"
            ]
           ],
           "sequential": [
            [
             0,
             "#0d0887"
            ],
            [
             0.1111111111111111,
             "#46039f"
            ],
            [
             0.2222222222222222,
             "#7201a8"
            ],
            [
             0.3333333333333333,
             "#9c179e"
            ],
            [
             0.4444444444444444,
             "#bd3786"
            ],
            [
             0.5555555555555556,
             "#d8576b"
            ],
            [
             0.6666666666666666,
             "#ed7953"
            ],
            [
             0.7777777777777778,
             "#fb9f3a"
            ],
            [
             0.8888888888888888,
             "#fdca26"
            ],
            [
             1,
             "#f0f921"
            ]
           ],
           "sequentialminus": [
            [
             0,
             "#0d0887"
            ],
            [
             0.1111111111111111,
             "#46039f"
            ],
            [
             0.2222222222222222,
             "#7201a8"
            ],
            [
             0.3333333333333333,
             "#9c179e"
            ],
            [
             0.4444444444444444,
             "#bd3786"
            ],
            [
             0.5555555555555556,
             "#d8576b"
            ],
            [
             0.6666666666666666,
             "#ed7953"
            ],
            [
             0.7777777777777778,
             "#fb9f3a"
            ],
            [
             0.8888888888888888,
             "#fdca26"
            ],
            [
             1,
             "#f0f921"
            ]
           ]
          },
          "colorway": [
           "#636efa",
           "#EF553B",
           "#00cc96",
           "#ab63fa",
           "#FFA15A",
           "#19d3f3",
           "#FF6692",
           "#B6E880",
           "#FF97FF",
           "#FECB52"
          ],
          "font": {
           "color": "#2a3f5f"
          },
          "geo": {
           "bgcolor": "white",
           "lakecolor": "white",
           "landcolor": "#E5ECF6",
           "showlakes": true,
           "showland": true,
           "subunitcolor": "white"
          },
          "hoverlabel": {
           "align": "left"
          },
          "hovermode": "closest",
          "mapbox": {
           "style": "light"
          },
          "paper_bgcolor": "white",
          "plot_bgcolor": "#E5ECF6",
          "polar": {
           "angularaxis": {
            "gridcolor": "white",
            "linecolor": "white",
            "ticks": ""
           },
           "bgcolor": "#E5ECF6",
           "radialaxis": {
            "gridcolor": "white",
            "linecolor": "white",
            "ticks": ""
           }
          },
          "scene": {
           "xaxis": {
            "backgroundcolor": "#E5ECF6",
            "gridcolor": "white",
            "gridwidth": 2,
            "linecolor": "white",
            "showbackground": true,
            "ticks": "",
            "zerolinecolor": "white"
           },
           "yaxis": {
            "backgroundcolor": "#E5ECF6",
            "gridcolor": "white",
            "gridwidth": 2,
            "linecolor": "white",
            "showbackground": true,
            "ticks": "",
            "zerolinecolor": "white"
           },
           "zaxis": {
            "backgroundcolor": "#E5ECF6",
            "gridcolor": "white",
            "gridwidth": 2,
            "linecolor": "white",
            "showbackground": true,
            "ticks": "",
            "zerolinecolor": "white"
           }
          },
          "shapedefaults": {
           "line": {
            "color": "#2a3f5f"
           }
          },
          "ternary": {
           "aaxis": {
            "gridcolor": "white",
            "linecolor": "white",
            "ticks": ""
           },
           "baxis": {
            "gridcolor": "white",
            "linecolor": "white",
            "ticks": ""
           },
           "bgcolor": "#E5ECF6",
           "caxis": {
            "gridcolor": "white",
            "linecolor": "white",
            "ticks": ""
           }
          },
          "title": {
           "x": 0.05
          },
          "xaxis": {
           "automargin": true,
           "gridcolor": "white",
           "linecolor": "white",
           "ticks": "",
           "title": {
            "standoff": 15
           },
           "zerolinecolor": "white",
           "zerolinewidth": 2
          },
          "yaxis": {
           "automargin": true,
           "gridcolor": "white",
           "linecolor": "white",
           "ticks": "",
           "title": {
            "standoff": 15
           },
           "zerolinecolor": "white",
           "zerolinewidth": 2
          }
         }
        },
        "xaxis": {
         "anchor": "y",
         "domain": [
          0,
          1
         ],
         "gridcolor": "#DCDCDC",
         "linecolor": "black",
         "linewidth": 2,
         "showline": true,
         "title": {
          "text": "E5 B-cell-like"
         }
        },
        "yaxis": {
         "anchor": "x",
         "domain": [
          0,
          1
         ],
         "gridcolor": "#DCDCDC",
         "linecolor": "black",
         "linewidth": 2,
         "showline": true,
         "title": {
          "text": "Disease Impact Score"
         }
        }
       }
      },
      "text/html": [
       "<div>                            <div id=\"aac5bdbf-97e5-4ad5-9420-98b93d8c5a4c\" class=\"plotly-graph-div\" style=\"height:525px; width:100%;\"></div>            <script type=\"text/javascript\">                require([\"plotly\"], function(Plotly) {                    window.PLOTLYENV=window.PLOTLYENV || {};                                    if (document.getElementById(\"aac5bdbf-97e5-4ad5-9420-98b93d8c5a4c\")) {                    Plotly.newPlot(                        \"aac5bdbf-97e5-4ad5-9420-98b93d8c5a4c\",                        [{\"customdata\": [[\"c.-976G>C\", 46, 40, 0.1208633088754229, -0.31042716], [\"c.-835C>T\", 14, 10, -0.2180519607039563, -0.30545247], [\"c.-765G>A\", 5, 1, 0.1344942670781819, -0.30840835], [\"c.-959G>T\", 1, 0, 0.2687975979283514, -0.210069], [\"c.-1241A>G\", 1, 0, 0.5957476083401723, 0.912988], [\"c.-1060C>A\", 1, 0, -0.140460824611317, 0.48435244], [\"c.-993G>C\", 1, 0, 0.0651428149934094, -0.28816453], [\"c.-1087C>A\", 1, 0, -0.2420684289376886, -0.28552425], [\"c.-908T>G\", 1, 0, 1.8255895134754423, 2.8788726], [\"c.-1191G>A\", 12, 5, -0.334273513247183, -0.28358796], [\"c.-1255C>A\", 1, 0, -0.3792974306829464, -0.24242915], [\"c.-1014G>A\", 1, 0, 0.0221117217900808, -0.3075965], [\"c.-1175C>T\", 3, 0, 0.0410491721003367, -0.27711862], [\"c.-1079C>T\", 1, 0, 0.0266751533027296, -0.3111888], [\"c.-797G>A\", 2, 0, -0.0906762120624868, -0.27857962], [\"c.-1058T>G\", 1, 0, 0.0926249643521988, -0.2973186], [\"c.-1014G>T\", 1, 0, -0.2681115816949013, -0.29031762], [\"c.-864T>C\", 1, 0, 0.5796454984906916, -0.2600147], [\"c.-819A>G\", 3, 0, -1.4385857212155209, 1.4452972], [\"c.-976G>A\", 48, 25, -0.0723423058526808, -0.3024251], [\"c.-1276A>G\", 1, 0, -0.3454754710450736, -0.28710714], [\"c.-893T>C\", 1, 0, 0.1721140216072587, -0.28592512], [\"c.-1044G>T\", 1, 0, 0.6417056156468899, -0.22899696], [\"c.-832G>A\", 1, 0, -0.0767365251491867, -0.28303555], [\"c.-1052C>T\", 2, 0, -1.139263552446721, 0.95133114], [\"c.-860A>C\", 1, 0, -0.1134859449138847, -0.28514475], [\"c.-966G>A\", 1, 0, 0.1798252759806988, -0.3027872], [\"c.-1096G>T\", 1, 0, 0.6740577456097228, -0.025825987], [\"c.-924C>T\", 3, 1, -0.2104852848461007, -0.2970602], [\"c.-857C>T\", 1, 0, 0.4111747870082318, -0.24557945], [\"c.-1008G>T\", 1, 0, 0.6301786966355909, -0.24714498], [\"c.-850G>A\", 1, 0, -0.6879081013469222, -0.24789996], [\"c.-1237G>T\", 1, 0, 0.0026703030325698, -0.16688687], [\"c.-1145A>C\", 2, 1, 0.0781180612032184, -0.22308026], [\"c.-921G>A\", 3, 1, -0.1542462385252445, -0.2450989], [\"c.-859C>G\", 2, 0, 0.8374033900622244, -0.030512262], [\"c.-1010C>T\", 1, 0, 0.0742694682426137, -0.30437383], [\"c.-791G>A\", 1, 0, 0.0004772496321265, -0.3099511], [\"c.-820C>T\", 1, 0, -0.4819564987747462, 0.5617587], [\"c.-802G>A\", 2, 0, -0.3036590723817518, -0.2265236], [\"c.-998C>G\", 1, 0, -0.2202679996556593, -0.2768369], [\"c.-752G>T\", 1, 0, 0.0260762467597466, -0.2797237], [\"c.-864T>G\", 1, 0, 0.1652231153206251, -0.294197], [\"c.-1288C>T\", 1, 0, -0.1006019819876655, -0.19237463], [\"c.-1193C>T\", 1, 0, -0.2698869015079879, -0.10574781], [\"c.-1066C>T\", 1, 0, -0.1555489203083695, -0.29714757], [\"c.-1031C>T\", 1, 0, -0.242316717939385, 2.4851706], [\"c.-987C>T\", 2, 0, -0.3660626140571565, -0.17680109], [\"c.-1236C>G\", 1, 0, -0.0316243673227383, 0.025477823], [\"c.-1139A>T\", 1, 0, -0.4622477948355428, -0.2600474], [\"c.-1026C>T\", 1, 0, 0.1496983122439434, -0.08384235], [\"c.-996C>T\", 1, 0, 0.0757226955206942, -0.31401864], [\"c.-837C>T\", 5, 2, 0.1065698145138753, -0.3054674], [\"c.-902G>A\", 1, 0, 0.4310196620724902, -0.2835243], [\"c.-860A>G\", 6, 1, 0.5401510785441985, -0.25380164], [\"c.-1203G>A\", 2, 0, 0.2650057369847012, -0.26806837], [\"c.-905C>A\", 2, 0, -0.8679063311441482, -0.15776263], [\"c.-876C>A\", 1, 0, -0.209390135429917, -0.2870507], [\"c.-944C>T\", 5, 4, -0.382987964650118, -0.22117811], [\"c.-1241A>C\", 1, 0, 0.3357585696249678, -0.2570477], [\"c.-1124G>A\", 1, 0, -3.060952454793279, 5.7656474], [\"c.-1203G>C\", 1, 0, -0.2211308871441843, -0.28677878], [\"c.-968G>A\", 1, 0, 0.0711206720897017, -0.30416617], [\"c.-1296G>T\", 3, 0, 0.3518156995805661, -0.29803875], [\"c.-888T>C\", 1, 0, 0.1971055909552372, -0.30320162], [\"c.-1165G>A\", 1, 0, 0.1167130158877682, -0.28144354], [\"c.-1212C>T\", 1, 0, 0.080059035938703, -0.29934373], [\"c.-933G>A\", 2, 0, -2.084704081160241, 4.087852], [\"c.-1003C>T\", 1, 0, 0.1758609561251116, -0.30726627], [\"c.-946G>C\", 1, 0, -0.1456555261772862, -0.31072748], [\"c.-1097G>A\", 1, 0, 0.4716357840357492, -0.20120637], [\"c.-825G>A\", 1, 0, -0.006214333302065, -0.29215294], [\"c.-844T>C\", 6, 3, 0.1141004447136353, -0.30036274], [\"c.-852G>A\", 1, 0, -0.2098321259159412, -0.30376318], [\"c.-1178C>T\", 1, 0, -0.3829832153238612, -0.06895838], [\"c.-836T>G\", 1, 0, 0.1126806531004191, -0.29169682], [\"c.-801T>C\", 1, 0, 0.0315134016374969, -0.30895323], [\"c.-965G>A\", 1, 0, 0.2100895081839304, -0.2993084], [\"c.-1295T>G\", 1, 0, 0.5999936671232753, -0.24307449], [\"c.-1082A>C\", 1, 0, -0.6394251000045017, -0.16996229], [\"c.-956C>T\", 1, 0, -0.1925020244661333, -0.28700227], [\"c.-8T>C\", 1, 0, -0.1020997500260776, -0.30312112], [\"c.-1222G>C\", 1, 0, 0.368299593547448, -0.28217784], [\"c.-1137G>A\", 2, 1, 0.1205545412013329, -0.29706502], [\"c.-1206G>A\", 6, 0, 0.1453800303052084, -0.27629057], [\"c.-930G>A\", 5, 3, -2.858370999159442, 4.768665], [\"c.-822G>A\", 1, 0, -0.2994951762052515, -0.15100779], [\"c.-1257G>C\", 1, 0, 0.0693946683925901, -0.28416178], [\"c.-1177T>G\", 3, 0, -0.2297438234502031, 0.06610043], [\"c.-857C>G\", 3, 1, 0.0978061702522747, -0.3014512], [\"c.-960C>T\", 1, 0, 0.3739594410960407, -0.23027834], [\"c.-856G>C\", 1, 0, -0.4200684481567069, -0.29893085], [\"c.-1080C>T\", 1, 0, 0.4518714684472034, -0.25175232], [\"c.-814G>A\", 4, 0, -0.0743698698638013, -0.24211264], [\"c.-949C>T\", 1, 0, -0.7920032749863655, -0.1398482], [\"c.-1171C>A\", 3, 2, -0.3149792824878616, 0.8475105], [\"c.-1020C>T\", 1, 0, 0.0540014855235799, -0.27700734], [\"c.-910T>G\", 1, 0, -0.3154901519347888, -0.27534425], [\"c.-1077G>C\", 6, 2, -0.1115847530770892, -0.29181138], [\"c.-842C>T\", 2, 0, -0.1733826843609396, -0.27898896], [\"c.-1291C>T\", 2, 0, -0.1299687720002893, -0.2557042], [\"c.-1089C>A\", 1, 0, -0.2238433213777995, -0.2595236], [\"c.-1099G>T\", 1, 0, 0.3270493446797466, -0.29487672], [\"c.-1175C>A\", 3, 1, -0.3521565696690203, -0.21822801], [\"c.-1172G>A\", 1, 0, -0.0877924679556692, -0.30180487], [\"c.-1171C>T\", 15, 7, -1.0944127129411818, -0.14355326], [\"c.-1061C>T\", 1, 0, 0.2515346856660958, 0.9101511], [\"c.-789G>A\", 3, 0, -0.0339211981237106, -0.2918053], [\"c.-968G>C\", 1, 0, -0.322710870094518, -0.27983686], [\"c.-1243G>A\", 16, 7, 0.3601955917344774, -0.25287363], [\"c.-916C>A\", 1, 0, -0.1672576550839934, -0.28236628], [\"c.-905C>T\", 2, 0, -0.5750562312760223, -0.2511552], [\"c.-833C>T\", 1, 0, -0.3685359537794603, -0.2744731], [\"c.-937G>A\", 1, 0, 1.231481556297279, 1.519837], [\"c.203A>G\", 1, 0, 0.1371225876694772, -0.3110953], [\"c.850G>T\", 1, 0, -0.5042026927070005, -0.2537575], [\"c.635-3C>G\", 1, 0, 0.0979021564087538, -0.3133524], [\"c.388C>T\", 3, 0, -0.0568687957478815, -0.3179262]], \"hovertemplate\": \"Case/Control=Control<br>E5 B-cell-like=%{customdata[3]}<br>Disease Impact Score=%{customdata[4]}<br>Text Labels=%{text}<br>Alteration=%{customdata[0]}<br>Breast Cancer Case Alleles=%{customdata[1]}<br>Control Alleles=%{customdata[2]}<extra></extra>\", \"legendgroup\": \"Control\", \"marker\": {\"color\": \"#2ca02c\", \"size\": 7, \"symbol\": \"circle\"}, \"mode\": \"markers+text\", \"name\": \"Control\", \"orientation\": \"v\", \"showlegend\": true, \"text\": [\"\", \"\", \"\", \"\", \"\", \"\", \"\", \"\", \"908T>G\", \"\", \"\", \"\", \"\", \"\", \"\", \"\", \"\", \"\", \"819A>G\", \"\", \"\", \"\", \"\", \"\", \"\", \"\", \"\", \"\", \"\", \"\", \"\", \"\", \"\", \"\", \"\", \"\", \"\", \"\", \"\", \"\", \"\", \"\", \"\", \"\", \"\", \"\", \"1031C>T\", \"\", \"\", \"\", \"\", \"\", \"\", \"\", \"\", \"\", \"\", \"\", \"\", \"\", \"1124G>A\", \"\", \"\", \"\", \"\", \"\", \"\", \"933G>A\", \"\", \"\", \"\", \"\", \"\", \"\", \"\", \"\", \"\", \"\", \"\", \"\", \"\", \"\", \"\", \"\", \"\", \"930G>A\", \"\", \"\", \"\", \"\", \"\", \"\", \"\", \"\", \"\", \"\", \"\", \"\", \"\", \"\", \"\", \"\", \"\", \"\", \"\", \"\", \"\", \"\", \"\", \"\", \"\", \"\", \"\", \"937G>A\", \"\", \"\", \"\", \"\"], \"textposition\": \"bottom center\", \"type\": \"scatter\", \"x\": [0.1208633088754229, -0.2180519607039563, 0.1344942670781819, 0.2687975979283514, 0.5957476083401723, -0.140460824611317, 0.0651428149934094, -0.2420684289376886, 1.8255895134754423, -0.334273513247183, -0.3792974306829464, 0.0221117217900808, 0.0410491721003367, 0.0266751533027296, -0.0906762120624868, 0.0926249643521988, -0.2681115816949013, 0.5796454984906916, -1.4385857212155209, -0.0723423058526808, -0.3454754710450736, 0.1721140216072587, 0.6417056156468899, -0.0767365251491867, -1.139263552446721, -0.1134859449138847, 0.1798252759806988, 0.6740577456097228, -0.2104852848461007, 0.4111747870082318, 0.6301786966355909, -0.6879081013469222, 0.0026703030325698, 0.0781180612032184, -0.1542462385252445, 0.8374033900622244, 0.0742694682426137, 0.0004772496321265, -0.4819564987747462, -0.3036590723817518, -0.2202679996556593, 0.0260762467597466, 0.1652231153206251, -0.1006019819876655, -0.2698869015079879, -0.1555489203083695, -0.242316717939385, -0.3660626140571565, -0.0316243673227383, -0.4622477948355428, 0.1496983122439434, 0.0757226955206942, 0.1065698145138753, 0.4310196620724902, 0.5401510785441985, 0.2650057369847012, -0.8679063311441482, -0.209390135429917, -0.382987964650118, 0.3357585696249678, -3.060952454793279, -0.2211308871441843, 0.0711206720897017, 0.3518156995805661, 0.1971055909552372, 0.1167130158877682, 0.080059035938703, -2.084704081160241, 0.1758609561251116, -0.1456555261772862, 0.4716357840357492, -0.006214333302065, 0.1141004447136353, -0.2098321259159412, -0.3829832153238612, 0.1126806531004191, 0.0315134016374969, 0.2100895081839304, 0.5999936671232753, -0.6394251000045017, -0.1925020244661333, -0.1020997500260776, 0.368299593547448, 0.1205545412013329, 0.1453800303052084, -2.858370999159442, -0.2994951762052515, 0.0693946683925901, -0.2297438234502031, 0.0978061702522747, 0.3739594410960407, -0.4200684481567069, 0.4518714684472034, -0.0743698698638013, -0.7920032749863655, -0.3149792824878616, 0.0540014855235799, -0.3154901519347888, -0.1115847530770892, -0.1733826843609396, -0.1299687720002893, -0.2238433213777995, 0.3270493446797466, -0.3521565696690203, -0.0877924679556692, -1.0944127129411818, 0.2515346856660958, -0.0339211981237106, -0.322710870094518, 0.3601955917344774, -0.1672576550839934, -0.5750562312760223, -0.3685359537794603, 1.231481556297279, 0.1371225876694772, -0.5042026927070005, 0.0979021564087538, -0.0568687957478815], \"xaxis\": \"x\", \"y\": [-0.31042716, -0.30545247, -0.30840835, -0.210069, 0.912988, 0.48435244, -0.28816453, -0.28552425, 2.8788726, -0.28358796, -0.24242915, -0.3075965, -0.27711862, -0.3111888, -0.27857962, -0.2973186, -0.29031762, -0.2600147, 1.4452972, -0.3024251, -0.28710714, -0.28592512, -0.22899696, -0.28303555, 0.95133114, -0.28514475, -0.3027872, -0.025825987, -0.2970602, -0.24557945, -0.24714498, -0.24789996, -0.16688687, -0.22308026, -0.2450989, -0.030512262, -0.30437383, -0.3099511, 0.5617587, -0.2265236, -0.2768369, -0.2797237, -0.294197, -0.19237463, -0.10574781, -0.29714757, 2.4851706, -0.17680109, 0.025477823, -0.2600474, -0.08384235, -0.31401864, -0.3054674, -0.2835243, -0.25380164, -0.26806837, -0.15776263, -0.2870507, -0.22117811, -0.2570477, 5.7656474, -0.28677878, -0.30416617, -0.29803875, -0.30320162, -0.28144354, -0.29934373, 4.087852, -0.30726627, -0.31072748, -0.20120637, -0.29215294, -0.30036274, -0.30376318, -0.06895838, -0.29169682, -0.30895323, -0.2993084, -0.24307449, -0.16996229, -0.28700227, -0.30312112, -0.28217784, -0.29706502, -0.27629057, 4.768665, -0.15100779, -0.28416178, 0.06610043, -0.3014512, -0.23027834, -0.29893085, -0.25175232, -0.24211264, -0.1398482, 0.8475105, -0.27700734, -0.27534425, -0.29181138, -0.27898896, -0.2557042, -0.2595236, -0.29487672, -0.21822801, -0.30180487, -0.14355326, 0.9101511, -0.2918053, -0.27983686, -0.25287363, -0.28236628, -0.2511552, -0.2744731, 1.519837, -0.3110953, -0.2537575, -0.3133524, -0.3179262], \"yaxis\": \"y\"}, {\"customdata\": [[\"c.-931G>A\", 0, 1, -2.7660290216517787, 4.7237883], [\"c.-1151C>G\", 0, 1, -0.5018252625124902, -0.2772834], [\"c.-1084G>C\", 0, 1, -0.4014605787233751, -0.22656235], [\"c.-1113A>G\", 0, 1, -0.2099323247304809, -0.29739004], [\"c.-785C>T\", 0, 1, 0.0232387417182877, -0.22513963], [\"c.-14A>C\", 0, 1, -0.0861077151373272, -0.3138859], [\"c.-1075G>A\", 0, 1, 0.2318883777525098, -0.30110642], [\"c.-1026C>G\", 0, 1, 0.1815326124554701, 0.0068683196], [\"c.-1208G>A\", 0, 1, -0.1012839006800661, -0.28175122], [\"c.-1138G>A\", 0, 1, -0.0490099269637287, -0.30325824], [\"c.-1246T>C\", 0, 1, 0.2850596924981055, -0.029809356], [\"c.-1297A>G\", 0, 1, -0.2778242898093133, -0.29709804], [\"c.-989C>A\", 0, 1, 0.3363006504670025, -0.2550719], [\"c.-826T>C\", 0, 1, 0.0672017124613084, -0.3004892], [\"c.-1282C>T\", 0, 1, -0.6792610398116601, 0.24518675], [\"c.-1267C>G\", 0, 1, 0.1282822101350973, -0.2353624], [\"c.-1258C>T\", 0, 1, -0.0998336856994157, -0.2509139], [\"c.-772A>G\", 0, 1, -0.0800240776972316, -0.29863963], [\"c.-1081C>T\", 0, 2, 0.291063541123318, -0.29297704], [\"c.-806G>A\", 0, 1, 0.1740363878520767, -0.3055854], [\"c.-1098G>A\", 0, 1, 0.3337553651190301, -0.27155632], [\"c.-1002C>A\", 0, 1, -0.2148733638400806, -0.2906687], [\"c.-1182G>T\", 0, 1, 0.1129190436106135, -0.13465233], [\"c.-952C>T\", 0, 1, 0.2483257384024941, -0.2972158], [\"c.-754A>T\", 0, 1, -0.07695330153933, -0.2994011], [\"c.-1021C>T\", 0, 1, 0.0699472284595987, -0.23598363], [\"c.-798A>G\", 1, 3, -0.0803563161419411, -0.29122505], [\"c.-873G>C\", 0, 1, 1.3563111585644307, 0.65410674], [\"c.-1235C>T\", 0, 4, -0.2931772537070714, -0.27369812], [\"c.-1279C>G\", 0, 1, -0.3984927903290511, -0.15746075], [\"c.-1101T>G\", 0, 1, 0.0809649647595947, -0.30051172], [\"c.-1207C>G\", 0, 1, -0.2132478628886218, -0.20255795], [\"c.-913T>C\", 0, 1, 0.0398401830997752, -0.29375508], [\"c.-1110G>T\", 0, 1, -0.5762312979292474, -0.14626919], [\"c.-934G>C\", 0, 1, -2.6240448856124186, 4.1235275], [\"c.-941C>T\", 0, 1, -0.4511115115520088, -0.27249792], [\"c.-866G>C\", 0, 1, -0.614017722838426, -0.17185558], [\"c.-867C>T\", 0, 1, -0.3171642665361958, -0.2975507], [\"c.-1048C>A\", 0, 1, -0.924482713416502, 5.8466396], [\"c.-1169G>T\", 0, 1, -0.518538813353068, -0.24792273], [\"c.-1173G>A\", 0, 1, 0.0691419250574512, -0.26392713], [\"c.-917G>C\", 0, 1, -1.1270603499024592, -0.027409686], [\"c.-857C>A\", 0, 1, -0.4695931741319636, -0.27835655], [\"c.518G>C\", 0, 1, 0.0941017044892671, -0.3143376]], \"hovertemplate\": \"Case/Control=Case<br>E5 B-cell-like=%{customdata[3]}<br>Disease Impact Score=%{customdata[4]}<br>Text Labels=%{text}<br>Alteration=%{customdata[0]}<br>Breast Cancer Case Alleles=%{customdata[1]}<br>Control Alleles=%{customdata[2]}<extra></extra>\", \"legendgroup\": \"Case\", \"marker\": {\"color\": \"red\", \"size\": 7, \"symbol\": \"circle\"}, \"mode\": \"markers+text\", \"name\": \"Case\", \"orientation\": \"v\", \"showlegend\": true, \"text\": [\"931G>A\", \"\", \"\", \"\", \"\", \"\", \"\", \"\", \"\", \"\", \"\", \"\", \"\", \"\", \"\", \"\", \"\", \"\", \"\", \"\", \"\", \"\", \"\", \"\", \"\", \"\", \"\", \"873G>C\", \"\", \"\", \"\", \"\", \"\", \"\", \"934G>C\", \"\", \"\", \"\", \"1048C>A\", \"\", \"\", \"\", \"\", \"\"], \"textposition\": \"bottom center\", \"type\": \"scatter\", \"x\": [-2.7660290216517787, -0.5018252625124902, -0.4014605787233751, -0.2099323247304809, 0.0232387417182877, -0.0861077151373272, 0.2318883777525098, 0.1815326124554701, -0.1012839006800661, -0.0490099269637287, 0.2850596924981055, -0.2778242898093133, 0.3363006504670025, 0.0672017124613084, -0.6792610398116601, 0.1282822101350973, -0.0998336856994157, -0.0800240776972316, 0.291063541123318, 0.1740363878520767, 0.3337553651190301, -0.2148733638400806, 0.1129190436106135, 0.2483257384024941, -0.07695330153933, 0.0699472284595987, -0.0803563161419411, 1.3563111585644307, -0.2931772537070714, -0.3984927903290511, 0.0809649647595947, -0.2132478628886218, 0.0398401830997752, -0.5762312979292474, -2.6240448856124186, -0.4511115115520088, -0.614017722838426, -0.3171642665361958, -0.924482713416502, -0.518538813353068, 0.0691419250574512, -1.1270603499024592, -0.4695931741319636, 0.0941017044892671], \"xaxis\": \"x\", \"y\": [4.7237883, -0.2772834, -0.22656235, -0.29739004, -0.22513963, -0.3138859, -0.30110642, 0.0068683196, -0.28175122, -0.30325824, -0.029809356, -0.29709804, -0.2550719, -0.3004892, 0.24518675, -0.2353624, -0.2509139, -0.29863963, -0.29297704, -0.3055854, -0.27155632, -0.2906687, -0.13465233, -0.2972158, -0.2994011, -0.23598363, -0.29122505, 0.65410674, -0.27369812, -0.15746075, -0.30051172, -0.20255795, -0.29375508, -0.14626919, 4.1235275, -0.27249792, -0.17185558, -0.2975507, 5.8466396, -0.24792273, -0.26392713, -0.027409686, -0.27835655, -0.3143376], \"yaxis\": \"y\"}, {\"customdata\": [[\"c.-873G>A\", 1, 1, 0.0315127445399916, -0.3083085], [\"c.-1213G>T\", 1, 1, 0.0556577619664544, -0.3009221], [\"c.-772A>C\", 1, 1, -0.0352868986494598, -0.29018652], [\"c.-863G>T\", 0, 0, -0.2367423059923261, -0.29969168], [\"c.-814G>T\", 1, 1, -0.0517150045534045, -0.21014719], [\"c.-1045T>A\", 3, 4, 0.0329509232477676, -0.31688422], [\"c.-1042C>G\", 1, 1, 0.3216945366320978, 0.5167751], [\"c.-840C>T\", 0, 0, 0.226863245595835, -0.2954436], [\"c.-1294C>T\", 1, 2, 0.0241360390358309, -0.29670772], [\"c.-946G>A\", 1, 1, 0.1742609933129575, -0.2326076], [\"c.-1088G>A\", 1, 1, -0.1911186561649511, -0.29310074], [\"c.-1091T>C\", 0, 0, 0.3954719467684242, -0.28196535], [\"c.-1240G>A\", 1, 2, 0.2868598642705215, -0.15878871], [\"c.-1155G>A\", 1, 1, -0.0970952819114145, -0.28222626], [\"c.-1083C>T\", 1, 1, 0.209021850795251, -0.29356986], [\"c.-904G>C\", 1, 1, -0.7795936195141415, -0.20353708], [\"c.-1008G>A\", 1, 1, 0.1564328622903303, -0.3132622], [\"c.-1079C>G\", 0, 0, 0.2613718241422429, -0.29867613], [\"c.-898C>G\", 1, 1, 0.051549381728746, -0.2917442], [\"c.-1047C>T\", 0, 0, 0.1494354222198879, 3.638431], [\"c.-1205T>C\", 1, 1, 0.2797571412515935, -0.2472203], [\"c.-851C>A\", 1, 1, -0.6697547209054413, -0.20960693], [\"c.-1143C>A\", 0, 0, -0.2858158896114169, -0.2728805], [\"c.-1058T>A\", 0, 0, -0.0010918376650668, -0.31021208], [\"c.-1050C>T\", 2, 3, -0.2836864272878259, 5.462512], [\"c.-869G>C\", 3, 6, -0.4312751134989838, -0.2771244], [\"c.-1170T>C\", 1, 1, 0.1591840966968547, -0.2426439], [\"c.-1246T>G\", 0, 0, -0.7946106668139237, -0.17521232], [\"c.-747C>T\", 0, 0, -0.0710137160430335, -0.20047036], [\"c.-755G>A\", 1, 1, -0.0138821055012492, -0.31552553], [\"c.-926G>A\", 0, 0, 0.0110780674377632, -0.2926354], [\"c.-795C>T\", 1, 1, -0.1346922825065277, -0.30704033], [\"c.-862G>C\", 0, 0, 0.4041234175689876, -0.2615097], [\"c.-1085C>G\", 1, 1, -0.2995906221059137, -0.27991518], [\"c.-1101T>C\", 0, 0, 0.0607327259076875, -0.2927141], [\"c.-1103G>A\", 0, 0, 0.0720330350254663, -0.3043829], [\"c.-851C>T\", 1, 1, -0.8164378903787366, -0.21241294], [\"c.-828G>A\", 1, 1, 0.1959622471129201, -0.30971053], [\"c.-983T>C\", 0, 0, 0.3499381852801377, -0.00040207867], [\"c.-1062C>A\", 1, 1, -0.0790678489343328, 0.6201936], [\"c.1003C>T\", 1, 2, 0.1752911562665176, -0.30725786]], \"hovertemplate\": \"Case/Control=Equal<br>E5 B-cell-like=%{customdata[3]}<br>Disease Impact Score=%{customdata[4]}<br>Text Labels=%{text}<br>Alteration=%{customdata[0]}<br>Breast Cancer Case Alleles=%{customdata[1]}<br>Control Alleles=%{customdata[2]}<extra></extra>\", \"legendgroup\": \"Equal\", \"marker\": {\"color\": \"black\", \"size\": 7, \"symbol\": \"circle\"}, \"mode\": \"markers+text\", \"name\": \"Equal\", \"orientation\": \"v\", \"showlegend\": true, \"text\": [\"\", \"\", \"\", \"\", \"\", \"\", \"\", \"\", \"\", \"\", \"\", \"\", \"\", \"\", \"\", \"\", \"\", \"\", \"\", \"1047C>T\", \"\", \"\", \"\", \"\", \"1050C>T\", \"\", \"\", \"\", \"\", \"\", \"\", \"\", \"\", \"\", \"\", \"\", \"\", \"\", \"\", \"\", \"\"], \"textposition\": \"bottom center\", \"type\": \"scatter\", \"x\": [0.0315127445399916, 0.0556577619664544, -0.0352868986494598, -0.2367423059923261, -0.0517150045534045, 0.0329509232477676, 0.3216945366320978, 0.226863245595835, 0.0241360390358309, 0.1742609933129575, -0.1911186561649511, 0.3954719467684242, 0.2868598642705215, -0.0970952819114145, 0.209021850795251, -0.7795936195141415, 0.1564328622903303, 0.2613718241422429, 0.051549381728746, 0.1494354222198879, 0.2797571412515935, -0.6697547209054413, -0.2858158896114169, -0.0010918376650668, -0.2836864272878259, -0.4312751134989838, 0.1591840966968547, -0.7946106668139237, -0.0710137160430335, -0.0138821055012492, 0.0110780674377632, -0.1346922825065277, 0.4041234175689876, -0.2995906221059137, 0.0607327259076875, 0.0720330350254663, -0.8164378903787366, 0.1959622471129201, 0.3499381852801377, -0.0790678489343328, 0.1752911562665176], \"xaxis\": \"x\", \"y\": [-0.3083085, -0.3009221, -0.29018652, -0.29969168, -0.21014719, -0.31688422, 0.5167751, -0.2954436, -0.29670772, -0.2326076, -0.29310074, -0.28196535, -0.15878871, -0.28222626, -0.29356986, -0.20353708, -0.3132622, -0.29867613, -0.2917442, 3.638431, -0.2472203, -0.20960693, -0.2728805, -0.31021208, 5.462512, -0.2771244, -0.2426439, -0.17521232, -0.20047036, -0.31552553, -0.2926354, -0.30704033, -0.2615097, -0.27991518, -0.2927141, -0.3043829, -0.21241294, -0.30971053, -0.00040207867, 0.6201936, -0.30725786], \"yaxis\": \"y\"}],                        {\"font\": {\"size\": 18}, \"legend\": {\"title\": {\"text\": \"Case/Control\"}, \"tracegroupgap\": 0}, \"margin\": {\"t\": 60}, \"paper_bgcolor\": \"rgba(0, 0, 0, 0)\", \"plot_bgcolor\": \"rgba(0, 0, 0, 0)\", \"template\": {\"data\": {\"bar\": [{\"error_x\": {\"color\": \"#2a3f5f\"}, \"error_y\": {\"color\": \"#2a3f5f\"}, \"marker\": {\"line\": {\"color\": \"#E5ECF6\", \"width\": 0.5}}, \"type\": \"bar\"}], \"barpolar\": [{\"marker\": {\"line\": {\"color\": \"#E5ECF6\", \"width\": 0.5}}, \"type\": \"barpolar\"}], \"carpet\": [{\"aaxis\": {\"endlinecolor\": \"#2a3f5f\", \"gridcolor\": \"white\", \"linecolor\": \"white\", \"minorgridcolor\": \"white\", \"startlinecolor\": \"#2a3f5f\"}, \"baxis\": {\"endlinecolor\": \"#2a3f5f\", \"gridcolor\": \"white\", \"linecolor\": \"white\", \"minorgridcolor\": \"white\", \"startlinecolor\": \"#2a3f5f\"}, \"type\": \"carpet\"}], \"choropleth\": [{\"colorbar\": {\"outlinewidth\": 0, \"ticks\": \"\"}, \"type\": \"choropleth\"}], \"contour\": [{\"colorbar\": {\"outlinewidth\": 0, \"ticks\": \"\"}, \"colorscale\": [[0.0, \"#0d0887\"], [0.1111111111111111, \"#46039f\"], [0.2222222222222222, \"#7201a8\"], [0.3333333333333333, \"#9c179e\"], [0.4444444444444444, \"#bd3786\"], [0.5555555555555556, \"#d8576b\"], [0.6666666666666666, \"#ed7953\"], [0.7777777777777778, \"#fb9f3a\"], [0.8888888888888888, \"#fdca26\"], [1.0, \"#f0f921\"]], \"type\": \"contour\"}], \"contourcarpet\": [{\"colorbar\": {\"outlinewidth\": 0, \"ticks\": \"\"}, \"type\": \"contourcarpet\"}], \"heatmap\": [{\"colorbar\": {\"outlinewidth\": 0, \"ticks\": \"\"}, \"colorscale\": [[0.0, \"#0d0887\"], [0.1111111111111111, \"#46039f\"], [0.2222222222222222, \"#7201a8\"], [0.3333333333333333, \"#9c179e\"], [0.4444444444444444, \"#bd3786\"], [0.5555555555555556, \"#d8576b\"], [0.6666666666666666, \"#ed7953\"], [0.7777777777777778, \"#fb9f3a\"], [0.8888888888888888, \"#fdca26\"], [1.0, \"#f0f921\"]], \"type\": \"heatmap\"}], \"heatmapgl\": [{\"colorbar\": {\"outlinewidth\": 0, \"ticks\": \"\"}, \"colorscale\": [[0.0, \"#0d0887\"], [0.1111111111111111, \"#46039f\"], [0.2222222222222222, \"#7201a8\"], [0.3333333333333333, \"#9c179e\"], [0.4444444444444444, \"#bd3786\"], [0.5555555555555556, \"#d8576b\"], [0.6666666666666666, \"#ed7953\"], [0.7777777777777778, \"#fb9f3a\"], [0.8888888888888888, \"#fdca26\"], [1.0, \"#f0f921\"]], \"type\": \"heatmapgl\"}], \"histogram\": [{\"marker\": {\"colorbar\": {\"outlinewidth\": 0, \"ticks\": \"\"}}, \"type\": \"histogram\"}], \"histogram2d\": [{\"colorbar\": {\"outlinewidth\": 0, \"ticks\": \"\"}, \"colorscale\": [[0.0, \"#0d0887\"], [0.1111111111111111, \"#46039f\"], [0.2222222222222222, \"#7201a8\"], [0.3333333333333333, \"#9c179e\"], [0.4444444444444444, \"#bd3786\"], [0.5555555555555556, \"#d8576b\"], [0.6666666666666666, \"#ed7953\"], [0.7777777777777778, \"#fb9f3a\"], [0.8888888888888888, \"#fdca26\"], [1.0, \"#f0f921\"]], \"type\": \"histogram2d\"}], \"histogram2dcontour\": [{\"colorbar\": {\"outlinewidth\": 0, \"ticks\": \"\"}, \"colorscale\": [[0.0, \"#0d0887\"], [0.1111111111111111, \"#46039f\"], [0.2222222222222222, \"#7201a8\"], [0.3333333333333333, \"#9c179e\"], [0.4444444444444444, \"#bd3786\"], [0.5555555555555556, \"#d8576b\"], [0.6666666666666666, \"#ed7953\"], [0.7777777777777778, \"#fb9f3a\"], [0.8888888888888888, \"#fdca26\"], [1.0, \"#f0f921\"]], \"type\": \"histogram2dcontour\"}], \"mesh3d\": [{\"colorbar\": {\"outlinewidth\": 0, \"ticks\": \"\"}, \"type\": \"mesh3d\"}], \"parcoords\": [{\"line\": {\"colorbar\": {\"outlinewidth\": 0, \"ticks\": \"\"}}, \"type\": \"parcoords\"}], \"pie\": [{\"automargin\": true, \"type\": \"pie\"}], \"scatter\": [{\"marker\": {\"colorbar\": {\"outlinewidth\": 0, \"ticks\": \"\"}}, \"type\": \"scatter\"}], \"scatter3d\": [{\"line\": {\"colorbar\": {\"outlinewidth\": 0, \"ticks\": \"\"}}, \"marker\": {\"colorbar\": {\"outlinewidth\": 0, \"ticks\": \"\"}}, \"type\": \"scatter3d\"}], \"scattercarpet\": [{\"marker\": {\"colorbar\": {\"outlinewidth\": 0, \"ticks\": \"\"}}, \"type\": \"scattercarpet\"}], \"scattergeo\": [{\"marker\": {\"colorbar\": {\"outlinewidth\": 0, \"ticks\": \"\"}}, \"type\": \"scattergeo\"}], \"scattergl\": [{\"marker\": {\"colorbar\": {\"outlinewidth\": 0, \"ticks\": \"\"}}, \"type\": \"scattergl\"}], \"scattermapbox\": [{\"marker\": {\"colorbar\": {\"outlinewidth\": 0, \"ticks\": \"\"}}, \"type\": \"scattermapbox\"}], \"scatterpolar\": [{\"marker\": {\"colorbar\": {\"outlinewidth\": 0, \"ticks\": \"\"}}, \"type\": \"scatterpolar\"}], \"scatterpolargl\": [{\"marker\": {\"colorbar\": {\"outlinewidth\": 0, \"ticks\": \"\"}}, \"type\": \"scatterpolargl\"}], \"scatterternary\": [{\"marker\": {\"colorbar\": {\"outlinewidth\": 0, \"ticks\": \"\"}}, \"type\": \"scatterternary\"}], \"surface\": [{\"colorbar\": {\"outlinewidth\": 0, \"ticks\": \"\"}, \"colorscale\": [[0.0, \"#0d0887\"], [0.1111111111111111, \"#46039f\"], [0.2222222222222222, \"#7201a8\"], [0.3333333333333333, \"#9c179e\"], [0.4444444444444444, \"#bd3786\"], [0.5555555555555556, \"#d8576b\"], [0.6666666666666666, \"#ed7953\"], [0.7777777777777778, \"#fb9f3a\"], [0.8888888888888888, \"#fdca26\"], [1.0, \"#f0f921\"]], \"type\": \"surface\"}], \"table\": [{\"cells\": {\"fill\": {\"color\": \"#EBF0F8\"}, \"line\": {\"color\": \"white\"}}, \"header\": {\"fill\": {\"color\": \"#C8D4E3\"}, \"line\": {\"color\": \"white\"}}, \"type\": \"table\"}]}, \"layout\": {\"annotationdefaults\": {\"arrowcolor\": \"#2a3f5f\", \"arrowhead\": 0, \"arrowwidth\": 1}, \"coloraxis\": {\"colorbar\": {\"outlinewidth\": 0, \"ticks\": \"\"}}, \"colorscale\": {\"diverging\": [[0, \"#8e0152\"], [0.1, \"#c51b7d\"], [0.2, \"#de77ae\"], [0.3, \"#f1b6da\"], [0.4, \"#fde0ef\"], [0.5, \"#f7f7f7\"], [0.6, \"#e6f5d0\"], [0.7, \"#b8e186\"], [0.8, \"#7fbc41\"], [0.9, \"#4d9221\"], [1, \"#276419\"]], \"sequential\": [[0.0, \"#0d0887\"], [0.1111111111111111, \"#46039f\"], [0.2222222222222222, \"#7201a8\"], [0.3333333333333333, \"#9c179e\"], [0.4444444444444444, \"#bd3786\"], [0.5555555555555556, \"#d8576b\"], [0.6666666666666666, \"#ed7953\"], [0.7777777777777778, \"#fb9f3a\"], [0.8888888888888888, \"#fdca26\"], [1.0, \"#f0f921\"]], \"sequentialminus\": [[0.0, \"#0d0887\"], [0.1111111111111111, \"#46039f\"], [0.2222222222222222, \"#7201a8\"], [0.3333333333333333, \"#9c179e\"], [0.4444444444444444, \"#bd3786\"], [0.5555555555555556, \"#d8576b\"], [0.6666666666666666, \"#ed7953\"], [0.7777777777777778, \"#fb9f3a\"], [0.8888888888888888, \"#fdca26\"], [1.0, \"#f0f921\"]]}, \"colorway\": [\"#636efa\", \"#EF553B\", \"#00cc96\", \"#ab63fa\", \"#FFA15A\", \"#19d3f3\", \"#FF6692\", \"#B6E880\", \"#FF97FF\", \"#FECB52\"], \"font\": {\"color\": \"#2a3f5f\"}, \"geo\": {\"bgcolor\": \"white\", \"lakecolor\": \"white\", \"landcolor\": \"#E5ECF6\", \"showlakes\": true, \"showland\": true, \"subunitcolor\": \"white\"}, \"hoverlabel\": {\"align\": \"left\"}, \"hovermode\": \"closest\", \"mapbox\": {\"style\": \"light\"}, \"paper_bgcolor\": \"white\", \"plot_bgcolor\": \"#E5ECF6\", \"polar\": {\"angularaxis\": {\"gridcolor\": \"white\", \"linecolor\": \"white\", \"ticks\": \"\"}, \"bgcolor\": \"#E5ECF6\", \"radialaxis\": {\"gridcolor\": \"white\", \"linecolor\": \"white\", \"ticks\": \"\"}}, \"scene\": {\"xaxis\": {\"backgroundcolor\": \"#E5ECF6\", \"gridcolor\": \"white\", \"gridwidth\": 2, \"linecolor\": \"white\", \"showbackground\": true, \"ticks\": \"\", \"zerolinecolor\": \"white\"}, \"yaxis\": {\"backgroundcolor\": \"#E5ECF6\", \"gridcolor\": \"white\", \"gridwidth\": 2, \"linecolor\": \"white\", \"showbackground\": true, \"ticks\": \"\", \"zerolinecolor\": \"white\"}, \"zaxis\": {\"backgroundcolor\": \"#E5ECF6\", \"gridcolor\": \"white\", \"gridwidth\": 2, \"linecolor\": \"white\", \"showbackground\": true, \"ticks\": \"\", \"zerolinecolor\": \"white\"}}, \"shapedefaults\": {\"line\": {\"color\": \"#2a3f5f\"}}, \"ternary\": {\"aaxis\": {\"gridcolor\": \"white\", \"linecolor\": \"white\", \"ticks\": \"\"}, \"baxis\": {\"gridcolor\": \"white\", \"linecolor\": \"white\", \"ticks\": \"\"}, \"bgcolor\": \"#E5ECF6\", \"caxis\": {\"gridcolor\": \"white\", \"linecolor\": \"white\", \"ticks\": \"\"}}, \"title\": {\"x\": 0.05}, \"xaxis\": {\"automargin\": true, \"gridcolor\": \"white\", \"linecolor\": \"white\", \"ticks\": \"\", \"title\": {\"standoff\": 15}, \"zerolinecolor\": \"white\", \"zerolinewidth\": 2}, \"yaxis\": {\"automargin\": true, \"gridcolor\": \"white\", \"linecolor\": \"white\", \"ticks\": \"\", \"title\": {\"standoff\": 15}, \"zerolinecolor\": \"white\", \"zerolinewidth\": 2}}}, \"xaxis\": {\"anchor\": \"y\", \"domain\": [0.0, 1.0], \"gridcolor\": \"#DCDCDC\", \"linecolor\": \"black\", \"linewidth\": 2, \"showline\": true, \"title\": {\"text\": \"E5 B-cell-like\"}}, \"yaxis\": {\"anchor\": \"x\", \"domain\": [0.0, 1.0], \"gridcolor\": \"#DCDCDC\", \"linecolor\": \"black\", \"linewidth\": 2, \"showline\": true, \"title\": {\"text\": \"Disease Impact Score\"}}},                        {\"responsive\": true}                    ).then(function(){\n",
       "                            \n",
       "var gd = document.getElementById('aac5bdbf-97e5-4ad5-9420-98b93d8c5a4c');\n",
       "var x = new MutationObserver(function (mutations, observer) {{\n",
       "        var display = window.getComputedStyle(gd).display;\n",
       "        if (!display || display === 'none') {{\n",
       "            console.log([gd, 'removed!']);\n",
       "            Plotly.purge(gd);\n",
       "            observer.disconnect();\n",
       "        }}\n",
       "}});\n",
       "\n",
       "// Listen for the removal of the full notebook cells\n",
       "var notebookContainer = gd.closest('#notebook-container');\n",
       "if (notebookContainer) {{\n",
       "    x.observe(notebookContainer, {childList: true});\n",
       "}}\n",
       "\n",
       "// Listen for the clearing of the current output cell\n",
       "var outputEl = gd.closest('.output');\n",
       "if (outputEl) {{\n",
       "    x.observe(outputEl, {childList: true});\n",
       "}}\n",
       "\n",
       "                        })                };                });            </script>        </div>"
      ]
     },
     "metadata": {},
     "output_type": "display_data"
    }
   ],
   "source": [
    "score1, score2 = \"E5 B-cell-like\", \"Disease Impact Score\"\n",
    "color = \"Case/Control\" # if this is changed, the `color_discrete_sequence` will have to be changed or removed\n",
    "cutoff1, cutoff2 = 1, 1.13\n",
    "high_impact = [score_1 > cutoff1 or abs(score_2) > cutoff2  for score_1, score_2 in zip(scores[score1], scores[score2])]\n",
    "scores[\"Text Labels\"] = [alt[3:] if HI else \"\" for HI, alt in zip(high_impact, scores[\"Alteration\"])]\n",
    "\n",
    "fig = px.scatter(scores, x=score1, y=score2, color=color,\n",
    "                   hover_data=['Alteration', 'Breast Cancer Case Alleles', 'Control Alleles', score1, score2], \n",
    "                    color_discrete_sequence=['#2ca02c', \"red\", \"black\"],\n",
    "                                         text=\"Text Labels\")\n",
    "fig.update_traces(textposition='bottom center')\n",
    "fig.update_layout(font=dict(size=18))\n",
    "fig.update_traces(marker={'size': 7})\n",
    "viz.white_bg(fig)\n",
    "fig.write_html(\"test_output_plots/\" + score1 + \"_v_\" + score2 + \".html\")\n",
    "fig.show()"
   ]
  },
  {
   "cell_type": "markdown",
   "id": "ca001fbf",
   "metadata": {},
   "source": [
    "### Using the `viz` library, we can also calculate the maximum score in this data and combine this information with our clinical data"
   ]
  },
  {
   "cell_type": "code",
   "execution_count": 14,
   "id": "21751101",
   "metadata": {},
   "outputs": [
    {
     "data": {
      "text/html": [
       "<div>\n",
       "<style scoped>\n",
       "    .dataframe tbody tr th:only-of-type {\n",
       "        vertical-align: middle;\n",
       "    }\n",
       "\n",
       "    .dataframe tbody tr th {\n",
       "        vertical-align: top;\n",
       "    }\n",
       "\n",
       "    .dataframe thead th {\n",
       "        text-align: right;\n",
       "    }\n",
       "</style>\n",
       "<table border=\"1\" class=\"dataframe\">\n",
       "  <thead>\n",
       "    <tr style=\"text-align: right;\">\n",
       "      <th></th>\n",
       "      <th>Max Score</th>\n",
       "      <th>Sequence Name</th>\n",
       "      <th>Sequence Index</th>\n",
       "      <th>Class</th>\n",
       "      <th>Color</th>\n",
       "      <th>Function</th>\n",
       "    </tr>\n",
       "  </thead>\n",
       "  <tbody>\n",
       "    <tr>\n",
       "      <th>0</th>\n",
       "      <td>0.120863</td>\n",
       "      <td>E5 B-cell-like</td>\n",
       "      <td>12</td>\n",
       "      <td>E</td>\n",
       "      <td>#984ef3</td>\n",
       "      <td>Active</td>\n",
       "    </tr>\n",
       "  </tbody>\n",
       "</table>\n",
       "</div>"
      ],
      "text/plain": [
       "   Max Score   Sequence Name  Sequence Index Class    Color Function\n",
       "0   0.120863  E5 B-cell-like              12     E  #984ef3   Active"
      ]
     },
     "execution_count": 14,
     "metadata": {},
     "output_type": "execute_result"
    }
   ],
   "source": [
    "scores = pd.read_csv(\"test_input_data/PTEN_sequence_class_scores.npy\")\n",
    "max_scores = viz.find_max(scores, signed=True).drop(columns=\"index\")\n",
    "max_scores.head(1)"
   ]
  },
  {
   "cell_type": "markdown",
   "id": "1dbf2fd1",
   "metadata": {},
   "source": [
    "Again, we will join all the data together."
   ]
  },
  {
   "cell_type": "code",
   "execution_count": 15,
   "id": "7d30beeb",
   "metadata": {},
   "outputs": [
    {
     "data": {
      "text/html": [
       "<div>\n",
       "<style scoped>\n",
       "    .dataframe tbody tr th:only-of-type {\n",
       "        vertical-align: middle;\n",
       "    }\n",
       "\n",
       "    .dataframe tbody tr th {\n",
       "        vertical-align: top;\n",
       "    }\n",
       "\n",
       "    .dataframe thead th {\n",
       "        text-align: right;\n",
       "    }\n",
       "</style>\n",
       "<table border=\"1\" class=\"dataframe\">\n",
       "  <thead>\n",
       "    <tr style=\"text-align: right;\">\n",
       "      <th></th>\n",
       "      <th>Alteration</th>\n",
       "      <th>Breast Cancer Case Alleles</th>\n",
       "      <th>Control Alleles</th>\n",
       "      <th>Classification</th>\n",
       "      <th>Max Score</th>\n",
       "      <th>Sequence Name</th>\n",
       "      <th>Sequence Index</th>\n",
       "      <th>Class</th>\n",
       "      <th>Color</th>\n",
       "      <th>Function</th>\n",
       "      <th>Disease Impact Score</th>\n",
       "      <th>Odds Ratio</th>\n",
       "      <th>Case/Control</th>\n",
       "    </tr>\n",
       "  </thead>\n",
       "  <tbody>\n",
       "    <tr>\n",
       "      <th>0</th>\n",
       "      <td>c.-976G&gt;C</td>\n",
       "      <td>46</td>\n",
       "      <td>40</td>\n",
       "      <td>VUS</td>\n",
       "      <td>0.120863</td>\n",
       "      <td>E5 B-cell-like</td>\n",
       "      <td>12</td>\n",
       "      <td>E</td>\n",
       "      <td>#984ef3</td>\n",
       "      <td>Active</td>\n",
       "      <td>-0.310427</td>\n",
       "      <td>0.476967</td>\n",
       "      <td>Control</td>\n",
       "    </tr>\n",
       "  </tbody>\n",
       "</table>\n",
       "</div>"
      ],
      "text/plain": [
       "  Alteration  Breast Cancer Case Alleles  Control Alleles Classification  \\\n",
       "0  c.-976G>C                          46               40            VUS   \n",
       "\n",
       "   Max Score   Sequence Name  Sequence Index Class    Color Function  \\\n",
       "0   0.120863  E5 B-cell-like              12     E  #984ef3   Active   \n",
       "\n",
       "   Disease Impact Score  Odds Ratio Case/Control  \n",
       "0             -0.310427    0.476967      Control  "
      ]
     },
     "execution_count": 15,
     "metadata": {},
     "output_type": "execute_result"
    }
   ],
   "source": [
    "max_scores[\"Disease Impact Score\"] = dis_score[\"Disease Impact Score\"]\n",
    "max_scores[\"Alteration\"] = row_labels[\"Alteration\"]\n",
    "max_scores = clinical_data.merge(max_scores)\n",
    "clin.odds_ratio(df=max_scores, control_col=\"Control Alleles\", case_col = \"Breast Cancer Case Alleles\",\n",
    "               num_cases = 52065, num_controls = 28549, correction = 0.1)\n",
    "clin.add_case_control_label(df=max_scores, case_cuttoff = 1.5, control_cutoff = 0.5)\n",
    "max_scores.head(1)"
   ]
  },
  {
   "cell_type": "code",
   "execution_count": 16,
   "id": "00142210",
   "metadata": {},
   "outputs": [
    {
     "data": {
      "text/html": [
       "<div>\n",
       "<style scoped>\n",
       "    .dataframe tbody tr th:only-of-type {\n",
       "        vertical-align: middle;\n",
       "    }\n",
       "\n",
       "    .dataframe tbody tr th {\n",
       "        vertical-align: top;\n",
       "    }\n",
       "\n",
       "    .dataframe thead th {\n",
       "        text-align: right;\n",
       "    }\n",
       "</style>\n",
       "<table border=\"1\" class=\"dataframe\">\n",
       "  <thead>\n",
       "    <tr style=\"text-align: right;\">\n",
       "      <th></th>\n",
       "      <th>Alteration</th>\n",
       "      <th>Breast Cancer Case Alleles</th>\n",
       "      <th>Control Alleles</th>\n",
       "      <th>Classification</th>\n",
       "      <th>Max Score</th>\n",
       "      <th>Sequence Name</th>\n",
       "      <th>Sequence Index</th>\n",
       "      <th>Class</th>\n",
       "      <th>Color</th>\n",
       "      <th>Function</th>\n",
       "      <th>Disease Impact Score</th>\n",
       "      <th>Odds Ratio</th>\n",
       "      <th>Case/Control</th>\n",
       "    </tr>\n",
       "  </thead>\n",
       "  <tbody>\n",
       "    <tr>\n",
       "      <th>0</th>\n",
       "      <td>c.-976G&gt;C</td>\n",
       "      <td>46</td>\n",
       "      <td>40</td>\n",
       "      <td>VUS</td>\n",
       "      <td>0.120863</td>\n",
       "      <td>E5 B-cell-like</td>\n",
       "      <td>12</td>\n",
       "      <td>E</td>\n",
       "      <td>#984ef3</td>\n",
       "      <td>Active</td>\n",
       "      <td>-0.310427</td>\n",
       "      <td>0.476967</td>\n",
       "      <td>Control</td>\n",
       "    </tr>\n",
       "    <tr>\n",
       "      <th>1</th>\n",
       "      <td>c.-835C&gt;T</td>\n",
       "      <td>14</td>\n",
       "      <td>10</td>\n",
       "      <td>VUS</td>\n",
       "      <td>-0.338331</td>\n",
       "      <td>P Promoter</td>\n",
       "      <td>25</td>\n",
       "      <td>P</td>\n",
       "      <td>#ef3b2c</td>\n",
       "      <td>Active</td>\n",
       "      <td>-0.305452</td>\n",
       "      <td>0.392778</td>\n",
       "      <td>Control</td>\n",
       "    </tr>\n",
       "    <tr>\n",
       "      <th>2</th>\n",
       "      <td>c.-931G&gt;A</td>\n",
       "      <td>0</td>\n",
       "      <td>1</td>\n",
       "      <td>VUS</td>\n",
       "      <td>-2.766029</td>\n",
       "      <td>E5 B-cell-like</td>\n",
       "      <td>12</td>\n",
       "      <td>E</td>\n",
       "      <td>#984ef3</td>\n",
       "      <td>Active</td>\n",
       "      <td>4.723788</td>\n",
       "      <td>6.031672</td>\n",
       "      <td>Case</td>\n",
       "    </tr>\n",
       "  </tbody>\n",
       "</table>\n",
       "</div>"
      ],
      "text/plain": [
       "  Alteration  Breast Cancer Case Alleles  Control Alleles Classification  \\\n",
       "0  c.-976G>C                          46               40            VUS   \n",
       "1  c.-835C>T                          14               10            VUS   \n",
       "2  c.-931G>A                           0                1            VUS   \n",
       "\n",
       "   Max Score   Sequence Name  Sequence Index Class    Color Function  \\\n",
       "0   0.120863  E5 B-cell-like              12     E  #984ef3   Active   \n",
       "1  -0.338331      P Promoter              25     P  #ef3b2c   Active   \n",
       "2  -2.766029  E5 B-cell-like              12     E  #984ef3   Active   \n",
       "\n",
       "   Disease Impact Score  Odds Ratio Case/Control  \n",
       "0             -0.310427    0.476967      Control  \n",
       "1             -0.305452    0.392778      Control  \n",
       "2              4.723788    6.031672         Case  "
      ]
     },
     "execution_count": 16,
     "metadata": {},
     "output_type": "execute_result"
    }
   ],
   "source": [
    "max_scores.head(3)"
   ]
  },
  {
   "cell_type": "markdown",
   "id": "0d04254d",
   "metadata": {},
   "source": [
    "We can also plot the DIS across genomic positions, to see if there are any short subsequences that have particularly high scores. In this case, we see two regions that have a few SNPs with particularly high Enhancer and CTCF scores."
   ]
  },
  {
   "cell_type": "code",
   "execution_count": 17,
   "id": "431fd2b5",
   "metadata": {},
   "outputs": [
    {
     "data": {
      "application/vnd.plotly.v1+json": {
       "config": {
        "plotlyServerURL": "https://plot.ly"
       },
       "data": [
        {
         "customdata": [
          [
           "c.-976G>C",
           46,
           40,
           "VUS",
           0.1208633088754229,
           "E5 B-cell-like",
           12,
           "E",
           "#984ef3",
           "Active",
           -0.31042716,
           0.4769671566473828,
           "Control",
           89623251
          ],
          [
           "c.-931G>A",
           0,
           1,
           "VUS",
           -2.7660290216517787,
           "E5 B-cell-like",
           12,
           "E",
           "#984ef3",
           "Active",
           4.7237883,
           6.03167194852588,
           "Case",
           89623296
          ],
          [
           "c.-765G>A",
           5,
           1,
           "VUS",
           0.2263470927121957,
           "E4 Multi-tissue",
           9,
           "E",
           "#984ef3",
           "Active",
           -0.30840835,
           0.11826807742207611,
           "Control",
           89623462
          ],
          [
           "c.-1151C>G",
           0,
           1,
           "VUS",
           -0.5018252625124902,
           "E5 B-cell-like",
           12,
           "E",
           "#984ef3",
           "Active",
           -0.2772834,
           6.03167194852588,
           "Case",
           89623076
          ],
          [
           "c.-1241A>G",
           1,
           0,
           "VUS",
           2.3397152423473635,
           "E12 Erythroblast-like",
           38,
           "E",
           "#984ef3",
           "Active",
           0.912988,
           0.04984852850021389,
           "Control",
           89622986
          ],
          [
           "c.-785C>T",
           0,
           1,
           "VUS",
           -0.4918190528838515,
           "E4 Multi-tissue",
           9,
           "E",
           "#984ef3",
           "Active",
           -0.22513963,
           6.03167194852588,
           "Case",
           89623442
          ],
          [
           "c.-908T>G",
           1,
           0,
           "VUS",
           1.8255895134754423,
           "E5 B-cell-like",
           12,
           "E",
           "#984ef3",
           "Active",
           2.8788726,
           0.04984852850021389,
           "Control",
           89623319
          ],
          [
           "c.-1191G>A",
           12,
           5,
           "VUS",
           -0.334273513247183,
           "E5 B-cell-like",
           12,
           "E",
           "#984ef3",
           "Active",
           -0.28358796,
           0.23111590486462802,
           "Control",
           89623036
          ],
          [
           "c.-1014G>A",
           1,
           0,
           "VUS",
           0.0763426340098689,
           "E6 Weak epithelial",
           13,
           "E",
           "#984ef3",
           "Active",
           -0.3075965,
           0.04984852850021389,
           "Control",
           89623213
          ],
          [
           "c.-1075G>A",
           0,
           1,
           "VUS",
           0.322501708203724,
           "E4 Multi-tissue",
           9,
           "E",
           "#984ef3",
           "Active",
           -0.30110642,
           6.03167194852588,
           "Case",
           89623152
          ],
          [
           "c.-797G>A",
           2,
           0,
           "VUS",
           -0.6043734963201857,
           "E4 Multi-tissue",
           9,
           "E",
           "#984ef3",
           "Active",
           -0.27857962,
           0.026111133976302516,
           "Control",
           89623430
          ],
          [
           "c.-1014G>T",
           1,
           0,
           "VUS",
           -0.3505672657356005,
           "E12 Erythroblast-like",
           38,
           "E",
           "#984ef3",
           "Active",
           -0.29031762,
           0.04984852850021389,
           "Control",
           89623213
          ],
          [
           "c.-1246T>C",
           0,
           1,
           "VUS",
           1.0787045960742674,
           "E4 Multi-tissue",
           9,
           "E",
           "#984ef3",
           "Active",
           -0.029809356,
           6.03167194852588,
           "Case",
           89622981
          ],
          [
           "c.-864T>C",
           1,
           0,
           "VUS",
           0.5796454984906916,
           "E5 B-cell-like",
           12,
           "E",
           "#984ef3",
           "Active",
           -0.2600147,
           0.04984852850021389,
           "Control",
           89623363
          ],
          [
           "c.-819A>G",
           3,
           0,
           "VUS",
           -1.503254571156743,
           "E12 Erythroblast-like",
           38,
           "E",
           "#984ef3",
           "Active",
           1.4452972,
           0.017688187532333963,
           "Control",
           89623408
          ],
          [
           "c.-976G>A",
           48,
           25,
           "VUS",
           0.1972016216267285,
           "E4 Multi-tissue",
           9,
           "E",
           "#984ef3",
           "Active",
           -0.3024251,
           0.286136771702891,
           "Control",
           89623251
          ],
          [
           "c.-1297A>G",
           0,
           1,
           "VUS",
           -0.538776786758941,
           "E4 Multi-tissue",
           9,
           "E",
           "#984ef3",
           "Active",
           -0.29709804,
           6.03167194852588,
           "Case",
           89622930
          ],
          [
           "c.-814G>T",
           1,
           1,
           "VUS",
           -0.2136622936774745,
           "E12 Erythroblast-like",
           38,
           "E",
           "#984ef3",
           "Active",
           -0.21014719,
           0.5483338135023528,
           "Equal",
           89623413
          ],
          [
           "c.-1276A>G",
           1,
           0,
           "VUS",
           -0.3454754710450736,
           "E5 B-cell-like",
           12,
           "E",
           "#984ef3",
           "Active",
           -0.28710714,
           0.04984852850021389,
           "Control",
           89622951
          ],
          [
           "c.-893T>C",
           1,
           0,
           "VUS",
           0.3970066285826696,
           "E12 Erythroblast-like",
           38,
           "E",
           "#984ef3",
           "Active",
           -0.28592512,
           0.04984852850021389,
           "Control",
           89623334
          ],
          [
           "c.-1045T>A",
           3,
           4,
           "VUS",
           0.1313616896691201,
           "E4 Multi-tissue",
           9,
           "E",
           "#984ef3",
           "Active",
           -0.31688422,
           0.7252156888256923,
           "Equal",
           89623182
          ],
          [
           "c.-1052C>T",
           2,
           0,
           "VUS",
           -1.139263552446721,
           "E5 B-cell-like",
           12,
           "E",
           "#984ef3",
           "Active",
           0.95133114,
           0.026111133976302516,
           "Control",
           89623175
          ],
          [
           "c.-924C>T",
           3,
           1,
           "VUS",
           -0.2956682728187658,
           "E4 Multi-tissue",
           9,
           "E",
           "#984ef3",
           "Active",
           -0.2970602,
           0.19457006285567358,
           "Control",
           89623303
          ],
          [
           "c.-857C>T",
           1,
           0,
           "VUS",
           0.5690563578200347,
           "E12 Erythroblast-like",
           38,
           "E",
           "#984ef3",
           "Active",
           -0.24557945,
           0.04984852850021389,
           "Control",
           89623370
          ],
          [
           "c.-826T>C",
           0,
           1,
           "VUS",
           0.1851972993476991,
           "E12 Erythroblast-like",
           38,
           "E",
           "#984ef3",
           "Active",
           -0.3004892,
           6.03167194852588,
           "Case",
           89623401
          ],
          [
           "c.-1237G>T",
           1,
           0,
           "VUS",
           -0.5658522014731773,
           "E4 Multi-tissue",
           9,
           "E",
           "#984ef3",
           "Active",
           -0.16688687,
           0.04984852850021389,
           "Control",
           89622990
          ],
          [
           "c.-840C>T",
           0,
           0,
           "VUS",
           0.226863245595835,
           "E5 B-cell-like",
           12,
           "E",
           "#984ef3",
           "Active",
           -0.2954436,
           0.5483338135023528,
           "Equal",
           89623387
          ],
          [
           "c.-1010C>T",
           1,
           0,
           "VUS",
           0.5025195156380917,
           "E4 Multi-tissue",
           9,
           "E",
           "#984ef3",
           "Active",
           -0.30437383,
           0.04984852850021389,
           "Control",
           89623217
          ],
          [
           "c.-1267C>G",
           0,
           1,
           "VUS",
           1.6189089489073003,
           "E4 Multi-tissue",
           9,
           "E",
           "#984ef3",
           "Active",
           -0.2353624,
           6.03167194852588,
           "Case",
           89622960
          ],
          [
           "c.-820C>T",
           1,
           0,
           "VUS",
           -0.7091139186822986,
           "E12 Erythroblast-like",
           38,
           "E",
           "#984ef3",
           "Active",
           0.5617587,
           0.04984852850021389,
           "Control",
           89623407
          ],
          [
           "c.-864T>G",
           1,
           0,
           "VUS",
           -0.2189926725981905,
           "E6 Weak epithelial",
           13,
           "E",
           "#984ef3",
           "Active",
           -0.294197,
           0.04984852850021389,
           "Control",
           89623363
          ],
          [
           "c.-1193C>T",
           1,
           0,
           "VUS",
           -0.8994107279940309,
           "E12 Erythroblast-like",
           38,
           "E",
           "#984ef3",
           "Active",
           -0.10574781,
           0.04984852850021389,
           "Control",
           89623034
          ],
          [
           "c.-987C>T",
           2,
           0,
           "VUS",
           -0.3660626140571565,
           "E5 B-cell-like",
           12,
           "E",
           "#984ef3",
           "Active",
           -0.17680109,
           0.026111133976302516,
           "Control",
           89623240
          ],
          [
           "c.-1091T>C",
           0,
           0,
           "VUS",
           0.3954719467684242,
           "E5 B-cell-like",
           12,
           "E",
           "#984ef3",
           "Active",
           -0.28196535,
           0.5483338135023528,
           "Equal",
           89623136
          ],
          [
           "c.-1081C>T",
           0,
           2,
           "VUS",
           0.291063541123318,
           "E5 B-cell-like",
           12,
           "E",
           "#984ef3",
           "Active",
           -0.29297704,
           11.515010083549408,
           "Case",
           89623146
          ],
          [
           "c.-806G>A",
           0,
           1,
           "VUS",
           0.2724341898680364,
           "E4 Multi-tissue",
           9,
           "E",
           "#984ef3",
           "Active",
           -0.3055854,
           6.03167194852588,
           "Case",
           89623421
          ],
          [
           "c.-1236C>G",
           1,
           0,
           "VUS",
           0.845805644037565,
           "E12 Erythroblast-like",
           38,
           "E",
           "#984ef3",
           "Active",
           0.025477823,
           0.04984852850021389,
           "Control",
           89622991
          ],
          [
           "c.-1002C>A",
           0,
           1,
           "VUS",
           -0.433620485460537,
           "E12 Erythroblast-like",
           38,
           "E",
           "#984ef3",
           "Active",
           -0.2906687,
           6.03167194852588,
           "Case",
           89623225
          ],
          [
           "c.-1240G>A",
           1,
           2,
           "VUS",
           0.5103731337835207,
           "E9 Liver / Intestine",
           26,
           "E",
           "#984ef3",
           "Active",
           -0.15878871,
           1.0468190985044916,
           "Equal",
           89622987
          ],
          [
           "c.-1139A>T",
           1,
           0,
           "VUS",
           -0.8583283426168293,
           "E12 Erythroblast-like",
           38,
           "E",
           "#984ef3",
           "Active",
           -0.2600474,
           0.04984852850021389,
           "Control",
           89623088
          ],
          [
           "c.-996C>T",
           1,
           0,
           "VUS",
           0.1182120331856353,
           "E4 Multi-tissue",
           9,
           "E",
           "#984ef3",
           "Active",
           -0.31401864,
           0.04984852850021389,
           "Control",
           89623231
          ],
          [
           "c.-837C>T",
           5,
           2,
           "VUS",
           0.2535935395817112,
           "E12 Erythroblast-like",
           38,
           "E",
           "#984ef3",
           "Active",
           -0.3054674,
           0.22578451144214529,
           "Control",
           89623390
          ],
          [
           "c.-1155G>A",
           1,
           1,
           "VUS",
           0.322740182975668,
           "E6 Weak epithelial",
           13,
           "E",
           "#984ef3",
           "Active",
           -0.28222626,
           0.5483338135023528,
           "Equal",
           89623072
          ],
          [
           "c.-944C>T",
           5,
           4,
           "VUS",
           -0.382987964650118,
           "E5 B-cell-like",
           12,
           "E",
           "#984ef3",
           "Active",
           -0.22117811,
           0.4408173794822836,
           "Control",
           89623283
          ],
          [
           "c.-1241A>C",
           1,
           0,
           "VUS",
           0.4990196983354451,
           "E4 Multi-tissue",
           9,
           "E",
           "#984ef3",
           "Active",
           -0.2570477,
           0.04984852850021389,
           "Control",
           89622986
          ],
          [
           "c.-1296G>T",
           3,
           0,
           "VUS",
           0.3518156995805661,
           "E5 B-cell-like",
           12,
           "E",
           "#984ef3",
           "Active",
           -0.29803875,
           0.017688187532333963,
           "Control",
           89622931
          ],
          [
           "c.-888T>C",
           1,
           0,
           "VUS",
           0.1971055909552372,
           "E5 B-cell-like",
           12,
           "E",
           "#984ef3",
           "Active",
           -0.30320162,
           0.04984852850021389,
           "Control",
           89623339
          ],
          [
           "c.-1083C>T",
           1,
           1,
           "VUS",
           0.4458411795628905,
           "E12 Erythroblast-like",
           38,
           "E",
           "#984ef3",
           "Active",
           -0.29356986,
           0.5483338135023528,
           "Equal",
           89623144
          ],
          [
           "c.-1165G>A",
           1,
           0,
           "VUS",
           0.1962550112043146,
           "E12 Erythroblast-like",
           38,
           "E",
           "#984ef3",
           "Active",
           -0.28144354,
           0.04984852850021389,
           "Control",
           89623062
          ],
          [
           "c.-1212C>T",
           1,
           0,
           "VUS",
           0.1948633031505906,
           "E6 Weak epithelial",
           13,
           "E",
           "#984ef3",
           "Active",
           -0.29934373,
           0.04984852850021389,
           "Control",
           89623015
          ],
          [
           "c.-1008G>A",
           1,
           1,
           "VUS",
           0.1564328622903303,
           "E5 B-cell-like",
           12,
           "E",
           "#984ef3",
           "Active",
           -0.3132622,
           0.5483338135023528,
           "Equal",
           89623219
          ],
          [
           "c.-933G>A",
           2,
           0,
           "VUS",
           -2.084704081160241,
           "E5 B-cell-like",
           12,
           "E",
           "#984ef3",
           "Active",
           4.087852,
           0.026111133976302516,
           "Control",
           89623294
          ],
          [
           "c.-1003C>T",
           1,
           0,
           "VUS",
           0.4023407906071661,
           "E4 Multi-tissue",
           9,
           "E",
           "#984ef3",
           "Active",
           -0.30726627,
           0.04984852850021389,
           "Control",
           89623224
          ],
          [
           "c.-946G>C",
           1,
           0,
           "VUS",
           -0.1456555261772862,
           "E5 B-cell-like",
           12,
           "E",
           "#984ef3",
           "Active",
           -0.31072748,
           0.04984852850021389,
           "Control",
           89623281
          ],
          [
           "c.-1207C>G",
           0,
           1,
           "VUS",
           -0.8258721043774884,
           "E12 Erythroblast-like",
           38,
           "E",
           "#984ef3",
           "Active",
           -0.20255795,
           6.03167194852588,
           "Case",
           89623020
          ],
          [
           "c.-913T>C",
           0,
           1,
           "VUS",
           -0.3410150980782127,
           "E4 Multi-tissue",
           9,
           "E",
           "#984ef3",
           "Active",
           -0.29375508,
           6.03167194852588,
           "Case",
           89623314
          ],
          [
           "c.-1178C>T",
           1,
           0,
           "VUS",
           -0.6554598015933131,
           "E11 T-cell",
           36,
           "E",
           "#984ef3",
           "Active",
           -0.06895838,
           0.04984852850021389,
           "Control",
           89623049
          ],
          [
           "c.-801T>C",
           1,
           0,
           "VUS",
           0.3905530381000872,
           "E4 Multi-tissue",
           9,
           "E",
           "#984ef3",
           "Active",
           -0.30895323,
           0.04984852850021389,
           "Control",
           89623426
          ],
          [
           "c.-1295T>G",
           1,
           0,
           "VUS",
           1.1180933348226605,
           "E4 Multi-tissue",
           9,
           "E",
           "#984ef3",
           "Active",
           -0.24307449,
           0.04984852850021389,
           "Control",
           89622932
          ],
          [
           "c.-956C>T",
           1,
           0,
           "VUS",
           -0.1925020244661333,
           "E5 B-cell-like",
           12,
           "E",
           "#984ef3",
           "Active",
           -0.28700227,
           0.04984852850021389,
           "Control",
           89623271
          ],
          [
           "c.-1143C>A",
           0,
           0,
           "VUS",
           -0.6125052121132732,
           "E6 Weak epithelial",
           13,
           "E",
           "#984ef3",
           "Active",
           -0.2728805,
           0.5483338135023528,
           "Equal",
           89623084
          ],
          [
           "c.-1222G>C",
           1,
           0,
           "VUS",
           0.7430616436978568,
           "E12 Erythroblast-like",
           38,
           "E",
           "#984ef3",
           "Active",
           -0.28217784,
           0.04984852850021389,
           "Control",
           89623005
          ],
          [
           "c.-941C>T",
           0,
           1,
           "VUS",
           -0.4511115115520088,
           "E5 B-cell-like",
           12,
           "E",
           "#984ef3",
           "Active",
           -0.27249792,
           6.03167194852588,
           "Case",
           89623286
          ],
          [
           "c.-1050C>T",
           2,
           3,
           "VUS",
           2.308543283177535,
           "E4 Multi-tissue",
           9,
           "E",
           "#984ef3",
           "Active",
           5.462512,
           0.809445153265378,
           "Equal",
           89623177
          ],
          [
           "c.-1206G>A",
           6,
           0,
           "VUS",
           0.2371003994699272,
           "E12 Erythroblast-like",
           38,
           "E",
           "#984ef3",
           "Active",
           -0.27629057,
           0.008989078909874637,
           "Control",
           89623021
          ],
          [
           "c.-822G>A",
           1,
           0,
           "VUS",
           -0.7736210454014802,
           "E4 Multi-tissue",
           9,
           "E",
           "#984ef3",
           "Active",
           -0.15100779,
           0.04984852850021389,
           "Control",
           89623405
          ],
          [
           "c.-1257G>C",
           1,
           0,
           "VUS",
           0.2569349863583099,
           "E12 Erythroblast-like",
           38,
           "E",
           "#984ef3",
           "Active",
           -0.28416178,
           0.04984852850021389,
           "Control",
           89622970
          ],
          [
           "c.-857C>G",
           3,
           1,
           "VUS",
           -0.1006779937516917,
           "E4 Multi-tissue",
           9,
           "E",
           "#984ef3",
           "Active",
           -0.3014512,
           0.19457006285567358,
           "Control",
           89623370
          ],
          [
           "c.-856G>C",
           1,
           0,
           "VUS",
           -0.8450138713846691,
           "E4 Multi-tissue",
           9,
           "E",
           "#984ef3",
           "Active",
           -0.29893085,
           0.04984852850021389,
           "Control",
           89623371
          ],
          [
           "c.-1246T>G",
           0,
           0,
           "VUS",
           -1.260872368171654,
           "E4 Multi-tissue",
           9,
           "E",
           "#984ef3",
           "Active",
           -0.17521232,
           0.5483338135023528,
           "Equal",
           89622981
          ],
          [
           "c.-1169G>T",
           0,
           1,
           "VUS",
           -0.518538813353068,
           "E5 B-cell-like",
           12,
           "E",
           "#984ef3",
           "Active",
           -0.24792273,
           6.03167194852588,
           "Case",
           89623058
          ],
          [
           "c.-949C>T",
           1,
           0,
           "VUS",
           -0.7920032749863655,
           "E5 B-cell-like",
           12,
           "E",
           "#984ef3",
           "Active",
           -0.1398482,
           0.04984852850021389,
           "Control",
           89623278
          ],
          [
           "c.-1020C>T",
           1,
           0,
           "VUS",
           0.737703337954656,
           "E4 Multi-tissue",
           9,
           "E",
           "#984ef3",
           "Active",
           -0.27700734,
           0.04984852850021389,
           "Control",
           89623207
          ],
          [
           "c.-1085C>G",
           1,
           1,
           "VUS",
           -0.6323069698711024,
           "E12 Erythroblast-like",
           38,
           "E",
           "#984ef3",
           "Active",
           -0.27991518,
           0.5483338135023528,
           "Equal",
           89623142
          ],
          [
           "c.-842C>T",
           2,
           0,
           "VUS",
           -0.487208547303414,
           "E12 Erythroblast-like",
           38,
           "E",
           "#984ef3",
           "Active",
           -0.27898896,
           0.026111133976302516,
           "Control",
           89623385
          ],
          [
           "c.-1101T>C",
           0,
           0,
           "VUS",
           0.0963623086688016,
           "E4 Multi-tissue",
           9,
           "E",
           "#984ef3",
           "Active",
           -0.2927141,
           0.5483338135023528,
           "Equal",
           89623126
          ],
          [
           "c.-1099G>T",
           1,
           0,
           "VUS",
           0.3329642567623523,
           "E6 Weak epithelial",
           13,
           "E",
           "#984ef3",
           "Active",
           -0.29487672,
           0.04984852850021389,
           "Control",
           89623128
          ],
          [
           "c.-1171C>T",
           15,
           7,
           "VUS",
           -1.476406722732257,
           "E4 Multi-tissue",
           9,
           "E",
           "#984ef3",
           "Active",
           -0.14355326,
           0.25782583283885463,
           "Control",
           89623056
          ],
          [
           "c.-968G>C",
           1,
           0,
           "VUS",
           -0.3686553584652223,
           "E12 Erythroblast-like",
           38,
           "E",
           "#984ef3",
           "Active",
           -0.27983686,
           0.04984852850021389,
           "Control",
           89623259
          ],
          [
           "c.-1243G>A",
           16,
           7,
           "VUS",
           0.5342228305326948,
           "E12 Erythroblast-like",
           38,
           "E",
           "#984ef3",
           "Active",
           -0.25287363,
           0.2418118059544537,
           "Control",
           89622984
          ],
          [
           "c.1003C>T",
           1,
           2,
           "Pathogenic",
           0.4017529902337635,
           "E4 Multi-tissue",
           9,
           "E",
           "#984ef3",
           "Active",
           -0.30725786,
           1.0468190985044916,
           "Equal",
           89623224
          ],
          [
           "c.518G>C",
           0,
           1,
           "VLP",
           0.0941017044892671,
           "E5 B-cell-like",
           12,
           "E",
           "#984ef3",
           "Active",
           -0.3143376,
           6.03167194852588,
           "Case",
           89623709
          ],
          [
           "c.388C>T",
           3,
           0,
           "Pathogenic",
           -0.0568687957478815,
           "E5 B-cell-like",
           12,
           "E",
           "#984ef3",
           "Active",
           -0.3179262,
           0.017688187532333963,
           "Control",
           89623839
          ]
         ],
         "hovertemplate": "Class=%{customdata[7]}<br>Position on chrom10=%{customdata[13]}<br>Disease Impact Score=%{customdata[10]}<br>Alteration=%{customdata[0]}<br>Breast Cancer Case Alleles=%{customdata[1]}<br>Control Alleles=%{customdata[2]}<br>Classification=%{customdata[3]}<br>Max Score=%{customdata[4]}<br>Sequence Name=%{customdata[5]}<br>Sequence Index=%{customdata[6]}<br>Color=%{customdata[8]}<br>Function=%{customdata[9]}<br>Odds Ratio=%{customdata[11]}<br>Case/Control=%{customdata[12]}<extra></extra>",
         "legendgroup": "E",
         "marker": {
          "color": "#984ef3",
          "size": 8,
          "symbol": "circle"
         },
         "mode": "markers",
         "name": "E",
         "orientation": "v",
         "showlegend": true,
         "type": "scatter",
         "x": [
          89623251,
          89623296,
          89623462,
          89623076,
          89622986,
          89623442,
          89623319,
          89623036,
          89623213,
          89623152,
          89623430,
          89623213,
          89622981,
          89623363,
          89623408,
          89623251,
          89622930,
          89623413,
          89622951,
          89623334,
          89623182,
          89623175,
          89623303,
          89623370,
          89623401,
          89622990,
          89623387,
          89623217,
          89622960,
          89623407,
          89623363,
          89623034,
          89623240,
          89623136,
          89623146,
          89623421,
          89622991,
          89623225,
          89622987,
          89623088,
          89623231,
          89623390,
          89623072,
          89623283,
          89622986,
          89622931,
          89623339,
          89623144,
          89623062,
          89623015,
          89623219,
          89623294,
          89623224,
          89623281,
          89623020,
          89623314,
          89623049,
          89623426,
          89622932,
          89623271,
          89623084,
          89623005,
          89623286,
          89623177,
          89623021,
          89623405,
          89622970,
          89623370,
          89623371,
          89622981,
          89623058,
          89623278,
          89623207,
          89623142,
          89623385,
          89623126,
          89623128,
          89623056,
          89623259,
          89622984,
          89623224,
          89623709,
          89623839
         ],
         "xaxis": "x",
         "y": [
          -0.31042716,
          4.7237883,
          -0.30840835,
          -0.2772834,
          0.912988,
          -0.22513963,
          2.8788726,
          -0.28358796,
          -0.3075965,
          -0.30110642,
          -0.27857962,
          -0.29031762,
          -0.029809356,
          -0.2600147,
          1.4452972,
          -0.3024251,
          -0.29709804,
          -0.21014719,
          -0.28710714,
          -0.28592512,
          -0.31688422,
          0.95133114,
          -0.2970602,
          -0.24557945,
          -0.3004892,
          -0.16688687,
          -0.2954436,
          -0.30437383,
          -0.2353624,
          0.5617587,
          -0.294197,
          -0.10574781,
          -0.17680109,
          -0.28196535,
          -0.29297704,
          -0.3055854,
          0.025477823,
          -0.2906687,
          -0.15878871,
          -0.2600474,
          -0.31401864,
          -0.3054674,
          -0.28222626,
          -0.22117811,
          -0.2570477,
          -0.29803875,
          -0.30320162,
          -0.29356986,
          -0.28144354,
          -0.29934373,
          -0.3132622,
          4.087852,
          -0.30726627,
          -0.31072748,
          -0.20255795,
          -0.29375508,
          -0.06895838,
          -0.30895323,
          -0.24307449,
          -0.28700227,
          -0.2728805,
          -0.28217784,
          -0.27249792,
          5.462512,
          -0.27629057,
          -0.15100779,
          -0.28416178,
          -0.3014512,
          -0.29893085,
          -0.17521232,
          -0.24792273,
          -0.1398482,
          -0.27700734,
          -0.27991518,
          -0.27898896,
          -0.2927141,
          -0.29487672,
          -0.14355326,
          -0.27983686,
          -0.25287363,
          -0.30725786,
          -0.3143376,
          -0.3179262
         ],
         "yaxis": "y"
        },
        {
         "customdata": [
          [
           "c.-835C>T",
           14,
           10,
           "VUS",
           -0.3383312986317079,
           "P Promoter",
           25,
           "P",
           "#ef3b2c",
           "Active",
           -0.30545247,
           0.39277812172863574,
           "Control",
           89623392
          ],
          [
           "c.-993G>C",
           1,
           0,
           "VUS",
           -0.3002367131645087,
           "P Promoter",
           25,
           "P",
           "#ef3b2c",
           "Active",
           -0.28816453,
           0.04984852850021389,
           "Control",
           89623234
          ],
          [
           "c.-1208G>A",
           0,
           1,
           "VUS",
           -0.4502391531518341,
           "P Promoter",
           25,
           "P",
           "#ef3b2c",
           "Active",
           -0.28175122,
           6.03167194852588,
           "Case",
           89623019
          ],
          [
           "c.-832G>A",
           1,
           0,
           "VUS",
           -0.2947744070587461,
           "P Promoter",
           25,
           "P",
           "#ef3b2c",
           "Active",
           -0.28303555,
           0.04984852850021389,
           "Control",
           89623395
          ],
          [
           "c.-1096G>T",
           1,
           0,
           "VUS",
           1.1234993509389923,
           "P Promoter",
           25,
           "P",
           "#ef3b2c",
           "Active",
           -0.025825987,
           0.04984852850021389,
           "Control",
           89623131
          ],
          [
           "c.-1282C>T",
           0,
           1,
           "VUS",
           -0.6915000067262369,
           "P Promoter",
           25,
           "P",
           "#ef3b2c",
           "Active",
           0.24518675,
           6.03167194852588,
           "Case",
           89622945
          ],
          [
           "c.-1258C>T",
           0,
           1,
           "VUS",
           -0.5303065081133909,
           "P Promoter",
           25,
           "P",
           "#ef3b2c",
           "Active",
           -0.2509139,
           6.03167194852588,
           "Case",
           89622969
          ],
          [
           "c.-798A>G",
           1,
           3,
           "VUS",
           -0.3506249271273844,
           "P Promoter",
           25,
           "P",
           "#ef3b2c",
           "Active",
           -0.29122505,
           1.5453043835066305,
           "Case",
           89623429
          ],
          [
           "c.-905C>A",
           2,
           0,
           "VUS",
           -0.9415313992561494,
           "P Promoter",
           25,
           "P",
           "#ef3b2c",
           "Active",
           -0.15776263,
           0.026111133976302516,
           "Control",
           89623322
          ],
          [
           "c.-873G>C",
           0,
           1,
           "VUS",
           1.5837505438235482,
           "P Promoter",
           25,
           "P",
           "#ef3b2c",
           "Active",
           0.65410674,
           6.03167194852588,
           "Case",
           89623354
          ],
          [
           "c.-1124G>A",
           1,
           0,
           "VUS",
           -4.307638642826767,
           "P Promoter",
           25,
           "P",
           "#ef3b2c",
           "Active",
           5.7656474,
           0.04984852850021389,
           "Control",
           89623103
          ],
          [
           "c.-1079C>G",
           0,
           0,
           "VUS",
           0.4942199083417264,
           "P Promoter",
           25,
           "P",
           "#ef3b2c",
           "Active",
           -0.29867613,
           0.5483338135023528,
           "Equal",
           89623148
          ],
          [
           "c.-852G>A",
           1,
           0,
           "VUS",
           -0.3704130668910679,
           "P Promoter",
           25,
           "P",
           "#ef3b2c",
           "Active",
           -0.30376318,
           0.04984852850021389,
           "Control",
           89623375
          ],
          [
           "c.-836T>G",
           1,
           0,
           "VUS",
           0.3413124335170252,
           "P Promoter",
           25,
           "P",
           "#ef3b2c",
           "Active",
           -0.29169682,
           0.04984852850021389,
           "Control",
           89623391
          ],
          [
           "c.-851C>A",
           1,
           1,
           "VUS",
           -0.9570170035128952,
           "P Promoter",
           25,
           "P",
           "#ef3b2c",
           "Active",
           -0.20960693,
           0.5483338135023528,
           "Equal",
           89623376
          ],
          [
           "c.-1058T>A",
           0,
           0,
           "VUS",
           -0.1671896880231358,
           "P Promoter",
           25,
           "P",
           "#ef3b2c",
           "Active",
           -0.31021208,
           0.5483338135023528,
           "Equal",
           89623169
          ],
          [
           "c.-866G>C",
           0,
           1,
           "VUS",
           -1.1444194937479324,
           "P Promoter",
           25,
           "P",
           "#ef3b2c",
           "Active",
           -0.17185558,
           6.03167194852588,
           "Case",
           89623361
          ],
          [
           "c.-869G>C",
           3,
           6,
           "VUS",
           -0.4818511983304248,
           "P Promoter",
           25,
           "P",
           "#ef3b2c",
           "Active",
           -0.2771244,
           1.0789794394723715,
           "Equal",
           89623358
          ],
          [
           "c.-910T>G",
           1,
           0,
           "VUS",
           -0.5422581398152069,
           "P Promoter",
           25,
           "P",
           "#ef3b2c",
           "Active",
           -0.27534425,
           0.04984852850021389,
           "Control",
           89623317
          ],
          [
           "c.-1077G>C",
           6,
           2,
           "VUS",
           0.1922925705539562,
           "P Promoter",
           25,
           "P",
           "#ef3b2c",
           "Active",
           -0.29181138,
           0.18877065710736737,
           "Control",
           89623150
          ],
          [
           "c.-1291C>T",
           2,
           0,
           "VUS",
           -0.3884000847749291,
           "P Promoter",
           25,
           "P",
           "#ef3b2c",
           "Active",
           -0.2557042,
           0.026111133976302516,
           "Control",
           89622936
          ],
          [
           "c.-983T>C",
           0,
           0,
           "VUS",
           -0.5825504667226618,
           "P Promoter",
           25,
           "P",
           "#ef3b2c",
           "Active",
           -0.00040207867,
           0.5483338135023528,
           "Equal",
           89623244
          ],
          [
           "c.-905C>T",
           2,
           0,
           "VUS",
           -0.7736887067349514,
           "P Promoter",
           25,
           "P",
           "#ef3b2c",
           "Active",
           -0.2511552,
           0.026111133976302516,
           "Control",
           89623322
          ],
          [
           "c.-833C>T",
           1,
           0,
           "VUS",
           -0.6834495950019601,
           "P Promoter",
           25,
           "P",
           "#ef3b2c",
           "Active",
           -0.2744731,
           0.04984852850021389,
           "Control",
           89623394
          ],
          [
           "c.850G>T",
           1,
           0,
           "Pathogenic",
           -0.6334859474375989,
           "P Promoter",
           25,
           "P",
           "#ef3b2c",
           "Active",
           -0.2537575,
           0.04984852850021389,
           "Control",
           89623377
          ]
         ],
         "hovertemplate": "Class=%{customdata[7]}<br>Position on chrom10=%{customdata[13]}<br>Disease Impact Score=%{customdata[10]}<br>Alteration=%{customdata[0]}<br>Breast Cancer Case Alleles=%{customdata[1]}<br>Control Alleles=%{customdata[2]}<br>Classification=%{customdata[3]}<br>Max Score=%{customdata[4]}<br>Sequence Name=%{customdata[5]}<br>Sequence Index=%{customdata[6]}<br>Color=%{customdata[8]}<br>Function=%{customdata[9]}<br>Odds Ratio=%{customdata[11]}<br>Case/Control=%{customdata[12]}<extra></extra>",
         "legendgroup": "P",
         "marker": {
          "color": "#ef3b2c",
          "size": 8,
          "symbol": "circle"
         },
         "mode": "markers",
         "name": "P",
         "orientation": "v",
         "showlegend": true,
         "type": "scatter",
         "x": [
          89623392,
          89623234,
          89623019,
          89623395,
          89623131,
          89622945,
          89622969,
          89623429,
          89623322,
          89623354,
          89623103,
          89623148,
          89623375,
          89623391,
          89623376,
          89623169,
          89623361,
          89623358,
          89623317,
          89623150,
          89622936,
          89623244,
          89623322,
          89623394,
          89623377
         ],
         "xaxis": "x",
         "y": [
          -0.30545247,
          -0.28816453,
          -0.28175122,
          -0.28303555,
          -0.025825987,
          0.24518675,
          -0.2509139,
          -0.29122505,
          -0.15776263,
          0.65410674,
          5.7656474,
          -0.29867613,
          -0.30376318,
          -0.29169682,
          -0.20960693,
          -0.31021208,
          -0.17185558,
          -0.2771244,
          -0.27534425,
          -0.29181138,
          -0.2557042,
          -0.00040207867,
          -0.2511552,
          -0.2744731,
          -0.2537575
         ],
         "yaxis": "y"
        },
        {
         "customdata": [
          [
           "c.-873G>A",
           1,
           1,
           "VUS",
           0.079652456591269,
           "CTCF CTCF-Cohesin",
           27,
           "CTCF",
           "#fdb462",
           "Active",
           -0.3083085,
           0.5483338135023528,
           "Equal",
           89623354
          ],
          [
           "c.-1084G>C",
           0,
           1,
           "VUS",
           -1.502888518941102,
           "CTCF CTCF-Cohesin",
           27,
           "CTCF",
           "#fdb462",
           "Active",
           -0.22656235,
           6.03167194852588,
           "Case",
           89623143
          ],
          [
           "c.-959G>T",
           1,
           0,
           "VUS",
           1.265710029817548,
           "CTCF CTCF-Cohesin",
           27,
           "CTCF",
           "#fdb462",
           "Active",
           -0.210069,
           0.04984852850021389,
           "Control",
           89623268
          ],
          [
           "c.-1060C>A",
           1,
           0,
           "VUS",
           1.6644104386949865,
           "CTCF CTCF-Cohesin",
           27,
           "CTCF",
           "#fdb462",
           "Active",
           0.48435244,
           0.04984852850021389,
           "Control",
           89623167
          ],
          [
           "c.-1087C>A",
           1,
           0,
           "VUS",
           -0.2634890142185853,
           "CTCF CTCF-Cohesin",
           27,
           "CTCF",
           "#fdb462",
           "Active",
           -0.28552425,
           0.04984852850021389,
           "Control",
           89623140
          ],
          [
           "c.-1113A>G",
           0,
           1,
           "VUS",
           -0.4093011354224067,
           "CTCF CTCF-Cohesin",
           27,
           "CTCF",
           "#fdb462",
           "Active",
           -0.29739004,
           6.03167194852588,
           "Case",
           89623114
          ],
          [
           "c.-772A>C",
           1,
           1,
           "VUS",
           -0.3494838663500488,
           "CTCF CTCF-Cohesin",
           27,
           "CTCF",
           "#fdb462",
           "Active",
           -0.29018652,
           0.5483338135023528,
           "Equal",
           89623455
          ],
          [
           "c.-1255C>A",
           1,
           0,
           "VUS",
           -1.59672384160314,
           "CTCF CTCF-Cohesin",
           27,
           "CTCF",
           "#fdb462",
           "Active",
           -0.24242915,
           0.04984852850021389,
           "Control",
           89622972
          ],
          [
           "c.-1175C>T",
           3,
           0,
           "VUS",
           -0.4198101503558042,
           "CTCF CTCF-Cohesin",
           27,
           "CTCF",
           "#fdb462",
           "Active",
           -0.27711862,
           0.017688187532333963,
           "Control",
           89623052
          ],
          [
           "c.-1026C>G",
           0,
           1,
           "VUS",
           1.7613860343564447,
           "CTCF CTCF-Cohesin",
           27,
           "CTCF",
           "#fdb462",
           "Active",
           0.0068683196,
           6.03167194852588,
           "Case",
           89623201
          ],
          [
           "c.-863G>T",
           0,
           0,
           "VUS",
           -0.4312320479193516,
           "CTCF CTCF-Cohesin",
           27,
           "CTCF",
           "#fdb462",
           "Active",
           -0.29969168,
           0.5483338135023528,
           "Equal",
           89623364
          ],
          [
           "c.-1079C>T",
           1,
           0,
           "VUS",
           0.2544539092675357,
           "CTCF CTCF-Cohesin",
           27,
           "CTCF",
           "#fdb462",
           "Active",
           -0.3111888,
           0.04984852850021389,
           "Control",
           89623148
          ],
          [
           "c.-1058T>G",
           1,
           0,
           "VUS",
           0.5313347165430073,
           "CTCF CTCF-Cohesin",
           27,
           "CTCF",
           "#fdb462",
           "Active",
           -0.2973186,
           0.04984852850021389,
           "Control",
           89623169
          ],
          [
           "c.-1044G>T",
           1,
           0,
           "VUS",
           1.15431688970207,
           "CTCF CTCF-Cohesin",
           27,
           "CTCF",
           "#fdb462",
           "Active",
           -0.22899696,
           0.04984852850021389,
           "Control",
           89623183
          ],
          [
           "c.-860A>C",
           1,
           0,
           "VUS",
           -0.6198635909315406,
           "CTCF CTCF-Cohesin",
           27,
           "CTCF",
           "#fdb462",
           "Active",
           -0.28514475,
           0.04984852850021389,
           "Control",
           89623367
          ],
          [
           "c.-966G>A",
           1,
           0,
           "VUS",
           0.5655152701318862,
           "CTCF CTCF-Cohesin",
           27,
           "CTCF",
           "#fdb462",
           "Active",
           -0.3027872,
           0.04984852850021389,
           "Control",
           89623261
          ],
          [
           "c.-989C>A",
           0,
           1,
           "VUS",
           1.741783684300053,
           "CTCF CTCF-Cohesin",
           27,
           "CTCF",
           "#fdb462",
           "Active",
           -0.2550719,
           6.03167194852588,
           "Case",
           89623238
          ],
          [
           "c.-1008G>T",
           1,
           0,
           "VUS",
           1.0358179804178749,
           "CTCF CTCF-Cohesin",
           27,
           "CTCF",
           "#fdb462",
           "Active",
           -0.24714498,
           0.04984852850021389,
           "Control",
           89623219
          ],
          [
           "c.-850G>A",
           1,
           0,
           "VUS",
           -0.8650572274569939,
           "CTCF CTCF-Cohesin",
           27,
           "CTCF",
           "#fdb462",
           "Active",
           -0.24789996,
           0.04984852850021389,
           "Control",
           89623377
          ],
          [
           "c.-1145A>C",
           2,
           1,
           "VUS",
           0.5994915188011696,
           "CTCF CTCF-Cohesin",
           27,
           "CTCF",
           "#fdb462",
           "Active",
           -0.22308026,
           0.2872224737393277,
           "Control",
           89623082
          ],
          [
           "c.-921G>A",
           3,
           1,
           "VUS",
           0.5678883777391555,
           "CTCF CTCF-Cohesin",
           27,
           "CTCF",
           "#fdb462",
           "Active",
           -0.2450989,
           0.19457006285567358,
           "Control",
           89623306
          ],
          [
           "c.-1042C>G",
           1,
           1,
           "VUS",
           2.724422404102498,
           "CTCF CTCF-Cohesin",
           27,
           "CTCF",
           "#fdb462",
           "Active",
           0.5167751,
           0.5483338135023528,
           "Equal",
           89623185
          ],
          [
           "c.-859C>G",
           2,
           0,
           "VUS",
           4.875723008930397,
           "CTCF CTCF-Cohesin",
           27,
           "CTCF",
           "#fdb462",
           "Active",
           -0.030512262,
           0.026111133976302516,
           "Control",
           89623368
          ],
          [
           "c.-791G>A",
           1,
           0,
           "VUS",
           -0.2926432257988587,
           "CTCF CTCF-Cohesin",
           27,
           "CTCF",
           "#fdb462",
           "Active",
           -0.3099511,
           0.04984852850021389,
           "Control",
           89623436
          ],
          [
           "c.-802G>A",
           2,
           0,
           "VUS",
           -0.7837300254903248,
           "CTCF CTCF-Cohesin",
           27,
           "CTCF",
           "#fdb462",
           "Active",
           -0.2265236,
           0.026111133976302516,
           "Control",
           89623425
          ],
          [
           "c.-998C>G",
           1,
           0,
           "VUS",
           -0.3331828028089703,
           "CTCF CTCF-Cohesin",
           27,
           "CTCF",
           "#fdb462",
           "Active",
           -0.2768369,
           0.04984852850021389,
           "Control",
           89623229
          ],
          [
           "c.-1294C>T",
           1,
           2,
           "VUS",
           0.3397885944468335,
           "CTCF CTCF-Cohesin",
           27,
           "CTCF",
           "#fdb462",
           "Active",
           -0.29670772,
           1.0468190985044916,
           "Equal",
           89622933
          ],
          [
           "c.-752G>T",
           1,
           0,
           "VUS",
           0.4841765170390211,
           "CTCF CTCF-Cohesin",
           27,
           "CTCF",
           "#fdb462",
           "Active",
           -0.2797237,
           0.04984852850021389,
           "Control",
           89623475
          ],
          [
           "c.-772A>G",
           0,
           1,
           "VUS",
           -0.4848202332479339,
           "CTCF CTCF-Cohesin",
           27,
           "CTCF",
           "#fdb462",
           "Active",
           -0.29863963,
           6.03167194852588,
           "Case",
           89623455
          ],
          [
           "c.-1288C>T",
           1,
           0,
           "VUS",
           0.4612731903735394,
           "CTCF CTCF-Cohesin",
           27,
           "CTCF",
           "#fdb462",
           "Active",
           -0.19237463,
           0.04984852850021389,
           "Control",
           89622939
          ],
          [
           "c.-946G>A",
           1,
           1,
           "VUS",
           1.0997508466214256,
           "CTCF CTCF-Cohesin",
           27,
           "CTCF",
           "#fdb462",
           "Active",
           -0.2326076,
           0.5483338135023528,
           "Equal",
           89623281
          ],
          [
           "c.-1066C>T",
           1,
           0,
           "VUS",
           -0.4295220838683349,
           "CTCF CTCF-Cohesin",
           27,
           "CTCF",
           "#fdb462",
           "Active",
           -0.29714757,
           0.04984852850021389,
           "Control",
           89623161
          ],
          [
           "c.-1031C>T",
           1,
           0,
           "VUS",
           1.99289049347194,
           "CTCF CTCF-Cohesin",
           27,
           "CTCF",
           "#fdb462",
           "Active",
           2.4851706,
           0.04984852850021389,
           "Control",
           89623196
          ],
          [
           "c.-1088G>A",
           1,
           1,
           "VUS",
           -0.4502788225307768,
           "CTCF CTCF-Cohesin",
           27,
           "CTCF",
           "#fdb462",
           "Active",
           -0.29310074,
           0.5483338135023528,
           "Equal",
           89623139
          ],
          [
           "c.-1098G>A",
           0,
           1,
           "VUS",
           0.5564822338869675,
           "CTCF CTCF-Cohesin",
           27,
           "CTCF",
           "#fdb462",
           "Active",
           -0.27155632,
           6.03167194852588,
           "Case",
           89623129
          ],
          [
           "c.-1182G>T",
           0,
           1,
           "VUS",
           -0.6938435709172843,
           "CTCF CTCF-Cohesin",
           27,
           "CTCF",
           "#fdb462",
           "Active",
           -0.13465233,
           6.03167194852588,
           "Case",
           89623045
          ],
          [
           "c.-952C>T",
           0,
           1,
           "VUS",
           0.6953295107027024,
           "CTCF CTCF-Cohesin",
           27,
           "CTCF",
           "#fdb462",
           "Active",
           -0.2972158,
           6.03167194852588,
           "Case",
           89623275
          ],
          [
           "c.-754A>T",
           0,
           1,
           "VUS",
           -0.2989656423312983,
           "CTCF CTCF-Cohesin",
           27,
           "CTCF",
           "#fdb462",
           "Active",
           -0.2994011,
           6.03167194852588,
           "Case",
           89623473
          ],
          [
           "c.-1026C>T",
           1,
           0,
           "VUS",
           1.4550584526250423,
           "CTCF CTCF-Cohesin",
           27,
           "CTCF",
           "#fdb462",
           "Active",
           -0.08384235,
           0.04984852850021389,
           "Control",
           89623201
          ],
          [
           "c.-902G>A",
           1,
           0,
           "VUS",
           0.7059891950194341,
           "CTCF CTCF-Cohesin",
           27,
           "CTCF",
           "#fdb462",
           "Active",
           -0.2835243,
           0.04984852850021389,
           "Control",
           89623325
          ],
          [
           "c.-1021C>T",
           0,
           1,
           "VUS",
           1.0891697842135528,
           "CTCF CTCF-Cohesin",
           27,
           "CTCF",
           "#fdb462",
           "Active",
           -0.23598363,
           6.03167194852588,
           "Case",
           89623206
          ],
          [
           "c.-860A>G",
           6,
           1,
           "VUS",
           0.6548234165708919,
           "CTCF CTCF-Cohesin",
           27,
           "CTCF",
           "#fdb462",
           "Active",
           -0.25380164,
           0.098879868008621,
           "Control",
           89623367
          ],
          [
           "c.-1203G>A",
           2,
           0,
           "VUS",
           0.4189640618407502,
           "CTCF CTCF-Cohesin",
           27,
           "CTCF",
           "#fdb462",
           "Active",
           -0.26806837,
           0.026111133976302516,
           "Control",
           89623024
          ],
          [
           "c.-876C>A",
           1,
           0,
           "VUS",
           -0.4212713765951399,
           "CTCF CTCF-Cohesin",
           27,
           "CTCF",
           "#fdb462",
           "Active",
           -0.2870507,
           0.04984852850021389,
           "Control",
           89623351
          ],
          [
           "c.-1235C>T",
           0,
           4,
           "VUS",
           0.4621817359699953,
           "CTCF CTCF-Cohesin",
           27,
           "CTCF",
           "#fdb462",
           "Active",
           -0.27369812,
           22.481686353596462,
           "Case",
           89622992
          ],
          [
           "c.-1279C>G",
           0,
           1,
           "VUS",
           0.7752683619248124,
           "CTCF CTCF-Cohesin",
           27,
           "CTCF",
           "#fdb462",
           "Active",
           -0.15746075,
           6.03167194852588,
           "Case",
           89622948
          ],
          [
           "c.-1203G>C",
           1,
           0,
           "VUS",
           -0.3066466535654193,
           "CTCF CTCF-Cohesin",
           27,
           "CTCF",
           "#fdb462",
           "Active",
           -0.28677878,
           0.04984852850021389,
           "Control",
           89623024
          ],
          [
           "c.-968G>A",
           1,
           0,
           "VUS",
           0.3223521707023202,
           "CTCF CTCF-Cohesin",
           27,
           "CTCF",
           "#fdb462",
           "Active",
           -0.30416617,
           0.04984852850021389,
           "Control",
           89623259
          ],
          [
           "c.-1101T>G",
           0,
           1,
           "VUS",
           0.1305411397486686,
           "CTCF CTCF-Cohesin",
           27,
           "CTCF",
           "#fdb462",
           "Active",
           -0.30051172,
           6.03167194852588,
           "Case",
           89623126
          ],
          [
           "c.-904G>C",
           1,
           1,
           "VUS",
           -1.049210490905967,
           "CTCF CTCF-Cohesin",
           27,
           "CTCF",
           "#fdb462",
           "Active",
           -0.20353708,
           0.5483338135023528,
           "Equal",
           89623323
          ],
          [
           "c.-1097G>A",
           1,
           0,
           "VUS",
           0.7853280717093583,
           "CTCF CTCF-Cohesin",
           27,
           "CTCF",
           "#fdb462",
           "Active",
           -0.20120637,
           0.04984852850021389,
           "Control",
           89623130
          ],
          [
           "c.-825G>A",
           1,
           0,
           "VUS",
           -0.2306082005900158,
           "CTCF CTCF-Cohesin",
           27,
           "CTCF",
           "#fdb462",
           "Active",
           -0.29215294,
           0.04984852850021389,
           "Control",
           89623402
          ],
          [
           "c.-844T>C",
           6,
           3,
           "VUS",
           0.4408701449676044,
           "CTCF CTCF-Cohesin",
           27,
           "CTCF",
           "#fdb462",
           "Active",
           -0.30036274,
           0.2786614462061137,
           "Control",
           89623383
          ],
          [
           "c.-898C>G",
           1,
           1,
           "VUS",
           0.6646741348005811,
           "CTCF CTCF-Cohesin",
           27,
           "CTCF",
           "#fdb462",
           "Active",
           -0.2917442,
           0.5483338135023528,
           "Equal",
           89623329
          ],
          [
           "c.-965G>A",
           1,
           0,
           "VUS",
           0.4913741831634688,
           "CTCF CTCF-Cohesin",
           27,
           "CTCF",
           "#fdb462",
           "Active",
           -0.2993084,
           0.04984852850021389,
           "Control",
           89623262
          ],
          [
           "c.-1082A>C",
           1,
           0,
           "VUS",
           -1.7980431354795885,
           "CTCF CTCF-Cohesin",
           27,
           "CTCF",
           "#fdb462",
           "Active",
           -0.16996229,
           0.04984852850021389,
           "Control",
           89623145
          ],
          [
           "c.-1047C>T",
           0,
           0,
           "VUS",
           3.059058742023886,
           "CTCF CTCF-Cohesin",
           27,
           "CTCF",
           "#fdb462",
           "Active",
           3.638431,
           0.5483338135023528,
           "Equal",
           89623180
          ],
          [
           "c.-1110G>T",
           0,
           1,
           "VUS",
           -0.9979322902753084,
           "CTCF CTCF-Cohesin",
           27,
           "CTCF",
           "#fdb462",
           "Active",
           -0.14626919,
           6.03167194852588,
           "Case",
           89623117
          ],
          [
           "c.-1205T>C",
           1,
           1,
           "VUS",
           0.6679214145142289,
           "CTCF CTCF-Cohesin",
           27,
           "CTCF",
           "#fdb462",
           "Active",
           -0.2472203,
           0.5483338135023528,
           "Equal",
           89623022
          ],
          [
           "c.-8T>C",
           1,
           0,
           "VUS",
           -0.2838498496303678,
           "CTCF CTCF-Cohesin",
           27,
           "CTCF",
           "#fdb462",
           "Active",
           -0.30312112,
           0.04984852850021389,
           "Control",
           89624219
          ],
          [
           "c.-934G>C",
           0,
           1,
           "VUS",
           -3.004350681464061,
           "CTCF CTCF-Cohesin",
           27,
           "CTCF",
           "#fdb462",
           "Active",
           4.1235275,
           6.03167194852588,
           "Case",
           89623293
          ],
          [
           "c.-867C>T",
           0,
           1,
           "VUS",
           -0.3408483423971837,
           "CTCF CTCF-Cohesin",
           27,
           "CTCF",
           "#fdb462",
           "Active",
           -0.2975507,
           6.03167194852588,
           "Case",
           89623360
          ],
          [
           "c.-930G>A",
           5,
           3,
           "VUS",
           -3.042584519280662,
           "CTCF CTCF-Cohesin",
           27,
           "CTCF",
           "#fdb462",
           "Active",
           4.768665,
           0.3333009454622145,
           "Control",
           89623297
          ],
          [
           "c.-1177T>G",
           3,
           0,
           "VUS",
           -0.8038973767823236,
           "CTCF CTCF-Cohesin",
           27,
           "CTCF",
           "#fdb462",
           "Active",
           0.06610043,
           0.017688187532333963,
           "Control",
           89623050
          ],
          [
           "c.-960C>T",
           1,
           0,
           "VUS",
           1.1560547636525556,
           "CTCF CTCF-Cohesin",
           27,
           "CTCF",
           "#fdb462",
           "Active",
           -0.23027834,
           0.04984852850021389,
           "Control",
           89623267
          ],
          [
           "c.-1080C>T",
           1,
           0,
           "VUS",
           0.9338095109450606,
           "CTCF CTCF-Cohesin",
           27,
           "CTCF",
           "#fdb462",
           "Active",
           -0.25175232,
           0.04984852850021389,
           "Control",
           89623147
          ],
          [
           "c.-1170T>C",
           1,
           1,
           "VUS",
           -0.4541587058733967,
           "CTCF CTCF-Cohesin",
           27,
           "CTCF",
           "#fdb462",
           "Active",
           -0.2426439,
           0.5483338135023528,
           "Equal",
           89623057
          ],
          [
           "c.-747C>T",
           0,
           0,
           "VUS",
           0.2766348203978612,
           "CTCF CTCF-Cohesin",
           27,
           "CTCF",
           "#fdb462",
           "Active",
           -0.20047036,
           0.5483338135023528,
           "Equal",
           89623480
          ],
          [
           "c.-755G>A",
           1,
           1,
           "VUS",
           -0.0403855321545343,
           "CTCF CTCF-Cohesin",
           27,
           "CTCF",
           "#fdb462",
           "Active",
           -0.31552553,
           0.5483338135023528,
           "Equal",
           89623472
          ],
          [
           "c.-814G>A",
           4,
           0,
           "VUS",
           -0.4613647388544706,
           "CTCF CTCF-Cohesin",
           27,
           "CTCF",
           "#fdb462",
           "Active",
           -0.24211264,
           0.0133739954512769,
           "Control",
           89623413
          ],
          [
           "c.-1048C>A",
           0,
           1,
           "VUS",
           2.123061523063651,
           "CTCF CTCF-Cohesin",
           27,
           "CTCF",
           "#fdb462",
           "Active",
           5.8466396,
           6.03167194852588,
           "Case",
           89623179
          ],
          [
           "c.-926G>A",
           0,
           0,
           "VUS",
           0.381131654783811,
           "CTCF CTCF-Cohesin",
           27,
           "CTCF",
           "#fdb462",
           "Active",
           -0.2926354,
           0.5483338135023528,
           "Equal",
           89623301
          ],
          [
           "c.-795C>T",
           1,
           1,
           "VUS",
           -0.145396283816261,
           "CTCF CTCF-Cohesin",
           27,
           "CTCF",
           "#fdb462",
           "Active",
           -0.30704033,
           0.5483338135023528,
           "Equal",
           89623432
          ],
          [
           "c.-1171C>A",
           3,
           2,
           "VUS",
           -1.0051985717791538,
           "CTCF CTCF-Cohesin",
           27,
           "CTCF",
           "#fdb462",
           "Active",
           0.8475105,
           0.37145193817901323,
           "Control",
           89623056
          ],
          [
           "c.-917G>C",
           0,
           1,
           "VUS",
           -1.2737893499603246,
           "CTCF CTCF-Cohesin",
           27,
           "CTCF",
           "#fdb462",
           "Active",
           -0.027409686,
           6.03167194852588,
           "Case",
           89623310
          ],
          [
           "c.-862G>C",
           0,
           0,
           "VUS",
           0.6367888790148868,
           "CTCF CTCF-Cohesin",
           27,
           "CTCF",
           "#fdb462",
           "Active",
           -0.2615097,
           0.5483338135023528,
           "Equal",
           89623365
          ],
          [
           "c.-1103G>A",
           0,
           0,
           "VUS",
           -0.3742240749448342,
           "CTCF CTCF-Cohesin",
           27,
           "CTCF",
           "#fdb462",
           "Active",
           -0.3043829,
           0.5483338135023528,
           "Equal",
           89623124
          ],
          [
           "c.-851C>T",
           1,
           1,
           "VUS",
           -1.0433336089173828,
           "CTCF CTCF-Cohesin",
           27,
           "CTCF",
           "#fdb462",
           "Active",
           -0.21241294,
           0.5483338135023528,
           "Equal",
           89623376
          ],
          [
           "c.-1089C>A",
           1,
           0,
           "VUS",
           -0.7644381892943954,
           "CTCF CTCF-Cohesin",
           27,
           "CTCF",
           "#fdb462",
           "Active",
           -0.2595236,
           0.04984852850021389,
           "Control",
           89623138
          ],
          [
           "c.-857C>A",
           0,
           1,
           "VUS",
           -0.7034075886007365,
           "CTCF CTCF-Cohesin",
           27,
           "CTCF",
           "#fdb462",
           "Active",
           -0.27835655,
           6.03167194852588,
           "Case",
           89623370
          ],
          [
           "c.-828G>A",
           1,
           1,
           "VUS",
           0.5410768187620647,
           "CTCF CTCF-Cohesin",
           27,
           "CTCF",
           "#fdb462",
           "Active",
           -0.30971053,
           0.5483338135023528,
           "Equal",
           89623399
          ],
          [
           "c.-1175C>A",
           3,
           1,
           "VUS",
           -0.8841144802296164,
           "CTCF CTCF-Cohesin",
           27,
           "CTCF",
           "#fdb462",
           "Active",
           -0.21822801,
           0.19457006285567358,
           "Control",
           89623052
          ],
          [
           "c.-1172G>A",
           1,
           0,
           "VUS",
           0.2075806753380185,
           "CTCF CTCF-Cohesin",
           27,
           "CTCF",
           "#fdb462",
           "Active",
           -0.30180487,
           0.04984852850021389,
           "Control",
           89623055
          ],
          [
           "c.-1062C>A",
           1,
           1,
           "VUS",
           2.044092487059604,
           "CTCF CTCF-Cohesin",
           27,
           "CTCF",
           "#fdb462",
           "Active",
           0.6201936,
           0.5483338135023528,
           "Equal",
           89623165
          ],
          [
           "c.-1061C>T",
           1,
           0,
           "VUS",
           2.4274783436649336,
           "CTCF CTCF-Cohesin",
           27,
           "CTCF",
           "#fdb462",
           "Active",
           0.9101511,
           0.04984852850021389,
           "Control",
           89623166
          ],
          [
           "c.-789G>A",
           3,
           0,
           "VUS",
           -0.398906087703061,
           "CTCF CTCF-Cohesin",
           27,
           "CTCF",
           "#fdb462",
           "Active",
           -0.2918053,
           0.017688187532333963,
           "Control",
           89623438
          ],
          [
           "c.-916C>A",
           1,
           0,
           "VUS",
           0.1863192010455741,
           "CTCF CTCF-Cohesin",
           27,
           "CTCF",
           "#fdb462",
           "Active",
           -0.28236628,
           0.04984852850021389,
           "Control",
           89623311
          ],
          [
           "c.-937G>A",
           1,
           0,
           "VUS",
           2.561257939622166,
           "CTCF CTCF-Cohesin",
           27,
           "CTCF",
           "#fdb462",
           "Active",
           1.519837,
           0.04984852850021389,
           "Control",
           89623290
          ],
          [
           "c.203A>G",
           1,
           0,
           "Pathogenic",
           0.2562494461872564,
           "CTCF CTCF-Cohesin",
           27,
           "CTCF",
           "#fdb462",
           "Active",
           -0.3110953,
           0.04984852850021389,
           "Control",
           89624024
          ],
          [
           "c.635-3C>G",
           1,
           0,
           "VLP",
           0.6430222110451886,
           "CTCF CTCF-Cohesin",
           27,
           "CTCF",
           "#fdb462",
           "Active",
           -0.3133524,
           0.04984852850021389,
           "Control",
           89623592
          ]
         ],
         "hovertemplate": "Class=%{customdata[7]}<br>Position on chrom10=%{customdata[13]}<br>Disease Impact Score=%{customdata[10]}<br>Alteration=%{customdata[0]}<br>Breast Cancer Case Alleles=%{customdata[1]}<br>Control Alleles=%{customdata[2]}<br>Classification=%{customdata[3]}<br>Max Score=%{customdata[4]}<br>Sequence Name=%{customdata[5]}<br>Sequence Index=%{customdata[6]}<br>Color=%{customdata[8]}<br>Function=%{customdata[9]}<br>Odds Ratio=%{customdata[11]}<br>Case/Control=%{customdata[12]}<extra></extra>",
         "legendgroup": "CTCF",
         "marker": {
          "color": "#fdb462",
          "size": 8,
          "symbol": "circle"
         },
         "mode": "markers",
         "name": "CTCF",
         "orientation": "v",
         "showlegend": true,
         "type": "scatter",
         "x": [
          89623354,
          89623143,
          89623268,
          89623167,
          89623140,
          89623114,
          89623455,
          89622972,
          89623052,
          89623201,
          89623364,
          89623148,
          89623169,
          89623183,
          89623367,
          89623261,
          89623238,
          89623219,
          89623377,
          89623082,
          89623306,
          89623185,
          89623368,
          89623436,
          89623425,
          89623229,
          89622933,
          89623475,
          89623455,
          89622939,
          89623281,
          89623161,
          89623196,
          89623139,
          89623129,
          89623045,
          89623275,
          89623473,
          89623201,
          89623325,
          89623206,
          89623367,
          89623024,
          89623351,
          89622992,
          89622948,
          89623024,
          89623259,
          89623126,
          89623323,
          89623130,
          89623402,
          89623383,
          89623329,
          89623262,
          89623145,
          89623180,
          89623117,
          89623022,
          89624219,
          89623293,
          89623360,
          89623297,
          89623050,
          89623267,
          89623147,
          89623057,
          89623480,
          89623472,
          89623413,
          89623179,
          89623301,
          89623432,
          89623056,
          89623310,
          89623365,
          89623124,
          89623376,
          89623138,
          89623370,
          89623399,
          89623052,
          89623055,
          89623165,
          89623166,
          89623438,
          89623311,
          89623290,
          89624024,
          89623592
         ],
         "xaxis": "x",
         "y": [
          -0.3083085,
          -0.22656235,
          -0.210069,
          0.48435244,
          -0.28552425,
          -0.29739004,
          -0.29018652,
          -0.24242915,
          -0.27711862,
          0.0068683196,
          -0.29969168,
          -0.3111888,
          -0.2973186,
          -0.22899696,
          -0.28514475,
          -0.3027872,
          -0.2550719,
          -0.24714498,
          -0.24789996,
          -0.22308026,
          -0.2450989,
          0.5167751,
          -0.030512262,
          -0.3099511,
          -0.2265236,
          -0.2768369,
          -0.29670772,
          -0.2797237,
          -0.29863963,
          -0.19237463,
          -0.2326076,
          -0.29714757,
          2.4851706,
          -0.29310074,
          -0.27155632,
          -0.13465233,
          -0.2972158,
          -0.2994011,
          -0.08384235,
          -0.2835243,
          -0.23598363,
          -0.25380164,
          -0.26806837,
          -0.2870507,
          -0.27369812,
          -0.15746075,
          -0.28677878,
          -0.30416617,
          -0.30051172,
          -0.20353708,
          -0.20120637,
          -0.29215294,
          -0.30036274,
          -0.2917442,
          -0.2993084,
          -0.16996229,
          3.638431,
          -0.14626919,
          -0.2472203,
          -0.30312112,
          4.1235275,
          -0.2975507,
          4.768665,
          0.06610043,
          -0.23027834,
          -0.25175232,
          -0.2426439,
          -0.20047036,
          -0.31552553,
          -0.24211264,
          5.8466396,
          -0.2926354,
          -0.30704033,
          0.8475105,
          -0.027409686,
          -0.2615097,
          -0.3043829,
          -0.21241294,
          -0.2595236,
          -0.27835655,
          -0.30971053,
          -0.21822801,
          -0.30180487,
          0.6201936,
          0.9101511,
          -0.2918053,
          -0.28236628,
          1.519837,
          -0.3110953,
          -0.3133524
         ],
         "yaxis": "y"
        },
        {
         "customdata": [
          [
           "c.-1213G>T",
           1,
           1,
           "VUS",
           -0.1118772236869123,
           "PC1 Polycomb / Heterochromatin",
           0,
           "PC",
           "#8abad4",
           "Repressed",
           -0.3009221,
           0.5483338135023528,
           "Equal",
           89623014
          ],
          [
           "c.-14A>C",
           0,
           1,
           "VUS",
           0.1812213952091905,
           "PC1 Polycomb / Heterochromatin",
           0,
           "PC",
           "#8abad4",
           "Repressed",
           -0.3138859,
           6.03167194852588,
           "Case",
           89624213
          ],
          [
           "c.-1173G>A",
           0,
           1,
           "VUS",
           -0.2106504405033042,
           "PC1 Polycomb / Heterochromatin",
           0,
           "PC",
           "#8abad4",
           "Repressed",
           -0.26392713,
           6.03167194852588,
           "Case",
           89623054
          ]
         ],
         "hovertemplate": "Class=%{customdata[7]}<br>Position on chrom10=%{customdata[13]}<br>Disease Impact Score=%{customdata[10]}<br>Alteration=%{customdata[0]}<br>Breast Cancer Case Alleles=%{customdata[1]}<br>Control Alleles=%{customdata[2]}<br>Classification=%{customdata[3]}<br>Max Score=%{customdata[4]}<br>Sequence Name=%{customdata[5]}<br>Sequence Index=%{customdata[6]}<br>Color=%{customdata[8]}<br>Function=%{customdata[9]}<br>Odds Ratio=%{customdata[11]}<br>Case/Control=%{customdata[12]}<extra></extra>",
         "legendgroup": "PC",
         "marker": {
          "color": "#8abad4",
          "size": 8,
          "symbol": "circle"
         },
         "mode": "markers",
         "name": "PC",
         "orientation": "v",
         "showlegend": true,
         "type": "scatter",
         "x": [
          89623014,
          89624213,
          89623054
         ],
         "xaxis": "x",
         "y": [
          -0.3009221,
          -0.3138859,
          -0.26392713
         ],
         "yaxis": "y"
        },
        {
         "customdata": [
          [
           "c.-1138G>A",
           0,
           1,
           "VUS",
           -0.1355006477266283,
           "TF3 FOXA1 / AR / ESR1",
           19,
           "TF",
           "#386cb0",
           "Active",
           -0.30325824,
           6.03167194852588,
           "Case",
           89623089
          ],
          [
           "c.-1137G>A",
           2,
           1,
           "VUS",
           -0.1486338381311434,
           "TF3 FOXA1 / AR / ESR1",
           19,
           "TF",
           "#386cb0",
           "Active",
           -0.29706502,
           0.2872224737393277,
           "Control",
           89623090
          ]
         ],
         "hovertemplate": "Class=%{customdata[7]}<br>Position on chrom10=%{customdata[13]}<br>Disease Impact Score=%{customdata[10]}<br>Alteration=%{customdata[0]}<br>Breast Cancer Case Alleles=%{customdata[1]}<br>Control Alleles=%{customdata[2]}<br>Classification=%{customdata[3]}<br>Max Score=%{customdata[4]}<br>Sequence Name=%{customdata[5]}<br>Sequence Index=%{customdata[6]}<br>Color=%{customdata[8]}<br>Function=%{customdata[9]}<br>Odds Ratio=%{customdata[11]}<br>Case/Control=%{customdata[12]}<extra></extra>",
         "legendgroup": "TF",
         "marker": {
          "color": "#386cb0",
          "size": 8,
          "symbol": "circle"
         },
         "mode": "markers",
         "name": "TF",
         "orientation": "v",
         "showlegend": true,
         "type": "scatter",
         "x": [
          89623089,
          89623090
         ],
         "xaxis": "x",
         "y": [
          -0.30325824,
          -0.29706502
         ],
         "yaxis": "y"
        }
       ],
       "layout": {
        "font": {
         "size": 18
        },
        "legend": {
         "title": {
          "text": "Class"
         },
         "tracegroupgap": 0
        },
        "margin": {
         "t": 60
        },
        "paper_bgcolor": "rgba(0, 0, 0, 0)",
        "plot_bgcolor": "rgba(0, 0, 0, 0)",
        "template": {
         "data": {
          "bar": [
           {
            "error_x": {
             "color": "#2a3f5f"
            },
            "error_y": {
             "color": "#2a3f5f"
            },
            "marker": {
             "line": {
              "color": "#E5ECF6",
              "width": 0.5
             }
            },
            "type": "bar"
           }
          ],
          "barpolar": [
           {
            "marker": {
             "line": {
              "color": "#E5ECF6",
              "width": 0.5
             }
            },
            "type": "barpolar"
           }
          ],
          "carpet": [
           {
            "aaxis": {
             "endlinecolor": "#2a3f5f",
             "gridcolor": "white",
             "linecolor": "white",
             "minorgridcolor": "white",
             "startlinecolor": "#2a3f5f"
            },
            "baxis": {
             "endlinecolor": "#2a3f5f",
             "gridcolor": "white",
             "linecolor": "white",
             "minorgridcolor": "white",
             "startlinecolor": "#2a3f5f"
            },
            "type": "carpet"
           }
          ],
          "choropleth": [
           {
            "colorbar": {
             "outlinewidth": 0,
             "ticks": ""
            },
            "type": "choropleth"
           }
          ],
          "contour": [
           {
            "colorbar": {
             "outlinewidth": 0,
             "ticks": ""
            },
            "colorscale": [
             [
              0,
              "#0d0887"
             ],
             [
              0.1111111111111111,
              "#46039f"
             ],
             [
              0.2222222222222222,
              "#7201a8"
             ],
             [
              0.3333333333333333,
              "#9c179e"
             ],
             [
              0.4444444444444444,
              "#bd3786"
             ],
             [
              0.5555555555555556,
              "#d8576b"
             ],
             [
              0.6666666666666666,
              "#ed7953"
             ],
             [
              0.7777777777777778,
              "#fb9f3a"
             ],
             [
              0.8888888888888888,
              "#fdca26"
             ],
             [
              1,
              "#f0f921"
             ]
            ],
            "type": "contour"
           }
          ],
          "contourcarpet": [
           {
            "colorbar": {
             "outlinewidth": 0,
             "ticks": ""
            },
            "type": "contourcarpet"
           }
          ],
          "heatmap": [
           {
            "colorbar": {
             "outlinewidth": 0,
             "ticks": ""
            },
            "colorscale": [
             [
              0,
              "#0d0887"
             ],
             [
              0.1111111111111111,
              "#46039f"
             ],
             [
              0.2222222222222222,
              "#7201a8"
             ],
             [
              0.3333333333333333,
              "#9c179e"
             ],
             [
              0.4444444444444444,
              "#bd3786"
             ],
             [
              0.5555555555555556,
              "#d8576b"
             ],
             [
              0.6666666666666666,
              "#ed7953"
             ],
             [
              0.7777777777777778,
              "#fb9f3a"
             ],
             [
              0.8888888888888888,
              "#fdca26"
             ],
             [
              1,
              "#f0f921"
             ]
            ],
            "type": "heatmap"
           }
          ],
          "heatmapgl": [
           {
            "colorbar": {
             "outlinewidth": 0,
             "ticks": ""
            },
            "colorscale": [
             [
              0,
              "#0d0887"
             ],
             [
              0.1111111111111111,
              "#46039f"
             ],
             [
              0.2222222222222222,
              "#7201a8"
             ],
             [
              0.3333333333333333,
              "#9c179e"
             ],
             [
              0.4444444444444444,
              "#bd3786"
             ],
             [
              0.5555555555555556,
              "#d8576b"
             ],
             [
              0.6666666666666666,
              "#ed7953"
             ],
             [
              0.7777777777777778,
              "#fb9f3a"
             ],
             [
              0.8888888888888888,
              "#fdca26"
             ],
             [
              1,
              "#f0f921"
             ]
            ],
            "type": "heatmapgl"
           }
          ],
          "histogram": [
           {
            "marker": {
             "colorbar": {
              "outlinewidth": 0,
              "ticks": ""
             }
            },
            "type": "histogram"
           }
          ],
          "histogram2d": [
           {
            "colorbar": {
             "outlinewidth": 0,
             "ticks": ""
            },
            "colorscale": [
             [
              0,
              "#0d0887"
             ],
             [
              0.1111111111111111,
              "#46039f"
             ],
             [
              0.2222222222222222,
              "#7201a8"
             ],
             [
              0.3333333333333333,
              "#9c179e"
             ],
             [
              0.4444444444444444,
              "#bd3786"
             ],
             [
              0.5555555555555556,
              "#d8576b"
             ],
             [
              0.6666666666666666,
              "#ed7953"
             ],
             [
              0.7777777777777778,
              "#fb9f3a"
             ],
             [
              0.8888888888888888,
              "#fdca26"
             ],
             [
              1,
              "#f0f921"
             ]
            ],
            "type": "histogram2d"
           }
          ],
          "histogram2dcontour": [
           {
            "colorbar": {
             "outlinewidth": 0,
             "ticks": ""
            },
            "colorscale": [
             [
              0,
              "#0d0887"
             ],
             [
              0.1111111111111111,
              "#46039f"
             ],
             [
              0.2222222222222222,
              "#7201a8"
             ],
             [
              0.3333333333333333,
              "#9c179e"
             ],
             [
              0.4444444444444444,
              "#bd3786"
             ],
             [
              0.5555555555555556,
              "#d8576b"
             ],
             [
              0.6666666666666666,
              "#ed7953"
             ],
             [
              0.7777777777777778,
              "#fb9f3a"
             ],
             [
              0.8888888888888888,
              "#fdca26"
             ],
             [
              1,
              "#f0f921"
             ]
            ],
            "type": "histogram2dcontour"
           }
          ],
          "mesh3d": [
           {
            "colorbar": {
             "outlinewidth": 0,
             "ticks": ""
            },
            "type": "mesh3d"
           }
          ],
          "parcoords": [
           {
            "line": {
             "colorbar": {
              "outlinewidth": 0,
              "ticks": ""
             }
            },
            "type": "parcoords"
           }
          ],
          "pie": [
           {
            "automargin": true,
            "type": "pie"
           }
          ],
          "scatter": [
           {
            "marker": {
             "colorbar": {
              "outlinewidth": 0,
              "ticks": ""
             }
            },
            "type": "scatter"
           }
          ],
          "scatter3d": [
           {
            "line": {
             "colorbar": {
              "outlinewidth": 0,
              "ticks": ""
             }
            },
            "marker": {
             "colorbar": {
              "outlinewidth": 0,
              "ticks": ""
             }
            },
            "type": "scatter3d"
           }
          ],
          "scattercarpet": [
           {
            "marker": {
             "colorbar": {
              "outlinewidth": 0,
              "ticks": ""
             }
            },
            "type": "scattercarpet"
           }
          ],
          "scattergeo": [
           {
            "marker": {
             "colorbar": {
              "outlinewidth": 0,
              "ticks": ""
             }
            },
            "type": "scattergeo"
           }
          ],
          "scattergl": [
           {
            "marker": {
             "colorbar": {
              "outlinewidth": 0,
              "ticks": ""
             }
            },
            "type": "scattergl"
           }
          ],
          "scattermapbox": [
           {
            "marker": {
             "colorbar": {
              "outlinewidth": 0,
              "ticks": ""
             }
            },
            "type": "scattermapbox"
           }
          ],
          "scatterpolar": [
           {
            "marker": {
             "colorbar": {
              "outlinewidth": 0,
              "ticks": ""
             }
            },
            "type": "scatterpolar"
           }
          ],
          "scatterpolargl": [
           {
            "marker": {
             "colorbar": {
              "outlinewidth": 0,
              "ticks": ""
             }
            },
            "type": "scatterpolargl"
           }
          ],
          "scatterternary": [
           {
            "marker": {
             "colorbar": {
              "outlinewidth": 0,
              "ticks": ""
             }
            },
            "type": "scatterternary"
           }
          ],
          "surface": [
           {
            "colorbar": {
             "outlinewidth": 0,
             "ticks": ""
            },
            "colorscale": [
             [
              0,
              "#0d0887"
             ],
             [
              0.1111111111111111,
              "#46039f"
             ],
             [
              0.2222222222222222,
              "#7201a8"
             ],
             [
              0.3333333333333333,
              "#9c179e"
             ],
             [
              0.4444444444444444,
              "#bd3786"
             ],
             [
              0.5555555555555556,
              "#d8576b"
             ],
             [
              0.6666666666666666,
              "#ed7953"
             ],
             [
              0.7777777777777778,
              "#fb9f3a"
             ],
             [
              0.8888888888888888,
              "#fdca26"
             ],
             [
              1,
              "#f0f921"
             ]
            ],
            "type": "surface"
           }
          ],
          "table": [
           {
            "cells": {
             "fill": {
              "color": "#EBF0F8"
             },
             "line": {
              "color": "white"
             }
            },
            "header": {
             "fill": {
              "color": "#C8D4E3"
             },
             "line": {
              "color": "white"
             }
            },
            "type": "table"
           }
          ]
         },
         "layout": {
          "annotationdefaults": {
           "arrowcolor": "#2a3f5f",
           "arrowhead": 0,
           "arrowwidth": 1
          },
          "coloraxis": {
           "colorbar": {
            "outlinewidth": 0,
            "ticks": ""
           }
          },
          "colorscale": {
           "diverging": [
            [
             0,
             "#8e0152"
            ],
            [
             0.1,
             "#c51b7d"
            ],
            [
             0.2,
             "#de77ae"
            ],
            [
             0.3,
             "#f1b6da"
            ],
            [
             0.4,
             "#fde0ef"
            ],
            [
             0.5,
             "#f7f7f7"
            ],
            [
             0.6,
             "#e6f5d0"
            ],
            [
             0.7,
             "#b8e186"
            ],
            [
             0.8,
             "#7fbc41"
            ],
            [
             0.9,
             "#4d9221"
            ],
            [
             1,
             "#276419"
            ]
           ],
           "sequential": [
            [
             0,
             "#0d0887"
            ],
            [
             0.1111111111111111,
             "#46039f"
            ],
            [
             0.2222222222222222,
             "#7201a8"
            ],
            [
             0.3333333333333333,
             "#9c179e"
            ],
            [
             0.4444444444444444,
             "#bd3786"
            ],
            [
             0.5555555555555556,
             "#d8576b"
            ],
            [
             0.6666666666666666,
             "#ed7953"
            ],
            [
             0.7777777777777778,
             "#fb9f3a"
            ],
            [
             0.8888888888888888,
             "#fdca26"
            ],
            [
             1,
             "#f0f921"
            ]
           ],
           "sequentialminus": [
            [
             0,
             "#0d0887"
            ],
            [
             0.1111111111111111,
             "#46039f"
            ],
            [
             0.2222222222222222,
             "#7201a8"
            ],
            [
             0.3333333333333333,
             "#9c179e"
            ],
            [
             0.4444444444444444,
             "#bd3786"
            ],
            [
             0.5555555555555556,
             "#d8576b"
            ],
            [
             0.6666666666666666,
             "#ed7953"
            ],
            [
             0.7777777777777778,
             "#fb9f3a"
            ],
            [
             0.8888888888888888,
             "#fdca26"
            ],
            [
             1,
             "#f0f921"
            ]
           ]
          },
          "colorway": [
           "#636efa",
           "#EF553B",
           "#00cc96",
           "#ab63fa",
           "#FFA15A",
           "#19d3f3",
           "#FF6692",
           "#B6E880",
           "#FF97FF",
           "#FECB52"
          ],
          "font": {
           "color": "#2a3f5f"
          },
          "geo": {
           "bgcolor": "white",
           "lakecolor": "white",
           "landcolor": "#E5ECF6",
           "showlakes": true,
           "showland": true,
           "subunitcolor": "white"
          },
          "hoverlabel": {
           "align": "left"
          },
          "hovermode": "closest",
          "mapbox": {
           "style": "light"
          },
          "paper_bgcolor": "white",
          "plot_bgcolor": "#E5ECF6",
          "polar": {
           "angularaxis": {
            "gridcolor": "white",
            "linecolor": "white",
            "ticks": ""
           },
           "bgcolor": "#E5ECF6",
           "radialaxis": {
            "gridcolor": "white",
            "linecolor": "white",
            "ticks": ""
           }
          },
          "scene": {
           "xaxis": {
            "backgroundcolor": "#E5ECF6",
            "gridcolor": "white",
            "gridwidth": 2,
            "linecolor": "white",
            "showbackground": true,
            "ticks": "",
            "zerolinecolor": "white"
           },
           "yaxis": {
            "backgroundcolor": "#E5ECF6",
            "gridcolor": "white",
            "gridwidth": 2,
            "linecolor": "white",
            "showbackground": true,
            "ticks": "",
            "zerolinecolor": "white"
           },
           "zaxis": {
            "backgroundcolor": "#E5ECF6",
            "gridcolor": "white",
            "gridwidth": 2,
            "linecolor": "white",
            "showbackground": true,
            "ticks": "",
            "zerolinecolor": "white"
           }
          },
          "shapedefaults": {
           "line": {
            "color": "#2a3f5f"
           }
          },
          "ternary": {
           "aaxis": {
            "gridcolor": "white",
            "linecolor": "white",
            "ticks": ""
           },
           "baxis": {
            "gridcolor": "white",
            "linecolor": "white",
            "ticks": ""
           },
           "bgcolor": "#E5ECF6",
           "caxis": {
            "gridcolor": "white",
            "linecolor": "white",
            "ticks": ""
           }
          },
          "title": {
           "x": 0.05
          },
          "xaxis": {
           "automargin": true,
           "gridcolor": "white",
           "linecolor": "white",
           "ticks": "",
           "title": {
            "standoff": 15
           },
           "zerolinecolor": "white",
           "zerolinewidth": 2
          },
          "yaxis": {
           "automargin": true,
           "gridcolor": "white",
           "linecolor": "white",
           "ticks": "",
           "title": {
            "standoff": 15
           },
           "zerolinecolor": "white",
           "zerolinewidth": 2
          }
         }
        },
        "xaxis": {
         "anchor": "y",
         "domain": [
          0,
          1
         ],
         "gridcolor": "#DCDCDC",
         "linecolor": "black",
         "linewidth": 2,
         "showline": true,
         "title": {
          "text": "Position on chrom10"
         }
        },
        "yaxis": {
         "anchor": "x",
         "domain": [
          0,
          1
         ],
         "gridcolor": "#DCDCDC",
         "linecolor": "black",
         "linewidth": 2,
         "showline": true,
         "title": {
          "text": "Disease Impact Score"
         }
        }
       }
      },
      "text/html": [
       "<div>                            <div id=\"0693e899-0754-4fff-8930-c84e28ee0f20\" class=\"plotly-graph-div\" style=\"height:525px; width:100%;\"></div>            <script type=\"text/javascript\">                require([\"plotly\"], function(Plotly) {                    window.PLOTLYENV=window.PLOTLYENV || {};                                    if (document.getElementById(\"0693e899-0754-4fff-8930-c84e28ee0f20\")) {                    Plotly.newPlot(                        \"0693e899-0754-4fff-8930-c84e28ee0f20\",                        [{\"customdata\": [[\"c.-976G>C\", 46, 40, \"VUS\", 0.1208633088754229, \"E5 B-cell-like\", 12, \"E\", \"#984ef3\", \"Active\", -0.31042716, 0.4769671566473828, \"Control\", 89623251], [\"c.-931G>A\", 0, 1, \"VUS\", -2.7660290216517787, \"E5 B-cell-like\", 12, \"E\", \"#984ef3\", \"Active\", 4.7237883, 6.03167194852588, \"Case\", 89623296], [\"c.-765G>A\", 5, 1, \"VUS\", 0.2263470927121957, \"E4 Multi-tissue\", 9, \"E\", \"#984ef3\", \"Active\", -0.30840835, 0.11826807742207611, \"Control\", 89623462], [\"c.-1151C>G\", 0, 1, \"VUS\", -0.5018252625124902, \"E5 B-cell-like\", 12, \"E\", \"#984ef3\", \"Active\", -0.2772834, 6.03167194852588, \"Case\", 89623076], [\"c.-1241A>G\", 1, 0, \"VUS\", 2.3397152423473635, \"E12 Erythroblast-like\", 38, \"E\", \"#984ef3\", \"Active\", 0.912988, 0.04984852850021389, \"Control\", 89622986], [\"c.-785C>T\", 0, 1, \"VUS\", -0.4918190528838515, \"E4 Multi-tissue\", 9, \"E\", \"#984ef3\", \"Active\", -0.22513963, 6.03167194852588, \"Case\", 89623442], [\"c.-908T>G\", 1, 0, \"VUS\", 1.8255895134754423, \"E5 B-cell-like\", 12, \"E\", \"#984ef3\", \"Active\", 2.8788726, 0.04984852850021389, \"Control\", 89623319], [\"c.-1191G>A\", 12, 5, \"VUS\", -0.334273513247183, \"E5 B-cell-like\", 12, \"E\", \"#984ef3\", \"Active\", -0.28358796, 0.23111590486462802, \"Control\", 89623036], [\"c.-1014G>A\", 1, 0, \"VUS\", 0.0763426340098689, \"E6 Weak epithelial\", 13, \"E\", \"#984ef3\", \"Active\", -0.3075965, 0.04984852850021389, \"Control\", 89623213], [\"c.-1075G>A\", 0, 1, \"VUS\", 0.322501708203724, \"E4 Multi-tissue\", 9, \"E\", \"#984ef3\", \"Active\", -0.30110642, 6.03167194852588, \"Case\", 89623152], [\"c.-797G>A\", 2, 0, \"VUS\", -0.6043734963201857, \"E4 Multi-tissue\", 9, \"E\", \"#984ef3\", \"Active\", -0.27857962, 0.026111133976302516, \"Control\", 89623430], [\"c.-1014G>T\", 1, 0, \"VUS\", -0.3505672657356005, \"E12 Erythroblast-like\", 38, \"E\", \"#984ef3\", \"Active\", -0.29031762, 0.04984852850021389, \"Control\", 89623213], [\"c.-1246T>C\", 0, 1, \"VUS\", 1.0787045960742674, \"E4 Multi-tissue\", 9, \"E\", \"#984ef3\", \"Active\", -0.029809356, 6.03167194852588, \"Case\", 89622981], [\"c.-864T>C\", 1, 0, \"VUS\", 0.5796454984906916, \"E5 B-cell-like\", 12, \"E\", \"#984ef3\", \"Active\", -0.2600147, 0.04984852850021389, \"Control\", 89623363], [\"c.-819A>G\", 3, 0, \"VUS\", -1.503254571156743, \"E12 Erythroblast-like\", 38, \"E\", \"#984ef3\", \"Active\", 1.4452972, 0.017688187532333963, \"Control\", 89623408], [\"c.-976G>A\", 48, 25, \"VUS\", 0.1972016216267285, \"E4 Multi-tissue\", 9, \"E\", \"#984ef3\", \"Active\", -0.3024251, 0.286136771702891, \"Control\", 89623251], [\"c.-1297A>G\", 0, 1, \"VUS\", -0.538776786758941, \"E4 Multi-tissue\", 9, \"E\", \"#984ef3\", \"Active\", -0.29709804, 6.03167194852588, \"Case\", 89622930], [\"c.-814G>T\", 1, 1, \"VUS\", -0.2136622936774745, \"E12 Erythroblast-like\", 38, \"E\", \"#984ef3\", \"Active\", -0.21014719, 0.5483338135023528, \"Equal\", 89623413], [\"c.-1276A>G\", 1, 0, \"VUS\", -0.3454754710450736, \"E5 B-cell-like\", 12, \"E\", \"#984ef3\", \"Active\", -0.28710714, 0.04984852850021389, \"Control\", 89622951], [\"c.-893T>C\", 1, 0, \"VUS\", 0.3970066285826696, \"E12 Erythroblast-like\", 38, \"E\", \"#984ef3\", \"Active\", -0.28592512, 0.04984852850021389, \"Control\", 89623334], [\"c.-1045T>A\", 3, 4, \"VUS\", 0.1313616896691201, \"E4 Multi-tissue\", 9, \"E\", \"#984ef3\", \"Active\", -0.31688422, 0.7252156888256923, \"Equal\", 89623182], [\"c.-1052C>T\", 2, 0, \"VUS\", -1.139263552446721, \"E5 B-cell-like\", 12, \"E\", \"#984ef3\", \"Active\", 0.95133114, 0.026111133976302516, \"Control\", 89623175], [\"c.-924C>T\", 3, 1, \"VUS\", -0.2956682728187658, \"E4 Multi-tissue\", 9, \"E\", \"#984ef3\", \"Active\", -0.2970602, 0.19457006285567358, \"Control\", 89623303], [\"c.-857C>T\", 1, 0, \"VUS\", 0.5690563578200347, \"E12 Erythroblast-like\", 38, \"E\", \"#984ef3\", \"Active\", -0.24557945, 0.04984852850021389, \"Control\", 89623370], [\"c.-826T>C\", 0, 1, \"VUS\", 0.1851972993476991, \"E12 Erythroblast-like\", 38, \"E\", \"#984ef3\", \"Active\", -0.3004892, 6.03167194852588, \"Case\", 89623401], [\"c.-1237G>T\", 1, 0, \"VUS\", -0.5658522014731773, \"E4 Multi-tissue\", 9, \"E\", \"#984ef3\", \"Active\", -0.16688687, 0.04984852850021389, \"Control\", 89622990], [\"c.-840C>T\", 0, 0, \"VUS\", 0.226863245595835, \"E5 B-cell-like\", 12, \"E\", \"#984ef3\", \"Active\", -0.2954436, 0.5483338135023528, \"Equal\", 89623387], [\"c.-1010C>T\", 1, 0, \"VUS\", 0.5025195156380917, \"E4 Multi-tissue\", 9, \"E\", \"#984ef3\", \"Active\", -0.30437383, 0.04984852850021389, \"Control\", 89623217], [\"c.-1267C>G\", 0, 1, \"VUS\", 1.6189089489073003, \"E4 Multi-tissue\", 9, \"E\", \"#984ef3\", \"Active\", -0.2353624, 6.03167194852588, \"Case\", 89622960], [\"c.-820C>T\", 1, 0, \"VUS\", -0.7091139186822986, \"E12 Erythroblast-like\", 38, \"E\", \"#984ef3\", \"Active\", 0.5617587, 0.04984852850021389, \"Control\", 89623407], [\"c.-864T>G\", 1, 0, \"VUS\", -0.2189926725981905, \"E6 Weak epithelial\", 13, \"E\", \"#984ef3\", \"Active\", -0.294197, 0.04984852850021389, \"Control\", 89623363], [\"c.-1193C>T\", 1, 0, \"VUS\", -0.8994107279940309, \"E12 Erythroblast-like\", 38, \"E\", \"#984ef3\", \"Active\", -0.10574781, 0.04984852850021389, \"Control\", 89623034], [\"c.-987C>T\", 2, 0, \"VUS\", -0.3660626140571565, \"E5 B-cell-like\", 12, \"E\", \"#984ef3\", \"Active\", -0.17680109, 0.026111133976302516, \"Control\", 89623240], [\"c.-1091T>C\", 0, 0, \"VUS\", 0.3954719467684242, \"E5 B-cell-like\", 12, \"E\", \"#984ef3\", \"Active\", -0.28196535, 0.5483338135023528, \"Equal\", 89623136], [\"c.-1081C>T\", 0, 2, \"VUS\", 0.291063541123318, \"E5 B-cell-like\", 12, \"E\", \"#984ef3\", \"Active\", -0.29297704, 11.515010083549408, \"Case\", 89623146], [\"c.-806G>A\", 0, 1, \"VUS\", 0.2724341898680364, \"E4 Multi-tissue\", 9, \"E\", \"#984ef3\", \"Active\", -0.3055854, 6.03167194852588, \"Case\", 89623421], [\"c.-1236C>G\", 1, 0, \"VUS\", 0.845805644037565, \"E12 Erythroblast-like\", 38, \"E\", \"#984ef3\", \"Active\", 0.025477823, 0.04984852850021389, \"Control\", 89622991], [\"c.-1002C>A\", 0, 1, \"VUS\", -0.433620485460537, \"E12 Erythroblast-like\", 38, \"E\", \"#984ef3\", \"Active\", -0.2906687, 6.03167194852588, \"Case\", 89623225], [\"c.-1240G>A\", 1, 2, \"VUS\", 0.5103731337835207, \"E9 Liver / Intestine\", 26, \"E\", \"#984ef3\", \"Active\", -0.15878871, 1.0468190985044916, \"Equal\", 89622987], [\"c.-1139A>T\", 1, 0, \"VUS\", -0.8583283426168293, \"E12 Erythroblast-like\", 38, \"E\", \"#984ef3\", \"Active\", -0.2600474, 0.04984852850021389, \"Control\", 89623088], [\"c.-996C>T\", 1, 0, \"VUS\", 0.1182120331856353, \"E4 Multi-tissue\", 9, \"E\", \"#984ef3\", \"Active\", -0.31401864, 0.04984852850021389, \"Control\", 89623231], [\"c.-837C>T\", 5, 2, \"VUS\", 0.2535935395817112, \"E12 Erythroblast-like\", 38, \"E\", \"#984ef3\", \"Active\", -0.3054674, 0.22578451144214529, \"Control\", 89623390], [\"c.-1155G>A\", 1, 1, \"VUS\", 0.322740182975668, \"E6 Weak epithelial\", 13, \"E\", \"#984ef3\", \"Active\", -0.28222626, 0.5483338135023528, \"Equal\", 89623072], [\"c.-944C>T\", 5, 4, \"VUS\", -0.382987964650118, \"E5 B-cell-like\", 12, \"E\", \"#984ef3\", \"Active\", -0.22117811, 0.4408173794822836, \"Control\", 89623283], [\"c.-1241A>C\", 1, 0, \"VUS\", 0.4990196983354451, \"E4 Multi-tissue\", 9, \"E\", \"#984ef3\", \"Active\", -0.2570477, 0.04984852850021389, \"Control\", 89622986], [\"c.-1296G>T\", 3, 0, \"VUS\", 0.3518156995805661, \"E5 B-cell-like\", 12, \"E\", \"#984ef3\", \"Active\", -0.29803875, 0.017688187532333963, \"Control\", 89622931], [\"c.-888T>C\", 1, 0, \"VUS\", 0.1971055909552372, \"E5 B-cell-like\", 12, \"E\", \"#984ef3\", \"Active\", -0.30320162, 0.04984852850021389, \"Control\", 89623339], [\"c.-1083C>T\", 1, 1, \"VUS\", 0.4458411795628905, \"E12 Erythroblast-like\", 38, \"E\", \"#984ef3\", \"Active\", -0.29356986, 0.5483338135023528, \"Equal\", 89623144], [\"c.-1165G>A\", 1, 0, \"VUS\", 0.1962550112043146, \"E12 Erythroblast-like\", 38, \"E\", \"#984ef3\", \"Active\", -0.28144354, 0.04984852850021389, \"Control\", 89623062], [\"c.-1212C>T\", 1, 0, \"VUS\", 0.1948633031505906, \"E6 Weak epithelial\", 13, \"E\", \"#984ef3\", \"Active\", -0.29934373, 0.04984852850021389, \"Control\", 89623015], [\"c.-1008G>A\", 1, 1, \"VUS\", 0.1564328622903303, \"E5 B-cell-like\", 12, \"E\", \"#984ef3\", \"Active\", -0.3132622, 0.5483338135023528, \"Equal\", 89623219], [\"c.-933G>A\", 2, 0, \"VUS\", -2.084704081160241, \"E5 B-cell-like\", 12, \"E\", \"#984ef3\", \"Active\", 4.087852, 0.026111133976302516, \"Control\", 89623294], [\"c.-1003C>T\", 1, 0, \"VUS\", 0.4023407906071661, \"E4 Multi-tissue\", 9, \"E\", \"#984ef3\", \"Active\", -0.30726627, 0.04984852850021389, \"Control\", 89623224], [\"c.-946G>C\", 1, 0, \"VUS\", -0.1456555261772862, \"E5 B-cell-like\", 12, \"E\", \"#984ef3\", \"Active\", -0.31072748, 0.04984852850021389, \"Control\", 89623281], [\"c.-1207C>G\", 0, 1, \"VUS\", -0.8258721043774884, \"E12 Erythroblast-like\", 38, \"E\", \"#984ef3\", \"Active\", -0.20255795, 6.03167194852588, \"Case\", 89623020], [\"c.-913T>C\", 0, 1, \"VUS\", -0.3410150980782127, \"E4 Multi-tissue\", 9, \"E\", \"#984ef3\", \"Active\", -0.29375508, 6.03167194852588, \"Case\", 89623314], [\"c.-1178C>T\", 1, 0, \"VUS\", -0.6554598015933131, \"E11 T-cell\", 36, \"E\", \"#984ef3\", \"Active\", -0.06895838, 0.04984852850021389, \"Control\", 89623049], [\"c.-801T>C\", 1, 0, \"VUS\", 0.3905530381000872, \"E4 Multi-tissue\", 9, \"E\", \"#984ef3\", \"Active\", -0.30895323, 0.04984852850021389, \"Control\", 89623426], [\"c.-1295T>G\", 1, 0, \"VUS\", 1.1180933348226605, \"E4 Multi-tissue\", 9, \"E\", \"#984ef3\", \"Active\", -0.24307449, 0.04984852850021389, \"Control\", 89622932], [\"c.-956C>T\", 1, 0, \"VUS\", -0.1925020244661333, \"E5 B-cell-like\", 12, \"E\", \"#984ef3\", \"Active\", -0.28700227, 0.04984852850021389, \"Control\", 89623271], [\"c.-1143C>A\", 0, 0, \"VUS\", -0.6125052121132732, \"E6 Weak epithelial\", 13, \"E\", \"#984ef3\", \"Active\", -0.2728805, 0.5483338135023528, \"Equal\", 89623084], [\"c.-1222G>C\", 1, 0, \"VUS\", 0.7430616436978568, \"E12 Erythroblast-like\", 38, \"E\", \"#984ef3\", \"Active\", -0.28217784, 0.04984852850021389, \"Control\", 89623005], [\"c.-941C>T\", 0, 1, \"VUS\", -0.4511115115520088, \"E5 B-cell-like\", 12, \"E\", \"#984ef3\", \"Active\", -0.27249792, 6.03167194852588, \"Case\", 89623286], [\"c.-1050C>T\", 2, 3, \"VUS\", 2.308543283177535, \"E4 Multi-tissue\", 9, \"E\", \"#984ef3\", \"Active\", 5.462512, 0.809445153265378, \"Equal\", 89623177], [\"c.-1206G>A\", 6, 0, \"VUS\", 0.2371003994699272, \"E12 Erythroblast-like\", 38, \"E\", \"#984ef3\", \"Active\", -0.27629057, 0.008989078909874637, \"Control\", 89623021], [\"c.-822G>A\", 1, 0, \"VUS\", -0.7736210454014802, \"E4 Multi-tissue\", 9, \"E\", \"#984ef3\", \"Active\", -0.15100779, 0.04984852850021389, \"Control\", 89623405], [\"c.-1257G>C\", 1, 0, \"VUS\", 0.2569349863583099, \"E12 Erythroblast-like\", 38, \"E\", \"#984ef3\", \"Active\", -0.28416178, 0.04984852850021389, \"Control\", 89622970], [\"c.-857C>G\", 3, 1, \"VUS\", -0.1006779937516917, \"E4 Multi-tissue\", 9, \"E\", \"#984ef3\", \"Active\", -0.3014512, 0.19457006285567358, \"Control\", 89623370], [\"c.-856G>C\", 1, 0, \"VUS\", -0.8450138713846691, \"E4 Multi-tissue\", 9, \"E\", \"#984ef3\", \"Active\", -0.29893085, 0.04984852850021389, \"Control\", 89623371], [\"c.-1246T>G\", 0, 0, \"VUS\", -1.260872368171654, \"E4 Multi-tissue\", 9, \"E\", \"#984ef3\", \"Active\", -0.17521232, 0.5483338135023528, \"Equal\", 89622981], [\"c.-1169G>T\", 0, 1, \"VUS\", -0.518538813353068, \"E5 B-cell-like\", 12, \"E\", \"#984ef3\", \"Active\", -0.24792273, 6.03167194852588, \"Case\", 89623058], [\"c.-949C>T\", 1, 0, \"VUS\", -0.7920032749863655, \"E5 B-cell-like\", 12, \"E\", \"#984ef3\", \"Active\", -0.1398482, 0.04984852850021389, \"Control\", 89623278], [\"c.-1020C>T\", 1, 0, \"VUS\", 0.737703337954656, \"E4 Multi-tissue\", 9, \"E\", \"#984ef3\", \"Active\", -0.27700734, 0.04984852850021389, \"Control\", 89623207], [\"c.-1085C>G\", 1, 1, \"VUS\", -0.6323069698711024, \"E12 Erythroblast-like\", 38, \"E\", \"#984ef3\", \"Active\", -0.27991518, 0.5483338135023528, \"Equal\", 89623142], [\"c.-842C>T\", 2, 0, \"VUS\", -0.487208547303414, \"E12 Erythroblast-like\", 38, \"E\", \"#984ef3\", \"Active\", -0.27898896, 0.026111133976302516, \"Control\", 89623385], [\"c.-1101T>C\", 0, 0, \"VUS\", 0.0963623086688016, \"E4 Multi-tissue\", 9, \"E\", \"#984ef3\", \"Active\", -0.2927141, 0.5483338135023528, \"Equal\", 89623126], [\"c.-1099G>T\", 1, 0, \"VUS\", 0.3329642567623523, \"E6 Weak epithelial\", 13, \"E\", \"#984ef3\", \"Active\", -0.29487672, 0.04984852850021389, \"Control\", 89623128], [\"c.-1171C>T\", 15, 7, \"VUS\", -1.476406722732257, \"E4 Multi-tissue\", 9, \"E\", \"#984ef3\", \"Active\", -0.14355326, 0.25782583283885463, \"Control\", 89623056], [\"c.-968G>C\", 1, 0, \"VUS\", -0.3686553584652223, \"E12 Erythroblast-like\", 38, \"E\", \"#984ef3\", \"Active\", -0.27983686, 0.04984852850021389, \"Control\", 89623259], [\"c.-1243G>A\", 16, 7, \"VUS\", 0.5342228305326948, \"E12 Erythroblast-like\", 38, \"E\", \"#984ef3\", \"Active\", -0.25287363, 0.2418118059544537, \"Control\", 89622984], [\"c.1003C>T\", 1, 2, \"Pathogenic\", 0.4017529902337635, \"E4 Multi-tissue\", 9, \"E\", \"#984ef3\", \"Active\", -0.30725786, 1.0468190985044916, \"Equal\", 89623224], [\"c.518G>C\", 0, 1, \"VLP\", 0.0941017044892671, \"E5 B-cell-like\", 12, \"E\", \"#984ef3\", \"Active\", -0.3143376, 6.03167194852588, \"Case\", 89623709], [\"c.388C>T\", 3, 0, \"Pathogenic\", -0.0568687957478815, \"E5 B-cell-like\", 12, \"E\", \"#984ef3\", \"Active\", -0.3179262, 0.017688187532333963, \"Control\", 89623839]], \"hovertemplate\": \"Class=%{customdata[7]}<br>Position on chrom10=%{customdata[13]}<br>Disease Impact Score=%{customdata[10]}<br>Alteration=%{customdata[0]}<br>Breast Cancer Case Alleles=%{customdata[1]}<br>Control Alleles=%{customdata[2]}<br>Classification=%{customdata[3]}<br>Max Score=%{customdata[4]}<br>Sequence Name=%{customdata[5]}<br>Sequence Index=%{customdata[6]}<br>Color=%{customdata[8]}<br>Function=%{customdata[9]}<br>Odds Ratio=%{customdata[11]}<br>Case/Control=%{customdata[12]}<extra></extra>\", \"legendgroup\": \"E\", \"marker\": {\"color\": \"#984ef3\", \"size\": 8, \"symbol\": \"circle\"}, \"mode\": \"markers\", \"name\": \"E\", \"orientation\": \"v\", \"showlegend\": true, \"type\": \"scatter\", \"x\": [89623251, 89623296, 89623462, 89623076, 89622986, 89623442, 89623319, 89623036, 89623213, 89623152, 89623430, 89623213, 89622981, 89623363, 89623408, 89623251, 89622930, 89623413, 89622951, 89623334, 89623182, 89623175, 89623303, 89623370, 89623401, 89622990, 89623387, 89623217, 89622960, 89623407, 89623363, 89623034, 89623240, 89623136, 89623146, 89623421, 89622991, 89623225, 89622987, 89623088, 89623231, 89623390, 89623072, 89623283, 89622986, 89622931, 89623339, 89623144, 89623062, 89623015, 89623219, 89623294, 89623224, 89623281, 89623020, 89623314, 89623049, 89623426, 89622932, 89623271, 89623084, 89623005, 89623286, 89623177, 89623021, 89623405, 89622970, 89623370, 89623371, 89622981, 89623058, 89623278, 89623207, 89623142, 89623385, 89623126, 89623128, 89623056, 89623259, 89622984, 89623224, 89623709, 89623839], \"xaxis\": \"x\", \"y\": [-0.31042716, 4.7237883, -0.30840835, -0.2772834, 0.912988, -0.22513963, 2.8788726, -0.28358796, -0.3075965, -0.30110642, -0.27857962, -0.29031762, -0.029809356, -0.2600147, 1.4452972, -0.3024251, -0.29709804, -0.21014719, -0.28710714, -0.28592512, -0.31688422, 0.95133114, -0.2970602, -0.24557945, -0.3004892, -0.16688687, -0.2954436, -0.30437383, -0.2353624, 0.5617587, -0.294197, -0.10574781, -0.17680109, -0.28196535, -0.29297704, -0.3055854, 0.025477823, -0.2906687, -0.15878871, -0.2600474, -0.31401864, -0.3054674, -0.28222626, -0.22117811, -0.2570477, -0.29803875, -0.30320162, -0.29356986, -0.28144354, -0.29934373, -0.3132622, 4.087852, -0.30726627, -0.31072748, -0.20255795, -0.29375508, -0.06895838, -0.30895323, -0.24307449, -0.28700227, -0.2728805, -0.28217784, -0.27249792, 5.462512, -0.27629057, -0.15100779, -0.28416178, -0.3014512, -0.29893085, -0.17521232, -0.24792273, -0.1398482, -0.27700734, -0.27991518, -0.27898896, -0.2927141, -0.29487672, -0.14355326, -0.27983686, -0.25287363, -0.30725786, -0.3143376, -0.3179262], \"yaxis\": \"y\"}, {\"customdata\": [[\"c.-835C>T\", 14, 10, \"VUS\", -0.3383312986317079, \"P Promoter\", 25, \"P\", \"#ef3b2c\", \"Active\", -0.30545247, 0.39277812172863574, \"Control\", 89623392], [\"c.-993G>C\", 1, 0, \"VUS\", -0.3002367131645087, \"P Promoter\", 25, \"P\", \"#ef3b2c\", \"Active\", -0.28816453, 0.04984852850021389, \"Control\", 89623234], [\"c.-1208G>A\", 0, 1, \"VUS\", -0.4502391531518341, \"P Promoter\", 25, \"P\", \"#ef3b2c\", \"Active\", -0.28175122, 6.03167194852588, \"Case\", 89623019], [\"c.-832G>A\", 1, 0, \"VUS\", -0.2947744070587461, \"P Promoter\", 25, \"P\", \"#ef3b2c\", \"Active\", -0.28303555, 0.04984852850021389, \"Control\", 89623395], [\"c.-1096G>T\", 1, 0, \"VUS\", 1.1234993509389923, \"P Promoter\", 25, \"P\", \"#ef3b2c\", \"Active\", -0.025825987, 0.04984852850021389, \"Control\", 89623131], [\"c.-1282C>T\", 0, 1, \"VUS\", -0.6915000067262369, \"P Promoter\", 25, \"P\", \"#ef3b2c\", \"Active\", 0.24518675, 6.03167194852588, \"Case\", 89622945], [\"c.-1258C>T\", 0, 1, \"VUS\", -0.5303065081133909, \"P Promoter\", 25, \"P\", \"#ef3b2c\", \"Active\", -0.2509139, 6.03167194852588, \"Case\", 89622969], [\"c.-798A>G\", 1, 3, \"VUS\", -0.3506249271273844, \"P Promoter\", 25, \"P\", \"#ef3b2c\", \"Active\", -0.29122505, 1.5453043835066305, \"Case\", 89623429], [\"c.-905C>A\", 2, 0, \"VUS\", -0.9415313992561494, \"P Promoter\", 25, \"P\", \"#ef3b2c\", \"Active\", -0.15776263, 0.026111133976302516, \"Control\", 89623322], [\"c.-873G>C\", 0, 1, \"VUS\", 1.5837505438235482, \"P Promoter\", 25, \"P\", \"#ef3b2c\", \"Active\", 0.65410674, 6.03167194852588, \"Case\", 89623354], [\"c.-1124G>A\", 1, 0, \"VUS\", -4.307638642826767, \"P Promoter\", 25, \"P\", \"#ef3b2c\", \"Active\", 5.7656474, 0.04984852850021389, \"Control\", 89623103], [\"c.-1079C>G\", 0, 0, \"VUS\", 0.4942199083417264, \"P Promoter\", 25, \"P\", \"#ef3b2c\", \"Active\", -0.29867613, 0.5483338135023528, \"Equal\", 89623148], [\"c.-852G>A\", 1, 0, \"VUS\", -0.3704130668910679, \"P Promoter\", 25, \"P\", \"#ef3b2c\", \"Active\", -0.30376318, 0.04984852850021389, \"Control\", 89623375], [\"c.-836T>G\", 1, 0, \"VUS\", 0.3413124335170252, \"P Promoter\", 25, \"P\", \"#ef3b2c\", \"Active\", -0.29169682, 0.04984852850021389, \"Control\", 89623391], [\"c.-851C>A\", 1, 1, \"VUS\", -0.9570170035128952, \"P Promoter\", 25, \"P\", \"#ef3b2c\", \"Active\", -0.20960693, 0.5483338135023528, \"Equal\", 89623376], [\"c.-1058T>A\", 0, 0, \"VUS\", -0.1671896880231358, \"P Promoter\", 25, \"P\", \"#ef3b2c\", \"Active\", -0.31021208, 0.5483338135023528, \"Equal\", 89623169], [\"c.-866G>C\", 0, 1, \"VUS\", -1.1444194937479324, \"P Promoter\", 25, \"P\", \"#ef3b2c\", \"Active\", -0.17185558, 6.03167194852588, \"Case\", 89623361], [\"c.-869G>C\", 3, 6, \"VUS\", -0.4818511983304248, \"P Promoter\", 25, \"P\", \"#ef3b2c\", \"Active\", -0.2771244, 1.0789794394723715, \"Equal\", 89623358], [\"c.-910T>G\", 1, 0, \"VUS\", -0.5422581398152069, \"P Promoter\", 25, \"P\", \"#ef3b2c\", \"Active\", -0.27534425, 0.04984852850021389, \"Control\", 89623317], [\"c.-1077G>C\", 6, 2, \"VUS\", 0.1922925705539562, \"P Promoter\", 25, \"P\", \"#ef3b2c\", \"Active\", -0.29181138, 0.18877065710736737, \"Control\", 89623150], [\"c.-1291C>T\", 2, 0, \"VUS\", -0.3884000847749291, \"P Promoter\", 25, \"P\", \"#ef3b2c\", \"Active\", -0.2557042, 0.026111133976302516, \"Control\", 89622936], [\"c.-983T>C\", 0, 0, \"VUS\", -0.5825504667226618, \"P Promoter\", 25, \"P\", \"#ef3b2c\", \"Active\", -0.00040207867, 0.5483338135023528, \"Equal\", 89623244], [\"c.-905C>T\", 2, 0, \"VUS\", -0.7736887067349514, \"P Promoter\", 25, \"P\", \"#ef3b2c\", \"Active\", -0.2511552, 0.026111133976302516, \"Control\", 89623322], [\"c.-833C>T\", 1, 0, \"VUS\", -0.6834495950019601, \"P Promoter\", 25, \"P\", \"#ef3b2c\", \"Active\", -0.2744731, 0.04984852850021389, \"Control\", 89623394], [\"c.850G>T\", 1, 0, \"Pathogenic\", -0.6334859474375989, \"P Promoter\", 25, \"P\", \"#ef3b2c\", \"Active\", -0.2537575, 0.04984852850021389, \"Control\", 89623377]], \"hovertemplate\": \"Class=%{customdata[7]}<br>Position on chrom10=%{customdata[13]}<br>Disease Impact Score=%{customdata[10]}<br>Alteration=%{customdata[0]}<br>Breast Cancer Case Alleles=%{customdata[1]}<br>Control Alleles=%{customdata[2]}<br>Classification=%{customdata[3]}<br>Max Score=%{customdata[4]}<br>Sequence Name=%{customdata[5]}<br>Sequence Index=%{customdata[6]}<br>Color=%{customdata[8]}<br>Function=%{customdata[9]}<br>Odds Ratio=%{customdata[11]}<br>Case/Control=%{customdata[12]}<extra></extra>\", \"legendgroup\": \"P\", \"marker\": {\"color\": \"#ef3b2c\", \"size\": 8, \"symbol\": \"circle\"}, \"mode\": \"markers\", \"name\": \"P\", \"orientation\": \"v\", \"showlegend\": true, \"type\": \"scatter\", \"x\": [89623392, 89623234, 89623019, 89623395, 89623131, 89622945, 89622969, 89623429, 89623322, 89623354, 89623103, 89623148, 89623375, 89623391, 89623376, 89623169, 89623361, 89623358, 89623317, 89623150, 89622936, 89623244, 89623322, 89623394, 89623377], \"xaxis\": \"x\", \"y\": [-0.30545247, -0.28816453, -0.28175122, -0.28303555, -0.025825987, 0.24518675, -0.2509139, -0.29122505, -0.15776263, 0.65410674, 5.7656474, -0.29867613, -0.30376318, -0.29169682, -0.20960693, -0.31021208, -0.17185558, -0.2771244, -0.27534425, -0.29181138, -0.2557042, -0.00040207867, -0.2511552, -0.2744731, -0.2537575], \"yaxis\": \"y\"}, {\"customdata\": [[\"c.-873G>A\", 1, 1, \"VUS\", 0.079652456591269, \"CTCF CTCF-Cohesin\", 27, \"CTCF\", \"#fdb462\", \"Active\", -0.3083085, 0.5483338135023528, \"Equal\", 89623354], [\"c.-1084G>C\", 0, 1, \"VUS\", -1.502888518941102, \"CTCF CTCF-Cohesin\", 27, \"CTCF\", \"#fdb462\", \"Active\", -0.22656235, 6.03167194852588, \"Case\", 89623143], [\"c.-959G>T\", 1, 0, \"VUS\", 1.265710029817548, \"CTCF CTCF-Cohesin\", 27, \"CTCF\", \"#fdb462\", \"Active\", -0.210069, 0.04984852850021389, \"Control\", 89623268], [\"c.-1060C>A\", 1, 0, \"VUS\", 1.6644104386949865, \"CTCF CTCF-Cohesin\", 27, \"CTCF\", \"#fdb462\", \"Active\", 0.48435244, 0.04984852850021389, \"Control\", 89623167], [\"c.-1087C>A\", 1, 0, \"VUS\", -0.2634890142185853, \"CTCF CTCF-Cohesin\", 27, \"CTCF\", \"#fdb462\", \"Active\", -0.28552425, 0.04984852850021389, \"Control\", 89623140], [\"c.-1113A>G\", 0, 1, \"VUS\", -0.4093011354224067, \"CTCF CTCF-Cohesin\", 27, \"CTCF\", \"#fdb462\", \"Active\", -0.29739004, 6.03167194852588, \"Case\", 89623114], [\"c.-772A>C\", 1, 1, \"VUS\", -0.3494838663500488, \"CTCF CTCF-Cohesin\", 27, \"CTCF\", \"#fdb462\", \"Active\", -0.29018652, 0.5483338135023528, \"Equal\", 89623455], [\"c.-1255C>A\", 1, 0, \"VUS\", -1.59672384160314, \"CTCF CTCF-Cohesin\", 27, \"CTCF\", \"#fdb462\", \"Active\", -0.24242915, 0.04984852850021389, \"Control\", 89622972], [\"c.-1175C>T\", 3, 0, \"VUS\", -0.4198101503558042, \"CTCF CTCF-Cohesin\", 27, \"CTCF\", \"#fdb462\", \"Active\", -0.27711862, 0.017688187532333963, \"Control\", 89623052], [\"c.-1026C>G\", 0, 1, \"VUS\", 1.7613860343564447, \"CTCF CTCF-Cohesin\", 27, \"CTCF\", \"#fdb462\", \"Active\", 0.0068683196, 6.03167194852588, \"Case\", 89623201], [\"c.-863G>T\", 0, 0, \"VUS\", -0.4312320479193516, \"CTCF CTCF-Cohesin\", 27, \"CTCF\", \"#fdb462\", \"Active\", -0.29969168, 0.5483338135023528, \"Equal\", 89623364], [\"c.-1079C>T\", 1, 0, \"VUS\", 0.2544539092675357, \"CTCF CTCF-Cohesin\", 27, \"CTCF\", \"#fdb462\", \"Active\", -0.3111888, 0.04984852850021389, \"Control\", 89623148], [\"c.-1058T>G\", 1, 0, \"VUS\", 0.5313347165430073, \"CTCF CTCF-Cohesin\", 27, \"CTCF\", \"#fdb462\", \"Active\", -0.2973186, 0.04984852850021389, \"Control\", 89623169], [\"c.-1044G>T\", 1, 0, \"VUS\", 1.15431688970207, \"CTCF CTCF-Cohesin\", 27, \"CTCF\", \"#fdb462\", \"Active\", -0.22899696, 0.04984852850021389, \"Control\", 89623183], [\"c.-860A>C\", 1, 0, \"VUS\", -0.6198635909315406, \"CTCF CTCF-Cohesin\", 27, \"CTCF\", \"#fdb462\", \"Active\", -0.28514475, 0.04984852850021389, \"Control\", 89623367], [\"c.-966G>A\", 1, 0, \"VUS\", 0.5655152701318862, \"CTCF CTCF-Cohesin\", 27, \"CTCF\", \"#fdb462\", \"Active\", -0.3027872, 0.04984852850021389, \"Control\", 89623261], [\"c.-989C>A\", 0, 1, \"VUS\", 1.741783684300053, \"CTCF CTCF-Cohesin\", 27, \"CTCF\", \"#fdb462\", \"Active\", -0.2550719, 6.03167194852588, \"Case\", 89623238], [\"c.-1008G>T\", 1, 0, \"VUS\", 1.0358179804178749, \"CTCF CTCF-Cohesin\", 27, \"CTCF\", \"#fdb462\", \"Active\", -0.24714498, 0.04984852850021389, \"Control\", 89623219], [\"c.-850G>A\", 1, 0, \"VUS\", -0.8650572274569939, \"CTCF CTCF-Cohesin\", 27, \"CTCF\", \"#fdb462\", \"Active\", -0.24789996, 0.04984852850021389, \"Control\", 89623377], [\"c.-1145A>C\", 2, 1, \"VUS\", 0.5994915188011696, \"CTCF CTCF-Cohesin\", 27, \"CTCF\", \"#fdb462\", \"Active\", -0.22308026, 0.2872224737393277, \"Control\", 89623082], [\"c.-921G>A\", 3, 1, \"VUS\", 0.5678883777391555, \"CTCF CTCF-Cohesin\", 27, \"CTCF\", \"#fdb462\", \"Active\", -0.2450989, 0.19457006285567358, \"Control\", 89623306], [\"c.-1042C>G\", 1, 1, \"VUS\", 2.724422404102498, \"CTCF CTCF-Cohesin\", 27, \"CTCF\", \"#fdb462\", \"Active\", 0.5167751, 0.5483338135023528, \"Equal\", 89623185], [\"c.-859C>G\", 2, 0, \"VUS\", 4.875723008930397, \"CTCF CTCF-Cohesin\", 27, \"CTCF\", \"#fdb462\", \"Active\", -0.030512262, 0.026111133976302516, \"Control\", 89623368], [\"c.-791G>A\", 1, 0, \"VUS\", -0.2926432257988587, \"CTCF CTCF-Cohesin\", 27, \"CTCF\", \"#fdb462\", \"Active\", -0.3099511, 0.04984852850021389, \"Control\", 89623436], [\"c.-802G>A\", 2, 0, \"VUS\", -0.7837300254903248, \"CTCF CTCF-Cohesin\", 27, \"CTCF\", \"#fdb462\", \"Active\", -0.2265236, 0.026111133976302516, \"Control\", 89623425], [\"c.-998C>G\", 1, 0, \"VUS\", -0.3331828028089703, \"CTCF CTCF-Cohesin\", 27, \"CTCF\", \"#fdb462\", \"Active\", -0.2768369, 0.04984852850021389, \"Control\", 89623229], [\"c.-1294C>T\", 1, 2, \"VUS\", 0.3397885944468335, \"CTCF CTCF-Cohesin\", 27, \"CTCF\", \"#fdb462\", \"Active\", -0.29670772, 1.0468190985044916, \"Equal\", 89622933], [\"c.-752G>T\", 1, 0, \"VUS\", 0.4841765170390211, \"CTCF CTCF-Cohesin\", 27, \"CTCF\", \"#fdb462\", \"Active\", -0.2797237, 0.04984852850021389, \"Control\", 89623475], [\"c.-772A>G\", 0, 1, \"VUS\", -0.4848202332479339, \"CTCF CTCF-Cohesin\", 27, \"CTCF\", \"#fdb462\", \"Active\", -0.29863963, 6.03167194852588, \"Case\", 89623455], [\"c.-1288C>T\", 1, 0, \"VUS\", 0.4612731903735394, \"CTCF CTCF-Cohesin\", 27, \"CTCF\", \"#fdb462\", \"Active\", -0.19237463, 0.04984852850021389, \"Control\", 89622939], [\"c.-946G>A\", 1, 1, \"VUS\", 1.0997508466214256, \"CTCF CTCF-Cohesin\", 27, \"CTCF\", \"#fdb462\", \"Active\", -0.2326076, 0.5483338135023528, \"Equal\", 89623281], [\"c.-1066C>T\", 1, 0, \"VUS\", -0.4295220838683349, \"CTCF CTCF-Cohesin\", 27, \"CTCF\", \"#fdb462\", \"Active\", -0.29714757, 0.04984852850021389, \"Control\", 89623161], [\"c.-1031C>T\", 1, 0, \"VUS\", 1.99289049347194, \"CTCF CTCF-Cohesin\", 27, \"CTCF\", \"#fdb462\", \"Active\", 2.4851706, 0.04984852850021389, \"Control\", 89623196], [\"c.-1088G>A\", 1, 1, \"VUS\", -0.4502788225307768, \"CTCF CTCF-Cohesin\", 27, \"CTCF\", \"#fdb462\", \"Active\", -0.29310074, 0.5483338135023528, \"Equal\", 89623139], [\"c.-1098G>A\", 0, 1, \"VUS\", 0.5564822338869675, \"CTCF CTCF-Cohesin\", 27, \"CTCF\", \"#fdb462\", \"Active\", -0.27155632, 6.03167194852588, \"Case\", 89623129], [\"c.-1182G>T\", 0, 1, \"VUS\", -0.6938435709172843, \"CTCF CTCF-Cohesin\", 27, \"CTCF\", \"#fdb462\", \"Active\", -0.13465233, 6.03167194852588, \"Case\", 89623045], [\"c.-952C>T\", 0, 1, \"VUS\", 0.6953295107027024, \"CTCF CTCF-Cohesin\", 27, \"CTCF\", \"#fdb462\", \"Active\", -0.2972158, 6.03167194852588, \"Case\", 89623275], [\"c.-754A>T\", 0, 1, \"VUS\", -0.2989656423312983, \"CTCF CTCF-Cohesin\", 27, \"CTCF\", \"#fdb462\", \"Active\", -0.2994011, 6.03167194852588, \"Case\", 89623473], [\"c.-1026C>T\", 1, 0, \"VUS\", 1.4550584526250423, \"CTCF CTCF-Cohesin\", 27, \"CTCF\", \"#fdb462\", \"Active\", -0.08384235, 0.04984852850021389, \"Control\", 89623201], [\"c.-902G>A\", 1, 0, \"VUS\", 0.7059891950194341, \"CTCF CTCF-Cohesin\", 27, \"CTCF\", \"#fdb462\", \"Active\", -0.2835243, 0.04984852850021389, \"Control\", 89623325], [\"c.-1021C>T\", 0, 1, \"VUS\", 1.0891697842135528, \"CTCF CTCF-Cohesin\", 27, \"CTCF\", \"#fdb462\", \"Active\", -0.23598363, 6.03167194852588, \"Case\", 89623206], [\"c.-860A>G\", 6, 1, \"VUS\", 0.6548234165708919, \"CTCF CTCF-Cohesin\", 27, \"CTCF\", \"#fdb462\", \"Active\", -0.25380164, 0.098879868008621, \"Control\", 89623367], [\"c.-1203G>A\", 2, 0, \"VUS\", 0.4189640618407502, \"CTCF CTCF-Cohesin\", 27, \"CTCF\", \"#fdb462\", \"Active\", -0.26806837, 0.026111133976302516, \"Control\", 89623024], [\"c.-876C>A\", 1, 0, \"VUS\", -0.4212713765951399, \"CTCF CTCF-Cohesin\", 27, \"CTCF\", \"#fdb462\", \"Active\", -0.2870507, 0.04984852850021389, \"Control\", 89623351], [\"c.-1235C>T\", 0, 4, \"VUS\", 0.4621817359699953, \"CTCF CTCF-Cohesin\", 27, \"CTCF\", \"#fdb462\", \"Active\", -0.27369812, 22.481686353596462, \"Case\", 89622992], [\"c.-1279C>G\", 0, 1, \"VUS\", 0.7752683619248124, \"CTCF CTCF-Cohesin\", 27, \"CTCF\", \"#fdb462\", \"Active\", -0.15746075, 6.03167194852588, \"Case\", 89622948], [\"c.-1203G>C\", 1, 0, \"VUS\", -0.3066466535654193, \"CTCF CTCF-Cohesin\", 27, \"CTCF\", \"#fdb462\", \"Active\", -0.28677878, 0.04984852850021389, \"Control\", 89623024], [\"c.-968G>A\", 1, 0, \"VUS\", 0.3223521707023202, \"CTCF CTCF-Cohesin\", 27, \"CTCF\", \"#fdb462\", \"Active\", -0.30416617, 0.04984852850021389, \"Control\", 89623259], [\"c.-1101T>G\", 0, 1, \"VUS\", 0.1305411397486686, \"CTCF CTCF-Cohesin\", 27, \"CTCF\", \"#fdb462\", \"Active\", -0.30051172, 6.03167194852588, \"Case\", 89623126], [\"c.-904G>C\", 1, 1, \"VUS\", -1.049210490905967, \"CTCF CTCF-Cohesin\", 27, \"CTCF\", \"#fdb462\", \"Active\", -0.20353708, 0.5483338135023528, \"Equal\", 89623323], [\"c.-1097G>A\", 1, 0, \"VUS\", 0.7853280717093583, \"CTCF CTCF-Cohesin\", 27, \"CTCF\", \"#fdb462\", \"Active\", -0.20120637, 0.04984852850021389, \"Control\", 89623130], [\"c.-825G>A\", 1, 0, \"VUS\", -0.2306082005900158, \"CTCF CTCF-Cohesin\", 27, \"CTCF\", \"#fdb462\", \"Active\", -0.29215294, 0.04984852850021389, \"Control\", 89623402], [\"c.-844T>C\", 6, 3, \"VUS\", 0.4408701449676044, \"CTCF CTCF-Cohesin\", 27, \"CTCF\", \"#fdb462\", \"Active\", -0.30036274, 0.2786614462061137, \"Control\", 89623383], [\"c.-898C>G\", 1, 1, \"VUS\", 0.6646741348005811, \"CTCF CTCF-Cohesin\", 27, \"CTCF\", \"#fdb462\", \"Active\", -0.2917442, 0.5483338135023528, \"Equal\", 89623329], [\"c.-965G>A\", 1, 0, \"VUS\", 0.4913741831634688, \"CTCF CTCF-Cohesin\", 27, \"CTCF\", \"#fdb462\", \"Active\", -0.2993084, 0.04984852850021389, \"Control\", 89623262], [\"c.-1082A>C\", 1, 0, \"VUS\", -1.7980431354795885, \"CTCF CTCF-Cohesin\", 27, \"CTCF\", \"#fdb462\", \"Active\", -0.16996229, 0.04984852850021389, \"Control\", 89623145], [\"c.-1047C>T\", 0, 0, \"VUS\", 3.059058742023886, \"CTCF CTCF-Cohesin\", 27, \"CTCF\", \"#fdb462\", \"Active\", 3.638431, 0.5483338135023528, \"Equal\", 89623180], [\"c.-1110G>T\", 0, 1, \"VUS\", -0.9979322902753084, \"CTCF CTCF-Cohesin\", 27, \"CTCF\", \"#fdb462\", \"Active\", -0.14626919, 6.03167194852588, \"Case\", 89623117], [\"c.-1205T>C\", 1, 1, \"VUS\", 0.6679214145142289, \"CTCF CTCF-Cohesin\", 27, \"CTCF\", \"#fdb462\", \"Active\", -0.2472203, 0.5483338135023528, \"Equal\", 89623022], [\"c.-8T>C\", 1, 0, \"VUS\", -0.2838498496303678, \"CTCF CTCF-Cohesin\", 27, \"CTCF\", \"#fdb462\", \"Active\", -0.30312112, 0.04984852850021389, \"Control\", 89624219], [\"c.-934G>C\", 0, 1, \"VUS\", -3.004350681464061, \"CTCF CTCF-Cohesin\", 27, \"CTCF\", \"#fdb462\", \"Active\", 4.1235275, 6.03167194852588, \"Case\", 89623293], [\"c.-867C>T\", 0, 1, \"VUS\", -0.3408483423971837, \"CTCF CTCF-Cohesin\", 27, \"CTCF\", \"#fdb462\", \"Active\", -0.2975507, 6.03167194852588, \"Case\", 89623360], [\"c.-930G>A\", 5, 3, \"VUS\", -3.042584519280662, \"CTCF CTCF-Cohesin\", 27, \"CTCF\", \"#fdb462\", \"Active\", 4.768665, 0.3333009454622145, \"Control\", 89623297], [\"c.-1177T>G\", 3, 0, \"VUS\", -0.8038973767823236, \"CTCF CTCF-Cohesin\", 27, \"CTCF\", \"#fdb462\", \"Active\", 0.06610043, 0.017688187532333963, \"Control\", 89623050], [\"c.-960C>T\", 1, 0, \"VUS\", 1.1560547636525556, \"CTCF CTCF-Cohesin\", 27, \"CTCF\", \"#fdb462\", \"Active\", -0.23027834, 0.04984852850021389, \"Control\", 89623267], [\"c.-1080C>T\", 1, 0, \"VUS\", 0.9338095109450606, \"CTCF CTCF-Cohesin\", 27, \"CTCF\", \"#fdb462\", \"Active\", -0.25175232, 0.04984852850021389, \"Control\", 89623147], [\"c.-1170T>C\", 1, 1, \"VUS\", -0.4541587058733967, \"CTCF CTCF-Cohesin\", 27, \"CTCF\", \"#fdb462\", \"Active\", -0.2426439, 0.5483338135023528, \"Equal\", 89623057], [\"c.-747C>T\", 0, 0, \"VUS\", 0.2766348203978612, \"CTCF CTCF-Cohesin\", 27, \"CTCF\", \"#fdb462\", \"Active\", -0.20047036, 0.5483338135023528, \"Equal\", 89623480], [\"c.-755G>A\", 1, 1, \"VUS\", -0.0403855321545343, \"CTCF CTCF-Cohesin\", 27, \"CTCF\", \"#fdb462\", \"Active\", -0.31552553, 0.5483338135023528, \"Equal\", 89623472], [\"c.-814G>A\", 4, 0, \"VUS\", -0.4613647388544706, \"CTCF CTCF-Cohesin\", 27, \"CTCF\", \"#fdb462\", \"Active\", -0.24211264, 0.0133739954512769, \"Control\", 89623413], [\"c.-1048C>A\", 0, 1, \"VUS\", 2.123061523063651, \"CTCF CTCF-Cohesin\", 27, \"CTCF\", \"#fdb462\", \"Active\", 5.8466396, 6.03167194852588, \"Case\", 89623179], [\"c.-926G>A\", 0, 0, \"VUS\", 0.381131654783811, \"CTCF CTCF-Cohesin\", 27, \"CTCF\", \"#fdb462\", \"Active\", -0.2926354, 0.5483338135023528, \"Equal\", 89623301], [\"c.-795C>T\", 1, 1, \"VUS\", -0.145396283816261, \"CTCF CTCF-Cohesin\", 27, \"CTCF\", \"#fdb462\", \"Active\", -0.30704033, 0.5483338135023528, \"Equal\", 89623432], [\"c.-1171C>A\", 3, 2, \"VUS\", -1.0051985717791538, \"CTCF CTCF-Cohesin\", 27, \"CTCF\", \"#fdb462\", \"Active\", 0.8475105, 0.37145193817901323, \"Control\", 89623056], [\"c.-917G>C\", 0, 1, \"VUS\", -1.2737893499603246, \"CTCF CTCF-Cohesin\", 27, \"CTCF\", \"#fdb462\", \"Active\", -0.027409686, 6.03167194852588, \"Case\", 89623310], [\"c.-862G>C\", 0, 0, \"VUS\", 0.6367888790148868, \"CTCF CTCF-Cohesin\", 27, \"CTCF\", \"#fdb462\", \"Active\", -0.2615097, 0.5483338135023528, \"Equal\", 89623365], [\"c.-1103G>A\", 0, 0, \"VUS\", -0.3742240749448342, \"CTCF CTCF-Cohesin\", 27, \"CTCF\", \"#fdb462\", \"Active\", -0.3043829, 0.5483338135023528, \"Equal\", 89623124], [\"c.-851C>T\", 1, 1, \"VUS\", -1.0433336089173828, \"CTCF CTCF-Cohesin\", 27, \"CTCF\", \"#fdb462\", \"Active\", -0.21241294, 0.5483338135023528, \"Equal\", 89623376], [\"c.-1089C>A\", 1, 0, \"VUS\", -0.7644381892943954, \"CTCF CTCF-Cohesin\", 27, \"CTCF\", \"#fdb462\", \"Active\", -0.2595236, 0.04984852850021389, \"Control\", 89623138], [\"c.-857C>A\", 0, 1, \"VUS\", -0.7034075886007365, \"CTCF CTCF-Cohesin\", 27, \"CTCF\", \"#fdb462\", \"Active\", -0.27835655, 6.03167194852588, \"Case\", 89623370], [\"c.-828G>A\", 1, 1, \"VUS\", 0.5410768187620647, \"CTCF CTCF-Cohesin\", 27, \"CTCF\", \"#fdb462\", \"Active\", -0.30971053, 0.5483338135023528, \"Equal\", 89623399], [\"c.-1175C>A\", 3, 1, \"VUS\", -0.8841144802296164, \"CTCF CTCF-Cohesin\", 27, \"CTCF\", \"#fdb462\", \"Active\", -0.21822801, 0.19457006285567358, \"Control\", 89623052], [\"c.-1172G>A\", 1, 0, \"VUS\", 0.2075806753380185, \"CTCF CTCF-Cohesin\", 27, \"CTCF\", \"#fdb462\", \"Active\", -0.30180487, 0.04984852850021389, \"Control\", 89623055], [\"c.-1062C>A\", 1, 1, \"VUS\", 2.044092487059604, \"CTCF CTCF-Cohesin\", 27, \"CTCF\", \"#fdb462\", \"Active\", 0.6201936, 0.5483338135023528, \"Equal\", 89623165], [\"c.-1061C>T\", 1, 0, \"VUS\", 2.4274783436649336, \"CTCF CTCF-Cohesin\", 27, \"CTCF\", \"#fdb462\", \"Active\", 0.9101511, 0.04984852850021389, \"Control\", 89623166], [\"c.-789G>A\", 3, 0, \"VUS\", -0.398906087703061, \"CTCF CTCF-Cohesin\", 27, \"CTCF\", \"#fdb462\", \"Active\", -0.2918053, 0.017688187532333963, \"Control\", 89623438], [\"c.-916C>A\", 1, 0, \"VUS\", 0.1863192010455741, \"CTCF CTCF-Cohesin\", 27, \"CTCF\", \"#fdb462\", \"Active\", -0.28236628, 0.04984852850021389, \"Control\", 89623311], [\"c.-937G>A\", 1, 0, \"VUS\", 2.561257939622166, \"CTCF CTCF-Cohesin\", 27, \"CTCF\", \"#fdb462\", \"Active\", 1.519837, 0.04984852850021389, \"Control\", 89623290], [\"c.203A>G\", 1, 0, \"Pathogenic\", 0.2562494461872564, \"CTCF CTCF-Cohesin\", 27, \"CTCF\", \"#fdb462\", \"Active\", -0.3110953, 0.04984852850021389, \"Control\", 89624024], [\"c.635-3C>G\", 1, 0, \"VLP\", 0.6430222110451886, \"CTCF CTCF-Cohesin\", 27, \"CTCF\", \"#fdb462\", \"Active\", -0.3133524, 0.04984852850021389, \"Control\", 89623592]], \"hovertemplate\": \"Class=%{customdata[7]}<br>Position on chrom10=%{customdata[13]}<br>Disease Impact Score=%{customdata[10]}<br>Alteration=%{customdata[0]}<br>Breast Cancer Case Alleles=%{customdata[1]}<br>Control Alleles=%{customdata[2]}<br>Classification=%{customdata[3]}<br>Max Score=%{customdata[4]}<br>Sequence Name=%{customdata[5]}<br>Sequence Index=%{customdata[6]}<br>Color=%{customdata[8]}<br>Function=%{customdata[9]}<br>Odds Ratio=%{customdata[11]}<br>Case/Control=%{customdata[12]}<extra></extra>\", \"legendgroup\": \"CTCF\", \"marker\": {\"color\": \"#fdb462\", \"size\": 8, \"symbol\": \"circle\"}, \"mode\": \"markers\", \"name\": \"CTCF\", \"orientation\": \"v\", \"showlegend\": true, \"type\": \"scatter\", \"x\": [89623354, 89623143, 89623268, 89623167, 89623140, 89623114, 89623455, 89622972, 89623052, 89623201, 89623364, 89623148, 89623169, 89623183, 89623367, 89623261, 89623238, 89623219, 89623377, 89623082, 89623306, 89623185, 89623368, 89623436, 89623425, 89623229, 89622933, 89623475, 89623455, 89622939, 89623281, 89623161, 89623196, 89623139, 89623129, 89623045, 89623275, 89623473, 89623201, 89623325, 89623206, 89623367, 89623024, 89623351, 89622992, 89622948, 89623024, 89623259, 89623126, 89623323, 89623130, 89623402, 89623383, 89623329, 89623262, 89623145, 89623180, 89623117, 89623022, 89624219, 89623293, 89623360, 89623297, 89623050, 89623267, 89623147, 89623057, 89623480, 89623472, 89623413, 89623179, 89623301, 89623432, 89623056, 89623310, 89623365, 89623124, 89623376, 89623138, 89623370, 89623399, 89623052, 89623055, 89623165, 89623166, 89623438, 89623311, 89623290, 89624024, 89623592], \"xaxis\": \"x\", \"y\": [-0.3083085, -0.22656235, -0.210069, 0.48435244, -0.28552425, -0.29739004, -0.29018652, -0.24242915, -0.27711862, 0.0068683196, -0.29969168, -0.3111888, -0.2973186, -0.22899696, -0.28514475, -0.3027872, -0.2550719, -0.24714498, -0.24789996, -0.22308026, -0.2450989, 0.5167751, -0.030512262, -0.3099511, -0.2265236, -0.2768369, -0.29670772, -0.2797237, -0.29863963, -0.19237463, -0.2326076, -0.29714757, 2.4851706, -0.29310074, -0.27155632, -0.13465233, -0.2972158, -0.2994011, -0.08384235, -0.2835243, -0.23598363, -0.25380164, -0.26806837, -0.2870507, -0.27369812, -0.15746075, -0.28677878, -0.30416617, -0.30051172, -0.20353708, -0.20120637, -0.29215294, -0.30036274, -0.2917442, -0.2993084, -0.16996229, 3.638431, -0.14626919, -0.2472203, -0.30312112, 4.1235275, -0.2975507, 4.768665, 0.06610043, -0.23027834, -0.25175232, -0.2426439, -0.20047036, -0.31552553, -0.24211264, 5.8466396, -0.2926354, -0.30704033, 0.8475105, -0.027409686, -0.2615097, -0.3043829, -0.21241294, -0.2595236, -0.27835655, -0.30971053, -0.21822801, -0.30180487, 0.6201936, 0.9101511, -0.2918053, -0.28236628, 1.519837, -0.3110953, -0.3133524], \"yaxis\": \"y\"}, {\"customdata\": [[\"c.-1213G>T\", 1, 1, \"VUS\", -0.1118772236869123, \"PC1 Polycomb / Heterochromatin\", 0, \"PC\", \"#8abad4\", \"Repressed\", -0.3009221, 0.5483338135023528, \"Equal\", 89623014], [\"c.-14A>C\", 0, 1, \"VUS\", 0.1812213952091905, \"PC1 Polycomb / Heterochromatin\", 0, \"PC\", \"#8abad4\", \"Repressed\", -0.3138859, 6.03167194852588, \"Case\", 89624213], [\"c.-1173G>A\", 0, 1, \"VUS\", -0.2106504405033042, \"PC1 Polycomb / Heterochromatin\", 0, \"PC\", \"#8abad4\", \"Repressed\", -0.26392713, 6.03167194852588, \"Case\", 89623054]], \"hovertemplate\": \"Class=%{customdata[7]}<br>Position on chrom10=%{customdata[13]}<br>Disease Impact Score=%{customdata[10]}<br>Alteration=%{customdata[0]}<br>Breast Cancer Case Alleles=%{customdata[1]}<br>Control Alleles=%{customdata[2]}<br>Classification=%{customdata[3]}<br>Max Score=%{customdata[4]}<br>Sequence Name=%{customdata[5]}<br>Sequence Index=%{customdata[6]}<br>Color=%{customdata[8]}<br>Function=%{customdata[9]}<br>Odds Ratio=%{customdata[11]}<br>Case/Control=%{customdata[12]}<extra></extra>\", \"legendgroup\": \"PC\", \"marker\": {\"color\": \"#8abad4\", \"size\": 8, \"symbol\": \"circle\"}, \"mode\": \"markers\", \"name\": \"PC\", \"orientation\": \"v\", \"showlegend\": true, \"type\": \"scatter\", \"x\": [89623014, 89624213, 89623054], \"xaxis\": \"x\", \"y\": [-0.3009221, -0.3138859, -0.26392713], \"yaxis\": \"y\"}, {\"customdata\": [[\"c.-1138G>A\", 0, 1, \"VUS\", -0.1355006477266283, \"TF3 FOXA1 / AR / ESR1\", 19, \"TF\", \"#386cb0\", \"Active\", -0.30325824, 6.03167194852588, \"Case\", 89623089], [\"c.-1137G>A\", 2, 1, \"VUS\", -0.1486338381311434, \"TF3 FOXA1 / AR / ESR1\", 19, \"TF\", \"#386cb0\", \"Active\", -0.29706502, 0.2872224737393277, \"Control\", 89623090]], \"hovertemplate\": \"Class=%{customdata[7]}<br>Position on chrom10=%{customdata[13]}<br>Disease Impact Score=%{customdata[10]}<br>Alteration=%{customdata[0]}<br>Breast Cancer Case Alleles=%{customdata[1]}<br>Control Alleles=%{customdata[2]}<br>Classification=%{customdata[3]}<br>Max Score=%{customdata[4]}<br>Sequence Name=%{customdata[5]}<br>Sequence Index=%{customdata[6]}<br>Color=%{customdata[8]}<br>Function=%{customdata[9]}<br>Odds Ratio=%{customdata[11]}<br>Case/Control=%{customdata[12]}<extra></extra>\", \"legendgroup\": \"TF\", \"marker\": {\"color\": \"#386cb0\", \"size\": 8, \"symbol\": \"circle\"}, \"mode\": \"markers\", \"name\": \"TF\", \"orientation\": \"v\", \"showlegend\": true, \"type\": \"scatter\", \"x\": [89623089, 89623090], \"xaxis\": \"x\", \"y\": [-0.30325824, -0.29706502], \"yaxis\": \"y\"}],                        {\"font\": {\"size\": 18}, \"legend\": {\"title\": {\"text\": \"Class\"}, \"tracegroupgap\": 0}, \"margin\": {\"t\": 60}, \"paper_bgcolor\": \"rgba(0, 0, 0, 0)\", \"plot_bgcolor\": \"rgba(0, 0, 0, 0)\", \"template\": {\"data\": {\"bar\": [{\"error_x\": {\"color\": \"#2a3f5f\"}, \"error_y\": {\"color\": \"#2a3f5f\"}, \"marker\": {\"line\": {\"color\": \"#E5ECF6\", \"width\": 0.5}}, \"type\": \"bar\"}], \"barpolar\": [{\"marker\": {\"line\": {\"color\": \"#E5ECF6\", \"width\": 0.5}}, \"type\": \"barpolar\"}], \"carpet\": [{\"aaxis\": {\"endlinecolor\": \"#2a3f5f\", \"gridcolor\": \"white\", \"linecolor\": \"white\", \"minorgridcolor\": \"white\", \"startlinecolor\": \"#2a3f5f\"}, \"baxis\": {\"endlinecolor\": \"#2a3f5f\", \"gridcolor\": \"white\", \"linecolor\": \"white\", \"minorgridcolor\": \"white\", \"startlinecolor\": \"#2a3f5f\"}, \"type\": \"carpet\"}], \"choropleth\": [{\"colorbar\": {\"outlinewidth\": 0, \"ticks\": \"\"}, \"type\": \"choropleth\"}], \"contour\": [{\"colorbar\": {\"outlinewidth\": 0, \"ticks\": \"\"}, \"colorscale\": [[0.0, \"#0d0887\"], [0.1111111111111111, \"#46039f\"], [0.2222222222222222, \"#7201a8\"], [0.3333333333333333, \"#9c179e\"], [0.4444444444444444, \"#bd3786\"], [0.5555555555555556, \"#d8576b\"], [0.6666666666666666, \"#ed7953\"], [0.7777777777777778, \"#fb9f3a\"], [0.8888888888888888, \"#fdca26\"], [1.0, \"#f0f921\"]], \"type\": \"contour\"}], \"contourcarpet\": [{\"colorbar\": {\"outlinewidth\": 0, \"ticks\": \"\"}, \"type\": \"contourcarpet\"}], \"heatmap\": [{\"colorbar\": {\"outlinewidth\": 0, \"ticks\": \"\"}, \"colorscale\": [[0.0, \"#0d0887\"], [0.1111111111111111, \"#46039f\"], [0.2222222222222222, \"#7201a8\"], [0.3333333333333333, \"#9c179e\"], [0.4444444444444444, \"#bd3786\"], [0.5555555555555556, \"#d8576b\"], [0.6666666666666666, \"#ed7953\"], [0.7777777777777778, \"#fb9f3a\"], [0.8888888888888888, \"#fdca26\"], [1.0, \"#f0f921\"]], \"type\": \"heatmap\"}], \"heatmapgl\": [{\"colorbar\": {\"outlinewidth\": 0, \"ticks\": \"\"}, \"colorscale\": [[0.0, \"#0d0887\"], [0.1111111111111111, \"#46039f\"], [0.2222222222222222, \"#7201a8\"], [0.3333333333333333, \"#9c179e\"], [0.4444444444444444, \"#bd3786\"], [0.5555555555555556, \"#d8576b\"], [0.6666666666666666, \"#ed7953\"], [0.7777777777777778, \"#fb9f3a\"], [0.8888888888888888, \"#fdca26\"], [1.0, \"#f0f921\"]], \"type\": \"heatmapgl\"}], \"histogram\": [{\"marker\": {\"colorbar\": {\"outlinewidth\": 0, \"ticks\": \"\"}}, \"type\": \"histogram\"}], \"histogram2d\": [{\"colorbar\": {\"outlinewidth\": 0, \"ticks\": \"\"}, \"colorscale\": [[0.0, \"#0d0887\"], [0.1111111111111111, \"#46039f\"], [0.2222222222222222, \"#7201a8\"], [0.3333333333333333, \"#9c179e\"], [0.4444444444444444, \"#bd3786\"], [0.5555555555555556, \"#d8576b\"], [0.6666666666666666, \"#ed7953\"], [0.7777777777777778, \"#fb9f3a\"], [0.8888888888888888, \"#fdca26\"], [1.0, \"#f0f921\"]], \"type\": \"histogram2d\"}], \"histogram2dcontour\": [{\"colorbar\": {\"outlinewidth\": 0, \"ticks\": \"\"}, \"colorscale\": [[0.0, \"#0d0887\"], [0.1111111111111111, \"#46039f\"], [0.2222222222222222, \"#7201a8\"], [0.3333333333333333, \"#9c179e\"], [0.4444444444444444, \"#bd3786\"], [0.5555555555555556, \"#d8576b\"], [0.6666666666666666, \"#ed7953\"], [0.7777777777777778, \"#fb9f3a\"], [0.8888888888888888, \"#fdca26\"], [1.0, \"#f0f921\"]], \"type\": \"histogram2dcontour\"}], \"mesh3d\": [{\"colorbar\": {\"outlinewidth\": 0, \"ticks\": \"\"}, \"type\": \"mesh3d\"}], \"parcoords\": [{\"line\": {\"colorbar\": {\"outlinewidth\": 0, \"ticks\": \"\"}}, \"type\": \"parcoords\"}], \"pie\": [{\"automargin\": true, \"type\": \"pie\"}], \"scatter\": [{\"marker\": {\"colorbar\": {\"outlinewidth\": 0, \"ticks\": \"\"}}, \"type\": \"scatter\"}], \"scatter3d\": [{\"line\": {\"colorbar\": {\"outlinewidth\": 0, \"ticks\": \"\"}}, \"marker\": {\"colorbar\": {\"outlinewidth\": 0, \"ticks\": \"\"}}, \"type\": \"scatter3d\"}], \"scattercarpet\": [{\"marker\": {\"colorbar\": {\"outlinewidth\": 0, \"ticks\": \"\"}}, \"type\": \"scattercarpet\"}], \"scattergeo\": [{\"marker\": {\"colorbar\": {\"outlinewidth\": 0, \"ticks\": \"\"}}, \"type\": \"scattergeo\"}], \"scattergl\": [{\"marker\": {\"colorbar\": {\"outlinewidth\": 0, \"ticks\": \"\"}}, \"type\": \"scattergl\"}], \"scattermapbox\": [{\"marker\": {\"colorbar\": {\"outlinewidth\": 0, \"ticks\": \"\"}}, \"type\": \"scattermapbox\"}], \"scatterpolar\": [{\"marker\": {\"colorbar\": {\"outlinewidth\": 0, \"ticks\": \"\"}}, \"type\": \"scatterpolar\"}], \"scatterpolargl\": [{\"marker\": {\"colorbar\": {\"outlinewidth\": 0, \"ticks\": \"\"}}, \"type\": \"scatterpolargl\"}], \"scatterternary\": [{\"marker\": {\"colorbar\": {\"outlinewidth\": 0, \"ticks\": \"\"}}, \"type\": \"scatterternary\"}], \"surface\": [{\"colorbar\": {\"outlinewidth\": 0, \"ticks\": \"\"}, \"colorscale\": [[0.0, \"#0d0887\"], [0.1111111111111111, \"#46039f\"], [0.2222222222222222, \"#7201a8\"], [0.3333333333333333, \"#9c179e\"], [0.4444444444444444, \"#bd3786\"], [0.5555555555555556, \"#d8576b\"], [0.6666666666666666, \"#ed7953\"], [0.7777777777777778, \"#fb9f3a\"], [0.8888888888888888, \"#fdca26\"], [1.0, \"#f0f921\"]], \"type\": \"surface\"}], \"table\": [{\"cells\": {\"fill\": {\"color\": \"#EBF0F8\"}, \"line\": {\"color\": \"white\"}}, \"header\": {\"fill\": {\"color\": \"#C8D4E3\"}, \"line\": {\"color\": \"white\"}}, \"type\": \"table\"}]}, \"layout\": {\"annotationdefaults\": {\"arrowcolor\": \"#2a3f5f\", \"arrowhead\": 0, \"arrowwidth\": 1}, \"coloraxis\": {\"colorbar\": {\"outlinewidth\": 0, \"ticks\": \"\"}}, \"colorscale\": {\"diverging\": [[0, \"#8e0152\"], [0.1, \"#c51b7d\"], [0.2, \"#de77ae\"], [0.3, \"#f1b6da\"], [0.4, \"#fde0ef\"], [0.5, \"#f7f7f7\"], [0.6, \"#e6f5d0\"], [0.7, \"#b8e186\"], [0.8, \"#7fbc41\"], [0.9, \"#4d9221\"], [1, \"#276419\"]], \"sequential\": [[0.0, \"#0d0887\"], [0.1111111111111111, \"#46039f\"], [0.2222222222222222, \"#7201a8\"], [0.3333333333333333, \"#9c179e\"], [0.4444444444444444, \"#bd3786\"], [0.5555555555555556, \"#d8576b\"], [0.6666666666666666, \"#ed7953\"], [0.7777777777777778, \"#fb9f3a\"], [0.8888888888888888, \"#fdca26\"], [1.0, \"#f0f921\"]], \"sequentialminus\": [[0.0, \"#0d0887\"], [0.1111111111111111, \"#46039f\"], [0.2222222222222222, \"#7201a8\"], [0.3333333333333333, \"#9c179e\"], [0.4444444444444444, \"#bd3786\"], [0.5555555555555556, \"#d8576b\"], [0.6666666666666666, \"#ed7953\"], [0.7777777777777778, \"#fb9f3a\"], [0.8888888888888888, \"#fdca26\"], [1.0, \"#f0f921\"]]}, \"colorway\": [\"#636efa\", \"#EF553B\", \"#00cc96\", \"#ab63fa\", \"#FFA15A\", \"#19d3f3\", \"#FF6692\", \"#B6E880\", \"#FF97FF\", \"#FECB52\"], \"font\": {\"color\": \"#2a3f5f\"}, \"geo\": {\"bgcolor\": \"white\", \"lakecolor\": \"white\", \"landcolor\": \"#E5ECF6\", \"showlakes\": true, \"showland\": true, \"subunitcolor\": \"white\"}, \"hoverlabel\": {\"align\": \"left\"}, \"hovermode\": \"closest\", \"mapbox\": {\"style\": \"light\"}, \"paper_bgcolor\": \"white\", \"plot_bgcolor\": \"#E5ECF6\", \"polar\": {\"angularaxis\": {\"gridcolor\": \"white\", \"linecolor\": \"white\", \"ticks\": \"\"}, \"bgcolor\": \"#E5ECF6\", \"radialaxis\": {\"gridcolor\": \"white\", \"linecolor\": \"white\", \"ticks\": \"\"}}, \"scene\": {\"xaxis\": {\"backgroundcolor\": \"#E5ECF6\", \"gridcolor\": \"white\", \"gridwidth\": 2, \"linecolor\": \"white\", \"showbackground\": true, \"ticks\": \"\", \"zerolinecolor\": \"white\"}, \"yaxis\": {\"backgroundcolor\": \"#E5ECF6\", \"gridcolor\": \"white\", \"gridwidth\": 2, \"linecolor\": \"white\", \"showbackground\": true, \"ticks\": \"\", \"zerolinecolor\": \"white\"}, \"zaxis\": {\"backgroundcolor\": \"#E5ECF6\", \"gridcolor\": \"white\", \"gridwidth\": 2, \"linecolor\": \"white\", \"showbackground\": true, \"ticks\": \"\", \"zerolinecolor\": \"white\"}}, \"shapedefaults\": {\"line\": {\"color\": \"#2a3f5f\"}}, \"ternary\": {\"aaxis\": {\"gridcolor\": \"white\", \"linecolor\": \"white\", \"ticks\": \"\"}, \"baxis\": {\"gridcolor\": \"white\", \"linecolor\": \"white\", \"ticks\": \"\"}, \"bgcolor\": \"#E5ECF6\", \"caxis\": {\"gridcolor\": \"white\", \"linecolor\": \"white\", \"ticks\": \"\"}}, \"title\": {\"x\": 0.05}, \"xaxis\": {\"automargin\": true, \"gridcolor\": \"white\", \"linecolor\": \"white\", \"ticks\": \"\", \"title\": {\"standoff\": 15}, \"zerolinecolor\": \"white\", \"zerolinewidth\": 2}, \"yaxis\": {\"automargin\": true, \"gridcolor\": \"white\", \"linecolor\": \"white\", \"ticks\": \"\", \"title\": {\"standoff\": 15}, \"zerolinecolor\": \"white\", \"zerolinewidth\": 2}}}, \"xaxis\": {\"anchor\": \"y\", \"domain\": [0.0, 1.0], \"gridcolor\": \"#DCDCDC\", \"linecolor\": \"black\", \"linewidth\": 2, \"showline\": true, \"title\": {\"text\": \"Position on chrom10\"}}, \"yaxis\": {\"anchor\": \"x\", \"domain\": [0.0, 1.0], \"gridcolor\": \"#DCDCDC\", \"linecolor\": \"black\", \"linewidth\": 2, \"showline\": true, \"title\": {\"text\": \"Disease Impact Score\"}}},                        {\"responsive\": true}                    ).then(function(){\n",
       "                            \n",
       "var gd = document.getElementById('0693e899-0754-4fff-8930-c84e28ee0f20');\n",
       "var x = new MutationObserver(function (mutations, observer) {{\n",
       "        var display = window.getComputedStyle(gd).display;\n",
       "        if (!display || display === 'none') {{\n",
       "            console.log([gd, 'removed!']);\n",
       "            Plotly.purge(gd);\n",
       "            observer.disconnect();\n",
       "        }}\n",
       "}});\n",
       "\n",
       "// Listen for the removal of the full notebook cells\n",
       "var notebookContainer = gd.closest('#notebook-container');\n",
       "if (notebookContainer) {{\n",
       "    x.observe(notebookContainer, {childList: true});\n",
       "}}\n",
       "\n",
       "// Listen for the clearing of the current output cell\n",
       "var outputEl = gd.closest('.output');\n",
       "if (outputEl) {{\n",
       "    x.observe(outputEl, {childList: true});\n",
       "}}\n",
       "\n",
       "                        })                };                });            </script>        </div>"
      ]
     },
     "metadata": {},
     "output_type": "display_data"
    }
   ],
   "source": [
    "max_scores[\"Position on chrom10\"] = row_labels[\"pos\"]\n",
    "\n",
    "fig = px.scatter(max_scores, x=\"Position on chrom10\", y=\"Disease Impact Score\", color=\"Class\", \n",
    "                 color_discrete_sequence = max_scores[\"Color\"].unique(), hover_data=max_scores.columns)\n",
    "viz.white_bg(fig)\n",
    "fig.update_traces(marker={'size': 8})\n",
    "fig.update_layout(font=dict(size=18))\n",
    "fig.write_html(\"test_output_plots/DIS_v_position.html\")\n",
    "fig.show()"
   ]
  }
 ],
 "metadata": {
  "kernelspec": {
   "display_name": "Python 3 (ipykernel)",
   "language": "python",
   "name": "python3"
  },
  "language_info": {
   "codemirror_mode": {
    "name": "ipython",
    "version": 3
   },
   "file_extension": ".py",
   "mimetype": "text/x-python",
   "name": "python",
   "nbconvert_exporter": "python",
   "pygments_lexer": "ipython3",
   "version": "3.8.3"
  }
 },
 "nbformat": 4,
 "nbformat_minor": 5
}
