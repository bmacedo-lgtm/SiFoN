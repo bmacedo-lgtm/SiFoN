{
 "cells": [
  {
   "cell_type": "code",
   "execution_count": 1,
   "id": "708f3770",
   "metadata": {},
   "outputs": [],
   "source": [
    "import plotly.graph_objects as go\n",
    "import plotly.express as px\n",
    "from scipy import stats\n",
    "from SiFoN import clinical_analysis as clin\n",
    "import pandas as pd\n",
    "import numpy as np\n",
    "import re"
   ]
  },
  {
   "cell_type": "markdown",
   "id": "ff871db4",
   "metadata": {},
   "source": [
    "### Converting Clinical Data into a VCF format for Sei"
   ]
  },
  {
   "cell_type": "code",
   "execution_count": 2,
   "id": "244d1f88",
   "metadata": {},
   "outputs": [
    {
     "data": {
      "text/html": [
       "<div>\n",
       "<style scoped>\n",
       "    .dataframe tbody tr th:only-of-type {\n",
       "        vertical-align: middle;\n",
       "    }\n",
       "\n",
       "    .dataframe tbody tr th {\n",
       "        vertical-align: top;\n",
       "    }\n",
       "\n",
       "    .dataframe thead th {\n",
       "        text-align: right;\n",
       "    }\n",
       "</style>\n",
       "<table border=\"1\" class=\"dataframe\">\n",
       "  <thead>\n",
       "    <tr style=\"text-align: right;\">\n",
       "      <th></th>\n",
       "      <th>RefSeqID</th>\n",
       "      <th>Alteration</th>\n",
       "      <th>Protein Change</th>\n",
       "      <th>Classification</th>\n",
       "      <th>PromoterRegion</th>\n",
       "      <th>Breast Cancer Case Alleles</th>\n",
       "      <th>Breast Cancer Case MAF</th>\n",
       "      <th>Control Alleles</th>\n",
       "      <th>Control MAF</th>\n",
       "      <th>OR</th>\n",
       "      <th>95% CI 1</th>\n",
       "      <th>95% CI 2</th>\n",
       "      <th>Pvalue</th>\n",
       "    </tr>\n",
       "  </thead>\n",
       "  <tbody>\n",
       "    <tr>\n",
       "      <th>0</th>\n",
       "      <td>NM_000314</td>\n",
       "      <td>c.-976G&gt;C</td>\n",
       "      <td>NaN</td>\n",
       "      <td>VUS</td>\n",
       "      <td>Promoter</td>\n",
       "      <td>46</td>\n",
       "      <td>0.04%</td>\n",
       "      <td>40</td>\n",
       "      <td>0.08%</td>\n",
       "      <td>0.581</td>\n",
       "      <td>0.372</td>\n",
       "      <td>0.911</td>\n",
       "      <td>0.016</td>\n",
       "    </tr>\n",
       "  </tbody>\n",
       "</table>\n",
       "</div>"
      ],
      "text/plain": [
       "    RefSeqID Alteration Protein Change Classification PromoterRegion  \\\n",
       "0  NM_000314  c.-976G>C            NaN            VUS       Promoter   \n",
       "\n",
       "   Breast Cancer Case Alleles Breast Cancer Case MAF  Control Alleles  \\\n",
       "0                          46                  0.04%               40   \n",
       "\n",
       "  Control MAF     OR 95% CI 1 95% CI 2 Pvalue  \n",
       "0       0.08%  0.581    0.372    0.911  0.016  "
      ]
     },
     "execution_count": 2,
     "metadata": {},
     "output_type": "execute_result"
    }
   ],
   "source": [
    "pten = pd.read_csv(\"test_input_data/brown_suppl4.csv\") # DOI: 10.1200/PO.17.00108 Suppl. Table 14.\n",
    "pten.head(1)"
   ]
  },
  {
   "cell_type": "code",
   "execution_count": 3,
   "id": "8db87251",
   "metadata": {},
   "outputs": [
    {
     "data": {
      "text/html": [
       "<div>\n",
       "<style scoped>\n",
       "    .dataframe tbody tr th:only-of-type {\n",
       "        vertical-align: middle;\n",
       "    }\n",
       "\n",
       "    .dataframe tbody tr th {\n",
       "        vertical-align: top;\n",
       "    }\n",
       "\n",
       "    .dataframe thead th {\n",
       "        text-align: right;\n",
       "    }\n",
       "</style>\n",
       "<table border=\"1\" class=\"dataframe\">\n",
       "  <thead>\n",
       "    <tr style=\"text-align: right;\">\n",
       "      <th></th>\n",
       "      <th>Alteration</th>\n",
       "      <th>Breast Cancer Case Alleles</th>\n",
       "      <th>Control Alleles</th>\n",
       "      <th>Classification</th>\n",
       "    </tr>\n",
       "  </thead>\n",
       "  <tbody>\n",
       "    <tr>\n",
       "      <th>0</th>\n",
       "      <td>c.-976G&gt;C</td>\n",
       "      <td>46</td>\n",
       "      <td>40</td>\n",
       "      <td>VUS</td>\n",
       "    </tr>\n",
       "    <tr>\n",
       "      <th>1</th>\n",
       "      <td>c.-835C&gt;T</td>\n",
       "      <td>14</td>\n",
       "      <td>10</td>\n",
       "      <td>VUS</td>\n",
       "    </tr>\n",
       "  </tbody>\n",
       "</table>\n",
       "</div>"
      ],
      "text/plain": [
       "  Alteration  Breast Cancer Case Alleles  Control Alleles Classification\n",
       "0  c.-976G>C                          46               40            VUS\n",
       "1  c.-835C>T                          14               10            VUS"
      ]
     },
     "execution_count": 3,
     "metadata": {},
     "output_type": "execute_result"
    }
   ],
   "source": [
    "# Save any metadata you want for your analysis\n",
    "pten = pten[[\"Alteration\", \"Breast Cancer Case Alleles\", \"Control Alleles\", \"Classification\"]]\n",
    "pten.head(2)"
   ]
  },
  {
   "cell_type": "markdown",
   "id": "003052b0",
   "metadata": {},
   "source": [
    "At this point, you can save this metadata for future analysis. We still need to convert the `Alteration` column into a format that Sei can understand. The below function converts alterations from the c-dot (c. pos ref > alt) format to a VCF file. This function expects a `chrm` paramter (since the chromosome name is not available in the c-dot format). If the positions are offset from a particular position, you can denote that with the `start` parameter. The default of `start` is zero, which you can use if the positions are raw. Once you run this function, you can save this VCF and use it as input into Sei. "
   ]
  },
  {
   "cell_type": "code",
   "execution_count": 4,
   "id": "a6438dcd",
   "metadata": {},
   "outputs": [
    {
     "data": {
      "text/html": [
       "<div>\n",
       "<style scoped>\n",
       "    .dataframe tbody tr th:only-of-type {\n",
       "        vertical-align: middle;\n",
       "    }\n",
       "\n",
       "    .dataframe tbody tr th {\n",
       "        vertical-align: top;\n",
       "    }\n",
       "\n",
       "    .dataframe thead th {\n",
       "        text-align: right;\n",
       "    }\n",
       "</style>\n",
       "<table border=\"1\" class=\"dataframe\">\n",
       "  <thead>\n",
       "    <tr style=\"text-align: right;\">\n",
       "      <th></th>\n",
       "      <th>#CHROM</th>\n",
       "      <th>POS</th>\n",
       "      <th>ID</th>\n",
       "      <th>REF</th>\n",
       "      <th>ALT</th>\n",
       "    </tr>\n",
       "  </thead>\n",
       "  <tbody>\n",
       "    <tr>\n",
       "      <th>0</th>\n",
       "      <td>chr10</td>\n",
       "      <td>89623251</td>\n",
       "      <td>c.-976G&gt;C</td>\n",
       "      <td>G</td>\n",
       "      <td>C</td>\n",
       "    </tr>\n",
       "  </tbody>\n",
       "</table>\n",
       "</div>"
      ],
      "text/plain": [
       "  #CHROM       POS         ID REF ALT\n",
       "0  chr10  89623251  c.-976G>C   G   C"
      ]
     },
     "execution_count": 4,
     "metadata": {},
     "output_type": "execute_result"
    }
   ],
   "source": [
    "pten_VCF = clin.cdot_to_VCF_format(pten, chrm=\"chr10\", start=89624227)\n",
    "pten_VCF.head(1)"
   ]
  },
  {
   "cell_type": "markdown",
   "id": "42004763",
   "metadata": {},
   "source": [
    "There is also another function that will convert alterations in the following format \"chrom_position_alt_ref\""
   ]
  },
  {
   "cell_type": "code",
   "execution_count": null,
   "id": "360ce825",
   "metadata": {},
   "outputs": [],
   "source": [
    " # ccvs = pd.read_excel(\"supp13.xlsx\", \"BCAC_OVERALL\")\n",
    "# print(ccvs.shape)\n",
    "# ccvs.head(3)"
   ]
  },
  {
   "cell_type": "markdown",
   "id": "7d0197de",
   "metadata": {},
   "source": [
    "### Load in and combine the data"
   ]
  },
  {
   "cell_type": "code",
   "execution_count": 67,
   "id": "a801ac95",
   "metadata": {
    "scrolled": true
   },
   "outputs": [
    {
     "name": "stdout",
     "output_type": "stream",
     "text": [
      "203\n"
     ]
    },
    {
     "data": {
      "text/html": [
       "<div>\n",
       "<style scoped>\n",
       "    .dataframe tbody tr th:only-of-type {\n",
       "        vertical-align: middle;\n",
       "    }\n",
       "\n",
       "    .dataframe tbody tr th {\n",
       "        vertical-align: top;\n",
       "    }\n",
       "\n",
       "    .dataframe thead th {\n",
       "        text-align: right;\n",
       "    }\n",
       "</style>\n",
       "<table border=\"1\" class=\"dataframe\">\n",
       "  <thead>\n",
       "    <tr style=\"text-align: right;\">\n",
       "      <th></th>\n",
       "      <th>chrom</th>\n",
       "      <th>pos</th>\n",
       "      <th>Alteration</th>\n",
       "      <th>ref</th>\n",
       "      <th>alt</th>\n",
       "      <th>strand</th>\n",
       "      <th>ref_match</th>\n",
       "      <th>contains_unk</th>\n",
       "    </tr>\n",
       "  </thead>\n",
       "  <tbody>\n",
       "    <tr>\n",
       "      <th>0</th>\n",
       "      <td>chr10</td>\n",
       "      <td>89623251</td>\n",
       "      <td>c.-976G&gt;C</td>\n",
       "      <td>G</td>\n",
       "      <td>C</td>\n",
       "      <td>+</td>\n",
       "      <td>True</td>\n",
       "      <td>False</td>\n",
       "    </tr>\n",
       "  </tbody>\n",
       "</table>\n",
       "</div>"
      ],
      "text/plain": [
       "   chrom       pos Alteration ref alt strand  ref_match  contains_unk\n",
       "0  chr10  89623251  c.-976G>C   G   C      +       True         False"
      ]
     },
     "execution_count": 67,
     "metadata": {},
     "output_type": "execute_result"
    }
   ],
   "source": [
    "row_labels = pd.read_csv(\"test_input_data/PTEN_row_labels\", header=0) # Description of SNPs\n",
    "print(len(row_labels))\n",
    "row_labels.head(1)"
   ]
  },
  {
   "cell_type": "code",
   "execution_count": 76,
   "id": "5019b7e8",
   "metadata": {
    "scrolled": true
   },
   "outputs": [
    {
     "data": {
      "text/html": [
       "<div>\n",
       "<style scoped>\n",
       "    .dataframe tbody tr th:only-of-type {\n",
       "        vertical-align: middle;\n",
       "    }\n",
       "\n",
       "    .dataframe tbody tr th {\n",
       "        vertical-align: top;\n",
       "    }\n",
       "\n",
       "    .dataframe thead th {\n",
       "        text-align: right;\n",
       "    }\n",
       "</style>\n",
       "<table border=\"1\" class=\"dataframe\">\n",
       "  <thead>\n",
       "    <tr style=\"text-align: right;\">\n",
       "      <th></th>\n",
       "      <th>PC1 Polycomb / Heterochromatin</th>\n",
       "      <th>L1 Low signal</th>\n",
       "      <th>TN1 Transcription</th>\n",
       "      <th>TN2 Transcription</th>\n",
       "      <th>L2 Low signal</th>\n",
       "      <th>E1 Stem cell</th>\n",
       "      <th>E2 Multi-tissue</th>\n",
       "      <th>E3 Brain / Melanocyte</th>\n",
       "      <th>L3 Low signal</th>\n",
       "      <th>E4 Multi-tissue</th>\n",
       "      <th>...</th>\n",
       "      <th>E10 Brain</th>\n",
       "      <th>TF4 OTX2</th>\n",
       "      <th>HET4 Heterochromatin</th>\n",
       "      <th>L7 Low signal</th>\n",
       "      <th>PC4 Polycomb / Bivalent stem cell Enh</th>\n",
       "      <th>HET5 Centromere</th>\n",
       "      <th>E11 T-cell</th>\n",
       "      <th>TF5 AR</th>\n",
       "      <th>E12 Erythroblast-like</th>\n",
       "      <th>HET6 Centromere</th>\n",
       "    </tr>\n",
       "  </thead>\n",
       "  <tbody>\n",
       "    <tr>\n",
       "      <th>0</th>\n",
       "      <td>0.036797</td>\n",
       "      <td>0.016578</td>\n",
       "      <td>0.015117</td>\n",
       "      <td>0.015232</td>\n",
       "      <td>0.010343</td>\n",
       "      <td>0.024441</td>\n",
       "      <td>0.021501</td>\n",
       "      <td>0.035103</td>\n",
       "      <td>0.033337</td>\n",
       "      <td>0.092842</td>\n",
       "      <td>...</td>\n",
       "      <td>0.066348</td>\n",
       "      <td>0.017301</td>\n",
       "      <td>0.002037</td>\n",
       "      <td>0.009142</td>\n",
       "      <td>0.025761</td>\n",
       "      <td>0.021403</td>\n",
       "      <td>0.089531</td>\n",
       "      <td>0.025894</td>\n",
       "      <td>0.009224</td>\n",
       "      <td>0.00617</td>\n",
       "    </tr>\n",
       "  </tbody>\n",
       "</table>\n",
       "<p>1 rows × 40 columns</p>\n",
       "</div>"
      ],
      "text/plain": [
       "   PC1 Polycomb / Heterochromatin  L1 Low signal  TN1 Transcription  \\\n",
       "0                        0.036797       0.016578           0.015117   \n",
       "\n",
       "   TN2 Transcription  L2 Low signal  E1 Stem cell  E2 Multi-tissue  \\\n",
       "0           0.015232       0.010343      0.024441         0.021501   \n",
       "\n",
       "   E3 Brain / Melanocyte  L3 Low signal  E4 Multi-tissue  ...  E10 Brain  \\\n",
       "0               0.035103       0.033337         0.092842  ...   0.066348   \n",
       "\n",
       "   TF4 OTX2  HET4 Heterochromatin  L7 Low signal  \\\n",
       "0  0.017301              0.002037       0.009142   \n",
       "\n",
       "   PC4 Polycomb / Bivalent stem cell Enh  HET5 Centromere  E11 T-cell  \\\n",
       "0                               0.025761         0.021403    0.089531   \n",
       "\n",
       "     TF5 AR  E12 Erythroblast-like  HET6 Centromere  \n",
       "0  0.025894               0.009224          0.00617  \n",
       "\n",
       "[1 rows x 40 columns]"
      ]
     },
     "execution_count": 76,
     "metadata": {},
     "output_type": "execute_result"
    }
   ],
   "source": [
    "scores = pd.read_csv(\"test_input_data/PTEN_sequence_class_scores.npy\") # Sequence class scores\n",
    "scores.head(1)"
   ]
  },
  {
   "cell_type": "code",
   "execution_count": 77,
   "id": "07856308",
   "metadata": {
    "scrolled": true
   },
   "outputs": [
    {
     "data": {
      "text/html": [
       "<div>\n",
       "<style scoped>\n",
       "    .dataframe tbody tr th:only-of-type {\n",
       "        vertical-align: middle;\n",
       "    }\n",
       "\n",
       "    .dataframe tbody tr th {\n",
       "        vertical-align: top;\n",
       "    }\n",
       "\n",
       "    .dataframe thead th {\n",
       "        text-align: right;\n",
       "    }\n",
       "</style>\n",
       "<table border=\"1\" class=\"dataframe\">\n",
       "  <thead>\n",
       "    <tr style=\"text-align: right;\">\n",
       "      <th></th>\n",
       "      <th>chrom</th>\n",
       "      <th>pos</th>\n",
       "      <th>Alteration</th>\n",
       "      <th>ref</th>\n",
       "      <th>alt</th>\n",
       "      <th>strand</th>\n",
       "      <th>ref_match</th>\n",
       "      <th>contains_unk</th>\n",
       "      <th>PC1 Polycomb / Heterochromatin</th>\n",
       "      <th>L1 Low signal</th>\n",
       "      <th>...</th>\n",
       "      <th>TF4 OTX2</th>\n",
       "      <th>HET4 Heterochromatin</th>\n",
       "      <th>L7 Low signal</th>\n",
       "      <th>PC4 Polycomb / Bivalent stem cell Enh</th>\n",
       "      <th>HET5 Centromere</th>\n",
       "      <th>E11 T-cell</th>\n",
       "      <th>TF5 AR</th>\n",
       "      <th>E12 Erythroblast-like</th>\n",
       "      <th>HET6 Centromere</th>\n",
       "      <th>Disease Impact Score</th>\n",
       "    </tr>\n",
       "  </thead>\n",
       "  <tbody>\n",
       "    <tr>\n",
       "      <th>0</th>\n",
       "      <td>chr10</td>\n",
       "      <td>89623251</td>\n",
       "      <td>c.-976G&gt;C</td>\n",
       "      <td>G</td>\n",
       "      <td>C</td>\n",
       "      <td>+</td>\n",
       "      <td>True</td>\n",
       "      <td>False</td>\n",
       "      <td>0.036797</td>\n",
       "      <td>0.016578</td>\n",
       "      <td>...</td>\n",
       "      <td>0.017301</td>\n",
       "      <td>0.002037</td>\n",
       "      <td>0.009142</td>\n",
       "      <td>0.025761</td>\n",
       "      <td>0.021403</td>\n",
       "      <td>0.089531</td>\n",
       "      <td>0.025894</td>\n",
       "      <td>0.009224</td>\n",
       "      <td>0.00617</td>\n",
       "      <td>-0.310427</td>\n",
       "    </tr>\n",
       "  </tbody>\n",
       "</table>\n",
       "<p>1 rows × 49 columns</p>\n",
       "</div>"
      ],
      "text/plain": [
       "   chrom       pos Alteration ref alt strand  ref_match  contains_unk  \\\n",
       "0  chr10  89623251  c.-976G>C   G   C      +       True         False   \n",
       "\n",
       "   PC1 Polycomb / Heterochromatin  L1 Low signal  ...  TF4 OTX2  \\\n",
       "0                        0.036797       0.016578  ...  0.017301   \n",
       "\n",
       "   HET4 Heterochromatin  L7 Low signal  PC4 Polycomb / Bivalent stem cell Enh  \\\n",
       "0              0.002037       0.009142                               0.025761   \n",
       "\n",
       "   HET5 Centromere  E11 T-cell    TF5 AR  E12 Erythroblast-like  \\\n",
       "0         0.021403    0.089531  0.025894               0.009224   \n",
       "\n",
       "   HET6 Centromere  Disease Impact Score  \n",
       "0          0.00617             -0.310427  \n",
       "\n",
       "[1 rows x 49 columns]"
      ]
     },
     "execution_count": 77,
     "metadata": {},
     "output_type": "execute_result"
    }
   ],
   "source": [
    "dis_score = pd.read_csv(\"test_input_data/PTEN_DIS.csv\")\n",
    "scores[\"Disease Impact Score\"] = dis_score[\"Disease Impact Score\"]\n",
    "scores = row_labels.join(scores)\n",
    "scores.head(1)"
   ]
  },
  {
   "cell_type": "code",
   "execution_count": 78,
   "id": "5ef61d87",
   "metadata": {},
   "outputs": [
    {
     "data": {
      "text/html": [
       "<div>\n",
       "<style scoped>\n",
       "    .dataframe tbody tr th:only-of-type {\n",
       "        vertical-align: middle;\n",
       "    }\n",
       "\n",
       "    .dataframe tbody tr th {\n",
       "        vertical-align: top;\n",
       "    }\n",
       "\n",
       "    .dataframe thead th {\n",
       "        text-align: right;\n",
       "    }\n",
       "</style>\n",
       "<table border=\"1\" class=\"dataframe\">\n",
       "  <thead>\n",
       "    <tr style=\"text-align: right;\">\n",
       "      <th></th>\n",
       "      <th>Alteration</th>\n",
       "      <th>Breast Cancer Case Alleles</th>\n",
       "      <th>Control Alleles</th>\n",
       "      <th>Classification</th>\n",
       "    </tr>\n",
       "  </thead>\n",
       "  <tbody>\n",
       "    <tr>\n",
       "      <th>0</th>\n",
       "      <td>c.-976G&gt;C</td>\n",
       "      <td>46</td>\n",
       "      <td>40</td>\n",
       "      <td>VUS</td>\n",
       "    </tr>\n",
       "  </tbody>\n",
       "</table>\n",
       "</div>"
      ],
      "text/plain": [
       "  Alteration  Breast Cancer Case Alleles  Control Alleles Classification\n",
       "0  c.-976G>C                          46               40            VUS"
      ]
     },
     "execution_count": 78,
     "metadata": {},
     "output_type": "execute_result"
    }
   ],
   "source": [
    "clinical_data = pd.read_csv(\"test_input_data/PTEN_Brown_Suppl4.csv\")\n",
    "clinical_data.head(1)"
   ]
  },
  {
   "cell_type": "code",
   "execution_count": 79,
   "id": "12a882d9",
   "metadata": {},
   "outputs": [
    {
     "data": {
      "text/html": [
       "<div>\n",
       "<style scoped>\n",
       "    .dataframe tbody tr th:only-of-type {\n",
       "        vertical-align: middle;\n",
       "    }\n",
       "\n",
       "    .dataframe tbody tr th {\n",
       "        vertical-align: top;\n",
       "    }\n",
       "\n",
       "    .dataframe thead th {\n",
       "        text-align: right;\n",
       "    }\n",
       "</style>\n",
       "<table border=\"1\" class=\"dataframe\">\n",
       "  <thead>\n",
       "    <tr style=\"text-align: right;\">\n",
       "      <th></th>\n",
       "      <th>Alteration</th>\n",
       "      <th>Breast Cancer Case Alleles</th>\n",
       "      <th>Control Alleles</th>\n",
       "      <th>Classification</th>\n",
       "      <th>chrom</th>\n",
       "      <th>pos</th>\n",
       "      <th>ref</th>\n",
       "      <th>alt</th>\n",
       "      <th>strand</th>\n",
       "      <th>ref_match</th>\n",
       "      <th>...</th>\n",
       "      <th>TF4 OTX2</th>\n",
       "      <th>HET4 Heterochromatin</th>\n",
       "      <th>L7 Low signal</th>\n",
       "      <th>PC4 Polycomb / Bivalent stem cell Enh</th>\n",
       "      <th>HET5 Centromere</th>\n",
       "      <th>E11 T-cell</th>\n",
       "      <th>TF5 AR</th>\n",
       "      <th>E12 Erythroblast-like</th>\n",
       "      <th>HET6 Centromere</th>\n",
       "      <th>Disease Impact Score</th>\n",
       "    </tr>\n",
       "  </thead>\n",
       "  <tbody>\n",
       "    <tr>\n",
       "      <th>0</th>\n",
       "      <td>c.-976G&gt;C</td>\n",
       "      <td>46</td>\n",
       "      <td>40</td>\n",
       "      <td>VUS</td>\n",
       "      <td>chr10</td>\n",
       "      <td>89623251</td>\n",
       "      <td>G</td>\n",
       "      <td>C</td>\n",
       "      <td>+</td>\n",
       "      <td>True</td>\n",
       "      <td>...</td>\n",
       "      <td>0.017301</td>\n",
       "      <td>0.002037</td>\n",
       "      <td>0.009142</td>\n",
       "      <td>0.025761</td>\n",
       "      <td>0.021403</td>\n",
       "      <td>0.089531</td>\n",
       "      <td>0.025894</td>\n",
       "      <td>0.009224</td>\n",
       "      <td>0.00617</td>\n",
       "      <td>-0.310427</td>\n",
       "    </tr>\n",
       "  </tbody>\n",
       "</table>\n",
       "<p>1 rows × 52 columns</p>\n",
       "</div>"
      ],
      "text/plain": [
       "  Alteration  Breast Cancer Case Alleles  Control Alleles Classification  \\\n",
       "0  c.-976G>C                          46               40            VUS   \n",
       "\n",
       "   chrom       pos ref alt strand  ref_match  ...  TF4 OTX2  \\\n",
       "0  chr10  89623251   G   C      +       True  ...  0.017301   \n",
       "\n",
       "   HET4 Heterochromatin  L7 Low signal  PC4 Polycomb / Bivalent stem cell Enh  \\\n",
       "0              0.002037       0.009142                               0.025761   \n",
       "\n",
       "   HET5 Centromere  E11 T-cell    TF5 AR  E12 Erythroblast-like  \\\n",
       "0         0.021403    0.089531  0.025894               0.009224   \n",
       "\n",
       "   HET6 Centromere  Disease Impact Score  \n",
       "0          0.00617             -0.310427  \n",
       "\n",
       "[1 rows x 52 columns]"
      ]
     },
     "execution_count": 79,
     "metadata": {},
     "output_type": "execute_result"
    }
   ],
   "source": [
    "scores = clinical_data.merge(scores) # Clinical data connects to the Sei results by the `Alteration` column.\n",
    "scores.head(1)"
   ]
  },
  {
   "cell_type": "code",
   "execution_count": null,
   "id": "25c6e86e",
   "metadata": {},
   "outputs": [],
   "source": [
    "dis_score = dis_score.merge(st_small)\n",
    "dis_score[\"Case + Control Counts\"] = [case + control for case, control in \n",
    "                              zip(dis_score[\"Breast Cancer Case Alleles\"], dis_score[\"Control Alleles\"])]\n",
    "diff = 0.5\n",
    "dis_score[\"Case/Control\"] = [\"Case\" if OR > 1 + diff else \"Control\" if OR < 1 - diff else \"Equal\"\n",
    "                              for OR in dis_score[\"Odds Ratio\"]]\n",
    "dis_score.head(3)"
   ]
  },
  {
   "cell_type": "code",
   "execution_count": null,
   "id": "30f976cd",
   "metadata": {},
   "outputs": [],
   "source": [
    "# cases, controls, offset = 52065, 28549, 0.1\n",
    "# st[\"Odds Ratio\"] = [((case + offset)/cases)/((control+offset)/controls)\n",
    "#                      for case, control in zip(st[\"Breast Cancer Case Alleles\"], st[\"Control Alleles\"])]"
   ]
  }
 ],
 "metadata": {
  "kernelspec": {
   "display_name": "Python 3 (ipykernel)",
   "language": "python",
   "name": "python3"
  },
  "language_info": {
   "codemirror_mode": {
    "name": "ipython",
    "version": 3
   },
   "file_extension": ".py",
   "mimetype": "text/x-python",
   "name": "python",
   "nbconvert_exporter": "python",
   "pygments_lexer": "ipython3",
   "version": "3.8.3"
  }
 },
 "nbformat": 4,
 "nbformat_minor": 5
}
