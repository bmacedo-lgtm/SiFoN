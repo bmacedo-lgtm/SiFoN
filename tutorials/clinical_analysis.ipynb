{
 "cells": [
  {
   "cell_type": "code",
   "execution_count": 1,
   "id": "708f3770",
   "metadata": {},
   "outputs": [],
   "source": [
    "import plotly.graph_objects as go\n",
    "import plotly.express as px\n",
    "from scipy import stats\n",
    "from SiFoN import clinical_analysis as clin\n",
    "from SiFoN import viz\n",
    "import pandas as pd\n",
    "import numpy as np\n",
    "import re\n",
    "%matplotlib inline"
   ]
  },
  {
   "cell_type": "markdown",
   "id": "ff871db4",
   "metadata": {},
   "source": [
    "### Converting clinical data into a VCF format for Sei"
   ]
  },
  {
   "cell_type": "markdown",
   "id": "07c758a6",
   "metadata": {},
   "source": [
    "As an example, we will be working with data from DOI: 10.1200/PO.17.00108 Suppl. Table 14. We will first load in the data and extract the information we want for future study"
   ]
  },
  {
   "cell_type": "code",
   "execution_count": 2,
   "id": "244d1f88",
   "metadata": {},
   "outputs": [
    {
     "data": {
      "text/html": [
       "<div>\n",
       "<style scoped>\n",
       "    .dataframe tbody tr th:only-of-type {\n",
       "        vertical-align: middle;\n",
       "    }\n",
       "\n",
       "    .dataframe tbody tr th {\n",
       "        vertical-align: top;\n",
       "    }\n",
       "\n",
       "    .dataframe thead th {\n",
       "        text-align: right;\n",
       "    }\n",
       "</style>\n",
       "<table border=\"1\" class=\"dataframe\">\n",
       "  <thead>\n",
       "    <tr style=\"text-align: right;\">\n",
       "      <th></th>\n",
       "      <th>RefSeqID</th>\n",
       "      <th>Alteration</th>\n",
       "      <th>Protein Change</th>\n",
       "      <th>Classification</th>\n",
       "      <th>PromoterRegion</th>\n",
       "      <th>Breast Cancer Case Alleles</th>\n",
       "      <th>Breast Cancer Case MAF</th>\n",
       "      <th>Control Alleles</th>\n",
       "      <th>Control MAF</th>\n",
       "      <th>OR</th>\n",
       "      <th>95% CI 1</th>\n",
       "      <th>95% CI 2</th>\n",
       "      <th>Pvalue</th>\n",
       "    </tr>\n",
       "  </thead>\n",
       "  <tbody>\n",
       "    <tr>\n",
       "      <th>0</th>\n",
       "      <td>NM_000314</td>\n",
       "      <td>c.-976G&gt;C</td>\n",
       "      <td>NaN</td>\n",
       "      <td>VUS</td>\n",
       "      <td>Promoter</td>\n",
       "      <td>46</td>\n",
       "      <td>0.04%</td>\n",
       "      <td>40</td>\n",
       "      <td>0.08%</td>\n",
       "      <td>0.581</td>\n",
       "      <td>0.372</td>\n",
       "      <td>0.911</td>\n",
       "      <td>0.016</td>\n",
       "    </tr>\n",
       "  </tbody>\n",
       "</table>\n",
       "</div>"
      ],
      "text/plain": [
       "    RefSeqID Alteration Protein Change Classification PromoterRegion  \\\n",
       "0  NM_000314  c.-976G>C            NaN            VUS       Promoter   \n",
       "\n",
       "   Breast Cancer Case Alleles Breast Cancer Case MAF  Control Alleles  \\\n",
       "0                          46                  0.04%               40   \n",
       "\n",
       "  Control MAF     OR 95% CI 1 95% CI 2 Pvalue  \n",
       "0       0.08%  0.581    0.372    0.911  0.016  "
      ]
     },
     "execution_count": 2,
     "metadata": {},
     "output_type": "execute_result"
    }
   ],
   "source": [
    "pten = pd.read_csv(\"test_input_data/brown_suppl4.csv\")\n",
    "pten.head(1)"
   ]
  },
  {
   "cell_type": "code",
   "execution_count": 3,
   "id": "8db87251",
   "metadata": {},
   "outputs": [
    {
     "data": {
      "text/html": [
       "<div>\n",
       "<style scoped>\n",
       "    .dataframe tbody tr th:only-of-type {\n",
       "        vertical-align: middle;\n",
       "    }\n",
       "\n",
       "    .dataframe tbody tr th {\n",
       "        vertical-align: top;\n",
       "    }\n",
       "\n",
       "    .dataframe thead th {\n",
       "        text-align: right;\n",
       "    }\n",
       "</style>\n",
       "<table border=\"1\" class=\"dataframe\">\n",
       "  <thead>\n",
       "    <tr style=\"text-align: right;\">\n",
       "      <th></th>\n",
       "      <th>Alteration</th>\n",
       "      <th>Breast Cancer Case Alleles</th>\n",
       "      <th>Control Alleles</th>\n",
       "      <th>Classification</th>\n",
       "    </tr>\n",
       "  </thead>\n",
       "  <tbody>\n",
       "    <tr>\n",
       "      <th>0</th>\n",
       "      <td>c.-976G&gt;C</td>\n",
       "      <td>46</td>\n",
       "      <td>40</td>\n",
       "      <td>VUS</td>\n",
       "    </tr>\n",
       "    <tr>\n",
       "      <th>1</th>\n",
       "      <td>c.-835C&gt;T</td>\n",
       "      <td>14</td>\n",
       "      <td>10</td>\n",
       "      <td>VUS</td>\n",
       "    </tr>\n",
       "  </tbody>\n",
       "</table>\n",
       "</div>"
      ],
      "text/plain": [
       "  Alteration  Breast Cancer Case Alleles  Control Alleles Classification\n",
       "0  c.-976G>C                          46               40            VUS\n",
       "1  c.-835C>T                          14               10            VUS"
      ]
     },
     "execution_count": 3,
     "metadata": {},
     "output_type": "execute_result"
    }
   ],
   "source": [
    "# Save any metadata you want for your analysis\n",
    "pten = pten[[\"Alteration\", \"Breast Cancer Case Alleles\", \"Control Alleles\", \"Classification\"]]\n",
    "pten.head(2)"
   ]
  },
  {
   "cell_type": "markdown",
   "id": "003052b0",
   "metadata": {},
   "source": [
    "At this point, you can save this metadata for future analysis. We still need to convert the `Alteration` column into an appropriate format for Sei. `cdot_to_VCF` converts alterations from the c-dot (c. pos ref > alt) format to a VCF file. This function expects a `chrm` paramter (since the chromosome name is not available in the c-dot format). If the positions are offset from a particular position, you can denote that with the `start` parameter. In this example, positions are relative to the A of the ATG start codon of the PTEN gene, which is at position 89,624,227 of chr10, so we set `start` to 89,624,227. The default of `start` is zero. Once you run this function, you can save this VCF and use it as input into Sei. "
   ]
  },
  {
   "cell_type": "code",
   "execution_count": 3,
   "id": "a6438dcd",
   "metadata": {},
   "outputs": [
    {
     "ename": "KeyboardInterrupt",
     "evalue": "",
     "output_type": "error",
     "traceback": [
      "\u001b[0;31m---------------------------------------------------------------------------\u001b[0m",
      "\u001b[0;31mKeyboardInterrupt\u001b[0m                         Traceback (most recent call last)",
      "File \u001b[0;32m/home/bmacedo/IW/SiFoN/venv/lib/python3.8/site-packages/IPython/core/async_helpers.py:129\u001b[0m, in \u001b[0;36m_pseudo_sync_runner\u001b[0;34m(coro)\u001b[0m\n\u001b[1;32m    121\u001b[0m \u001b[38;5;124;03m\"\"\"\u001b[39;00m\n\u001b[1;32m    122\u001b[0m \u001b[38;5;124;03mA runner that does not really allow async execution, and just advance the coroutine.\u001b[39;00m\n\u001b[1;32m    123\u001b[0m \n\u001b[0;32m   (...)\u001b[0m\n\u001b[1;32m    126\u001b[0m \u001b[38;5;124;03mCredit to Nathaniel Smith\u001b[39;00m\n\u001b[1;32m    127\u001b[0m \u001b[38;5;124;03m\"\"\"\u001b[39;00m\n\u001b[1;32m    128\u001b[0m \u001b[38;5;28;01mtry\u001b[39;00m:\n\u001b[0;32m--> 129\u001b[0m     \u001b[43mcoro\u001b[49m\u001b[38;5;241;43m.\u001b[39;49m\u001b[43msend\u001b[49m\u001b[43m(\u001b[49m\u001b[38;5;28;43;01mNone\u001b[39;49;00m\u001b[43m)\u001b[49m\n\u001b[1;32m    130\u001b[0m \u001b[38;5;28;01mexcept\u001b[39;00m \u001b[38;5;167;01mStopIteration\u001b[39;00m \u001b[38;5;28;01mas\u001b[39;00m exc:\n\u001b[1;32m    131\u001b[0m     \u001b[38;5;28;01mreturn\u001b[39;00m exc\u001b[38;5;241m.\u001b[39mvalue\n",
      "File \u001b[0;32m/home/bmacedo/IW/SiFoN/venv/lib/python3.8/site-packages/IPython/core/interactiveshell.py:3046\u001b[0m, in \u001b[0;36mInteractiveShell.run_cell_async\u001b[0;34m(self, raw_cell, store_history, silent, shell_futures, transformed_cell, preprocessing_exc_tuple)\u001b[0m\n\u001b[1;32m   3044\u001b[0m \u001b[38;5;66;03m# Store raw and processed history\u001b[39;00m\n\u001b[1;32m   3045\u001b[0m \u001b[38;5;28;01mif\u001b[39;00m store_history:\n\u001b[0;32m-> 3046\u001b[0m     \u001b[38;5;28;43mself\u001b[39;49m\u001b[38;5;241;43m.\u001b[39;49m\u001b[43mhistory_manager\u001b[49m\u001b[38;5;241;43m.\u001b[39;49m\u001b[43mstore_inputs\u001b[49m\u001b[43m(\u001b[49m\u001b[38;5;28;43mself\u001b[39;49m\u001b[38;5;241;43m.\u001b[39;49m\u001b[43mexecution_count\u001b[49m\u001b[43m,\u001b[49m\n\u001b[1;32m   3047\u001b[0m \u001b[43m                                      \u001b[49m\u001b[43mcell\u001b[49m\u001b[43m,\u001b[49m\u001b[43m \u001b[49m\u001b[43mraw_cell\u001b[49m\u001b[43m)\u001b[49m\n\u001b[1;32m   3048\u001b[0m \u001b[38;5;28;01mif\u001b[39;00m \u001b[38;5;129;01mnot\u001b[39;00m silent:\n\u001b[1;32m   3049\u001b[0m     \u001b[38;5;28mself\u001b[39m\u001b[38;5;241m.\u001b[39mlogger\u001b[38;5;241m.\u001b[39mlog(cell, raw_cell)\n",
      "File \u001b[0;32m/home/bmacedo/IW/SiFoN/venv/lib/python3.8/site-packages/IPython/core/history.py:718\u001b[0m, in \u001b[0;36mHistoryManager.store_inputs\u001b[0;34m(self, line_num, source, source_raw)\u001b[0m\n\u001b[1;32m    715\u001b[0m \u001b[38;5;28mself\u001b[39m\u001b[38;5;241m.\u001b[39minput_hist_parsed\u001b[38;5;241m.\u001b[39mappend(source)\n\u001b[1;32m    716\u001b[0m \u001b[38;5;28mself\u001b[39m\u001b[38;5;241m.\u001b[39minput_hist_raw\u001b[38;5;241m.\u001b[39mappend(source_raw)\n\u001b[0;32m--> 718\u001b[0m \u001b[38;5;28;01mwith\u001b[39;00m \u001b[38;5;28mself\u001b[39m\u001b[38;5;241m.\u001b[39mdb_input_cache_lock:\n\u001b[1;32m    719\u001b[0m     \u001b[38;5;28mself\u001b[39m\u001b[38;5;241m.\u001b[39mdb_input_cache\u001b[38;5;241m.\u001b[39mappend((line_num, source, source_raw))\n\u001b[1;32m    720\u001b[0m     \u001b[38;5;66;03m# Trigger to flush cache and write to DB.\u001b[39;00m\n",
      "\u001b[0;31mKeyboardInterrupt\u001b[0m: "
     ]
    }
   ],
   "source": [
    "pten_VCF = clin.cdot_to_VCF(pten, chrm=\"chr10\", start=89624227)\n",
    "pten_VCF.head(1)"
   ]
  },
  {
   "cell_type": "markdown",
   "id": "42004763",
   "metadata": {},
   "source": [
    "There is also another function that will convert alterations in the following format \"chrom_position_alt_ref\""
   ]
  },
  {
   "cell_type": "markdown",
   "id": "7d0197de",
   "metadata": {},
   "source": [
    "### Load in Sei results and combine with metadata"
   ]
  },
  {
   "cell_type": "code",
   "execution_count": null,
   "id": "a801ac95",
   "metadata": {
    "scrolled": true
   },
   "outputs": [],
   "source": [
    "row_labels = pd.read_csv(\"test_input_data/PTEN_row_labels\", header=0) # Description of SNPs\n",
    "print(len(row_labels))\n",
    "row_labels.head(1)"
   ]
  },
  {
   "cell_type": "code",
   "execution_count": null,
   "id": "5019b7e8",
   "metadata": {
    "scrolled": true
   },
   "outputs": [],
   "source": [
    "# Combine Sei/DeepSEA results with row labels that describe SNPs\n",
    "scores = pd.read_csv(\"test_input_data/PTEN_sequence_class_scores.npy\") # Sequence class scores\n",
    "dis_score = pd.read_csv(\"test_input_data/PTEN_DIS.csv\") # Disease impact score\n",
    "scores[\"Disease Impact Score\"] = dis_score[\"Disease Impact Score\"]\n",
    "scores[\"Alteration\"] = row_labels[\"Alteration\"]\n",
    "scores.head(1) # see the last two columns"
   ]
  },
  {
   "cell_type": "code",
   "execution_count": null,
   "id": "5ef61d87",
   "metadata": {},
   "outputs": [],
   "source": [
    "# Combine clinical data with SNP IDs and Sei results\n",
    "clinical_data = pd.read_csv(\"test_input_data/PTEN_Brown_Suppl4.csv\")\n",
    "scores = clinical_data.merge(scores) # Clinical data connects to the Sei results by the `Alteration` column.\n",
    "scores.head(1)"
   ]
  },
  {
   "cell_type": "markdown",
   "id": "63c7b7a9",
   "metadata": {},
   "source": [
    "We can also calculate odds ratios (OR) for SNPs based on their case and control counts. we can then assign SNPs as case or control SNPs based on their odds ratios. It is important to remember that some SNPs might be very rare (e.g. only occuring in a single indidivual). Even though these SNPs might not have high OR, they might still have a functional impact. \n",
    "\n",
    "The `odds_ratio` function will add a column `Odds Ratio` to your data frame.\n",
    "\n",
    "The `add_case_control_label` function will assign case/control labels based on OR cutoffs that you determine. This will show up in the `Case/Control` column."
   ]
  },
  {
   "cell_type": "code",
   "execution_count": null,
   "id": "d78d9faf",
   "metadata": {},
   "outputs": [],
   "source": [
    "clin.odds_ratio(df=scores, control_col=\"Control Alleles\", case_col = \"Breast Cancer Case Alleles\",\n",
    "               num_cases = 52065, num_controls = 28549, correction = 0.1)\n",
    "clin.add_case_control_label(df=scores, case_cuttoff = 1.5, control_cutoff = 0.5)\n",
    "scores.head(1) # see the last two columns"
   ]
  },
  {
   "cell_type": "markdown",
   "id": "61fc7743",
   "metadata": {},
   "source": [
    "You might want to perform T-tests to see whether a particular Sei/DeepSEA measure is significantly different between cases and controls. You can do this using the below code. Change `y` to any Sei prediction name/column to run a t-test."
   ]
  },
  {
   "cell_type": "code",
   "execution_count": null,
   "id": "074c6f5d",
   "metadata": {},
   "outputs": [],
   "source": [
    "# In this example, we take only the cases that have a single case or a single control.\n",
    "counts = [sum(x) for x in zip(scores[\"Control Alleles\"].values,  scores[\"Breast Cancer Case Alleles\"].values)]\n",
    "ttest_df = clin.seq_class_t_tests(scores[[count == 1 for count in counts]], \n",
    "                                  filename=\"test_output_plots/PTEN_t_test.html\", fontsize=18)"
   ]
  },
  {
   "cell_type": "code",
   "execution_count": null,
   "id": "8c9292be",
   "metadata": {},
   "outputs": [],
   "source": [
    "ttest_df.head(3)"
   ]
  },
  {
   "cell_type": "markdown",
   "id": "f59d13be",
   "metadata": {},
   "source": [
    "You can also plot different scores to identify SNPs that have high scores across different sequence classes. The Disease Impact Score is a useful score to analyze. Having a high sequence class score and a high DIS might suggest that a particular mutation is functionally important. In the below plot, each point represents a SNP. You can hover over points to gather meta data about the SNP, including the alteration ID and the number of case and control counts."
   ]
  },
  {
   "cell_type": "code",
   "execution_count": null,
   "id": "63b9aba5",
   "metadata": {},
   "outputs": [],
   "source": [
    "score1, score2 = \"E5 B-cell-like\", \"Disease Impact Score\"\n",
    "color = \"Case/Control\" # if this is changed, the `color_discrete_sequence` will have to be changed or removed\n",
    "fig = px.scatter(scores, x=score1, y=score2, color=color,\n",
    "                   hover_data=['Alteration', 'Breast Cancer Case Alleles', 'Control Alleles', score1, score2], \n",
    "                     color_discrete_sequence=['#2ca02c', \"red\", \"black\"])\n",
    "fig.update_layout(font=dict(size=18))\n",
    "fig.update_traces(marker={'size': 7})\n",
    "viz.white_bg(fig)\n",
    "fig.write_html(\"test_output_plots/\" + score1 + \"_v_\" + score2 + \".html\")\n",
    "fig.show(\"png\")"
   ]
  },
  {
   "cell_type": "markdown",
   "id": "6f69ebe3",
   "metadata": {},
   "source": [
    "You can also label points that are above a certain threshold."
   ]
  },
  {
   "cell_type": "code",
   "execution_count": null,
   "id": "88ed4f70",
   "metadata": {},
   "outputs": [],
   "source": [
    "score1, score2 = \"E5 B-cell-like\", \"Disease Impact Score\"\n",
    "color = \"Case/Control\" # if this is changed, the `color_discrete_sequence` will have to be changed or removed\n",
    "cutoff1, cutoff2 = 1, 1.13\n",
    "high_impact = [score_1 > cutoff1 or abs(score_2) > cutoff2  for score_1, score_2 in zip(scores[score1], scores[score2])]\n",
    "scores[\"Text Labels\"] = [alt[3:] if HI else \"\" for HI, alt in zip(high_impact, scores[\"Alteration\"])]\n",
    "\n",
    "fig = px.scatter(scores, x=score1, y=score2, color=color,\n",
    "                   hover_data=['Alteration', 'Breast Cancer Case Alleles', 'Control Alleles', score1, score2], \n",
    "                    color_discrete_sequence=['#2ca02c', \"red\", \"black\"],\n",
    "                                         text=\"Text Labels\")\n",
    "fig.update_traces(textposition='bottom center')\n",
    "fig.update_layout(font=dict(size=18))\n",
    "fig.update_traces(marker={'size': 7})\n",
    "viz.white_bg(fig)\n",
    "fig.write_html(\"test_output_plots/\" + score1 + \"_v_\" + score2 + \".html\")\n",
    "fig.show(\"png\")"
   ]
  },
  {
   "cell_type": "markdown",
   "id": "ca001fbf",
   "metadata": {},
   "source": [
    "### Using the `viz` library, we can also calculate the maximum score in this data and combine this information with our clinical data"
   ]
  },
  {
   "cell_type": "code",
   "execution_count": null,
   "id": "21751101",
   "metadata": {},
   "outputs": [],
   "source": [
    "scores = pd.read_csv(\"test_input_data/PTEN_sequence_class_scores.npy\")\n",
    "max_scores = viz.find_max(scores, signed=True).drop(columns=\"index\")\n",
    "max_scores.head(1)"
   ]
  },
  {
   "cell_type": "markdown",
   "id": "1dbf2fd1",
   "metadata": {},
   "source": [
    "Again, we will join all the data together."
   ]
  },
  {
   "cell_type": "code",
   "execution_count": null,
   "id": "7d30beeb",
   "metadata": {},
   "outputs": [],
   "source": [
    "max_scores[\"Disease Impact Score\"] = dis_score[\"Disease Impact Score\"]\n",
    "max_scores[\"Alteration\"] = row_labels[\"Alteration\"]\n",
    "max_scores = clinical_data.merge(max_scores)\n",
    "clin.odds_ratio(df=max_scores, control_col=\"Control Alleles\", case_col = \"Breast Cancer Case Alleles\",\n",
    "               num_cases = 52065, num_controls = 28549, correction = 0.1)\n",
    "clin.add_case_control_label(df=max_scores, case_cuttoff = 1.5, control_cutoff = 0.5)\n",
    "max_scores.head(1)"
   ]
  },
  {
   "cell_type": "code",
   "execution_count": null,
   "id": "00142210",
   "metadata": {},
   "outputs": [],
   "source": [
    "max_scores.head(3)"
   ]
  },
  {
   "cell_type": "markdown",
   "id": "0d04254d",
   "metadata": {},
   "source": [
    "We can also plot the DIS across genomic positions, to see if there are any short subsequences that have particularly high scores. In this case, we see two regions that have a few SNPs with particularly high Enhancer and CTCF scores."
   ]
  },
  {
   "cell_type": "code",
   "execution_count": null,
   "id": "431fd2b5",
   "metadata": {},
   "outputs": [],
   "source": [
    "max_scores[\"Position on chrom10\"] = row_labels[\"pos\"]\n",
    "\n",
    "fig = px.scatter(max_scores, x=\"Position on chrom10\", y=\"Disease Impact Score\", color=\"Class\", \n",
    "                 color_discrete_sequence = max_scores[\"Color\"].unique(), hover_data=max_scores.columns)\n",
    "viz.white_bg(fig)\n",
    "fig.update_traces(marker={'size': 8})\n",
    "fig.update_layout(font=dict(size=18))\n",
    "fig.write_html(\"test_output_plots/DIS_v_position.html\")\n",
    "fig.show(\"png\")"
   ]
  }
 ],
 "metadata": {
  "kernelspec": {
   "display_name": "Python 3 (ipykernel)",
   "language": "python",
   "name": "python3"
  },
  "language_info": {
   "codemirror_mode": {
    "name": "ipython",
    "version": 3
   },
   "file_extension": ".py",
   "mimetype": "text/x-python",
   "name": "python",
   "nbconvert_exporter": "python",
   "pygments_lexer": "ipython3",
   "version": "3.8.3"
  }
 },
 "nbformat": 4,
 "nbformat_minor": 5
}
