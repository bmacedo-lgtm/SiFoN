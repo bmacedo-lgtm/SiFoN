{
 "cells": [
  {
   "cell_type": "code",
   "execution_count": 1,
   "id": "55530c22",
   "metadata": {},
   "outputs": [],
   "source": [
    "from SiFoN import construct_FASTA as fst\n",
    "from selene_sdk.sequences import Genome\n",
    "import pandas as pd"
   ]
  },
  {
   "cell_type": "markdown",
   "id": "82301f9e",
   "metadata": {},
   "source": [
    "The `construct_FASTA` module helps users create FASTA files containing haplotypes that can be used as input into Sei. First, we will read in a dataframe of SNPs. Then, we will calculate haplotypes composed of each pair of SNPs from that dataframe. You can set the `cutoff` parameter to only include pairs of SNPs that are within some distance from one another"
   ]
  },
  {
   "cell_type": "markdown",
   "id": "26e8d9c5",
   "metadata": {},
   "source": [
    "The `write_haps_of_pairs` file outputs four FASTA files. \n",
    "* referance file\n",
    "* alternative file (containing all haplotype SNPs)\n",
    "* shifted file (only contains the off center SNP)\n",
    "* centered file (only contains the centered SNP)"
   ]
  },
  {
   "cell_type": "code",
   "execution_count": 2,
   "id": "64affe0a",
   "metadata": {},
   "outputs": [
    {
     "data": {
      "text/html": [
       "<div>\n",
       "<style scoped>\n",
       "    .dataframe tbody tr th:only-of-type {\n",
       "        vertical-align: middle;\n",
       "    }\n",
       "\n",
       "    .dataframe tbody tr th {\n",
       "        vertical-align: top;\n",
       "    }\n",
       "\n",
       "    .dataframe thead th {\n",
       "        text-align: right;\n",
       "    }\n",
       "</style>\n",
       "<table border=\"1\" class=\"dataframe\">\n",
       "  <thead>\n",
       "    <tr style=\"text-align: right;\">\n",
       "      <th></th>\n",
       "      <th>#CHROM</th>\n",
       "      <th>POS</th>\n",
       "      <th>ID</th>\n",
       "      <th>REF</th>\n",
       "      <th>ALT</th>\n",
       "    </tr>\n",
       "  </thead>\n",
       "  <tbody>\n",
       "    <tr>\n",
       "      <th>0</th>\n",
       "      <td>chr10</td>\n",
       "      <td>89623251</td>\n",
       "      <td>c.-976G&gt;C</td>\n",
       "      <td>G</td>\n",
       "      <td>C</td>\n",
       "    </tr>\n",
       "    <tr>\n",
       "      <th>1</th>\n",
       "      <td>chr10</td>\n",
       "      <td>89623392</td>\n",
       "      <td>c.-835C&gt;T</td>\n",
       "      <td>C</td>\n",
       "      <td>T</td>\n",
       "    </tr>\n",
       "  </tbody>\n",
       "</table>\n",
       "</div>"
      ],
      "text/plain": [
       "  #CHROM       POS         ID REF ALT\n",
       "0  chr10  89623251  c.-976G>C   G   C\n",
       "1  chr10  89623392  c.-835C>T   C   T"
      ]
     },
     "execution_count": 2,
     "metadata": {},
     "output_type": "execute_result"
    }
   ],
   "source": [
    "pten = pd.read_csv(\"../../black_supp4/black_supp4.vcf\", sep=\"\\t\")\n",
    "pten = pten.head(75)\n",
    "pten.head(2)"
   ]
  },
  {
   "cell_type": "code",
   "execution_count": 3,
   "id": "166fa4c4",
   "metadata": {
    "scrolled": false
   },
   "outputs": [],
   "source": [
    "fld, ext = \"test_output_plots/\", \"_PTEN.fasta\"\n",
    "alt_file, ref_file, shift_file, centered_file = fld+\"alt\"+ext, fld+\"ref\"+ext, fld+\"shift\"+ext, fld+\"centered\"+ext\n",
    "chrm, cutoff, ref_genome_fasta = \"chr10\", 100, \"../../../male.hg19.fasta\"\n",
    "genome = Genome(input_path = \"../../../male.hg19.fasta\")\n",
    "fst.write_haps_of_pairs(pten, ref_file, alt_file, shift_file, centered_file,\n",
    "         chrm, cutoff, genome)"
   ]
  },
  {
   "cell_type": "markdown",
   "id": "83f16e81",
   "metadata": {},
   "source": [
    "You can check out the output FASTA files at `test_output_plots/`"
   ]
  }
 ],
 "metadata": {
  "kernelspec": {
   "display_name": "Python 3 (ipykernel)",
   "language": "python",
   "name": "python3"
  },
  "language_info": {
   "codemirror_mode": {
    "name": "ipython",
    "version": 3
   },
   "file_extension": ".py",
   "mimetype": "text/x-python",
   "name": "python",
   "nbconvert_exporter": "python",
   "pygments_lexer": "ipython3",
   "version": "3.8.3"
  }
 },
 "nbformat": 4,
 "nbformat_minor": 5
}
