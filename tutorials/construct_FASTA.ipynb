{
 "cells": [
  {
   "cell_type": "code",
   "execution_count": 1,
   "id": "55530c22",
   "metadata": {},
   "outputs": [],
   "source": [
    "from SiFoN import construct_FASTA as fst\n",
    "from selene_sdk.sequences import Genome\n",
    "import pandas as pd"
   ]
  },
  {
   "cell_type": "code",
   "execution_count": 2,
   "id": "64affe0a",
   "metadata": {},
   "outputs": [
    {
     "data": {
      "text/html": [
       "<div>\n",
       "<style scoped>\n",
       "    .dataframe tbody tr th:only-of-type {\n",
       "        vertical-align: middle;\n",
       "    }\n",
       "\n",
       "    .dataframe tbody tr th {\n",
       "        vertical-align: top;\n",
       "    }\n",
       "\n",
       "    .dataframe thead th {\n",
       "        text-align: right;\n",
       "    }\n",
       "</style>\n",
       "<table border=\"1\" class=\"dataframe\">\n",
       "  <thead>\n",
       "    <tr style=\"text-align: right;\">\n",
       "      <th></th>\n",
       "      <th>#CHROM</th>\n",
       "      <th>POS</th>\n",
       "      <th>ID</th>\n",
       "      <th>REF</th>\n",
       "      <th>ALT</th>\n",
       "    </tr>\n",
       "  </thead>\n",
       "  <tbody>\n",
       "    <tr>\n",
       "      <th>0</th>\n",
       "      <td>chr10</td>\n",
       "      <td>89623251</td>\n",
       "      <td>c.-976G&gt;C</td>\n",
       "      <td>G</td>\n",
       "      <td>C</td>\n",
       "    </tr>\n",
       "    <tr>\n",
       "      <th>1</th>\n",
       "      <td>chr10</td>\n",
       "      <td>89623392</td>\n",
       "      <td>c.-835C&gt;T</td>\n",
       "      <td>C</td>\n",
       "      <td>T</td>\n",
       "    </tr>\n",
       "  </tbody>\n",
       "</table>\n",
       "</div>"
      ],
      "text/plain": [
       "  #CHROM       POS         ID REF ALT\n",
       "0  chr10  89623251  c.-976G>C   G   C\n",
       "1  chr10  89623392  c.-835C>T   C   T"
      ]
     },
     "execution_count": 2,
     "metadata": {},
     "output_type": "execute_result"
    }
   ],
   "source": [
    "pten = pd.read_csv(\"../../black_supp4/black_supp4.vcf\", sep=\"\\t\")\n",
    "pten = pten.head(75)\n",
    "pten.head(2)"
   ]
  },
  {
   "cell_type": "code",
   "execution_count": 3,
   "id": "166fa4c4",
   "metadata": {
    "scrolled": false
   },
   "outputs": [],
   "source": [
    "fld, ext = \"test_output_plots/\", \"_PTEN.fasta\"\n",
    "alt_file, ref_file, shift_file, centered_file = fld+\"alt\"+ext, fld+\"ref\"+ext, fld+\"shift\"+ext, fld+\"centered\"+ext\n",
    "chrm, cutoff, ref_genome_fasta = \"chr10\", 100, \"../../../male.hg19.fasta\"\n",
    "genome = Genome(input_path = \"../../../male.hg19.fasta\")\n",
    "fst.write_haps_of_pairs(pten, ref_file, alt_file, shift_file, centered_file,\n",
    "         chrm, cutoff, genome)"
   ]
  },
  {
   "cell_type": "code",
   "execution_count": 6,
   "id": "ce77f74b",
   "metadata": {},
   "outputs": [
    {
     "data": {
      "text/html": [
       "<div>\n",
       "<style scoped>\n",
       "    .dataframe tbody tr th:only-of-type {\n",
       "        vertical-align: middle;\n",
       "    }\n",
       "\n",
       "    .dataframe tbody tr th {\n",
       "        vertical-align: top;\n",
       "    }\n",
       "\n",
       "    .dataframe thead th {\n",
       "        text-align: right;\n",
       "    }\n",
       "</style>\n",
       "<table border=\"1\" class=\"dataframe\">\n",
       "  <thead>\n",
       "    <tr style=\"text-align: right;\">\n",
       "      <th></th>\n",
       "      <th>SNP</th>\n",
       "      <th>Score</th>\n",
       "      <th>Sequence Class</th>\n",
       "      <th>Alt Allele</th>\n",
       "    </tr>\n",
       "  </thead>\n",
       "  <tbody>\n",
       "    <tr>\n",
       "      <th>0</th>\n",
       "      <td>33213845</td>\n",
       "      <td>36.29</td>\n",
       "      <td>CTCF CTCF-Cohesion</td>\n",
       "      <td>C</td>\n",
       "    </tr>\n",
       "    <tr>\n",
       "      <th>1</th>\n",
       "      <td>33213850</td>\n",
       "      <td>35.77</td>\n",
       "      <td>CTCF CTCF-Cohesion</td>\n",
       "      <td>G</td>\n",
       "    </tr>\n",
       "    <tr>\n",
       "      <th>2</th>\n",
       "      <td>33213842</td>\n",
       "      <td>32.52</td>\n",
       "      <td>CTCF CTCF-Cohesion</td>\n",
       "      <td>C</td>\n",
       "    </tr>\n",
       "    <tr>\n",
       "      <th>3</th>\n",
       "      <td>33213841</td>\n",
       "      <td>25.95</td>\n",
       "      <td>CTCF CTCF-Cohesion</td>\n",
       "      <td>C</td>\n",
       "    </tr>\n",
       "    <tr>\n",
       "      <th>4</th>\n",
       "      <td>33213846</td>\n",
       "      <td>21.35</td>\n",
       "      <td>CTCF CTCF-Cohesion</td>\n",
       "      <td>T</td>\n",
       "    </tr>\n",
       "  </tbody>\n",
       "</table>\n",
       "</div>"
      ],
      "text/plain": [
       "        SNP  Score      Sequence Class Alt Allele\n",
       "0  33213845  36.29  CTCF CTCF-Cohesion          C\n",
       "1  33213850  35.77  CTCF CTCF-Cohesion          G\n",
       "2  33213842  32.52  CTCF CTCF-Cohesion          C\n",
       "3  33213841  25.95  CTCF CTCF-Cohesion          C\n",
       "4  33213846  21.35  CTCF CTCF-Cohesion          T"
      ]
     },
     "execution_count": 6,
     "metadata": {},
     "output_type": "execute_result"
    }
   ],
   "source": [
    "brca1 = pd.read_csv(\"../../selene/BRCA1_02.csv\")\n",
    "brca1.head(5)"
   ]
  },
  {
   "cell_type": "code",
   "execution_count": 7,
   "id": "21c8a8a6",
   "metadata": {},
   "outputs": [],
   "source": [
    "# fld, ext = \"test_output_plots/\", \"_BRCA1.fasta\"\n",
    "# alt_file, ref_file, shift_file, centered_file = fld+\"alt\"+ext, fld+\"ref\"+ext, fld+\"shift\"+ext, fld+\"centered\"+ext\n",
    "# chrm, offset, center, rng = \"chr13\",  2048, 33213845, 25\n",
    "# genome = Genome(input_path = \"../../../male.hg19.fasta\")\n",
    "# fst.writes_haps_around_SNP(ref_file, alt_file, shift_file, centered_file,\n",
    "#          chrm, rng, center, genome)"
   ]
  },
  {
   "cell_type": "code",
   "execution_count": null,
   "id": "9fbe227f",
   "metadata": {},
   "outputs": [],
   "source": [
    "write_to_file(snp1, snp2, \n",
    "                 ref_file, alt_file, shift_file, centered_file, \n",
    "                 id1, id2)"
   ]
  },
  {
   "cell_type": "code",
   "execution_count": null,
   "id": "e7f19ef5",
   "metadata": {},
   "outputs": [],
   "source": [
    "write_to_file_smooth(snp1, snp2, ref_file, alt_file, window=16)"
   ]
  }
 ],
 "metadata": {
  "kernelspec": {
   "display_name": "Python 3 (ipykernel)",
   "language": "python",
   "name": "python3"
  },
  "language_info": {
   "codemirror_mode": {
    "name": "ipython",
    "version": 3
   },
   "file_extension": ".py",
   "mimetype": "text/x-python",
   "name": "python",
   "nbconvert_exporter": "python",
   "pygments_lexer": "ipython3",
   "version": "3.8.3"
  }
 },
 "nbformat": 4,
 "nbformat_minor": 5
}
