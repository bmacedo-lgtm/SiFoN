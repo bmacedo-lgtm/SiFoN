{
 "cells": [
  {
   "cell_type": "code",
   "execution_count": 1,
   "id": "78a6ebd3",
   "metadata": {},
   "outputs": [],
   "source": [
    "from SiFoN import construct_FASTA"
   ]
  },
  {
   "cell_type": "code",
   "execution_count": null,
   "id": "bec7dfce",
   "metadata": {},
   "outputs": [],
   "source": [
    "retrieve(ref_genome_fasta)"
   ]
  },
  {
   "cell_type": "code",
   "execution_count": null,
   "id": "4ce2c7a5",
   "metadata": {},
   "outputs": [],
   "source": [
    "writes_haps_around_SNP(data, ref_filename, alt_filename, shift_filename, centered_filename,\n",
    "         chrm, rng, center_SNP)"
   ]
  },
  {
   "cell_type": "code",
   "execution_count": null,
   "id": "0992bd62",
   "metadata": {},
   "outputs": [],
   "source": []
  }
 ],
 "metadata": {
  "kernelspec": {
   "display_name": "Python 3 (ipykernel)",
   "language": "python",
   "name": "python3"
  },
  "language_info": {
   "codemirror_mode": {
    "name": "ipython",
    "version": 3
   },
   "file_extension": ".py",
   "mimetype": "text/x-python",
   "name": "python",
   "nbconvert_exporter": "python",
   "pygments_lexer": "ipython3",
   "version": "3.8.3"
  }
 },
 "nbformat": 4,
 "nbformat_minor": 5
}
