{
 "cells": [
  {
   "cell_type": "code",
   "execution_count": 1,
   "metadata": {},
   "outputs": [],
   "source": [
    "import numpy as np\n",
    "import pandas as pd\n",
    "from SiFoN import viz"
   ]
  },
  {
   "cell_type": "markdown",
   "metadata": {},
   "source": [
    "### Case study for the `viz` module"
   ]
  },
  {
   "cell_type": "markdown",
   "metadata": {},
   "source": [
    "In this case, we have Sei predictions for the chr10:89580225-89633389 which is near the PTEN gene. `vcf` should be a .vcf file containing genomic coordinates and ref/alt identities for each SNP in your region of interest. The `file` should be a numpy array of sequence class scores, such that rows correspond to the rows in `vcf`. You can also select `TSS` or any other regions to label and denote in the graph. In this case, we make note of the Sheng PTEN Promoter."
   ]
  },
  {
   "cell_type": "code",
   "execution_count": 3,
   "metadata": {},
   "outputs": [],
   "source": [
    "file = \"test_input_data/sequence_class_scores.npy\"\n",
    "vcf = pd.read_csv(\"test_input_data/chr10_89580225_89633389.vcf\", \n",
    "                  header=None, sep=\"\\t\", \n",
    "                  names=[\"Chromosome\", \"Position\", \"SNP\", \"Ref\", \"Alt\"])\n",
    "wid = 400\n",
    "PTEN_TSS = {\n",
    "    'RefSeqTSS Promoter': [89623382 - wid, 89623382 + wid],\n",
    "    'CLEVER FANTOM CAGE Promoter': [89623389 - wid, 89623389 + wid],\n",
    "    'UCSC genome browser':[89623195 - wid, 89623195 + wid],\n",
    "    'Sheng PTEN Promoter' : [89622930, 89624219]\n",
    "}"
   ]
  },
  {
   "cell_type": "markdown",
   "metadata": {},
   "source": [
    "Next, we use `plot_from_scores` to visualize the maximum predictions in this region. `filename` is the name of the output file. The `signed` parameter signals whether or not maximums are plotted as absolute values or not. `plot_by` should be \"class\" (the maximum scoring class out of all 40 sequence classes) or \"category\"  (the maximum within each category (e.g. E Enhancer, HET Heterochromatin, etc.)). Sei outputs three scores corresponding to each potential alteration at that position (in this case: G>A, G>C, G>T). Set `preprocess` = True include all of these alterations. This will call the `preprocess` function which takes the maximum of the three positions. If you already have a single prediction per position, then set `preprocess` = False."
   ]
  },
  {
   "cell_type": "code",
   "execution_count": 13,
   "metadata": {},
   "outputs": [],
   "source": [
    "viz.plot_from_scores(filename=\"test_output_plots/viz_by_category_signed.html\", file=file, \n",
    "                     vcf=vcf, TSS=PTEN_TSS, signed=True, plot_by=\"category\", preprocess=True)"
   ]
  },
  {
   "cell_type": "markdown",
   "metadata": {},
   "source": [
    "You can also run the intermediate functions for this code to produce the same plots, in case you want to observe and manipulate the data at intermediate steps. If you do this, make sure that the `signed` parameter should be consistent across functions. \n",
    "\n",
    "Below are two examples. `find_max` takes the maximum scoring class out of all 40 sequence classes. `find_max_by_category` finds the maximum within each category (e.g. E Enhancer, HET Heterochromatin, etc.) The `signed` parameter again signals whether or not maximums are plotted as absolute values or not. "
   ]
  },
  {
   "cell_type": "code",
   "execution_count": 18,
   "metadata": {},
   "outputs": [],
   "source": [
    "scores_signed = viz.preprocess(file, vcf, signed=True)\n",
    "max_scores_signed = viz.find_max(scores_signed.iloc[-30000:-5000, :], signed=True)\n",
    "viz.plot_max(\"test_output_plots/viz_by_class_signed.html\", max_scores_signed, TSS=PTEN_TSS)"
   ]
  },
  {
   "cell_type": "code",
   "execution_count": 17,
   "metadata": {},
   "outputs": [],
   "source": [
    "max_by_cat = viz.find_max_by_category(scores_signed, signed=False)\n",
    "viz.plot_max(\"test_output_plots/viz_by_category_unsigned.html\", max_by_cat, TSS=PTEN_TSS)"
   ]
  }
 ],
 "metadata": {
  "kernelspec": {
   "display_name": "Python 3 (ipykernel)",
   "language": "python",
   "name": "python3"
  },
  "language_info": {
   "codemirror_mode": {
    "name": "ipython",
    "version": 3
   },
   "file_extension": ".py",
   "mimetype": "text/x-python",
   "name": "python",
   "nbconvert_exporter": "python",
   "pygments_lexer": "ipython3",
   "version": "3.8.3"
  }
 },
 "nbformat": 4,
 "nbformat_minor": 4
}
